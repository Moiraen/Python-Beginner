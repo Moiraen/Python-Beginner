{
 "cells": [
  {
   "cell_type": "markdown",
   "metadata": {},
   "source": [
    "# Python 程序开发\n",
    "## (二)、数据结构\n",
    "\n",
    "\n",
    "Tommy"
   ]
  },
  {
   "cell_type": "markdown",
   "metadata": {},
   "source": [
    "## 1.Python标识符，解除名字引用，名字空间\n",
    "\n",
    "#### 合法标识符\n",
    "- 数字，下划线，字母构成\n",
    "- 避开关键字\n",
    "- 不能用数字开头\n",
    "```\n",
    "如以下标识符取名错误\n",
    "for='忍者神龟'\n",
    "7a=8\n",
    "str='信息院'\n",
    "```\n",
    "\n",
    "#### 好的命名习惯让开发更有效率\n",
    "- 变量，函数或方法:salary,houseworker,booksname   \n",
    "- 常量：INTEREST_RATES   \n",
    "- 类：BankAccount,Employee,Company,OrderedDict #骆峰命名法\n",
    "\n",
    "#### 名字与对象之间的建立引用与解除引用\n",
    "我们可以使用`=`建立名字与对象之间的关联，用`del 名字`来解除这种关联"
   ]
  },
  {
   "cell_type": "markdown",
   "metadata": {},
   "source": [
    "## 2.Python基本数据类型(文本，字符串)与数据结构(列表 集合, 元组, 字典)\n",
    "\n",
    "#### 1.基本数据类型/不可变对象"
   ]
  },
  {
   "cell_type": "code",
   "execution_count": 10,
   "metadata": {},
   "outputs": [
    {
     "name": "stdout",
     "output_type": "stream",
     "text": [
      "Pretty printing has been turned ON\n"
     ]
    }
   ],
   "source": [
    "%config ZMQInteractiveShell.ast_node_interactivity='all'\n",
    "%pprint\n",
    "# https://blog.csdn.net/liwei1205/article/details/78818937  jupyter notebook 显示技巧"
   ]
  },
  {
   "cell_type": "code",
   "execution_count": 6,
   "metadata": {},
   "outputs": [
    {
     "data": {
      "text/plain": [
       "9"
      ]
     },
     "execution_count": 6,
     "metadata": {},
     "output_type": "execute_result"
    }
   ],
   "source": [
    "a=9\n",
    "a"
   ]
  },
  {
   "cell_type": "code",
   "execution_count": 7,
   "metadata": {
    "scrolled": true
   },
   "outputs": [
    {
     "data": {
      "text/plain": [
       "'0b1011'"
      ]
     },
     "execution_count": 7,
     "metadata": {},
     "output_type": "execute_result"
    },
    {
     "name": "stdout",
     "output_type": "stream",
     "text": [
      "50000000000000.0\n",
      "you win!\n"
     ]
    },
    {
     "data": {
      "text/plain": [
       "complex"
      ]
     },
     "execution_count": 7,
     "metadata": {},
     "output_type": "execute_result"
    },
    {
     "data": {
      "text/plain": [
       "4"
      ]
     },
     "execution_count": 7,
     "metadata": {},
     "output_type": "execute_result"
    },
    {
     "data": {
      "text/plain": [
       "4.5"
      ]
     },
     "execution_count": 7,
     "metadata": {},
     "output_type": "execute_result"
    }
   ],
   "source": [
    "#数值整形\n",
    "a=100;b=200\n",
    "\n",
    "#进制转换\n",
    "a=0b0101001\n",
    "# a=bin(11)  \n",
    "# 将十进制数11转换成二进制数\n",
    "b=0o4#oct()\n",
    "c=0x28#hex()\n",
    "\n",
    "#浮点型\n",
    "a=3.1415\n",
    "\n",
    "#科学计算法\n",
    "c=5e13\n",
    "print(c)\n",
    "\n",
    "#数字的正负无穷\n",
    "#float('inf')正无穷\n",
    "#float('-inf')负无穷\n",
    "if 99999999999999999<float('inf'):\n",
    "    print('you win!')\n",
    "\n",
    "#复数\n",
    "a=4.3+22j\n",
    "type(a)\n",
    "\n",
    "\n",
    "#数值类型转换\n",
    "a=4.48\n",
    "b=8\n",
    "int(a)\n",
    "\n",
    "round(a,1)"
   ]
  },
  {
   "cell_type": "code",
   "execution_count": 14,
   "metadata": {},
   "outputs": [
    {
     "data": {
      "text/plain": [
       "'AI'"
      ]
     },
     "execution_count": 14,
     "metadata": {},
     "output_type": "execute_result"
    },
    {
     "data": {
      "text/plain": [
       "'!'"
      ]
     },
     "execution_count": 14,
     "metadata": {},
     "output_type": "execute_result"
    },
    {
     "data": {
      "text/plain": [
       "'You '"
      ]
     },
     "execution_count": 14,
     "metadata": {},
     "output_type": "execute_result"
    },
    {
     "data": {
      "text/plain": [
       "'http://xbmu.edu.cn'"
      ]
     },
     "execution_count": 14,
     "metadata": {},
     "output_type": "execute_result"
    },
    {
     "data": {
      "text/plain": [
       "'fstring is new feature of Python 3'"
      ]
     },
     "execution_count": 14,
     "metadata": {},
     "output_type": "execute_result"
    },
    {
     "data": {
      "text/plain": [
       "-1"
      ]
     },
     "execution_count": 14,
     "metadata": {},
     "output_type": "execute_result"
    },
    {
     "data": {
      "text/plain": [
       "'http://xbmu.edu.net'"
      ]
     },
     "execution_count": 14,
     "metadata": {},
     "output_type": "execute_result"
    },
    {
     "data": {
      "text/plain": [
       "0"
      ]
     },
     "execution_count": 14,
     "metadata": {},
     "output_type": "execute_result"
    }
   ],
   "source": [
    "##字符串型\n",
    "#初始化及转义\n",
    "str1='''AI'''\n",
    "str2='You are the one!'\n",
    "\n",
    "str1\n",
    "\n",
    "#访问,索引及切片访问\n",
    "str2[-1]\n",
    "#str2[start:end:stried]\n",
    "#切片访问的特点：左闭右开[)\n",
    "str2[0:4]\n",
    "\n",
    "\n",
    "str3='http://xbmu.edu.cn'\n",
    "\n",
    "str3\n",
    "\n",
    "#格式化访问\n",
    "str_temp='Python 3'\n",
    "str4=f\"fstring is new feature of {str_temp}\"\n",
    "str4\n",
    "\n",
    "#查找与替换\n",
    "str3.find('o')\n",
    "str3.replace('.cn','.net')\n",
    "\n",
    "#统计\n",
    "str3.count('com')\n",
    "\n",
    "\n",
    "#布尔型\n",
    "\n",
    "\n",
    "###重要点：tab键与使用帮助\n",
    "#help(l1.extend)"
   ]
  },
  {
   "cell_type": "markdown",
   "metadata": {},
   "source": [
    "#### 2.Python数据结构(数组,列表，元组，集合,字典)/不可变对象"
   ]
  },
  {
   "cell_type": "code",
   "execution_count": 1,
   "metadata": {},
   "outputs": [
    {
     "data": {
      "text/plain": [
       "frozenset({1, 3, 5, 7})"
      ]
     },
     "execution_count": 1,
     "metadata": {},
     "output_type": "execute_result"
    }
   ],
   "source": [
    "#Array[]:相同类型元素的序列\n",
    "from array import array\n",
    "#array.array(typecode,[initializer])——typecode：元素类型代码；initializer：初始化器，若数组为空，则省略初始化器。\n",
    "a1=array('h',[1,2,3])\n",
    "memv=memoryview(a1)#内存视图\n",
    "# memoryview可以使用不同的方式读取和操作同一块内存，并且原有的内存字节不会随意移动。类似于C中的强转\n",
    "len(memv)\n",
    "memv[0]=55\n",
    "a1\n",
    "dir(a1)#array相关操作，返回al的属性及方法的列表\n",
    "\n",
    "a1 = array('l')#创建数组\n",
    "a1.append(9)# 添加元素\n",
    "a1.append(9)\n",
    "a1.append(8)\n",
    "\n",
    "\n",
    "\n",
    "#列表[]:任意元素类型对象的序列\n",
    "l1=[1,'china',['AI','julyedu.com']]\n",
    "l1.append('中国民族信息技术研究院')\n",
    "\n",
    "\n",
    "#元组()tuple,只读列表\n",
    "t1=(1,2,3,4)\n",
    "dir(t1)\n",
    "#只读列表是真的只读吗？\n",
    "t2=(1,2,3,[4,5,6])\n",
    "# t2[0]=11#报错\n",
    "t2[3].append(7)#正确\n",
    "t2\n",
    "\n",
    "#tuple的单元素写法\n",
    "#(3)与(3,)哪个是tuple对象呢?\n",
    "type((3)),type((3,))\n",
    "#这里跟逗号又扯上关系，\n",
    "#不仅如此，在交互式命令行中，当我们输入4,时返回的也是一个tuple对象\n",
    "\n",
    "\n",
    "#集合{}set：无序的不重复元素,集合中的对象，通常叫key\n",
    "s1={1,1,1,2,3,4,5,2,4,234}\n",
    "l2=[1,1,1,2,3,4,5,2,4,234]\n",
    "set(s1)\n",
    "\n",
    "##frozenset\n",
    "# frozenset是冻结的集合，它是不可变的，存在哈希值，好处是它可以作为字典的key，也可以作为其它集合的元素。\n",
    "# 缺点是一旦创建便不能更改，没有add，remove方法。\n",
    "frozenset(range(7))\n",
    "frozenset({x+1 for x in range(-1,7) if x%2==0})"
   ]
  },
  {
   "cell_type": "code",
   "execution_count": 2,
   "metadata": {},
   "outputs": [
    {
     "name": "stdout",
     "output_type": "stream",
     "text": [
      "True\n",
      "a 1\n",
      "b 2\n",
      "a 1\n",
      "b 3\n",
      "c 99\n"
     ]
    },
    {
     "data": {
      "text/plain": [
       "OrderedDict([('a', 7), ('z', 8), ('b', 9)])"
      ]
     },
     "execution_count": 2,
     "metadata": {},
     "output_type": "execute_result"
    }
   ],
   "source": [
    "#字典{}dict：KV对应型数据类型\n",
    "d1={'name':'david','gender':'male'}\n",
    "\n",
    "#字典的视图\n",
    "#Python3下字典视图，既同步读取字典，又却无法修改。\n",
    "d1=dict(a=1,b=2)\n",
    "ks=d1.keys()#返回的是主键视图,其类型为<class 'dict_keys'>\n",
    "print('b' in ks)#直接从该视图中观察字典\n",
    "for key in ks:\n",
    "    print(key,d1[key])\n",
    "    \n",
    "\n",
    "d1['b']=3#更新原字典\n",
    "d1['c']=99#对原字典插入新值\n",
    "for key in ks:                #此时并未再次运行d1.keys()，也能看到原字典的变化\n",
    "    print(key,d1[key])    \n",
    "\n",
    "\n",
    "#标准库下的其它字典OrderedDict\n",
    "from collections import OrderedDict\n",
    "\n",
    "od1=OrderedDict()#按主键首次插入顺序进行排序\n",
    "\n",
    "od1['a']=7\n",
    "od1['z']=8\n",
    "od1['b']=9\n",
    "od1"
   ]
  },
  {
   "cell_type": "code",
   "execution_count": 22,
   "metadata": {},
   "outputs": [
    {
     "name": "stdout",
     "output_type": "stream",
     "text": [
      "str1 bytearray(b'\\xe4\\xb8\\xad')\n",
      "tempstr: bytearray(b'\\xff\\xff\\xff')\n",
      "old str1 bytearray(b'\\xe4\\xb8\\xad\\xe5\\x9b\\xbd')\n",
      "bytearray(b'\\xff\\xff\\xff\\xe5\\x9b\\xbd')\n"
     ]
    }
   ],
   "source": [
    "# 字节数组\n",
    "\n",
    "#复制操作：对bytearray对象片断是复制，而非直接引用。\n",
    "str1=bytearray('中国','utf-8')\n",
    "print('str1',str1[0:3])#序列访问\n",
    "tempstr=str1[0:3]#片断赋值给新变量\n",
    "tempstr[0:3]=b'\\xff\\xff\\xff'\n",
    "print('tempstr:',tempstr)\n",
    "print('old str1',str1)#原str1没有变化，因此是发生了复制。。\n",
    "\n",
    "#直接操作\n",
    "#bytes,bytearray,array.arrray支持视图操作\n",
    "v=memoryview(str1)#对str1进行内存视图\n",
    "v[0:3]=b'\\xff\\xff\\xff'#此时对视图对象操作，即是对原str1操作了\n",
    "print(str1)"
   ]
  },
  {
   "cell_type": "markdown",
   "metadata": {},
   "source": [
    "## 3.Python 序列对象使用示例\n",
    "自己学习\n",
    "#### 1.str"
   ]
  },
  {
   "cell_type": "code",
   "execution_count": 1,
   "metadata": {},
   "outputs": [
    {
     "name": "stdout",
     "output_type": "stream",
     "text": [
      "True\n",
      "False\n",
      "0 xinxiyuan\n",
      "1 自然语言处理\n"
     ]
    },
    {
     "data": {
      "text/plain": [
       "tuple"
      ]
     },
     "execution_count": 1,
     "metadata": {},
     "output_type": "execute_result"
    }
   ],
   "source": [
    "#初始化\n",
    "s1='sina.com '\n",
    "l1=['xinxiyuan','自然语言处理']\n",
    "l2=['.com','平台']\n",
    "l3=[5,12,6,3,8,9]\n",
    "l4=['tensorflow','sklearn','']\n",
    "l5=['','','','']\n",
    "t1=('xinxiyuan',['中国民族语言文字信息技术教育部重点实验室','AI'])\n",
    "\n",
    "#标准操作 \n",
    "#成员操作\n",
    "print('xinxiyuan' in t1)\n",
    "print('com' not in s1)\n",
    "\n",
    "#连接与重复(共类型之间)\n",
    "s1*10\n",
    "s1+s1\n",
    "l1*5\n",
    "\n",
    "#索引访问\n",
    "s1[0]\n",
    "l1[0]\n",
    "t1[1]\n",
    "\n",
    "#切片访问\n",
    "s1[0:-1:3]\n",
    "t1[0:-1]\n",
    "\n",
    "#其它操作\n",
    "len(t1)\n",
    "len(s1)\n",
    "list(reversed(t1))\n",
    "sorted(s1)\n",
    "sorted(l1)\n",
    "sorted(l3)\n",
    "max(l3);min(l3);sum(l3)\n",
    "max(l1)\n",
    "\n",
    "#枚举\n",
    "for _,item in enumerate(l1):\n",
    "    print(_,item)\n",
    "\n",
    "\n",
    "#序列拼接,打包成元祖的列表\n",
    "list(zip(l1,t1)) \n",
    "list(zip(l1,l2))\n",
    "\n",
    "#any判断对象是否为空对象，如果都为空、0、false，则返回false，如果不都为空、0、false，则返回true\n",
    "any(l4)#l4中有空元素，但也有不为空的元素\n",
    "any(l5)#l5中的元素全部为空，0或者false,any返回的就是false\n",
    "\n",
    "#all判断对象中的所有元素不为0、''、False或者x为空对象，则返回True，否则返回False\n",
    "all(l4)#l4中有一个空元素，则返回False\n",
    "all(l3)#l5中的元素全部为空，0或者false,any返回的就是false\n",
    "\n",
    "\n",
    "#类型转换\n",
    "type(list(t1))\n",
    "type(str(l1))\n",
    "type(tuple(s1))"
   ]
  },
  {
   "cell_type": "markdown",
   "metadata": {},
   "source": [
    "#### 2.list"
   ]
  },
  {
   "cell_type": "code",
   "execution_count": 1,
   "metadata": {},
   "outputs": [
    {
     "data": {
      "text/plain": [
       "True"
      ]
     },
     "execution_count": 1,
     "metadata": {},
     "output_type": "execute_result"
    }
   ],
   "source": [
    "#初始化\n",
    "l1=['西北民族大学','中国民族信息技术研究院','统计自然处理','','AI','BigData']\n",
    "l2=list(range(1,6))\n",
    "l3=list(range(1,18,2))\n",
    "\n",
    "\n",
    "#列表属性\n",
    "len(l1)#列表长度\n",
    "\n",
    "#成员操作\n",
    "'西北民族大学' in l1\n",
    "'AI' not in l1\n",
    "\n",
    "#列表访问,索引与切片\n",
    "l1[2]\n",
    "l1[0:-1:2]\n",
    "\n",
    "#列表内部操作\n",
    "l1[3]='Caffe'#赋值\n",
    "l1.append(l2)#添加到未尾,如果元素是列表，也是按照列表添加进来\n",
    "l1.extend(['Torch'])#扩展，如果是扩展元素是列表，是只添加列表内的元素\n",
    "l1.insert(0,'sklearn')#插入元素，按索引\n",
    "l1.index('sklearn')#获得指定元素的索引位置，如果存在相同元素，返回的是从右到左第一个的索引位置\n",
    "l1.count('AI')#统计元素出现的次数\n",
    "l1.pop()#返回并弹出\n",
    "l1.pop(3)#返回并弹出指定索引位置的元素\n",
    "\n",
    "del l1[-1] #删除列表元素，按索引位置删除\n",
    "l1.remove('AI')#指定元素进行删除，如果存在相同元素，则删除从左至右第一个元素\n",
    "l1\n",
    "\n",
    "#列表操作\n",
    "reversed(l1)\n",
    "sorted(l1)\n",
    "\n",
    "l2<l3#列表比较，逐元素进行对比"
   ]
  },
  {
   "cell_type": "markdown",
   "metadata": {},
   "source": [
    "#### 3.列表推导式"
   ]
  },
  {
   "cell_type": "code",
   "execution_count": 2,
   "metadata": {},
   "outputs": [
    {
     "data": {
      "text/plain": [
       "[(0, 0),\n",
       " (0, 1),\n",
       " (0, 2),\n",
       " (0, 3),\n",
       " (0, 4),\n",
       " (1, 0),\n",
       " (1, 1),\n",
       " (1, 2),\n",
       " (1, 3),\n",
       " (1, 4),\n",
       " (2, 0),\n",
       " (2, 1),\n",
       " (2, 2),\n",
       " (2, 3),\n",
       " (2, 4),\n",
       " (3, 0),\n",
       " (3, 1),\n",
       " (3, 2),\n",
       " (3, 3),\n",
       " (3, 4),\n",
       " (4, 0),\n",
       " (4, 1),\n",
       " (4, 2),\n",
       " (4, 3),\n",
       " (4, 4)]"
      ]
     },
     "execution_count": 2,
     "metadata": {},
     "output_type": "execute_result"
    }
   ],
   "source": [
    "l1=list(range(300))\n",
    "\n",
    "[x for x in l1 if x>=288]\n",
    "\n",
    "\n",
    "\n",
    "#从一个列表中\n",
    "[i for i in range(9) if i%2==0]\n",
    "\n",
    "#从两个列表中进行推导\n",
    "[(i,j) for i in range(5) for j in range(5)]"
   ]
  },
  {
   "cell_type": "markdown",
   "metadata": {},
   "source": [
    "#### 4.元组Tuple"
   ]
  },
  {
   "cell_type": "code",
   "execution_count": 5,
   "metadata": {},
   "outputs": [
    {
     "name": "stdout",
     "output_type": "stream",
     "text": [
      "t1 id: 92316200\n",
      "t1[-1] id： 92609416\n",
      "(1, 2, 3, [4, 5, 6, 7])\n",
      "t1[-1] id： 92609416\n"
     ]
    },
    {
     "data": {
      "text/plain": [
       "(1, 'a', {'name': 'xbmu.edu.cn'})"
      ]
     },
     "execution_count": 5,
     "metadata": {},
     "output_type": "execute_result"
    }
   ],
   "source": [
    "#可以认为是一个只读列表\n",
    "\n",
    "#tuple成员操作\n",
    "t1=(5,6,7)\n",
    "# t1+4  #这里为什么会报错\n",
    "\n",
    "t1+(4,)#这里为什么会成功\n",
    "\n",
    "#通常我们在命令行输入4,5,6返回的是一个tuple\n",
    "#而只输入4时，返回的是一个数值型\n",
    "\n",
    "\n",
    "#解包unpack\n",
    "a,b,c=t1\n",
    "\n",
    "\n",
    "#tuple不可修改的是什么？\n",
    "t1=(1,2,3,[4,5,6])\n",
    "#t1[0]=0#报错\n",
    "#'tuple' object does not support item assignment\n",
    "#这里的tuple object指的是tuple中的元素\n",
    "\n",
    "#列表可以\n",
    "print('t1 id:',id(t1))\n",
    "print('t1[-1] id：',id(t1[-1]))\n",
    "\n",
    "t1[-1].append(7)\n",
    "print(t1)\n",
    "print('t1[-1] id：',id(t1[-1]))\n",
    "\n",
    "\n",
    "#对元素中字典元素进行修改\n",
    "t1=(1,'a',{'name':'AI'})\n",
    "t1[-1]['name']='xbmu.edu.cn'\n",
    "t1\n",
    "\n"
   ]
  },
  {
   "cell_type": "markdown",
   "metadata": {},
   "source": [
    "#### 5.集合"
   ]
  },
  {
   "cell_type": "code",
   "execution_count": 13,
   "metadata": {
    "scrolled": true
   },
   "outputs": [
    {
     "data": {
      "text/plain": [
       "{'Jill', 'Sarah', 'Tommy'}"
      ]
     },
     "execution_count": 13,
     "metadata": {},
     "output_type": "execute_result"
    },
    {
     "data": {
      "text/plain": [
       "True"
      ]
     },
     "execution_count": 13,
     "metadata": {},
     "output_type": "execute_result"
    },
    {
     "data": {
      "text/plain": [
       "True"
      ]
     },
     "execution_count": 13,
     "metadata": {},
     "output_type": "execute_result"
    },
    {
     "data": {
      "text/plain": [
       "{'c', 'd', 'e'}"
      ]
     },
     "execution_count": 13,
     "metadata": {},
     "output_type": "execute_result"
    },
    {
     "data": {
      "text/plain": [
       "{'a', 'b', 'c', 'd', 'e', 'f', 'g'}"
      ]
     },
     "execution_count": 13,
     "metadata": {},
     "output_type": "execute_result"
    },
    {
     "data": {
      "text/plain": [
       "{'a', 'b'}"
      ]
     },
     "execution_count": 13,
     "metadata": {},
     "output_type": "execute_result"
    }
   ],
   "source": [
    "l1=['Jill','Tommy','Jill','Sarah']\n",
    "\n",
    "#初始化\n",
    "a=set(l1)\n",
    "\n",
    "# s1[0]#'set' object does not support indexing\n",
    "a\n",
    "#成员操作\n",
    "\"Jill\" in a\n",
    "\"John\" not in b\n",
    "\n",
    "#集合内部操作\n",
    "a.add('f')#添加key\n",
    "a.remove('Tommy')\n",
    "\n",
    "\n",
    "#集合间操作\n",
    "a=set('abcde')\n",
    "b=set('cdefg')\n",
    "\n",
    "# &交集\n",
    "a&b\n",
    "# 结果：{'c', 'd', 'e'}\n",
    "\n",
    "# |并集\n",
    "a|b\n",
    "# 结果：{'a', 'b', 'c', 'd', 'e', 'f', 'g'}\n",
    "\n",
    "# -差集\n",
    "a-b\n",
    "# 结果：{'a', 'b'}\n",
    "\n",
    "\n",
    "#合并\n",
    "a.update(b)#集合合并"
   ]
  },
  {
   "cell_type": "markdown",
   "metadata": {},
   "source": [
    "#### 6.字典Dictionary"
   ]
  },
  {
   "cell_type": "code",
   "execution_count": 14,
   "metadata": {},
   "outputs": [
    {
     "data": {
      "text/plain": [
       "True"
      ]
     },
     "execution_count": 14,
     "metadata": {},
     "output_type": "execute_result"
    },
    {
     "data": {
      "text/plain": [
       "False"
      ]
     },
     "execution_count": 14,
     "metadata": {},
     "output_type": "execute_result"
    },
    {
     "data": {
      "text/plain": [
       "'jack'"
      ]
     },
     "execution_count": 14,
     "metadata": {},
     "output_type": "execute_result"
    },
    {
     "data": {
      "text/plain": [
       "'jack'"
      ]
     },
     "execution_count": 14,
     "metadata": {},
     "output_type": "execute_result"
    },
    {
     "data": {
      "text/plain": [
       "dict_keys(['name', 'age', 'address'])"
      ]
     },
     "execution_count": 14,
     "metadata": {},
     "output_type": "execute_result"
    },
    {
     "data": {
      "text/plain": [
       "dict_values(['jack', 24, 'beijing'])"
      ]
     },
     "execution_count": 14,
     "metadata": {},
     "output_type": "execute_result"
    },
    {
     "data": {
      "text/plain": [
       "dict_items([('name', 'jack'), ('age', 24), ('address', 'beijing')])"
      ]
     },
     "execution_count": 14,
     "metadata": {},
     "output_type": "execute_result"
    },
    {
     "data": {
      "text/plain": [
       "'beijing'"
      ]
     },
     "execution_count": 14,
     "metadata": {},
     "output_type": "execute_result"
    },
    {
     "data": {
      "text/plain": [
       "('age', 24)"
      ]
     },
     "execution_count": 14,
     "metadata": {},
     "output_type": "execute_result"
    },
    {
     "data": {
      "text/plain": [
       "1331864533463450554"
      ]
     },
     "execution_count": 14,
     "metadata": {},
     "output_type": "execute_result"
    }
   ],
   "source": [
    "#K:V对应\n",
    "\n",
    "#初始化\n",
    "d1={'name':'jack','age':24}\n",
    "d2=dict({'salary':9999,'level':5})\n",
    "\n",
    "#成员判断(针对 key)\n",
    "'name' in d1\n",
    "'address' in d1\n",
    "\n",
    "\n",
    "#新增成员\n",
    "d1['address']='beijing'\n",
    "\n",
    "#访问：按key访问value：\n",
    "d1['name']\n",
    "d1.get('name',-1)\n",
    "#访问所有key\n",
    "d1.keys()\n",
    "#访问所有value\n",
    "d1.values()\n",
    "#访问所有元素\n",
    "d1.items()\n",
    "\n",
    "\n",
    "#删除成员\n",
    "d1.pop('address')#返回指定key的值。并弹出元素\n",
    "d1.popitem()#r返回整个元素。并弹出\n",
    "\n",
    "#清空\n",
    "d1.clear()\n",
    "\n",
    "\n",
    "#Key值的选取，能被hash的值都可以做为key，即不可变类型可以做为key值。\n",
    "hash('a')"
   ]
  },
  {
   "cell_type": "markdown",
   "metadata": {},
   "source": [
    "## 4.Python内存管理"
   ]
  },
  {
   "cell_type": "code",
   "execution_count": 15,
   "metadata": {},
   "outputs": [
    {
     "name": "stdout",
     "output_type": "stream",
     "text": [
      "xinxiyuan\n",
      "AI\n",
      "2\n",
      "3\n"
     ]
    }
   ],
   "source": [
    "#引用的概念\n",
    "\n",
    "a='xinxiyuan'#python在内存中创建了一个字符串，然后创建了a这个变量去指向这个字符串\n",
    "b=a#创建了一个变量b，并把它引向变量a指向的字符串xinxiyuan\n",
    "\n",
    "a='AI'#这时在内存中创建了一个字符串AI，并把变量a的指向重新指向AI这个字符串\n",
    "print(b)#b的指向并没有变，还是xinxiyuan\n",
    "# print('a id==b id',id(a)==id(b))\n",
    "\n",
    "c=a#再创建一个变量c，指向a所指向的字符串AI\n",
    "del a#删除的是a这个引用，而非AI这个字符串,所以c这个变量指向的还是AI这个字符串\n",
    "print(c)\n",
    "\n",
    "del c#这时AI字符串的最后一个引用c也被删除了,我们就无法再去访问AI这个字符串了\n",
    "\n",
    "\n",
    "\n",
    "#在Python中，每个对象都有存有指向该对象的引用总数，即引用计数(reference count)。\n",
    "#我们可以使用sys包中的getrefcount()，来查看某个对象的引用计数。\n",
    "#需要注意的是，当使用某个引用作为参数，传递给getrefcount()时，参数实际上创建了一个临时的引用。\n",
    "#因此，getrefcount()所得到的结果，会比期望的多1。\n",
    "\n",
    "from sys import getrefcount\n",
    "a = [1, 2, 3]\n",
    "print(getrefcount(a))\n",
    "\n",
    "b = a\n",
    "print(getrefcount(b))"
   ]
  },
  {
   "cell_type": "markdown",
   "metadata": {},
   "source": [
    "## 5 可变与不可变对象"
   ]
  },
  {
   "cell_type": "code",
   "execution_count": 17,
   "metadata": {},
   "outputs": [
    {
     "name": "stdout",
     "output_type": "stream",
     "text": [
      "5\n",
      "[1, 2, 3] [1, 2, 3] [1, 2, 3]\n",
      "[1, 2, 3, 4] [1, 2, 3, 4] [1, 2, 3, 4]\n",
      "id(a): 92827568 id(b): 92718336 id(c): 92718336\n",
      "shanghai beijing beijing\n"
     ]
    }
   ],
   "source": [
    "#知识点：引用与对象分离\n",
    "\n",
    "a=b=c=5#创建了三个变量，均指向一个int类型的对象5，一个对象可以被多个引用指向\n",
    "del c#删除c这个变量对5的引用\n",
    "a=[1,2,3]#把a这个变量的指向，重新指向了一个列表对象，引用可以随时指向一个新的对象\n",
    "print(b)#b依旧指向5，5没有被改变\n",
    "\n",
    "\n",
    "#什么是可变对象？\n",
    "a=b=c=[1,2,3]\n",
    "print(a,b,c)\n",
    "a.append(4)#通过a能真正改变列表[1,2,3],\n",
    "print(a,b,c)\n",
    "#通过引用其元素，改变对象自身\n",
    "\n",
    "\n",
    "#什么是不可变对象？\n",
    "a=b=c='beijing'\n",
    "a='shanghai'\n",
    "#打印a,b,c,d指向对象的id，看看是否是一个家伙\n",
    "print('id(a):',id(a),'id(b):',id(b),'id(c):',id(c))\n",
    "#看似是把a变量指向的字符串从beijing，改为shanghai,但其它并没有改变beijing，只是a的指向被改变了\n",
    "print(a,b,c)\n",
    "#不能改变对象本身，只能改变引用的指向\n",
    "\n",
    "\n"
   ]
  }
 ],
 "metadata": {
  "kernelspec": {
   "display_name": "Python 3",
   "language": "python",
   "name": "python3"
  },
  "language_info": {
   "codemirror_mode": {
    "name": "ipython",
    "version": 3
   },
   "file_extension": ".py",
   "mimetype": "text/x-python",
   "name": "python",
   "nbconvert_exporter": "python",
   "pygments_lexer": "ipython3",
   "version": "3.6.4"
  }
 },
 "nbformat": 4,
 "nbformat_minor": 2
}
