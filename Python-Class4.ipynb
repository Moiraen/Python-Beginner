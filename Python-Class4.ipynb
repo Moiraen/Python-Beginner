{
 "cells": [
  {
   "cell_type": "markdown",
   "metadata": {},
   "source": [
    "# Python 程序开发\n",
    "## (四)、数据处理-Pandas\n",
    "    \n",
    "\n",
    "Tommy"
   ]
  },
  {
   "cell_type": "markdown",
   "metadata": {
    "collapsed": true
   },
   "source": [
    "pandas是一个专门用于数据分析的python library"
   ]
  },
  {
   "cell_type": "markdown",
   "metadata": {},
   "source": [
    "### 本节主要内容\n",
    "#### 1. Numpy\n",
    "- Numpy简介\n",
    "- Numpy使用\n",
    "- ndarray高级操作\n",
    "<br>\n",
    "\n",
    "#### 2. Pandas\n",
    "- Pandas简介\n",
    "- Series\n",
    "- DataFrame\n",
    "- Index\n",
    "- 文件读写\n",
    "- 分组/Groupby\n",
    "- 聚合/agg\n",
    "- 数据拼接/concat\n",
    "- 数据合并/merge\n",
    "- 小项目/project"
   ]
  },
  {
   "cell_type": "markdown",
   "metadata": {},
   "source": [
    "## [Numpy](http://www.numpy.org/)简介\n",
    "- Numpy 是 Python 下的一个 library\n",
    "- 支持矩阵操作与运算\n",
    "- core为 C 编写，非常高效\n",
    "- 是一些与比较流行的机器学习框架的基础，机器学习三剑客"
   ]
  },
  {
   "cell_type": "markdown",
   "metadata": {},
   "source": [
    "### [What is NumPy?](https://docs.scipy.org/doc/numpy/user/whatisnumpy.html)\n",
    "NumPy is the fundamental package for scientific computing in Python. It is a Python library that provides a multidimensional array object, various derived objects (such as masked arrays and matrices), and an assortment of routines for fast operations on arrays, including mathematical, logical, shape manipulation, sorting, selecting, I/O, discrete Fourier transforms, basic linear algebra, basic statistical operations, random simulation and much more.\n",
    "\n",
    "At the core of the NumPy package, is the ndarray object. This encapsulates n-dimensional arrays of homogeneous data types, with many operations being performed in compiled code for performance. There are several important differences between NumPy arrays and the standard Python sequences:\n",
    "\n",
    "- NumPy arrays have a fixed size at creation, unlike Python lists (which can grow dynamically). Changing the size of an ndarray will create a new array and delete the original.\n",
    "- The elements in a NumPy array are all required to be of the same data type, and thus will be the same size in memory. The exception: one can have arrays of (Python, including NumPy) objects, thereby allowing for arrays of different sized elements.\n",
    "- NumPy arrays facilitate advanced mathematical and other types of operations on large numbers of data. Typically, such operations are executed more efficiently and with less code than is possible using Python’s built-in sequences.\n",
    "- A growing plethora of scientific and mathematical Python-based packages are using NumPy arrays; though these typically support Python-sequence input, they convert such input to NumPy arrays prior to processing, and they often output NumPy arrays. In other words, in order to efficiently use much (perhaps even most) of today’s scientific/mathematical Python-based software, just knowing how to use Python’s built-in sequence types is insufficient - one also needs to know how to use NumPy arrays."
   ]
  },
  {
   "cell_type": "markdown",
   "metadata": {},
   "source": [
    "### Numpy产生的原因\n",
    "- 标准安装的 Python 中用列表(list)保存一组值，可以用来当作数组使用，不过由于列表的元素可以是任何对象，因此列表中所保存的是对象的指针。这样为了保存一个简单的[1,2,3]，需要有3个指针和三个整数对象。对于数值运算来说这种结构显然比较浪费内存和 CPU 计算时间。\n",
    "- 虽然 Python 还提供了一个array模块，array 对象和列表不同，它直接保存数值，和 C 语言的一维数组比较类似。但是由于它不支持多维，也没有各种运算函数，因此也不适合做数值运算。\n"
   ]
  },
  {
   "cell_type": "markdown",
   "metadata": {},
   "source": [
    "### Numpy组成\n",
    "- NumPy 提供了两种基本的对象：ndarray（N-dimensional array object）和ufunc（universal function object）。ndarray 是存储单一数据类型的多维数组，而 ufunc 则是能够对数组进行处理的函数。\n",
    "- ndarray 是 numpy 的核心数据类型，即（n-dimensional array）多维数组。"
   ]
  },
  {
   "cell_type": "markdown",
   "metadata": {},
   "source": [
    "### 使用Numpy"
   ]
  },
  {
   "cell_type": "code",
   "execution_count": 4,
   "metadata": {},
   "outputs": [
    {
     "name": "stdout",
     "output_type": "stream",
     "text": [
      "\n",
      "The following command must be run outside of the IPython shell:\n",
      "\n",
      "    $ pip install -U numpy\n",
      "\n",
      "The Python package manager (pip) can only be used from outside of IPython.\n",
      "Please reissue the `pip` command in a separate terminal or command prompt.\n",
      "\n",
      "See the Python documentation for more informations on how to install packages:\n",
      "\n",
      "    https://docs.python.org/3/installing/\n"
     ]
    }
   ],
   "source": [
    "# 安装与导入\n",
    "# pip install numpy\n",
    "# 注意安装了Anaconda环境，自带Numpy，想升级的话用下面的命令\n",
    "%pip install -U numpy"
   ]
  },
  {
   "cell_type": "code",
   "execution_count": 1,
   "metadata": {},
   "outputs": [
    {
     "data": {
      "text/plain": [
       "'1.15.3'"
      ]
     },
     "execution_count": 1,
     "metadata": {},
     "output_type": "execute_result"
    }
   ],
   "source": [
    "# 导入library\n",
    "import numpy as np\n",
    "# 查看版本\n",
    "# dir(np)\n",
    "np.version.version"
   ]
  },
  {
   "cell_type": "code",
   "execution_count": 19,
   "metadata": {
    "scrolled": true
   },
   "outputs": [
    {
     "name": "stdout",
     "output_type": "stream",
     "text": [
      "[[1 2 3 4]\n",
      " [5 6 7 8]]\n",
      "<class 'list'>\n",
      "<class 'numpy.ndarray'>\n",
      "[[0. 0. 0.]\n",
      " [0. 0. 0.]\n",
      " [0. 0. 0.]]\n",
      "[[1. 1. 1.]\n",
      " [1. 1. 1.]\n",
      " [1. 1. 1.]]\n"
     ]
    }
   ],
   "source": [
    "# 构建ndarray\n",
    "# 一维\n",
    "n1=np.array([1,2,3,4])\n",
    "n1.shape\n",
    "# 二维数组\n",
    "n2=np.array([[1,2,3,4],[5,6,7,8]])\n",
    "n2.shape\n",
    "print(n2)     \n",
    "\n",
    "# 从python原有数据中构建\n",
    "l1=[1,2,3,4]\n",
    "print(type(l1))\n",
    "n3=np.array(l1)\n",
    "print(type(n3))\n",
    "\n",
    "# ndarray的快速构建方法\n",
    "#    序列创建\n",
    "np.arange(10)\n",
    "np.arange(0,1,0.1)\n",
    "\n",
    "#  空矩阵，空不意味着值为 0，而是任何的 value,内存中没有被初始化的。\n",
    "np.empty((7,7))\n",
    "\n",
    "#  对角线矩阵\n",
    "np.eye(4)\n",
    "\n",
    "# 随机数矩阵\n",
    "np.random.rand(4,2)\n",
    "\n",
    "# 0,1 矩阵\n",
    "zero_array=np.zeros((3,3))  #参数类型为tuple\n",
    "print(zero_array)\n",
    "\n",
    "ones_array=np.ones((3,3))\n",
    "print(ones_array)\n"
   ]
  },
  {
   "cell_type": "markdown",
   "metadata": {},
   "source": [
    "### Numpy数据类型及转换"
   ]
  },
  {
   "cell_type": "code",
   "execution_count": 28,
   "metadata": {},
   "outputs": [
    {
     "name": "stdout",
     "output_type": "stream",
     "text": [
      "[0 1 2 3 4 5 6]\n",
      "int32\n",
      "float32\n"
     ]
    }
   ],
   "source": [
    "# Numpy根据对象中数值的类型来判断\n",
    "nd1=np.arange(7)\n",
    "print(nd1)\n",
    "print(nd1.dtype)\n",
    "# 使用astype强制转换类型\n",
    "float_nd1=nd1.astype(np.float32)\n",
    "print(float_nd1.dtype)"
   ]
  },
  {
   "cell_type": "markdown",
   "metadata": {},
   "source": [
    "### ndarray 的常用属性"
   ]
  },
  {
   "cell_type": "code",
   "execution_count": 32,
   "metadata": {},
   "outputs": [
    {
     "data": {
      "text/plain": [
       "35"
      ]
     },
     "execution_count": 32,
     "metadata": {},
     "output_type": "execute_result"
    }
   ],
   "source": [
    "# ndarray.ndim,查看 ndarray 的 dimension 维度数。\n",
    "nd2=np.zeros((5,7))\n",
    "nd2.ndim\n",
    "\n",
    "# ndarray.shape,返回行数和列数\n",
    "nd2.shape\n",
    "# dtype\n",
    "nd2.dtype\n",
    "\n",
    "# size, 返回矩阵中的元素数量\n",
    "nd2.size"
   ]
  },
  {
   "cell_type": "markdown",
   "metadata": {},
   "source": [
    "### ndarray取值赋值以及维度操作"
   ]
  },
  {
   "cell_type": "code",
   "execution_count": 47,
   "metadata": {},
   "outputs": [
    {
     "name": "stdout",
     "output_type": "stream",
     "text": [
      "[[1 2 3]\n",
      " [4 5 6]\n",
      " [7 8 9]]\n",
      "[1 2 3]\n",
      "[4 5 6]\n",
      "[7 8 9]\n",
      "[[  1   2   3]\n",
      " [100 100 100]\n",
      " [  7   8   9]]\n",
      "(100,)\n"
     ]
    },
    {
     "data": {
      "text/plain": [
       "array([  1,   2,   3, 100, 100, 100,   7,   8,   9])"
      ]
     },
     "execution_count": 47,
     "metadata": {},
     "output_type": "execute_result"
    }
   ],
   "source": [
    "import numpy as np\n",
    "tmp_dis=np.array([[1,2,3],[4,5,6],[7,8,9]])\n",
    "print(tmp_dis)\n",
    "\n",
    "# 切片读取,[:,:]#第一个冒号代表切出所有的行，第二个冒号代表切出所有的列\n",
    "\n",
    "tmp_dis[:,:]\n",
    "tmp_dis[1:,1:]\n",
    "\n",
    "# 索引访问\n",
    "tmp_dis[[1],[0,2]]\n",
    "\n",
    "# 遍历读取,像可迭代对象一样进行遍历\n",
    "for tmp in tmp_dis:\n",
    "    print(tmp)\n",
    "\n",
    "#     赋值操作\n",
    "tmp_dis[[1],:]=100\n",
    "print(tmp_dis)\n",
    "\n",
    "# 改变维度\n",
    "np.arange(16).reshape(2,8).shape  \n",
    "\n",
    "# 增加维度\n",
    "nd3=np.linspace(-1,1,100)\n",
    "print(nd3.shape)\n",
    "nd3[np.newaxis,:].shape\n",
    "nd3[np.newaxis,:].shape\n",
    "\n",
    "# 维度转置\n",
    "\n",
    "np.transpose(tmp_dis)\n",
    "\n",
    "#  降成一维\n",
    "tmp_dis.flatten()"
   ]
  },
  {
   "cell_type": "markdown",
   "metadata": {},
   "source": [
    "###  Numpy运算\n",
    "\n",
    "- ufunc 是 universal function 的缩写，它是一种能对数组的每个元素进行操作的函数。\n",
    "- NumPy 内置的许多ufunc 函数都在 C 语言级别实现的，因此它们的计算速度非常快。"
   ]
  },
  {
   "cell_type": "code",
   "execution_count": 55,
   "metadata": {},
   "outputs": [
    {
     "name": "stdout",
     "output_type": "stream",
     "text": [
      "[[ 6  8]\n",
      " [10 12]]\n",
      "[[1 2]\n",
      " [3 4]]\n",
      "axis=0: [4 6]\n",
      "axis=1: [3 7]\n",
      "[-10.39980441   4.12950084   8.86022331   6.21887159   1.28653342\n",
      "   5.87426349  -4.82733101  11.9720452 ]\n",
      "[-10.39980441  -4.82733101   1.28653342   4.12950084   5.87426349\n",
      "   6.21887159   8.86022331  11.9720452 ]\n"
     ]
    }
   ],
   "source": [
    "import numpy as np\n",
    "# #################矩阵间运算\n",
    "\n",
    "# 逐元素运算，就是两个 shape 一致的矩阵，相同位置上的元素的运算。\n",
    "x=np.array([[1,2],[3,4]])\n",
    "y=np.array([[5,6],[7,8]])\n",
    "print(x+y)\n",
    "# print(np.add(x,y))\n",
    "# ###减法、乘法、除法的使用也是一样的，-，*，/    subtract()，multiply（），divide(）###\n",
    "\n",
    "# 向量的内积 inner product：\n",
    "# Numpy 可以轻松进行矩阵的乘法，矩阵的乘积使用 dot 函数进行计算。而对于一维数组，它计算的是其点积。\n",
    "m=np.array([3,4])\n",
    "n=np.array([5,6])\n",
    "m.dot(n)  #np.dot(m,n)\n",
    "\n",
    "# ##########矩阵内元素计算\n",
    "# sum  min  max mean\n",
    "print(x)\n",
    "print('axis=0:',np.sum(x,axis=0))  #把行压扁，按列相加\n",
    "print('axis=1:',np.sum(x,axis=1))  #把列压扁，按行相加\n",
    "\n",
    "# 排序，如果是多维矩阵，要限定在哪个维度上排序\n",
    "\n",
    "arr=np.random.randn(8)*10\n",
    "print(arr)\n",
    "arr.sort()\n",
    "print(arr)\n",
    "\n"
   ]
  },
  {
   "cell_type": "markdown",
   "metadata": {},
   "source": [
    "### ndarray 高级操作"
   ]
  },
  {
   "cell_type": "code",
   "execution_count": 63,
   "metadata": {},
   "outputs": [
    {
     "name": "stdout",
     "output_type": "stream",
     "text": [
      "[[1]\n",
      " [4]] \n",
      "\n",
      " [[2]\n",
      " [5]] \n",
      "\n",
      " [[3]\n",
      " [6]]\n",
      "[0 0 1 1 1 2 2 2 2 2]\n"
     ]
    }
   ],
   "source": [
    "# 对象变形\n",
    "import numpy as np\n",
    "a1=np.arange(16)#含有 16 个元素的一维数组\n",
    "np.reshape(a1,(2,-1))#把一个矩阵 reshape 为另一个矩阵，0 维度为 2，1 维度为-1(numpy 会自动推导出为8)\n",
    "\n",
    "# 对象拼接\n",
    "arr1=np.array([[1,2,3],[4,5,6]])\n",
    "arr2=np.array([[7,8,9],[10,11,12]])\n",
    "np.hstack([arr1,arr2])   #水平堆叠\n",
    "np.c_[arr1,arr2]   #与上面语句效果一样，c代表column\n",
    "np.vstack([arr1,arr2])\n",
    "np.r_[arr1,arr2]\n",
    "\n",
    "# 对象拆分\n",
    "a,b,c=np.hsplit(arr1,3)   #竖着切成3份，横着切用vsplit\n",
    "print(a,'\\n\\n',b,'\\n\\n',c)\n",
    "\n",
    "# 重复对象元素\n",
    "\n",
    "arr3=np.array(np.arange(3))\n",
    "print(arr3.repeat([2,3,5]))"
   ]
  },
  {
   "cell_type": "markdown",
   "metadata": {},
   "source": [
    "## 讲解完Numpy，下面是Pandas"
   ]
  },
  {
   "cell_type": "markdown",
   "metadata": {},
   "source": [
    "## [Pandas](http://pandas.pydata.org/)简介\n",
    "- python数据分析library\n",
    "- 基于numpy (对ndarray的操作)\n",
    "- 有一种用python做Excel/SQL/R的感觉"
   ]
  },
  {
   "cell_type": "markdown",
   "metadata": {},
   "source": [
    "## 数据结构Series"
   ]
  },
  {
   "cell_type": "markdown",
   "metadata": {},
   "source": [
    "### 构造和初始化Series"
   ]
  },
  {
   "cell_type": "code",
   "execution_count": 2,
   "metadata": {},
   "outputs": [],
   "source": [
    "import pandas as pd\n",
    "import numpy as np"
   ]
  },
  {
   "cell_type": "markdown",
   "metadata": {
    "collapsed": true
   },
   "source": [
    "Series是一个一维的数据结构，下面是一些初始化Series的方法。"
   ]
  },
  {
   "cell_type": "code",
   "execution_count": 4,
   "metadata": {},
   "outputs": [
    {
     "data": {
      "text/plain": [
       "0          7\n",
       "1    Lanzhou\n",
       "2       2.17\n",
       "3    3.14159\n",
       "4      计算机技术\n",
       "dtype: object"
      ]
     },
     "execution_count": 4,
     "metadata": {},
     "output_type": "execute_result"
    }
   ],
   "source": [
    "s = pd.Series([7, \"Lanzhou\", 2.17, 3.1415926, \"计算机技术\"])\n",
    "s"
   ]
  },
  {
   "cell_type": "code",
   "execution_count": 5,
   "metadata": {},
   "outputs": [
    {
     "data": {
      "text/plain": [
       "[7, 'Lanzhou', 2.17, 3.1415926, '计算机技术']"
      ]
     },
     "execution_count": 5,
     "metadata": {},
     "output_type": "execute_result"
    }
   ],
   "source": [
    "l = [7, \"Lanzhou\", 2.17, 3.1415926, \"计算机技术\"]\n",
    "l"
   ]
  },
  {
   "cell_type": "code",
   "execution_count": 8,
   "metadata": {},
   "outputs": [
    {
     "data": {
      "text/plain": [
       "2    2.17\n",
       "dtype: object"
      ]
     },
     "execution_count": 8,
     "metadata": {},
     "output_type": "execute_result"
    }
   ],
   "source": [
    " s[2:3]"
   ]
  },
  {
   "cell_type": "markdown",
   "metadata": {},
   "source": [
    "pandas会默认用0到n-1来作为Series的index，但是我们也可以自己指定index。index我们可以把它理解为dict里面的key。"
   ]
  },
  {
   "cell_type": "code",
   "execution_count": 9,
   "metadata": {},
   "outputs": [
    {
     "data": {
      "text/plain": [
       "A          7\n",
       "B    Lanzhou\n",
       "C       2.17\n",
       "D    3.14159\n",
       "E      计算机技术\n",
       "Name: nice, dtype: object"
      ]
     },
     "execution_count": 9,
     "metadata": {},
     "output_type": "execute_result"
    }
   ],
   "source": [
    "s = pd.Series([7, \"Lanzhou\", 2.17, 3.1415926, \"计算机技术\"], \n",
    "             index=[\"A\", \"B\", \"C\", \"D\", \"E\"], name=\"nice\")\n",
    "s"
   ]
  },
  {
   "cell_type": "code",
   "execution_count": 10,
   "metadata": {},
   "outputs": [
    {
     "data": {
      "text/plain": [
       "3.1415926"
      ]
     },
     "execution_count": 10,
     "metadata": {},
     "output_type": "execute_result"
    }
   ],
   "source": [
    "s[\"D\"]"
   ]
  },
  {
   "cell_type": "markdown",
   "metadata": {},
   "source": [
    "还可以用dictionary来构造一个Series，因为Series本来就是key value pairs。"
   ]
  },
  {
   "cell_type": "code",
   "execution_count": 23,
   "metadata": {},
   "outputs": [
    {
     "data": {
      "text/plain": [
       "Beijing     131700.0\n",
       "Lanzhou          NaN\n",
       "Shenzhen    100173.0\n",
       "Suzhou       87431.0\n",
       "Taiyuan      71026.0\n",
       "Xi'an        75262.0\n",
       "Name: avg_incomes, dtype: float64"
      ]
     },
     "execution_count": 23,
     "metadata": {},
     "output_type": "execute_result"
    }
   ],
   "source": [
    "#2017年城市非私营平均工资\n",
    "cities = {\"Beijing\":131700, \"Xi'an\": 75262, \"Shenzhen\": 100173, \"Taiyuan\": 71026, \"Suzhou\": 87431, \"Lanzhou\": None}\n",
    "avg_incomes = pd.Series(cities, name=\"avg_incomes\")\n",
    "avg_incomes\n"
   ]
  },
  {
   "cell_type": "markdown",
   "metadata": {},
   "source": [
    "numpy ndarray构建一个Series"
   ]
  },
  {
   "cell_type": "code",
   "execution_count": 24,
   "metadata": {},
   "outputs": [
    {
     "data": {
      "text/plain": [
       "['a', 'b', 'c', 'd', 'e']"
      ]
     },
     "execution_count": 24,
     "metadata": {},
     "output_type": "execute_result"
    }
   ],
   "source": [
    "list(\"abcde\")"
   ]
  },
  {
   "cell_type": "code",
   "execution_count": 25,
   "metadata": {},
   "outputs": [
    {
     "data": {
      "text/plain": [
       "a    0.511826\n",
       "b   -0.157171\n",
       "c    0.572869\n",
       "d   -0.470542\n",
       "e    0.748118\n",
       "dtype: float64"
      ]
     },
     "execution_count": 25,
     "metadata": {},
     "output_type": "execute_result"
    }
   ],
   "source": [
    "s = pd.Series(np.random.randn(5), index=list(\"abcde\"))\n",
    "s"
   ]
  },
  {
   "cell_type": "markdown",
   "metadata": {},
   "source": [
    "### 选择数据"
   ]
  },
  {
   "cell_type": "markdown",
   "metadata": {},
   "source": [
    "我们可以像对待一个list一样对待Series"
   ]
  },
  {
   "cell_type": "code",
   "execution_count": 16,
   "metadata": {},
   "outputs": [
    {
     "data": {
      "text/plain": [
       "Xi'an      75262\n",
       "Taiyuan    71026\n",
       "Suzhou     87431\n",
       "Name: avg_incomes, dtype: int64"
      ]
     },
     "execution_count": 16,
     "metadata": {},
     "output_type": "execute_result"
    }
   ],
   "source": [
    "avg_incomes[[4,3,2]]"
   ]
  },
  {
   "cell_type": "code",
   "execution_count": 17,
   "metadata": {},
   "outputs": [
    {
     "data": {
      "text/plain": [
       "Taiyuan    71026\n",
       "Xi'an      75262\n",
       "Name: avg_incomes, dtype: int64"
      ]
     },
     "execution_count": 17,
     "metadata": {},
     "output_type": "execute_result"
    }
   ],
   "source": [
    "avg_incomes[3:]"
   ]
  },
  {
   "cell_type": "code",
   "execution_count": 26,
   "metadata": {},
   "outputs": [
    {
     "data": {
      "text/plain": [
       "Beijing     131700.0\n",
       "Lanzhou          NaN\n",
       "Shenzhen    100173.0\n",
       "Suzhou       87431.0\n",
       "Taiyuan      71026.0\n",
       "Xi'an        75262.0\n",
       "Name: avg_incomes, dtype: float64"
      ]
     },
     "execution_count": 26,
     "metadata": {},
     "output_type": "execute_result"
    }
   ],
   "source": [
    "avg_incomes"
   ]
  },
  {
   "cell_type": "markdown",
   "metadata": {},
   "source": [
    "#### 为什么下面这样会拿到两个NaN呢？"
   ]
  },
  {
   "cell_type": "code",
   "execution_count": 27,
   "metadata": {
    "scrolled": true
   },
   "outputs": [
    {
     "data": {
      "text/plain": [
       "Beijing          NaN\n",
       "Lanzhou          NaN\n",
       "Shenzhen    200346.0\n",
       "Suzhou      174862.0\n",
       "Taiyuan     142052.0\n",
       "Xi'an            NaN\n",
       "Name: avg_incomes, dtype: float64"
      ]
     },
     "execution_count": 27,
     "metadata": {},
     "output_type": "execute_result"
    }
   ],
   "source": [
    "avg_incomes[:-1] + avg_incomes[1:]"
   ]
  },
  {
   "cell_type": "code",
   "execution_count": 22,
   "metadata": {},
   "outputs": [
    {
     "data": {
      "text/plain": [
       "Beijing     131700\n",
       "Shenzhen    100173\n",
       "Suzhou       87431\n",
       "Taiyuan      71026\n",
       "Xi'an        75262\n",
       "Name: avg_incomes, dtype: int64"
      ]
     },
     "execution_count": 22,
     "metadata": {},
     "output_type": "execute_result"
    }
   ],
   "source": [
    "avg_incomes"
   ]
  },
  {
   "cell_type": "code",
   "execution_count": 29,
   "metadata": {},
   "outputs": [
    {
     "data": {
      "text/plain": [
       "Beijing     131700.0\n",
       "Lanzhou          NaN\n",
       "Shenzhen    100173.0\n",
       "Suzhou       87431.0\n",
       "Taiyuan      71026.0\n",
       "Name: avg_incomes, dtype: float64"
      ]
     },
     "execution_count": 29,
     "metadata": {},
     "output_type": "execute_result"
    }
   ],
   "source": [
    "avg_incomes[:-1]"
   ]
  },
  {
   "cell_type": "code",
   "execution_count": 28,
   "metadata": {},
   "outputs": [
    {
     "data": {
      "text/plain": [
       "Lanzhou          NaN\n",
       "Shenzhen    100173.0\n",
       "Suzhou       87431.0\n",
       "Taiyuan      71026.0\n",
       "Xi'an        75262.0\n",
       "Name: avg_incomes, dtype: float64"
      ]
     },
     "execution_count": 28,
     "metadata": {},
     "output_type": "execute_result"
    }
   ],
   "source": [
    "avg_incomes[1:]"
   ]
  },
  {
   "cell_type": "markdown",
   "metadata": {},
   "source": [
    "Series就像一个dict，前面定义的index就是用来选择数据的"
   ]
  },
  {
   "cell_type": "code",
   "execution_count": 30,
   "metadata": {},
   "outputs": [
    {
     "data": {
      "text/plain": [
       "nan"
      ]
     },
     "execution_count": 30,
     "metadata": {},
     "output_type": "execute_result"
    }
   ],
   "source": [
    "avg_incomes[\"Lanzhou\"]"
   ]
  },
  {
   "cell_type": "code",
   "execution_count": 31,
   "metadata": {
    "scrolled": true
   },
   "outputs": [
    {
     "data": {
      "text/plain": [
       "Taiyuan      71026.0\n",
       "Beijing     131700.0\n",
       "Shenzhen    100173.0\n",
       "Name: avg_incomes, dtype: float64"
      ]
     },
     "execution_count": 31,
     "metadata": {},
     "output_type": "execute_result"
    }
   ],
   "source": [
    "avg_incomes[[\"Taiyuan\", \"Beijing\", \"Shenzhen\"]]"
   ]
  },
  {
   "cell_type": "code",
   "execution_count": 32,
   "metadata": {},
   "outputs": [
    {
     "data": {
      "text/plain": [
       "False"
      ]
     },
     "execution_count": 32,
     "metadata": {},
     "output_type": "execute_result"
    }
   ],
   "source": [
    "\"Shanghai\" in avg_incomes"
   ]
  },
  {
   "cell_type": "code",
   "execution_count": 33,
   "metadata": {},
   "outputs": [
    {
     "data": {
      "text/plain": [
       "True"
      ]
     },
     "execution_count": 33,
     "metadata": {},
     "output_type": "execute_result"
    }
   ],
   "source": [
    "\"Lanzhou\" in avg_incomes"
   ]
  },
  {
   "cell_type": "code",
   "execution_count": 39,
   "metadata": {},
   "outputs": [
    {
     "data": {
      "text/plain": [
       "Beijing     False\n",
       "Lanzhou     False\n",
       "Shenzhen    False\n",
       "Suzhou      False\n",
       "Taiyuan      True\n",
       "Xi'an        True\n",
       "Name: avg_incomes, dtype: bool"
      ]
     },
     "execution_count": 39,
     "metadata": {},
     "output_type": "execute_result"
    }
   ],
   "source": [
    "avg_incomes < 80000"
   ]
  },
  {
   "cell_type": "code",
   "execution_count": 36,
   "metadata": {},
   "outputs": [
    {
     "data": {
      "text/plain": [
       "Suzhou     87431.0\n",
       "Taiyuan    71026.0\n",
       "Xi'an      75262.0\n",
       "Name: avg_incomes, dtype: float64"
      ]
     },
     "execution_count": 36,
     "metadata": {},
     "output_type": "execute_result"
    }
   ],
   "source": [
    "avg_incomes[avg_incomes < 100000]"
   ]
  },
  {
   "cell_type": "code",
   "execution_count": 40,
   "metadata": {},
   "outputs": [
    {
     "data": {
      "text/plain": [
       "<bound method Series.median of Beijing     131700.0\n",
       "Lanzhou          NaN\n",
       "Shenzhen    100173.0\n",
       "Suzhou       87431.0\n",
       "Taiyuan      71026.0\n",
       "Xi'an        75262.0\n",
       "Name: avg_incomes, dtype: float64>"
      ]
     },
     "execution_count": 40,
     "metadata": {},
     "output_type": "execute_result"
    }
   ],
   "source": [
    "avg_incomes.median"
   ]
  },
  {
   "cell_type": "code",
   "execution_count": 41,
   "metadata": {
    "scrolled": true
   },
   "outputs": [
    {
     "data": {
      "text/plain": [
       "Beijing     131700.0\n",
       "Shenzhen    100173.0\n",
       "Name: avg_incomes, dtype: float64"
      ]
     },
     "execution_count": 41,
     "metadata": {},
     "output_type": "execute_result"
    }
   ],
   "source": [
    "avg_incomes[avg_incomes > avg_incomes.median()]"
   ]
  },
  {
   "cell_type": "markdown",
   "metadata": {},
   "source": [
    "boolean indexing到底是如何工作的呢？"
   ]
  },
  {
   "cell_type": "code",
   "execution_count": 44,
   "metadata": {},
   "outputs": [
    {
     "name": "stdout",
     "output_type": "stream",
     "text": [
      "Beijing     False\n",
      "Lanzhou     False\n",
      "Shenzhen    False\n",
      "Suzhou      False\n",
      "Taiyuan      True\n",
      "Xi'an        True\n",
      "Name: avg_incomes, dtype: bool\n"
     ]
    }
   ],
   "source": [
    "less_than_80000 = avg_incomes < 80000\n",
    "less_than_80000\n",
    "print(less_than_80000)"
   ]
  },
  {
   "cell_type": "code",
   "execution_count": 45,
   "metadata": {},
   "outputs": [
    {
     "data": {
      "text/plain": [
       "Taiyuan    71026.0\n",
       "Xi'an      75262.0\n",
       "Name: avg_incomes, dtype: float64"
      ]
     },
     "execution_count": 45,
     "metadata": {},
     "output_type": "execute_result"
    }
   ],
   "source": [
    "avg_incomes[less_than_80000]"
   ]
  },
  {
   "cell_type": "markdown",
   "metadata": {},
   "source": [
    "### Series元素赋值"
   ]
  },
  {
   "cell_type": "markdown",
   "metadata": {},
   "source": [
    "Series的元素可以被赋值"
   ]
  },
  {
   "cell_type": "code",
   "execution_count": 64,
   "metadata": {},
   "outputs": [
    {
     "data": {
      "text/plain": [
       "Beijing      131700.0\n",
       "Lanzhou      700000.0\n",
       "Shenzhen     100173.0\n",
       "Suzhou       700000.0\n",
       "Taiyuan       71026.0\n",
       "Xi'an         75262.0\n",
       "Guangdong    800000.0\n",
       "Name: avg_incomes, dtype: float64"
      ]
     },
     "execution_count": 64,
     "metadata": {},
     "output_type": "execute_result"
    }
   ],
   "source": [
    "avg_incomes[\"Suzhou\"] = 700000\n",
    "avg_incomes"
   ]
  },
  {
   "cell_type": "code",
   "execution_count": 48,
   "metadata": {},
   "outputs": [
    {
     "data": {
      "text/plain": [
       "Beijing      131700.0\n",
       "Lanzhou      700000.0\n",
       "Shenzhen     100173.0\n",
       "Suzhou        87431.0\n",
       "Taiyuan       71026.0\n",
       "Xi'an         75262.0\n",
       "Guangdong    800000.0\n",
       "Name: avg_incomes, dtype: float64"
      ]
     },
     "execution_count": 48,
     "metadata": {},
     "output_type": "execute_result"
    }
   ],
   "source": [
    "avg_incomes[avg_incomes < 70000] = 50000\n",
    "avg_incomes"
   ]
  },
  {
   "cell_type": "markdown",
   "metadata": {},
   "source": [
    "前面讲过的boolean indexing在赋值的时候也可以用"
   ]
  },
  {
   "cell_type": "markdown",
   "metadata": {},
   "source": [
    "### 数学运算"
   ]
  },
  {
   "cell_type": "code",
   "execution_count": 52,
   "metadata": {},
   "outputs": [
    {
     "data": {
      "text/plain": [
       "Beijing       65850.0\n",
       "Lanzhou      350000.0\n",
       "Shenzhen      50086.5\n",
       "Suzhou        43715.5\n",
       "Taiyuan       35513.0\n",
       "Xi'an         37631.0\n",
       "Guangdong    400000.0\n",
       "Name: avg_incomes, dtype: float64"
      ]
     },
     "execution_count": 52,
     "metadata": {},
     "output_type": "execute_result"
    }
   ],
   "source": [
    "avg_incomes / 2"
   ]
  },
  {
   "cell_type": "code",
   "execution_count": 51,
   "metadata": {},
   "outputs": [
    {
     "data": {
      "text/plain": [
       "Beijing       263400.0\n",
       "Lanzhou      1400000.0\n",
       "Shenzhen      200346.0\n",
       "Suzhou        174862.0\n",
       "Taiyuan       142052.0\n",
       "Xi'an         150524.0\n",
       "Guangdong    1600000.0\n",
       "Name: avg_incomes, dtype: float64"
      ]
     },
     "execution_count": 51,
     "metadata": {},
     "output_type": "execute_result"
    }
   ],
   "source": [
    "avg_incomes * 2"
   ]
  },
  {
   "cell_type": "code",
   "execution_count": 53,
   "metadata": {},
   "outputs": [
    {
     "data": {
      "text/plain": [
       "Beijing      141700.0\n",
       "Lanzhou      710000.0\n",
       "Shenzhen     110173.0\n",
       "Suzhou        97431.0\n",
       "Taiyuan       81026.0\n",
       "Xi'an         85262.0\n",
       "Guangdong    810000.0\n",
       "Name: avg_incomes, dtype: float64"
      ]
     },
     "execution_count": 53,
     "metadata": {},
     "output_type": "execute_result"
    }
   ],
   "source": [
    "avg_incomes + 10000"
   ]
  },
  {
   "cell_type": "code",
   "execution_count": 54,
   "metadata": {},
   "outputs": [
    {
     "data": {
      "text/plain": [
       "Beijing      1.734489e+10\n",
       "Lanzhou      4.900000e+11\n",
       "Shenzhen     1.003463e+10\n",
       "Suzhou       7.644180e+09\n",
       "Taiyuan      5.044693e+09\n",
       "Xi'an        5.664369e+09\n",
       "Guangdong    6.400000e+11\n",
       "Name: avg_incomes, dtype: float64"
      ]
     },
     "execution_count": 54,
     "metadata": {},
     "output_type": "execute_result"
    }
   ],
   "source": [
    "avg_incomes ** 2"
   ]
  },
  {
   "cell_type": "markdown",
   "metadata": {},
   "source": [
    "numpy的运算可以被运用到pandsa上去"
   ]
  },
  {
   "cell_type": "code",
   "execution_count": 58,
   "metadata": {},
   "outputs": [
    {
     "data": {
      "text/plain": [
       "Beijing       79020.0\n",
       "Lanzhou      420000.0\n",
       "Shenzhen      60103.8\n",
       "Suzhou        52458.6\n",
       "Taiyuan       42615.6\n",
       "Xi'an         45157.2\n",
       "Guangdong    480000.0\n",
       "Name: avg_incomes, dtype: float64"
      ]
     },
     "execution_count": 58,
     "metadata": {},
     "output_type": "execute_result"
    }
   ],
   "source": [
    "free_incomes = avg_incomes*0.6\n",
    "free_incomes"
   ]
  },
  {
   "cell_type": "code",
   "execution_count": 59,
   "metadata": {},
   "outputs": [
    {
     "data": {
      "text/plain": [
       "Beijing      131700.0\n",
       "Lanzhou      700000.0\n",
       "Shenzhen     100173.0\n",
       "Suzhou        87431.0\n",
       "Taiyuan       71026.0\n",
       "Xi'an         75262.0\n",
       "Guangdong    800000.0\n",
       "Name: avg_incomes, dtype: float64"
      ]
     },
     "execution_count": 59,
     "metadata": {},
     "output_type": "execute_result"
    }
   ],
   "source": [
    "avg_incomes"
   ]
  },
  {
   "cell_type": "code",
   "execution_count": 71,
   "metadata": {
    "scrolled": true
   },
   "outputs": [
    {
     "data": {
      "text/plain": [
       "Beijing       52680.0\n",
       "Lanzhou      280000.0\n",
       "Shenzhen      40069.2\n",
       "Suzhou       512183.9\n",
       "Taiyuan       28410.4\n",
       "Xi'an         30104.8\n",
       "Guangdong    320000.0\n",
       "Name: avg_incomes, dtype: float64"
      ]
     },
     "execution_count": 71,
     "metadata": {},
     "output_type": "execute_result"
    }
   ],
   "source": [
    "avg_incomes - free_incomes"
   ]
  },
  {
   "cell_type": "markdown",
   "metadata": {},
   "source": [
    "### 数据缺失\n",
    "\n",
    "[reference](https://pandas.pydata.org/pandas-docs/stable/missing_data.html)"
   ]
  },
  {
   "cell_type": "code",
   "execution_count": 66,
   "metadata": {},
   "outputs": [],
   "source": [
    "\"Suzhou\" in free_incomes\n",
    "free_incomes[\"Suzhou\"]=None"
   ]
  },
  {
   "cell_type": "code",
   "execution_count": 67,
   "metadata": {},
   "outputs": [
    {
     "data": {
      "text/plain": [
       "Beijing       True\n",
       "Lanzhou       True\n",
       "Shenzhen      True\n",
       "Suzhou       False\n",
       "Taiyuan       True\n",
       "Xi'an         True\n",
       "Guangdong     True\n",
       "Name: avg_incomes, dtype: bool"
      ]
     },
     "execution_count": 67,
     "metadata": {},
     "output_type": "execute_result"
    }
   ],
   "source": [
    "free_incomes.notnull()"
   ]
  },
  {
   "cell_type": "code",
   "execution_count": 68,
   "metadata": {},
   "outputs": [
    {
     "data": {
      "text/plain": [
       "Beijing       79020.0\n",
       "Lanzhou      420000.0\n",
       "Shenzhen      60103.8\n",
       "Suzhou            NaN\n",
       "Taiyuan       42615.6\n",
       "Xi'an         45157.2\n",
       "Guangdong    480000.0\n",
       "Name: avg_incomes, dtype: float64"
      ]
     },
     "execution_count": 68,
     "metadata": {},
     "output_type": "execute_result"
    }
   ],
   "source": [
    "free_incomes"
   ]
  },
  {
   "cell_type": "code",
   "execution_count": 69,
   "metadata": {},
   "outputs": [
    {
     "data": {
      "text/plain": [
       "Beijing      False\n",
       "Lanzhou      False\n",
       "Shenzhen     False\n",
       "Suzhou        True\n",
       "Taiyuan      False\n",
       "Xi'an        False\n",
       "Guangdong    False\n",
       "Name: avg_incomes, dtype: bool"
      ]
     },
     "execution_count": 69,
     "metadata": {},
     "output_type": "execute_result"
    }
   ],
   "source": [
    "free_incomes.isnull()"
   ]
  },
  {
   "cell_type": "code",
   "execution_count": 70,
   "metadata": {},
   "outputs": [
    {
     "data": {
      "text/plain": [
       "Beijing       79020.0\n",
       "Lanzhou      420000.0\n",
       "Shenzhen      60103.8\n",
       "Suzhou       187816.1\n",
       "Taiyuan       42615.6\n",
       "Xi'an         45157.2\n",
       "Guangdong    480000.0\n",
       "Name: avg_incomes, dtype: float64"
      ]
     },
     "execution_count": 70,
     "metadata": {},
     "output_type": "execute_result"
    }
   ],
   "source": [
    "# 确实数据会影响后续的计算，有时可以给缺失值统一赋个值，例如均值\n",
    "free_incomes[free_incomes.isnull()] = free_incomes.mean()\n",
    "free_incomes"
   ]
  },
  {
   "cell_type": "markdown",
   "metadata": {},
   "source": [
    "## Pandas重要 数据结构[Dataframe](http://pandas.pydata.org/pandas-docs/stable/generated/pandas.DataFrame.html)\n"
   ]
  },
  {
   "cell_type": "markdown",
   "metadata": {},
   "source": [
    "一个Dataframe就是一张表格，Series表示的是一维数组，Dataframe则是一个二维数组，可以类比成一张excel的spreadsheet。也可以把Dataframe当做一组Series的集合。"
   ]
  },
  {
   "cell_type": "markdown",
   "metadata": {},
   "source": [
    "### 创建一个DataFrame"
   ]
  },
  {
   "cell_type": "markdown",
   "metadata": {},
   "source": [
    "#### 从Series构建"
   ]
  },
  {
   "cell_type": "code",
   "execution_count": 74,
   "metadata": {},
   "outputs": [
    {
     "data": {
      "text/html": [
       "<div>\n",
       "<style scoped>\n",
       "    .dataframe tbody tr th:only-of-type {\n",
       "        vertical-align: middle;\n",
       "    }\n",
       "\n",
       "    .dataframe tbody tr th {\n",
       "        vertical-align: top;\n",
       "    }\n",
       "\n",
       "    .dataframe thead th {\n",
       "        text-align: right;\n",
       "    }\n",
       "</style>\n",
       "<table border=\"1\" class=\"dataframe\">\n",
       "  <thead>\n",
       "    <tr style=\"text-align: right;\">\n",
       "      <th></th>\n",
       "      <th>avg_incomes</th>\n",
       "    </tr>\n",
       "  </thead>\n",
       "  <tbody>\n",
       "    <tr>\n",
       "      <th>Beijing</th>\n",
       "      <td>131700.0</td>\n",
       "    </tr>\n",
       "    <tr>\n",
       "      <th>Lanzhou</th>\n",
       "      <td>700000.0</td>\n",
       "    </tr>\n",
       "    <tr>\n",
       "      <th>Shenzhen</th>\n",
       "      <td>100173.0</td>\n",
       "    </tr>\n",
       "    <tr>\n",
       "      <th>Suzhou</th>\n",
       "      <td>700000.0</td>\n",
       "    </tr>\n",
       "    <tr>\n",
       "      <th>Taiyuan</th>\n",
       "      <td>71026.0</td>\n",
       "    </tr>\n",
       "    <tr>\n",
       "      <th>Xi'an</th>\n",
       "      <td>75262.0</td>\n",
       "    </tr>\n",
       "    <tr>\n",
       "      <th>Guangdong</th>\n",
       "      <td>800000.0</td>\n",
       "    </tr>\n",
       "  </tbody>\n",
       "</table>\n",
       "</div>"
      ],
      "text/plain": [
       "           avg_incomes\n",
       "Beijing       131700.0\n",
       "Lanzhou       700000.0\n",
       "Shenzhen      100173.0\n",
       "Suzhou        700000.0\n",
       "Taiyuan        71026.0\n",
       "Xi'an          75262.0\n",
       "Guangdong     800000.0"
      ]
     },
     "execution_count": 74,
     "metadata": {},
     "output_type": "execute_result"
    }
   ],
   "source": [
    "pd.DataFrame(avg_incomes)"
   ]
  },
  {
   "cell_type": "markdown",
   "metadata": {},
   "source": [
    "#### dataframe可以由一个dictionary构造得到。"
   ]
  },
  {
   "cell_type": "code",
   "execution_count": 75,
   "metadata": {},
   "outputs": [
    {
     "data": {
      "text/html": [
       "<div>\n",
       "<style scoped>\n",
       "    .dataframe tbody tr th:only-of-type {\n",
       "        vertical-align: middle;\n",
       "    }\n",
       "\n",
       "    .dataframe tbody tr th {\n",
       "        vertical-align: top;\n",
       "    }\n",
       "\n",
       "    .dataframe thead th {\n",
       "        text-align: right;\n",
       "    }\n",
       "</style>\n",
       "<table border=\"1\" class=\"dataframe\">\n",
       "  <thead>\n",
       "    <tr style=\"text-align: right;\">\n",
       "      <th></th>\n",
       "      <th>city</th>\n",
       "      <th>population</th>\n",
       "      <th>year</th>\n",
       "    </tr>\n",
       "  </thead>\n",
       "  <tbody>\n",
       "    <tr>\n",
       "      <th>0</th>\n",
       "      <td>Beijing</td>\n",
       "      <td>2100</td>\n",
       "      <td>2016</td>\n",
       "    </tr>\n",
       "    <tr>\n",
       "      <th>1</th>\n",
       "      <td>Shanghai</td>\n",
       "      <td>2300</td>\n",
       "      <td>2017</td>\n",
       "    </tr>\n",
       "    <tr>\n",
       "      <th>2</th>\n",
       "      <td>Guangzhou</td>\n",
       "      <td>1000</td>\n",
       "      <td>2016</td>\n",
       "    </tr>\n",
       "    <tr>\n",
       "      <th>3</th>\n",
       "      <td>Shenzhen</td>\n",
       "      <td>700</td>\n",
       "      <td>2017</td>\n",
       "    </tr>\n",
       "    <tr>\n",
       "      <th>4</th>\n",
       "      <td>Hangzhou</td>\n",
       "      <td>500</td>\n",
       "      <td>2016</td>\n",
       "    </tr>\n",
       "    <tr>\n",
       "      <th>5</th>\n",
       "      <td>Chongqing</td>\n",
       "      <td>600</td>\n",
       "      <td>2016</td>\n",
       "    </tr>\n",
       "  </tbody>\n",
       "</table>\n",
       "</div>"
      ],
      "text/plain": [
       "        city  population  year\n",
       "0    Beijing        2100  2016\n",
       "1   Shanghai        2300  2017\n",
       "2  Guangzhou        1000  2016\n",
       "3   Shenzhen         700  2017\n",
       "4   Hangzhou         500  2016\n",
       "5  Chongqing         600  2016"
      ]
     },
     "execution_count": 75,
     "metadata": {},
     "output_type": "execute_result"
    }
   ],
   "source": [
    "data = {'city': ['Beijing', 'Shanghai', 'Guangzhou', 'Shenzhen', 'Hangzhou', 'Chongqing'],\n",
    "       'year': [2016,2017,2016,2017,2016,2016],\n",
    "       'population': [2100, 2300, 1000, 700, 500,600]}\n",
    "pd.DataFrame(data)"
   ]
  },
  {
   "cell_type": "markdown",
   "metadata": {},
   "source": [
    "columns的名字和顺序可以指定"
   ]
  },
  {
   "cell_type": "code",
   "execution_count": 76,
   "metadata": {},
   "outputs": [
    {
     "data": {
      "text/html": [
       "<div>\n",
       "<style scoped>\n",
       "    .dataframe tbody tr th:only-of-type {\n",
       "        vertical-align: middle;\n",
       "    }\n",
       "\n",
       "    .dataframe tbody tr th {\n",
       "        vertical-align: top;\n",
       "    }\n",
       "\n",
       "    .dataframe thead th {\n",
       "        text-align: right;\n",
       "    }\n",
       "</style>\n",
       "<table border=\"1\" class=\"dataframe\">\n",
       "  <thead>\n",
       "    <tr style=\"text-align: right;\">\n",
       "      <th></th>\n",
       "      <th>year</th>\n",
       "      <th>city</th>\n",
       "      <th>population</th>\n",
       "    </tr>\n",
       "  </thead>\n",
       "  <tbody>\n",
       "    <tr>\n",
       "      <th>0</th>\n",
       "      <td>2016</td>\n",
       "      <td>Beijing</td>\n",
       "      <td>2100</td>\n",
       "    </tr>\n",
       "    <tr>\n",
       "      <th>1</th>\n",
       "      <td>2017</td>\n",
       "      <td>Shanghai</td>\n",
       "      <td>2300</td>\n",
       "    </tr>\n",
       "    <tr>\n",
       "      <th>2</th>\n",
       "      <td>2016</td>\n",
       "      <td>Guangzhou</td>\n",
       "      <td>1000</td>\n",
       "    </tr>\n",
       "    <tr>\n",
       "      <th>3</th>\n",
       "      <td>2017</td>\n",
       "      <td>Shenzhen</td>\n",
       "      <td>700</td>\n",
       "    </tr>\n",
       "    <tr>\n",
       "      <th>4</th>\n",
       "      <td>2016</td>\n",
       "      <td>Hangzhou</td>\n",
       "      <td>500</td>\n",
       "    </tr>\n",
       "    <tr>\n",
       "      <th>5</th>\n",
       "      <td>2016</td>\n",
       "      <td>Chongqing</td>\n",
       "      <td>600</td>\n",
       "    </tr>\n",
       "  </tbody>\n",
       "</table>\n",
       "</div>"
      ],
      "text/plain": [
       "   year       city  population\n",
       "0  2016    Beijing        2100\n",
       "1  2017   Shanghai        2300\n",
       "2  2016  Guangzhou        1000\n",
       "3  2017   Shenzhen         700\n",
       "4  2016   Hangzhou         500\n",
       "5  2016  Chongqing         600"
      ]
     },
     "execution_count": 76,
     "metadata": {},
     "output_type": "execute_result"
    }
   ],
   "source": [
    "pd.DataFrame(data, columns=[\"year\", \"city\", \"population\"])"
   ]
  },
  {
   "cell_type": "code",
   "execution_count": 77,
   "metadata": {},
   "outputs": [
    {
     "data": {
      "text/html": [
       "<div>\n",
       "<style scoped>\n",
       "    .dataframe tbody tr th:only-of-type {\n",
       "        vertical-align: middle;\n",
       "    }\n",
       "\n",
       "    .dataframe tbody tr th {\n",
       "        vertical-align: top;\n",
       "    }\n",
       "\n",
       "    .dataframe thead th {\n",
       "        text-align: right;\n",
       "    }\n",
       "</style>\n",
       "<table border=\"1\" class=\"dataframe\">\n",
       "  <thead>\n",
       "    <tr style=\"text-align: right;\">\n",
       "      <th></th>\n",
       "      <th>year</th>\n",
       "      <th>city</th>\n",
       "      <th>population</th>\n",
       "      <th>debt</th>\n",
       "    </tr>\n",
       "  </thead>\n",
       "  <tbody>\n",
       "    <tr>\n",
       "      <th>one</th>\n",
       "      <td>2016</td>\n",
       "      <td>Beijing</td>\n",
       "      <td>2100</td>\n",
       "      <td>NaN</td>\n",
       "    </tr>\n",
       "    <tr>\n",
       "      <th>two</th>\n",
       "      <td>2017</td>\n",
       "      <td>Shanghai</td>\n",
       "      <td>2300</td>\n",
       "      <td>NaN</td>\n",
       "    </tr>\n",
       "    <tr>\n",
       "      <th>three</th>\n",
       "      <td>2016</td>\n",
       "      <td>Guangzhou</td>\n",
       "      <td>1000</td>\n",
       "      <td>NaN</td>\n",
       "    </tr>\n",
       "    <tr>\n",
       "      <th>four</th>\n",
       "      <td>2017</td>\n",
       "      <td>Shenzhen</td>\n",
       "      <td>700</td>\n",
       "      <td>NaN</td>\n",
       "    </tr>\n",
       "    <tr>\n",
       "      <th>five</th>\n",
       "      <td>2016</td>\n",
       "      <td>Hangzhou</td>\n",
       "      <td>500</td>\n",
       "      <td>NaN</td>\n",
       "    </tr>\n",
       "    <tr>\n",
       "      <th>six</th>\n",
       "      <td>2016</td>\n",
       "      <td>Chongqing</td>\n",
       "      <td>600</td>\n",
       "      <td>NaN</td>\n",
       "    </tr>\n",
       "  </tbody>\n",
       "</table>\n",
       "</div>"
      ],
      "text/plain": [
       "       year       city  population debt\n",
       "one    2016    Beijing        2100  NaN\n",
       "two    2017   Shanghai        2300  NaN\n",
       "three  2016  Guangzhou        1000  NaN\n",
       "four   2017   Shenzhen         700  NaN\n",
       "five   2016   Hangzhou         500  NaN\n",
       "six    2016  Chongqing         600  NaN"
      ]
     },
     "execution_count": 77,
     "metadata": {},
     "output_type": "execute_result"
    }
   ],
   "source": [
    "frame = pd.DataFrame(data, columns=[\"year\", \"city\", \"population\", \"debt\"],\n",
    "            index=[\"one\", \"two\", \"three\", \"four\", \"five\", \"six\"])\n",
    "frame"
   ]
  },
  {
   "cell_type": "markdown",
   "metadata": {},
   "source": [
    "也可以从几个Series构建一个DataFrame"
   ]
  },
  {
   "cell_type": "code",
   "execution_count": 96,
   "metadata": {},
   "outputs": [
    {
     "data": {
      "text/html": [
       "<div>\n",
       "<style scoped>\n",
       "    .dataframe tbody tr th:only-of-type {\n",
       "        vertical-align: middle;\n",
       "    }\n",
       "\n",
       "    .dataframe tbody tr th {\n",
       "        vertical-align: top;\n",
       "    }\n",
       "\n",
       "    .dataframe thead th {\n",
       "        text-align: right;\n",
       "    }\n",
       "</style>\n",
       "<table border=\"1\" class=\"dataframe\">\n",
       "  <thead>\n",
       "    <tr style=\"text-align: right;\">\n",
       "      <th></th>\n",
       "      <th>avg_incomes</th>\n",
       "      <th>free_incomes</th>\n",
       "    </tr>\n",
       "  </thead>\n",
       "  <tbody>\n",
       "    <tr>\n",
       "      <th>Beijing</th>\n",
       "      <td>131700.0</td>\n",
       "      <td>79020.0</td>\n",
       "    </tr>\n",
       "    <tr>\n",
       "      <th>Lanzhou</th>\n",
       "      <td>700000.0</td>\n",
       "      <td>420000.0</td>\n",
       "    </tr>\n",
       "    <tr>\n",
       "      <th>Shenzhen</th>\n",
       "      <td>100173.0</td>\n",
       "      <td>60103.8</td>\n",
       "    </tr>\n",
       "    <tr>\n",
       "      <th>Suzhou</th>\n",
       "      <td>700000.0</td>\n",
       "      <td>187816.1</td>\n",
       "    </tr>\n",
       "    <tr>\n",
       "      <th>Taiyuan</th>\n",
       "      <td>71026.0</td>\n",
       "      <td>42615.6</td>\n",
       "    </tr>\n",
       "    <tr>\n",
       "      <th>Xi'an</th>\n",
       "      <td>75262.0</td>\n",
       "      <td>45157.2</td>\n",
       "    </tr>\n",
       "    <tr>\n",
       "      <th>Guangdong</th>\n",
       "      <td>800000.0</td>\n",
       "      <td>480000.0</td>\n",
       "    </tr>\n",
       "  </tbody>\n",
       "</table>\n",
       "</div>"
      ],
      "text/plain": [
       "           avg_incomes  free_incomes\n",
       "Beijing       131700.0       79020.0\n",
       "Lanzhou       700000.0      420000.0\n",
       "Shenzhen      100173.0       60103.8\n",
       "Suzhou        700000.0      187816.1\n",
       "Taiyuan        71026.0       42615.6\n",
       "Xi'an          75262.0       45157.2\n",
       "Guangdong     800000.0      480000.0"
      ]
     },
     "execution_count": 96,
     "metadata": {},
     "output_type": "execute_result"
    }
   ],
   "source": [
    "df = pd.DataFrame({\"avg_incomes\": avg_incomes, \"free_incomes\": free_incomes})\n",
    "df"
   ]
  },
  {
   "cell_type": "code",
   "execution_count": 92,
   "metadata": {},
   "outputs": [
    {
     "data": {
      "text/plain": [
       "Beijing      131700.0\n",
       "Lanzhou      700000.0\n",
       "Shenzhen     100173.0\n",
       "Suzhou       700000.0\n",
       "Taiyuan       71026.0\n",
       "Xi'an         75262.0\n",
       "Guangdong    800000.0\n",
       "Name: avg_incomes, dtype: float64"
      ]
     },
     "execution_count": 92,
     "metadata": {},
     "output_type": "execute_result"
    }
   ],
   "source": [
    "avg_incomes[:]"
   ]
  },
  {
   "cell_type": "code",
   "execution_count": 80,
   "metadata": {},
   "outputs": [
    {
     "data": {
      "text/plain": [
       "Beijing      132700.0\n",
       "Lanzhou      701000.0\n",
       "Shenzhen     101173.0\n",
       "Suzhou       701000.0\n",
       "Taiyuan       72026.0\n",
       "Xi'an         76262.0\n",
       "Guangdong    801000.0\n",
       "Name: avg_incomes, dtype: float64"
      ]
     },
     "execution_count": 80,
     "metadata": {},
     "output_type": "execute_result"
    }
   ],
   "source": [
    "avg_income_new = avg_incomes[:]+1000\n",
    "avg_income_new"
   ]
  },
  {
   "cell_type": "code",
   "execution_count": 90,
   "metadata": {},
   "outputs": [
    {
     "data": {
      "text/html": [
       "<div>\n",
       "<style scoped>\n",
       "    .dataframe tbody tr th:only-of-type {\n",
       "        vertical-align: middle;\n",
       "    }\n",
       "\n",
       "    .dataframe tbody tr th {\n",
       "        vertical-align: top;\n",
       "    }\n",
       "\n",
       "    .dataframe thead th {\n",
       "        text-align: right;\n",
       "    }\n",
       "</style>\n",
       "<table border=\"1\" class=\"dataframe\">\n",
       "  <thead>\n",
       "    <tr style=\"text-align: right;\">\n",
       "      <th></th>\n",
       "      <th>Beijing</th>\n",
       "      <th>Lanzhou</th>\n",
       "      <th>Shenzhen</th>\n",
       "      <th>Suzhou</th>\n",
       "      <th>Taiyuan</th>\n",
       "      <th>Xi'an</th>\n",
       "      <th>Guangdong</th>\n",
       "    </tr>\n",
       "  </thead>\n",
       "  <tbody>\n",
       "    <tr>\n",
       "      <th>avg_incomes</th>\n",
       "      <td>131700.0</td>\n",
       "      <td>700000.0</td>\n",
       "      <td>100173.0</td>\n",
       "      <td>700000.0</td>\n",
       "      <td>71026.0</td>\n",
       "      <td>75262.0</td>\n",
       "      <td>800000.0</td>\n",
       "    </tr>\n",
       "    <tr>\n",
       "      <th>avg_incomes</th>\n",
       "      <td>132700.0</td>\n",
       "      <td>701000.0</td>\n",
       "      <td>101173.0</td>\n",
       "      <td>701000.0</td>\n",
       "      <td>72026.0</td>\n",
       "      <td>76262.0</td>\n",
       "      <td>801000.0</td>\n",
       "    </tr>\n",
       "  </tbody>\n",
       "</table>\n",
       "</div>"
      ],
      "text/plain": [
       "              Beijing   Lanzhou  Shenzhen    Suzhou  Taiyuan    Xi'an  \\\n",
       "avg_incomes  131700.0  700000.0  100173.0  700000.0  71026.0  75262.0   \n",
       "avg_incomes  132700.0  701000.0  101173.0  701000.0  72026.0  76262.0   \n",
       "\n",
       "             Guangdong  \n",
       "avg_incomes   800000.0  \n",
       "avg_incomes   801000.0  "
      ]
     },
     "execution_count": 90,
     "metadata": {},
     "output_type": "execute_result"
    }
   ],
   "source": [
    "\n",
    "df1 = pd.DataFrame([avg_incomes,avg_income_new])\n",
    "df1.head()"
   ]
  },
  {
   "cell_type": "code",
   "execution_count": 94,
   "metadata": {},
   "outputs": [
    {
     "data": {
      "text/html": [
       "<div>\n",
       "<style scoped>\n",
       "    .dataframe tbody tr th:only-of-type {\n",
       "        vertical-align: middle;\n",
       "    }\n",
       "\n",
       "    .dataframe tbody tr th {\n",
       "        vertical-align: top;\n",
       "    }\n",
       "\n",
       "    .dataframe thead th {\n",
       "        text-align: right;\n",
       "    }\n",
       "</style>\n",
       "<table border=\"1\" class=\"dataframe\">\n",
       "  <thead>\n",
       "    <tr style=\"text-align: right;\">\n",
       "      <th></th>\n",
       "      <th>avg_income_new</th>\n",
       "      <th>avg_incomes</th>\n",
       "    </tr>\n",
       "  </thead>\n",
       "  <tbody>\n",
       "    <tr>\n",
       "      <th>Beijing</th>\n",
       "      <td>132700.0</td>\n",
       "      <td>131700.0</td>\n",
       "    </tr>\n",
       "    <tr>\n",
       "      <th>Lanzhou</th>\n",
       "      <td>701000.0</td>\n",
       "      <td>700000.0</td>\n",
       "    </tr>\n",
       "    <tr>\n",
       "      <th>Shenzhen</th>\n",
       "      <td>101173.0</td>\n",
       "      <td>100173.0</td>\n",
       "    </tr>\n",
       "    <tr>\n",
       "      <th>Suzhou</th>\n",
       "      <td>701000.0</td>\n",
       "      <td>700000.0</td>\n",
       "    </tr>\n",
       "    <tr>\n",
       "      <th>Taiyuan</th>\n",
       "      <td>72026.0</td>\n",
       "      <td>71026.0</td>\n",
       "    </tr>\n",
       "  </tbody>\n",
       "</table>\n",
       "</div>"
      ],
      "text/plain": [
       "          avg_income_new  avg_incomes\n",
       "Beijing         132700.0     131700.0\n",
       "Lanzhou         701000.0     700000.0\n",
       "Shenzhen        101173.0     100173.0\n",
       "Suzhou          701000.0     700000.0\n",
       "Taiyuan          72026.0      71026.0"
      ]
     },
     "execution_count": 94,
     "metadata": {},
     "output_type": "execute_result"
    }
   ],
   "source": [
    "df2 = pd.DataFrame({'avg_incomes':avg_incomes,'avg_income_new':avg_income_new})\n",
    "df2.head()"
   ]
  },
  {
   "cell_type": "markdown",
   "metadata": {},
   "source": [
    "也可以用一个list of dicts来构建DataFrame"
   ]
  },
  {
   "cell_type": "code",
   "execution_count": 83,
   "metadata": {
    "scrolled": true
   },
   "outputs": [
    {
     "data": {
      "text/html": [
       "<div>\n",
       "<style scoped>\n",
       "    .dataframe tbody tr th:only-of-type {\n",
       "        vertical-align: middle;\n",
       "    }\n",
       "\n",
       "    .dataframe tbody tr th {\n",
       "        vertical-align: top;\n",
       "    }\n",
       "\n",
       "    .dataframe thead th {\n",
       "        text-align: right;\n",
       "    }\n",
       "</style>\n",
       "<table border=\"1\" class=\"dataframe\">\n",
       "  <thead>\n",
       "    <tr style=\"text-align: right;\">\n",
       "      <th></th>\n",
       "      <th>Jill</th>\n",
       "      <th>Tommy</th>\n",
       "      <th>sarah</th>\n",
       "    </tr>\n",
       "  </thead>\n",
       "  <tbody>\n",
       "    <tr>\n",
       "      <th>0</th>\n",
       "      <td>500000</td>\n",
       "      <td>999999</td>\n",
       "      <td>100000.0</td>\n",
       "    </tr>\n",
       "    <tr>\n",
       "      <th>1</th>\n",
       "      <td>600000</td>\n",
       "      <td>1999999</td>\n",
       "      <td>200000.0</td>\n",
       "    </tr>\n",
       "    <tr>\n",
       "      <th>2</th>\n",
       "      <td>80000</td>\n",
       "      <td>200000</td>\n",
       "      <td>NaN</td>\n",
       "    </tr>\n",
       "  </tbody>\n",
       "</table>\n",
       "</div>"
      ],
      "text/plain": [
       "     Jill    Tommy     sarah\n",
       "0  500000   999999  100000.0\n",
       "1  600000  1999999  200000.0\n",
       "2   80000   200000       NaN"
      ]
     },
     "execution_count": 83,
     "metadata": {},
     "output_type": "execute_result"
    }
   ],
   "source": [
    "import pandas as pd\n",
    "data = [{\"Tommy\": 999999, \"Jill\": 500000, \"sarah\": 100000}, {\"Tommy\": 1999999, \"Jill\": 600000, \"sarah\": 200000}, {\"Tommy\": 200000, \"Jill\": 80000}]\n",
    "pd.DataFrame(data)"
   ]
  },
  {
   "cell_type": "code",
   "execution_count": 85,
   "metadata": {},
   "outputs": [
    {
     "data": {
      "text/plain": [
       "[{'Jill': 500000, 'Tommy': 999999, 'sarah': 100000},\n",
       " {'Jill': 600000, 'Tommy': 1999999, 'sarah': 200000}]"
      ]
     },
     "execution_count": 85,
     "metadata": {},
     "output_type": "execute_result"
    }
   ],
   "source": [
    "data = [{\"Tommy\": 999999, \"Jill\": 500000, \"sarah\": 100000}, {\"Tommy\": 1999999, \"Jill\": 600000, \"sarah\": 200000}]\n",
    "data\n"
   ]
  },
  {
   "cell_type": "code",
   "execution_count": 97,
   "metadata": {},
   "outputs": [
    {
     "data": {
      "text/html": [
       "<div>\n",
       "<style scoped>\n",
       "    .dataframe tbody tr th:only-of-type {\n",
       "        vertical-align: middle;\n",
       "    }\n",
       "\n",
       "    .dataframe tbody tr th {\n",
       "        vertical-align: top;\n",
       "    }\n",
       "\n",
       "    .dataframe thead th {\n",
       "        text-align: right;\n",
       "    }\n",
       "</style>\n",
       "<table border=\"1\" class=\"dataframe\">\n",
       "  <thead>\n",
       "    <tr style=\"text-align: right;\">\n",
       "      <th></th>\n",
       "      <th>avg_incomes</th>\n",
       "      <th>free_incomes</th>\n",
       "    </tr>\n",
       "  </thead>\n",
       "  <tbody>\n",
       "    <tr>\n",
       "      <th>Beijing</th>\n",
       "      <td>131700.0</td>\n",
       "      <td>79020.0</td>\n",
       "    </tr>\n",
       "    <tr>\n",
       "      <th>Lanzhou</th>\n",
       "      <td>700000.0</td>\n",
       "      <td>420000.0</td>\n",
       "    </tr>\n",
       "    <tr>\n",
       "      <th>Shenzhen</th>\n",
       "      <td>100173.0</td>\n",
       "      <td>60103.8</td>\n",
       "    </tr>\n",
       "    <tr>\n",
       "      <th>Suzhou</th>\n",
       "      <td>700000.0</td>\n",
       "      <td>187816.1</td>\n",
       "    </tr>\n",
       "    <tr>\n",
       "      <th>Taiyuan</th>\n",
       "      <td>71026.0</td>\n",
       "      <td>42615.6</td>\n",
       "    </tr>\n",
       "    <tr>\n",
       "      <th>Xi'an</th>\n",
       "      <td>75262.0</td>\n",
       "      <td>45157.2</td>\n",
       "    </tr>\n",
       "    <tr>\n",
       "      <th>Guangdong</th>\n",
       "      <td>800000.0</td>\n",
       "      <td>480000.0</td>\n",
       "    </tr>\n",
       "  </tbody>\n",
       "</table>\n",
       "</div>"
      ],
      "text/plain": [
       "           avg_incomes  free_incomes\n",
       "Beijing       131700.0       79020.0\n",
       "Lanzhou       700000.0      420000.0\n",
       "Shenzhen      100173.0       60103.8\n",
       "Suzhou        700000.0      187816.1\n",
       "Taiyuan        71026.0       42615.6\n",
       "Xi'an          75262.0       45157.2\n",
       "Guangdong     800000.0      480000.0"
      ]
     },
     "execution_count": 97,
     "metadata": {},
     "output_type": "execute_result"
    }
   ],
   "source": [
    "df['avg_incomes']\n",
    "df"
   ]
  },
  {
   "cell_type": "code",
   "execution_count": 98,
   "metadata": {},
   "outputs": [
    {
     "data": {
      "text/html": [
       "<div>\n",
       "<style scoped>\n",
       "    .dataframe tbody tr th:only-of-type {\n",
       "        vertical-align: middle;\n",
       "    }\n",
       "\n",
       "    .dataframe tbody tr th {\n",
       "        vertical-align: top;\n",
       "    }\n",
       "\n",
       "    .dataframe thead th {\n",
       "        text-align: right;\n",
       "    }\n",
       "</style>\n",
       "<table border=\"1\" class=\"dataframe\">\n",
       "  <thead>\n",
       "    <tr style=\"text-align: right;\">\n",
       "      <th></th>\n",
       "      <th>avg_incomes</th>\n",
       "      <th>free_incomes</th>\n",
       "    </tr>\n",
       "  </thead>\n",
       "  <tbody>\n",
       "    <tr>\n",
       "      <th>Beijing</th>\n",
       "      <td>131700.0</td>\n",
       "      <td>79020.0</td>\n",
       "    </tr>\n",
       "    <tr>\n",
       "      <th>Lanzhou</th>\n",
       "      <td>700000.0</td>\n",
       "      <td>420000.0</td>\n",
       "    </tr>\n",
       "    <tr>\n",
       "      <th>Shenzhen</th>\n",
       "      <td>100173.0</td>\n",
       "      <td>60103.8</td>\n",
       "    </tr>\n",
       "    <tr>\n",
       "      <th>Suzhou</th>\n",
       "      <td>700000.0</td>\n",
       "      <td>187816.1</td>\n",
       "    </tr>\n",
       "    <tr>\n",
       "      <th>Taiyuan</th>\n",
       "      <td>71026.0</td>\n",
       "      <td>42615.6</td>\n",
       "    </tr>\n",
       "    <tr>\n",
       "      <th>Xi'an</th>\n",
       "      <td>75262.0</td>\n",
       "      <td>45157.2</td>\n",
       "    </tr>\n",
       "    <tr>\n",
       "      <th>Guangdong</th>\n",
       "      <td>800000.0</td>\n",
       "      <td>480000.0</td>\n",
       "    </tr>\n",
       "  </tbody>\n",
       "</table>\n",
       "</div>"
      ],
      "text/plain": [
       "           avg_incomes  free_incomes\n",
       "Beijing       131700.0       79020.0\n",
       "Lanzhou       700000.0      420000.0\n",
       "Shenzhen      100173.0       60103.8\n",
       "Suzhou        700000.0      187816.1\n",
       "Taiyuan        71026.0       42615.6\n",
       "Xi'an          75262.0       45157.2\n",
       "Guangdong     800000.0      480000.0"
      ]
     },
     "execution_count": 98,
     "metadata": {},
     "output_type": "execute_result"
    }
   ],
   "source": [
    "df[\"avg_incomes\"] *100\n",
    "df"
   ]
  },
  {
   "cell_type": "code",
   "execution_count": 99,
   "metadata": {
    "scrolled": true
   },
   "outputs": [
    {
     "data": {
      "text/html": [
       "<div>\n",
       "<style scoped>\n",
       "    .dataframe tbody tr th:only-of-type {\n",
       "        vertical-align: middle;\n",
       "    }\n",
       "\n",
       "    .dataframe tbody tr th {\n",
       "        vertical-align: top;\n",
       "    }\n",
       "\n",
       "    .dataframe thead th {\n",
       "        text-align: right;\n",
       "    }\n",
       "</style>\n",
       "<table border=\"1\" class=\"dataframe\">\n",
       "  <thead>\n",
       "    <tr style=\"text-align: right;\">\n",
       "      <th></th>\n",
       "      <th>avg_incomes</th>\n",
       "      <th>free_incomes</th>\n",
       "      <th>cost_incomes</th>\n",
       "    </tr>\n",
       "  </thead>\n",
       "  <tbody>\n",
       "    <tr>\n",
       "      <th>Beijing</th>\n",
       "      <td>131700.0</td>\n",
       "      <td>79020.0</td>\n",
       "      <td>52680.0</td>\n",
       "    </tr>\n",
       "    <tr>\n",
       "      <th>Lanzhou</th>\n",
       "      <td>700000.0</td>\n",
       "      <td>420000.0</td>\n",
       "      <td>280000.0</td>\n",
       "    </tr>\n",
       "    <tr>\n",
       "      <th>Shenzhen</th>\n",
       "      <td>100173.0</td>\n",
       "      <td>60103.8</td>\n",
       "      <td>40069.2</td>\n",
       "    </tr>\n",
       "    <tr>\n",
       "      <th>Suzhou</th>\n",
       "      <td>700000.0</td>\n",
       "      <td>187816.1</td>\n",
       "      <td>512183.9</td>\n",
       "    </tr>\n",
       "    <tr>\n",
       "      <th>Taiyuan</th>\n",
       "      <td>71026.0</td>\n",
       "      <td>42615.6</td>\n",
       "      <td>28410.4</td>\n",
       "    </tr>\n",
       "    <tr>\n",
       "      <th>Xi'an</th>\n",
       "      <td>75262.0</td>\n",
       "      <td>45157.2</td>\n",
       "      <td>30104.8</td>\n",
       "    </tr>\n",
       "    <tr>\n",
       "      <th>Guangdong</th>\n",
       "      <td>800000.0</td>\n",
       "      <td>480000.0</td>\n",
       "      <td>320000.0</td>\n",
       "    </tr>\n",
       "  </tbody>\n",
       "</table>\n",
       "</div>"
      ],
      "text/plain": [
       "           avg_incomes  free_incomes  cost_incomes\n",
       "Beijing       131700.0       79020.0       52680.0\n",
       "Lanzhou       700000.0      420000.0      280000.0\n",
       "Shenzhen      100173.0       60103.8       40069.2\n",
       "Suzhou        700000.0      187816.1      512183.9\n",
       "Taiyuan        71026.0       42615.6       28410.4\n",
       "Xi'an          75262.0       45157.2       30104.8\n",
       "Guangdong     800000.0      480000.0      320000.0"
      ]
     },
     "execution_count": 99,
     "metadata": {},
     "output_type": "execute_result"
    }
   ],
   "source": [
    "df[\"cost_incomes\"] = df[\"avg_incomes\"] -df['free_incomes']\n",
    "df"
   ]
  },
  {
   "cell_type": "code",
   "execution_count": 100,
   "metadata": {},
   "outputs": [
    {
     "data": {
      "text/plain": [
       "pandas.core.series.Series"
      ]
     },
     "execution_count": 100,
     "metadata": {},
     "output_type": "execute_result"
    }
   ],
   "source": [
    "type(frame[\"city\"])"
   ]
  },
  {
   "cell_type": "code",
   "execution_count": 101,
   "metadata": {},
   "outputs": [
    {
     "data": {
      "text/plain": [
       "one      2016\n",
       "two      2017\n",
       "three    2016\n",
       "four     2017\n",
       "five     2016\n",
       "six      2016\n",
       "Name: year, dtype: int64"
      ]
     },
     "execution_count": 101,
     "metadata": {},
     "output_type": "execute_result"
    }
   ],
   "source": [
    "frame.year"
   ]
  },
  {
   "cell_type": "markdown",
   "metadata": {},
   "source": [
    "loc方法可以拿到行"
   ]
  },
  {
   "cell_type": "code",
   "execution_count": 102,
   "metadata": {},
   "outputs": [
    {
     "data": {
      "text/plain": [
       "pandas.core.series.Series"
      ]
     },
     "execution_count": 102,
     "metadata": {},
     "output_type": "execute_result"
    }
   ],
   "source": [
    "type(frame.loc[\"three\"])"
   ]
  },
  {
   "cell_type": "code",
   "execution_count": 103,
   "metadata": {},
   "outputs": [
    {
     "data": {
      "text/plain": [
       "year             2016\n",
       "city          Beijing\n",
       "population       2100\n",
       "debt              NaN\n",
       "Name: one, dtype: object"
      ]
     },
     "execution_count": 103,
     "metadata": {},
     "output_type": "execute_result"
    }
   ],
   "source": [
    "frame.loc[\"one\"]"
   ]
  },
  {
   "cell_type": "markdown",
   "metadata": {},
   "source": [
    "###### 下面这种方法默认用来选列而不是选行"
   ]
  },
  {
   "cell_type": "markdown",
   "metadata": {},
   "source": [
    "iloc方法可以拿到行和列，把pandas dataframe当做numpy的ndarray来操作"
   ]
  },
  {
   "cell_type": "code",
   "execution_count": 104,
   "metadata": {},
   "outputs": [
    {
     "data": {
      "text/html": [
       "<div>\n",
       "<style scoped>\n",
       "    .dataframe tbody tr th:only-of-type {\n",
       "        vertical-align: middle;\n",
       "    }\n",
       "\n",
       "    .dataframe tbody tr th {\n",
       "        vertical-align: top;\n",
       "    }\n",
       "\n",
       "    .dataframe thead th {\n",
       "        text-align: right;\n",
       "    }\n",
       "</style>\n",
       "<table border=\"1\" class=\"dataframe\">\n",
       "  <thead>\n",
       "    <tr style=\"text-align: right;\">\n",
       "      <th></th>\n",
       "      <th>year</th>\n",
       "      <th>city</th>\n",
       "      <th>population</th>\n",
       "      <th>debt</th>\n",
       "    </tr>\n",
       "  </thead>\n",
       "  <tbody>\n",
       "    <tr>\n",
       "      <th>one</th>\n",
       "      <td>2016</td>\n",
       "      <td>Beijing</td>\n",
       "      <td>2100</td>\n",
       "      <td>NaN</td>\n",
       "    </tr>\n",
       "    <tr>\n",
       "      <th>two</th>\n",
       "      <td>2017</td>\n",
       "      <td>Shanghai</td>\n",
       "      <td>2300</td>\n",
       "      <td>NaN</td>\n",
       "    </tr>\n",
       "    <tr>\n",
       "      <th>three</th>\n",
       "      <td>2016</td>\n",
       "      <td>Guangzhou</td>\n",
       "      <td>1000</td>\n",
       "      <td>NaN</td>\n",
       "    </tr>\n",
       "  </tbody>\n",
       "</table>\n",
       "</div>"
      ],
      "text/plain": [
       "       year       city  population debt\n",
       "one    2016    Beijing        2100  NaN\n",
       "two    2017   Shanghai        2300  NaN\n",
       "three  2016  Guangzhou        1000  NaN"
      ]
     },
     "execution_count": 104,
     "metadata": {},
     "output_type": "execute_result"
    }
   ],
   "source": [
    "frame.iloc[0:3]"
   ]
  },
  {
   "cell_type": "code",
   "execution_count": 105,
   "metadata": {},
   "outputs": [
    {
     "data": {
      "text/html": [
       "<div>\n",
       "<style scoped>\n",
       "    .dataframe tbody tr th:only-of-type {\n",
       "        vertical-align: middle;\n",
       "    }\n",
       "\n",
       "    .dataframe tbody tr th {\n",
       "        vertical-align: top;\n",
       "    }\n",
       "\n",
       "    .dataframe thead th {\n",
       "        text-align: right;\n",
       "    }\n",
       "</style>\n",
       "<table border=\"1\" class=\"dataframe\">\n",
       "  <thead>\n",
       "    <tr style=\"text-align: right;\">\n",
       "      <th></th>\n",
       "      <th>city</th>\n",
       "      <th>population</th>\n",
       "    </tr>\n",
       "  </thead>\n",
       "  <tbody>\n",
       "    <tr>\n",
       "      <th>one</th>\n",
       "      <td>Beijing</td>\n",
       "      <td>2100</td>\n",
       "    </tr>\n",
       "    <tr>\n",
       "      <th>two</th>\n",
       "      <td>Shanghai</td>\n",
       "      <td>2300</td>\n",
       "    </tr>\n",
       "    <tr>\n",
       "      <th>three</th>\n",
       "      <td>Guangzhou</td>\n",
       "      <td>1000</td>\n",
       "    </tr>\n",
       "  </tbody>\n",
       "</table>\n",
       "</div>"
      ],
      "text/plain": [
       "            city  population\n",
       "one      Beijing        2100\n",
       "two     Shanghai        2300\n",
       "three  Guangzhou        1000"
      ]
     },
     "execution_count": 105,
     "metadata": {},
     "output_type": "execute_result"
    }
   ],
   "source": [
    "frame.iloc[0:3, 1:3]"
   ]
  },
  {
   "cell_type": "markdown",
   "metadata": {},
   "source": [
    "### DataFrame元素赋值"
   ]
  },
  {
   "cell_type": "code",
   "execution_count": 106,
   "metadata": {},
   "outputs": [],
   "source": [
    "frame.loc[\"one\", \"population\"] = 2200"
   ]
  },
  {
   "cell_type": "code",
   "execution_count": 107,
   "metadata": {},
   "outputs": [
    {
     "data": {
      "text/html": [
       "<div>\n",
       "<style scoped>\n",
       "    .dataframe tbody tr th:only-of-type {\n",
       "        vertical-align: middle;\n",
       "    }\n",
       "\n",
       "    .dataframe tbody tr th {\n",
       "        vertical-align: top;\n",
       "    }\n",
       "\n",
       "    .dataframe thead th {\n",
       "        text-align: right;\n",
       "    }\n",
       "</style>\n",
       "<table border=\"1\" class=\"dataframe\">\n",
       "  <thead>\n",
       "    <tr style=\"text-align: right;\">\n",
       "      <th></th>\n",
       "      <th>year</th>\n",
       "      <th>city</th>\n",
       "      <th>population</th>\n",
       "      <th>debt</th>\n",
       "    </tr>\n",
       "  </thead>\n",
       "  <tbody>\n",
       "    <tr>\n",
       "      <th>one</th>\n",
       "      <td>2016</td>\n",
       "      <td>Beijing</td>\n",
       "      <td>2200</td>\n",
       "      <td>NaN</td>\n",
       "    </tr>\n",
       "    <tr>\n",
       "      <th>two</th>\n",
       "      <td>2017</td>\n",
       "      <td>Shanghai</td>\n",
       "      <td>2300</td>\n",
       "      <td>NaN</td>\n",
       "    </tr>\n",
       "    <tr>\n",
       "      <th>three</th>\n",
       "      <td>2016</td>\n",
       "      <td>Guangzhou</td>\n",
       "      <td>1000</td>\n",
       "      <td>NaN</td>\n",
       "    </tr>\n",
       "    <tr>\n",
       "      <th>four</th>\n",
       "      <td>2017</td>\n",
       "      <td>Shenzhen</td>\n",
       "      <td>700</td>\n",
       "      <td>NaN</td>\n",
       "    </tr>\n",
       "    <tr>\n",
       "      <th>five</th>\n",
       "      <td>2016</td>\n",
       "      <td>Hangzhou</td>\n",
       "      <td>500</td>\n",
       "      <td>NaN</td>\n",
       "    </tr>\n",
       "    <tr>\n",
       "      <th>six</th>\n",
       "      <td>2016</td>\n",
       "      <td>Chongqing</td>\n",
       "      <td>600</td>\n",
       "      <td>NaN</td>\n",
       "    </tr>\n",
       "  </tbody>\n",
       "</table>\n",
       "</div>"
      ],
      "text/plain": [
       "       year       city  population debt\n",
       "one    2016    Beijing        2200  NaN\n",
       "two    2017   Shanghai        2300  NaN\n",
       "three  2016  Guangzhou        1000  NaN\n",
       "four   2017   Shenzhen         700  NaN\n",
       "five   2016   Hangzhou         500  NaN\n",
       "six    2016  Chongqing         600  NaN"
      ]
     },
     "execution_count": 107,
     "metadata": {},
     "output_type": "execute_result"
    }
   ],
   "source": [
    "frame"
   ]
  },
  {
   "cell_type": "markdown",
   "metadata": {},
   "source": [
    "可以给一整列赋值"
   ]
  },
  {
   "cell_type": "code",
   "execution_count": 108,
   "metadata": {
    "scrolled": true
   },
   "outputs": [
    {
     "data": {
      "text/html": [
       "<div>\n",
       "<style scoped>\n",
       "    .dataframe tbody tr th:only-of-type {\n",
       "        vertical-align: middle;\n",
       "    }\n",
       "\n",
       "    .dataframe tbody tr th {\n",
       "        vertical-align: top;\n",
       "    }\n",
       "\n",
       "    .dataframe thead th {\n",
       "        text-align: right;\n",
       "    }\n",
       "</style>\n",
       "<table border=\"1\" class=\"dataframe\">\n",
       "  <thead>\n",
       "    <tr style=\"text-align: right;\">\n",
       "      <th></th>\n",
       "      <th>year</th>\n",
       "      <th>city</th>\n",
       "      <th>population</th>\n",
       "      <th>debt</th>\n",
       "    </tr>\n",
       "  </thead>\n",
       "  <tbody>\n",
       "    <tr>\n",
       "      <th>one</th>\n",
       "      <td>2016</td>\n",
       "      <td>Beijing</td>\n",
       "      <td>2200</td>\n",
       "      <td>10000000000</td>\n",
       "    </tr>\n",
       "    <tr>\n",
       "      <th>two</th>\n",
       "      <td>2017</td>\n",
       "      <td>Shanghai</td>\n",
       "      <td>2300</td>\n",
       "      <td>10000000000</td>\n",
       "    </tr>\n",
       "    <tr>\n",
       "      <th>three</th>\n",
       "      <td>2016</td>\n",
       "      <td>Guangzhou</td>\n",
       "      <td>1000</td>\n",
       "      <td>10000000000</td>\n",
       "    </tr>\n",
       "    <tr>\n",
       "      <th>four</th>\n",
       "      <td>2017</td>\n",
       "      <td>Shenzhen</td>\n",
       "      <td>700</td>\n",
       "      <td>10000000000</td>\n",
       "    </tr>\n",
       "    <tr>\n",
       "      <th>five</th>\n",
       "      <td>2016</td>\n",
       "      <td>Hangzhou</td>\n",
       "      <td>500</td>\n",
       "      <td>10000000000</td>\n",
       "    </tr>\n",
       "    <tr>\n",
       "      <th>six</th>\n",
       "      <td>2016</td>\n",
       "      <td>Chongqing</td>\n",
       "      <td>600</td>\n",
       "      <td>10000000000</td>\n",
       "    </tr>\n",
       "  </tbody>\n",
       "</table>\n",
       "</div>"
      ],
      "text/plain": [
       "       year       city  population         debt\n",
       "one    2016    Beijing        2200  10000000000\n",
       "two    2017   Shanghai        2300  10000000000\n",
       "three  2016  Guangzhou        1000  10000000000\n",
       "four   2017   Shenzhen         700  10000000000\n",
       "five   2016   Hangzhou         500  10000000000\n",
       "six    2016  Chongqing         600  10000000000"
      ]
     },
     "execution_count": 108,
     "metadata": {},
     "output_type": "execute_result"
    }
   ],
   "source": [
    "frame[\"debt\"] = 10000000000\n",
    "frame"
   ]
  },
  {
   "cell_type": "code",
   "execution_count": 109,
   "metadata": {
    "scrolled": true
   },
   "outputs": [
    {
     "data": {
      "text/html": [
       "<div>\n",
       "<style scoped>\n",
       "    .dataframe tbody tr th:only-of-type {\n",
       "        vertical-align: middle;\n",
       "    }\n",
       "\n",
       "    .dataframe tbody tr th {\n",
       "        vertical-align: top;\n",
       "    }\n",
       "\n",
       "    .dataframe thead th {\n",
       "        text-align: right;\n",
       "    }\n",
       "</style>\n",
       "<table border=\"1\" class=\"dataframe\">\n",
       "  <thead>\n",
       "    <tr style=\"text-align: right;\">\n",
       "      <th></th>\n",
       "      <th>year</th>\n",
       "      <th>city</th>\n",
       "      <th>population</th>\n",
       "      <th>debt</th>\n",
       "    </tr>\n",
       "  </thead>\n",
       "  <tbody>\n",
       "    <tr>\n",
       "      <th>one</th>\n",
       "      <td>2016.0</td>\n",
       "      <td>Beijing</td>\n",
       "      <td>2200.0</td>\n",
       "      <td>1.000000e+10</td>\n",
       "    </tr>\n",
       "    <tr>\n",
       "      <th>two</th>\n",
       "      <td>2017.0</td>\n",
       "      <td>Shanghai</td>\n",
       "      <td>2300.0</td>\n",
       "      <td>1.000000e+10</td>\n",
       "    </tr>\n",
       "    <tr>\n",
       "      <th>three</th>\n",
       "      <td>2016.0</td>\n",
       "      <td>Guangzhou</td>\n",
       "      <td>1000.0</td>\n",
       "      <td>1.000000e+10</td>\n",
       "    </tr>\n",
       "    <tr>\n",
       "      <th>four</th>\n",
       "      <td>2017.0</td>\n",
       "      <td>Shenzhen</td>\n",
       "      <td>700.0</td>\n",
       "      <td>1.000000e+10</td>\n",
       "    </tr>\n",
       "    <tr>\n",
       "      <th>five</th>\n",
       "      <td>2016.0</td>\n",
       "      <td>Hangzhou</td>\n",
       "      <td>500.0</td>\n",
       "      <td>1.000000e+10</td>\n",
       "    </tr>\n",
       "    <tr>\n",
       "      <th>six</th>\n",
       "      <td>NaN</td>\n",
       "      <td>NaN</td>\n",
       "      <td>NaN</td>\n",
       "      <td>NaN</td>\n",
       "    </tr>\n",
       "  </tbody>\n",
       "</table>\n",
       "</div>"
      ],
      "text/plain": [
       "         year       city  population          debt\n",
       "one    2016.0    Beijing      2200.0  1.000000e+10\n",
       "two    2017.0   Shanghai      2300.0  1.000000e+10\n",
       "three  2016.0  Guangzhou      1000.0  1.000000e+10\n",
       "four   2017.0   Shenzhen       700.0  1.000000e+10\n",
       "five   2016.0   Hangzhou       500.0  1.000000e+10\n",
       "six       NaN        NaN         NaN           NaN"
      ]
     },
     "execution_count": 109,
     "metadata": {},
     "output_type": "execute_result"
    }
   ],
   "source": [
    "frame.loc[\"six\"] = np.NaN\n",
    "frame"
   ]
  },
  {
   "cell_type": "code",
   "execution_count": 110,
   "metadata": {},
   "outputs": [
    {
     "data": {
      "text/plain": [
       "Index(['year', 'city', 'population', 'debt'], dtype='object')"
      ]
     },
     "execution_count": 110,
     "metadata": {},
     "output_type": "execute_result"
    }
   ],
   "source": [
    "frame.columns"
   ]
  },
  {
   "cell_type": "code",
   "execution_count": 111,
   "metadata": {},
   "outputs": [
    {
     "data": {
      "text/plain": [
       "Index(['one', 'two', 'three', 'four', 'five', 'six'], dtype='object')"
      ]
     },
     "execution_count": 111,
     "metadata": {},
     "output_type": "execute_result"
    }
   ],
   "source": [
    "frame.index"
   ]
  },
  {
   "cell_type": "code",
   "execution_count": 112,
   "metadata": {},
   "outputs": [
    {
     "name": "stdout",
     "output_type": "stream",
     "text": [
      "year\n",
      "city\n",
      "population\n",
      "debt\n"
     ]
    }
   ],
   "source": [
    "for name in frame.columns:\n",
    "    print(name)"
   ]
  },
  {
   "cell_type": "code",
   "execution_count": 113,
   "metadata": {},
   "outputs": [
    {
     "data": {
      "text/plain": [
       "array([0, 1, 2, 3, 4, 5])"
      ]
     },
     "execution_count": 113,
     "metadata": {},
     "output_type": "execute_result"
    }
   ],
   "source": [
    "np.arange(6)"
   ]
  },
  {
   "cell_type": "code",
   "execution_count": 114,
   "metadata": {},
   "outputs": [
    {
     "data": {
      "text/html": [
       "<div>\n",
       "<style scoped>\n",
       "    .dataframe tbody tr th:only-of-type {\n",
       "        vertical-align: middle;\n",
       "    }\n",
       "\n",
       "    .dataframe tbody tr th {\n",
       "        vertical-align: top;\n",
       "    }\n",
       "\n",
       "    .dataframe thead th {\n",
       "        text-align: right;\n",
       "    }\n",
       "</style>\n",
       "<table border=\"1\" class=\"dataframe\">\n",
       "  <thead>\n",
       "    <tr style=\"text-align: right;\">\n",
       "      <th></th>\n",
       "      <th>year</th>\n",
       "      <th>city</th>\n",
       "      <th>population</th>\n",
       "      <th>debt</th>\n",
       "    </tr>\n",
       "  </thead>\n",
       "  <tbody>\n",
       "    <tr>\n",
       "      <th>one</th>\n",
       "      <td>2016.0</td>\n",
       "      <td>Beijing</td>\n",
       "      <td>2200.0</td>\n",
       "      <td>0</td>\n",
       "    </tr>\n",
       "    <tr>\n",
       "      <th>two</th>\n",
       "      <td>2017.0</td>\n",
       "      <td>Shanghai</td>\n",
       "      <td>2300.0</td>\n",
       "      <td>10000000</td>\n",
       "    </tr>\n",
       "    <tr>\n",
       "      <th>three</th>\n",
       "      <td>2016.0</td>\n",
       "      <td>Guangzhou</td>\n",
       "      <td>1000.0</td>\n",
       "      <td>20000000</td>\n",
       "    </tr>\n",
       "    <tr>\n",
       "      <th>four</th>\n",
       "      <td>2017.0</td>\n",
       "      <td>Shenzhen</td>\n",
       "      <td>700.0</td>\n",
       "      <td>30000000</td>\n",
       "    </tr>\n",
       "    <tr>\n",
       "      <th>five</th>\n",
       "      <td>2016.0</td>\n",
       "      <td>Hangzhou</td>\n",
       "      <td>500.0</td>\n",
       "      <td>40000000</td>\n",
       "    </tr>\n",
       "    <tr>\n",
       "      <th>six</th>\n",
       "      <td>NaN</td>\n",
       "      <td>NaN</td>\n",
       "      <td>NaN</td>\n",
       "      <td>50000000</td>\n",
       "    </tr>\n",
       "  </tbody>\n",
       "</table>\n",
       "</div>"
      ],
      "text/plain": [
       "         year       city  population      debt\n",
       "one    2016.0    Beijing      2200.0         0\n",
       "two    2017.0   Shanghai      2300.0  10000000\n",
       "three  2016.0  Guangzhou      1000.0  20000000\n",
       "four   2017.0   Shenzhen       700.0  30000000\n",
       "five   2016.0   Hangzhou       500.0  40000000\n",
       "six       NaN        NaN         NaN  50000000"
      ]
     },
     "execution_count": 114,
     "metadata": {},
     "output_type": "execute_result"
    }
   ],
   "source": [
    "frame.debt = np.arange(6) * 10000000\n",
    "frame"
   ]
  },
  {
   "cell_type": "markdown",
   "metadata": {},
   "source": [
    "还可以用Series来指定需要修改的index以及相对应的value，没有指定的默认用NaN."
   ]
  },
  {
   "cell_type": "code",
   "execution_count": 115,
   "metadata": {},
   "outputs": [
    {
     "data": {
      "text/plain": [
       "two      1000000\n",
       "three    2000000\n",
       "four     3000000\n",
       "dtype: int64"
      ]
     },
     "execution_count": 115,
     "metadata": {},
     "output_type": "execute_result"
    }
   ],
   "source": [
    "val = pd.Series([100, 200, 300], index=['two', 'three', 'four'])\n",
    "val * 10000 "
   ]
  },
  {
   "cell_type": "code",
   "execution_count": 116,
   "metadata": {},
   "outputs": [
    {
     "data": {
      "text/html": [
       "<div>\n",
       "<style scoped>\n",
       "    .dataframe tbody tr th:only-of-type {\n",
       "        vertical-align: middle;\n",
       "    }\n",
       "\n",
       "    .dataframe tbody tr th {\n",
       "        vertical-align: top;\n",
       "    }\n",
       "\n",
       "    .dataframe thead th {\n",
       "        text-align: right;\n",
       "    }\n",
       "</style>\n",
       "<table border=\"1\" class=\"dataframe\">\n",
       "  <thead>\n",
       "    <tr style=\"text-align: right;\">\n",
       "      <th></th>\n",
       "      <th>year</th>\n",
       "      <th>city</th>\n",
       "      <th>population</th>\n",
       "      <th>debt</th>\n",
       "    </tr>\n",
       "  </thead>\n",
       "  <tbody>\n",
       "    <tr>\n",
       "      <th>one</th>\n",
       "      <td>2016.0</td>\n",
       "      <td>Beijing</td>\n",
       "      <td>2200.0</td>\n",
       "      <td>NaN</td>\n",
       "    </tr>\n",
       "    <tr>\n",
       "      <th>two</th>\n",
       "      <td>2017.0</td>\n",
       "      <td>Shanghai</td>\n",
       "      <td>2300.0</td>\n",
       "      <td>1000000.0</td>\n",
       "    </tr>\n",
       "    <tr>\n",
       "      <th>three</th>\n",
       "      <td>2016.0</td>\n",
       "      <td>Guangzhou</td>\n",
       "      <td>1000.0</td>\n",
       "      <td>2000000.0</td>\n",
       "    </tr>\n",
       "    <tr>\n",
       "      <th>four</th>\n",
       "      <td>2017.0</td>\n",
       "      <td>Shenzhen</td>\n",
       "      <td>700.0</td>\n",
       "      <td>3000000.0</td>\n",
       "    </tr>\n",
       "    <tr>\n",
       "      <th>five</th>\n",
       "      <td>2016.0</td>\n",
       "      <td>Hangzhou</td>\n",
       "      <td>500.0</td>\n",
       "      <td>NaN</td>\n",
       "    </tr>\n",
       "    <tr>\n",
       "      <th>six</th>\n",
       "      <td>NaN</td>\n",
       "      <td>NaN</td>\n",
       "      <td>NaN</td>\n",
       "      <td>NaN</td>\n",
       "    </tr>\n",
       "  </tbody>\n",
       "</table>\n",
       "</div>"
      ],
      "text/plain": [
       "         year       city  population       debt\n",
       "one    2016.0    Beijing      2200.0        NaN\n",
       "two    2017.0   Shanghai      2300.0  1000000.0\n",
       "three  2016.0  Guangzhou      1000.0  2000000.0\n",
       "four   2017.0   Shenzhen       700.0  3000000.0\n",
       "five   2016.0   Hangzhou       500.0        NaN\n",
       "six       NaN        NaN         NaN        NaN"
      ]
     },
     "execution_count": 116,
     "metadata": {},
     "output_type": "execute_result"
    }
   ],
   "source": [
    "frame[\"debt\"] = val * 10000\n",
    "frame"
   ]
  },
  {
   "cell_type": "markdown",
   "metadata": {},
   "source": [
    "如果我们想要知道有哪些列，直接用columns"
   ]
  },
  {
   "cell_type": "markdown",
   "metadata": {},
   "source": [
    "行的话就叫做index啦"
   ]
  },
  {
   "cell_type": "markdown",
   "metadata": {},
   "source": [
    "一个DataFrame就和一个numpy 2d array一样，可以被转置"
   ]
  },
  {
   "cell_type": "code",
   "execution_count": 117,
   "metadata": {},
   "outputs": [
    {
     "data": {
      "text/html": [
       "<div>\n",
       "<style scoped>\n",
       "    .dataframe tbody tr th:only-of-type {\n",
       "        vertical-align: middle;\n",
       "    }\n",
       "\n",
       "    .dataframe tbody tr th {\n",
       "        vertical-align: top;\n",
       "    }\n",
       "\n",
       "    .dataframe thead th {\n",
       "        text-align: right;\n",
       "    }\n",
       "</style>\n",
       "<table border=\"1\" class=\"dataframe\">\n",
       "  <thead>\n",
       "    <tr style=\"text-align: right;\">\n",
       "      <th></th>\n",
       "      <th>one</th>\n",
       "      <th>two</th>\n",
       "      <th>three</th>\n",
       "      <th>four</th>\n",
       "      <th>five</th>\n",
       "      <th>six</th>\n",
       "    </tr>\n",
       "  </thead>\n",
       "  <tbody>\n",
       "    <tr>\n",
       "      <th>year</th>\n",
       "      <td>2016</td>\n",
       "      <td>2017</td>\n",
       "      <td>2016</td>\n",
       "      <td>2017</td>\n",
       "      <td>2016</td>\n",
       "      <td>NaN</td>\n",
       "    </tr>\n",
       "    <tr>\n",
       "      <th>city</th>\n",
       "      <td>Beijing</td>\n",
       "      <td>Shanghai</td>\n",
       "      <td>Guangzhou</td>\n",
       "      <td>Shenzhen</td>\n",
       "      <td>Hangzhou</td>\n",
       "      <td>NaN</td>\n",
       "    </tr>\n",
       "    <tr>\n",
       "      <th>population</th>\n",
       "      <td>2200</td>\n",
       "      <td>2300</td>\n",
       "      <td>1000</td>\n",
       "      <td>700</td>\n",
       "      <td>500</td>\n",
       "      <td>NaN</td>\n",
       "    </tr>\n",
       "    <tr>\n",
       "      <th>debt</th>\n",
       "      <td>NaN</td>\n",
       "      <td>1e+06</td>\n",
       "      <td>2e+06</td>\n",
       "      <td>3e+06</td>\n",
       "      <td>NaN</td>\n",
       "      <td>NaN</td>\n",
       "    </tr>\n",
       "  </tbody>\n",
       "</table>\n",
       "</div>"
      ],
      "text/plain": [
       "                one       two      three      four      five  six\n",
       "year           2016      2017       2016      2017      2016  NaN\n",
       "city        Beijing  Shanghai  Guangzhou  Shenzhen  Hangzhou  NaN\n",
       "population     2200      2300       1000       700       500  NaN\n",
       "debt            NaN     1e+06      2e+06     3e+06       NaN  NaN"
      ]
     },
     "execution_count": 117,
     "metadata": {},
     "output_type": "execute_result"
    }
   ],
   "source": [
    "frame.T"
   ]
  },
  {
   "cell_type": "markdown",
   "metadata": {},
   "source": [
    "指定index的顺序，以及使用切片初始化数据"
   ]
  },
  {
   "cell_type": "code",
   "execution_count": 118,
   "metadata": {},
   "outputs": [
    {
     "data": {
      "text/html": [
       "<div>\n",
       "<style scoped>\n",
       "    .dataframe tbody tr th:only-of-type {\n",
       "        vertical-align: middle;\n",
       "    }\n",
       "\n",
       "    .dataframe tbody tr th {\n",
       "        vertical-align: top;\n",
       "    }\n",
       "\n",
       "    .dataframe thead th {\n",
       "        text-align: right;\n",
       "    }\n",
       "</style>\n",
       "<table border=\"1\" class=\"dataframe\">\n",
       "  <thead>\n",
       "    <tr style=\"text-align: right;\">\n",
       "      <th></th>\n",
       "      <th>Beijing</th>\n",
       "      <th>Shanghai</th>\n",
       "    </tr>\n",
       "  </thead>\n",
       "  <tbody>\n",
       "    <tr>\n",
       "      <th>2015</th>\n",
       "      <td>NaN</td>\n",
       "      <td>2400</td>\n",
       "    </tr>\n",
       "    <tr>\n",
       "      <th>2016</th>\n",
       "      <td>2100.0</td>\n",
       "      <td>2500</td>\n",
       "    </tr>\n",
       "    <tr>\n",
       "      <th>2017</th>\n",
       "      <td>2200.0</td>\n",
       "      <td>2600</td>\n",
       "    </tr>\n",
       "  </tbody>\n",
       "</table>\n",
       "</div>"
      ],
      "text/plain": [
       "      Beijing  Shanghai\n",
       "2015      NaN      2400\n",
       "2016   2100.0      2500\n",
       "2017   2200.0      2600"
      ]
     },
     "execution_count": 118,
     "metadata": {},
     "output_type": "execute_result"
    }
   ],
   "source": [
    "pop = {'Beijing': {2016: 2100, 2017:2200},\n",
    "      'Shanghai': {2015:2400, 2016:2500, 2017:2600}}\n",
    "pd.DataFrame(pop)"
   ]
  },
  {
   "cell_type": "markdown",
   "metadata": {},
   "source": [
    "我们还可以指定index的名字和列的名字"
   ]
  },
  {
   "cell_type": "code",
   "execution_count": 119,
   "metadata": {
    "scrolled": true
   },
   "outputs": [
    {
     "data": {
      "text/html": [
       "<div>\n",
       "<style scoped>\n",
       "    .dataframe tbody tr th:only-of-type {\n",
       "        vertical-align: middle;\n",
       "    }\n",
       "\n",
       "    .dataframe tbody tr th {\n",
       "        vertical-align: top;\n",
       "    }\n",
       "\n",
       "    .dataframe thead th {\n",
       "        text-align: right;\n",
       "    }\n",
       "</style>\n",
       "<table border=\"1\" class=\"dataframe\">\n",
       "  <thead>\n",
       "    <tr style=\"text-align: right;\">\n",
       "      <th>columns</th>\n",
       "      <th>year</th>\n",
       "      <th>city</th>\n",
       "      <th>population</th>\n",
       "      <th>debt</th>\n",
       "    </tr>\n",
       "    <tr>\n",
       "      <th>number</th>\n",
       "      <th></th>\n",
       "      <th></th>\n",
       "      <th></th>\n",
       "      <th></th>\n",
       "    </tr>\n",
       "  </thead>\n",
       "  <tbody>\n",
       "    <tr>\n",
       "      <th>one</th>\n",
       "      <td>2016.0</td>\n",
       "      <td>Beijing</td>\n",
       "      <td>2200.0</td>\n",
       "      <td>NaN</td>\n",
       "    </tr>\n",
       "    <tr>\n",
       "      <th>two</th>\n",
       "      <td>2017.0</td>\n",
       "      <td>Shanghai</td>\n",
       "      <td>2300.0</td>\n",
       "      <td>1000000.0</td>\n",
       "    </tr>\n",
       "    <tr>\n",
       "      <th>three</th>\n",
       "      <td>2016.0</td>\n",
       "      <td>Guangzhou</td>\n",
       "      <td>1000.0</td>\n",
       "      <td>2000000.0</td>\n",
       "    </tr>\n",
       "    <tr>\n",
       "      <th>four</th>\n",
       "      <td>2017.0</td>\n",
       "      <td>Shenzhen</td>\n",
       "      <td>700.0</td>\n",
       "      <td>3000000.0</td>\n",
       "    </tr>\n",
       "    <tr>\n",
       "      <th>five</th>\n",
       "      <td>2016.0</td>\n",
       "      <td>Hangzhou</td>\n",
       "      <td>500.0</td>\n",
       "      <td>NaN</td>\n",
       "    </tr>\n",
       "    <tr>\n",
       "      <th>six</th>\n",
       "      <td>NaN</td>\n",
       "      <td>NaN</td>\n",
       "      <td>NaN</td>\n",
       "      <td>NaN</td>\n",
       "    </tr>\n",
       "  </tbody>\n",
       "</table>\n",
       "</div>"
      ],
      "text/plain": [
       "columns    year       city  population       debt\n",
       "number                                           \n",
       "one      2016.0    Beijing      2200.0        NaN\n",
       "two      2017.0   Shanghai      2300.0  1000000.0\n",
       "three    2016.0  Guangzhou      1000.0  2000000.0\n",
       "four     2017.0   Shenzhen       700.0  3000000.0\n",
       "five     2016.0   Hangzhou       500.0        NaN\n",
       "six         NaN        NaN         NaN        NaN"
      ]
     },
     "execution_count": 119,
     "metadata": {},
     "output_type": "execute_result"
    }
   ],
   "source": [
    "frame.index.name = \"number\"\n",
    "frame.columns.name = \"columns\"\n",
    "frame "
   ]
  },
  {
   "cell_type": "code",
   "execution_count": 120,
   "metadata": {
    "scrolled": true
   },
   "outputs": [
    {
     "data": {
      "text/plain": [
       "numpy.ndarray"
      ]
     },
     "execution_count": 120,
     "metadata": {},
     "output_type": "execute_result"
    }
   ],
   "source": [
    "type(df.values)"
   ]
  },
  {
   "cell_type": "code",
   "execution_count": 121,
   "metadata": {},
   "outputs": [
    {
     "data": {
      "text/plain": [
       "array([[131700. ,  79020. ,  52680. ],\n",
       "       [700000. , 420000. , 280000. ],\n",
       "       [100173. ,  60103.8,  40069.2],\n",
       "       [700000. , 187816.1, 512183.9],\n",
       "       [ 71026. ,  42615.6,  28410.4],\n",
       "       [ 75262. ,  45157.2,  30104.8],\n",
       "       [800000. , 480000. , 320000. ]])"
      ]
     },
     "execution_count": 121,
     "metadata": {},
     "output_type": "execute_result"
    }
   ],
   "source": [
    "df.as_matrix()"
   ]
  },
  {
   "cell_type": "markdown",
   "metadata": {},
   "source": [
    "## Index"
   ]
  },
  {
   "cell_type": "markdown",
   "metadata": {},
   "source": [
    "### index object"
   ]
  },
  {
   "cell_type": "code",
   "execution_count": 122,
   "metadata": {},
   "outputs": [
    {
     "data": {
      "text/plain": [
       "Index(['a', 'b', 'c'], dtype='object')"
      ]
     },
     "execution_count": 122,
     "metadata": {},
     "output_type": "execute_result"
    }
   ],
   "source": [
    "obj = pd.Series(range(3), index=[\"a\", \"b\", \"c\"])\n",
    "index = obj.index\n",
    "index"
   ]
  },
  {
   "cell_type": "code",
   "execution_count": 123,
   "metadata": {},
   "outputs": [
    {
     "data": {
      "text/plain": [
       "pandas.core.indexes.base.Index"
      ]
     },
     "execution_count": 123,
     "metadata": {},
     "output_type": "execute_result"
    }
   ],
   "source": [
    "type(obj.index)"
   ]
  },
  {
   "cell_type": "code",
   "execution_count": 124,
   "metadata": {},
   "outputs": [
    {
     "data": {
      "text/plain": [
       "Index(['b', 'c'], dtype='object')"
      ]
     },
     "execution_count": 124,
     "metadata": {},
     "output_type": "execute_result"
    }
   ],
   "source": [
    "index[1:]"
   ]
  },
  {
   "cell_type": "markdown",
   "metadata": {},
   "source": [
    "index的值是不能被更改的"
   ]
  },
  {
   "cell_type": "code",
   "execution_count": null,
   "metadata": {},
   "outputs": [],
   "source": [
    "# index[1] = 'd'"
   ]
  },
  {
   "cell_type": "code",
   "execution_count": 125,
   "metadata": {},
   "outputs": [
    {
     "data": {
      "text/plain": [
       "Int64Index([0, 1, 2], dtype='int64')"
      ]
     },
     "execution_count": 125,
     "metadata": {},
     "output_type": "execute_result"
    }
   ],
   "source": [
    "index = pd.Index(np.arange(3))\n",
    "index"
   ]
  },
  {
   "cell_type": "code",
   "execution_count": 126,
   "metadata": {
    "scrolled": true
   },
   "outputs": [
    {
     "data": {
      "text/plain": [
       "0    2\n",
       "1    5\n",
       "2    7\n",
       "dtype: int64"
      ]
     },
     "execution_count": 126,
     "metadata": {},
     "output_type": "execute_result"
    }
   ],
   "source": [
    "obj2 = pd.Series([2,5,7], index=index)\n",
    "obj2"
   ]
  },
  {
   "cell_type": "code",
   "execution_count": 127,
   "metadata": {},
   "outputs": [
    {
     "data": {
      "text/plain": [
       "True"
      ]
     },
     "execution_count": 127,
     "metadata": {},
     "output_type": "execute_result"
    }
   ],
   "source": [
    "obj2.index is index"
   ]
  },
  {
   "cell_type": "code",
   "execution_count": 128,
   "metadata": {},
   "outputs": [
    {
     "data": {
      "text/plain": [
       "False"
      ]
     },
     "execution_count": 128,
     "metadata": {},
     "output_type": "execute_result"
    }
   ],
   "source": [
    "obj2.index is np.arange(3)"
   ]
  },
  {
   "cell_type": "code",
   "execution_count": 129,
   "metadata": {},
   "outputs": [
    {
     "data": {
      "text/plain": [
       "array([ True,  True,  True])"
      ]
     },
     "execution_count": 129,
     "metadata": {},
     "output_type": "execute_result"
    }
   ],
   "source": [
    "obj2.index == np.arange(3)"
   ]
  },
  {
   "cell_type": "code",
   "execution_count": 130,
   "metadata": {},
   "outputs": [
    {
     "data": {
      "text/html": [
       "<div>\n",
       "<style scoped>\n",
       "    .dataframe tbody tr th:only-of-type {\n",
       "        vertical-align: middle;\n",
       "    }\n",
       "\n",
       "    .dataframe tbody tr th {\n",
       "        vertical-align: top;\n",
       "    }\n",
       "\n",
       "    .dataframe thead th {\n",
       "        text-align: right;\n",
       "    }\n",
       "</style>\n",
       "<table border=\"1\" class=\"dataframe\">\n",
       "  <thead>\n",
       "    <tr style=\"text-align: right;\">\n",
       "      <th></th>\n",
       "      <th>Beijing</th>\n",
       "      <th>Shanghai</th>\n",
       "    </tr>\n",
       "  </thead>\n",
       "  <tbody>\n",
       "    <tr>\n",
       "      <th>2015</th>\n",
       "      <td>NaN</td>\n",
       "      <td>2400</td>\n",
       "    </tr>\n",
       "    <tr>\n",
       "      <th>2016</th>\n",
       "      <td>2100.0</td>\n",
       "      <td>2500</td>\n",
       "    </tr>\n",
       "    <tr>\n",
       "      <th>2017</th>\n",
       "      <td>2200.0</td>\n",
       "      <td>2600</td>\n",
       "    </tr>\n",
       "  </tbody>\n",
       "</table>\n",
       "</div>"
      ],
      "text/plain": [
       "      Beijing  Shanghai\n",
       "2015      NaN      2400\n",
       "2016   2100.0      2500\n",
       "2017   2200.0      2600"
      ]
     },
     "execution_count": 130,
     "metadata": {},
     "output_type": "execute_result"
    }
   ],
   "source": [
    "pop\n",
    "frame3 = pd.DataFrame(pop)\n",
    "frame3"
   ]
  },
  {
   "cell_type": "code",
   "execution_count": 131,
   "metadata": {},
   "outputs": [
    {
     "name": "stdout",
     "output_type": "stream",
     "text": [
      "True\n"
     ]
    }
   ],
   "source": [
    "print(\"Shanghai\" in frame3.columns)"
   ]
  },
  {
   "cell_type": "markdown",
   "metadata": {},
   "source": [
    "### 针对index进行索引和切片"
   ]
  },
  {
   "cell_type": "code",
   "execution_count": null,
   "metadata": {},
   "outputs": [],
   "source": [
    "obj[\"b\"]"
   ]
  },
  {
   "cell_type": "markdown",
   "metadata": {},
   "source": [
    "默认的数字index依旧可以使用"
   ]
  },
  {
   "cell_type": "code",
   "execution_count": null,
   "metadata": {},
   "outputs": [],
   "source": [
    "obj[[1,2]]"
   ]
  },
  {
   "cell_type": "code",
   "execution_count": null,
   "metadata": {},
   "outputs": [],
   "source": [
    "obj[obj<1]"
   ]
  },
  {
   "cell_type": "markdown",
   "metadata": {},
   "source": [
    "下面介绍如何对Series进行切片"
   ]
  },
  {
   "cell_type": "code",
   "execution_count": null,
   "metadata": {},
   "outputs": [],
   "source": [
    "obj[\"b\":\"c\"]"
   ]
  },
  {
   "cell_type": "code",
   "execution_count": null,
   "metadata": {},
   "outputs": [],
   "source": [
    "obj[\"b\":]"
   ]
  },
  {
   "cell_type": "markdown",
   "metadata": {},
   "source": [
    "对DataFrame进行Indexing与Series基本相同"
   ]
  },
  {
   "cell_type": "code",
   "execution_count": null,
   "metadata": {
    "scrolled": true
   },
   "outputs": [],
   "source": [
    "df"
   ]
  },
  {
   "cell_type": "code",
   "execution_count": 132,
   "metadata": {},
   "outputs": [
    {
     "data": {
      "text/html": [
       "<div>\n",
       "<style scoped>\n",
       "    .dataframe tbody tr th:only-of-type {\n",
       "        vertical-align: middle;\n",
       "    }\n",
       "\n",
       "    .dataframe tbody tr th {\n",
       "        vertical-align: top;\n",
       "    }\n",
       "\n",
       "    .dataframe thead th {\n",
       "        text-align: right;\n",
       "    }\n",
       "</style>\n",
       "<table border=\"1\" class=\"dataframe\">\n",
       "  <thead>\n",
       "    <tr style=\"text-align: right;\">\n",
       "      <th></th>\n",
       "      <th>avg_incomes</th>\n",
       "      <th>cost_incomes</th>\n",
       "    </tr>\n",
       "  </thead>\n",
       "  <tbody>\n",
       "    <tr>\n",
       "      <th>Beijing</th>\n",
       "      <td>131700.0</td>\n",
       "      <td>52680.0</td>\n",
       "    </tr>\n",
       "    <tr>\n",
       "      <th>Lanzhou</th>\n",
       "      <td>700000.0</td>\n",
       "      <td>280000.0</td>\n",
       "    </tr>\n",
       "    <tr>\n",
       "      <th>Shenzhen</th>\n",
       "      <td>100173.0</td>\n",
       "      <td>40069.2</td>\n",
       "    </tr>\n",
       "    <tr>\n",
       "      <th>Suzhou</th>\n",
       "      <td>700000.0</td>\n",
       "      <td>512183.9</td>\n",
       "    </tr>\n",
       "    <tr>\n",
       "      <th>Taiyuan</th>\n",
       "      <td>71026.0</td>\n",
       "      <td>28410.4</td>\n",
       "    </tr>\n",
       "    <tr>\n",
       "      <th>Xi'an</th>\n",
       "      <td>75262.0</td>\n",
       "      <td>30104.8</td>\n",
       "    </tr>\n",
       "    <tr>\n",
       "      <th>Guangdong</th>\n",
       "      <td>800000.0</td>\n",
       "      <td>320000.0</td>\n",
       "    </tr>\n",
       "  </tbody>\n",
       "</table>\n",
       "</div>"
      ],
      "text/plain": [
       "           avg_incomes  cost_incomes\n",
       "Beijing       131700.0       52680.0\n",
       "Lanzhou       700000.0      280000.0\n",
       "Shenzhen      100173.0       40069.2\n",
       "Suzhou        700000.0      512183.9\n",
       "Taiyuan        71026.0       28410.4\n",
       "Xi'an          75262.0       30104.8\n",
       "Guangdong     800000.0      320000.0"
      ]
     },
     "execution_count": 132,
     "metadata": {},
     "output_type": "execute_result"
    }
   ],
   "source": [
    "df[[\"avg_incomes\", \"cost_incomes\"]]"
   ]
  },
  {
   "cell_type": "code",
   "execution_count": null,
   "metadata": {},
   "outputs": [],
   "source": [
    "df[:2]"
   ]
  },
  {
   "cell_type": "code",
   "execution_count": 134,
   "metadata": {
    "scrolled": true
   },
   "outputs": [
    {
     "data": {
      "text/html": [
       "<div>\n",
       "<style scoped>\n",
       "    .dataframe tbody tr th:only-of-type {\n",
       "        vertical-align: middle;\n",
       "    }\n",
       "\n",
       "    .dataframe tbody tr th {\n",
       "        vertical-align: top;\n",
       "    }\n",
       "\n",
       "    .dataframe thead th {\n",
       "        text-align: right;\n",
       "    }\n",
       "</style>\n",
       "<table border=\"1\" class=\"dataframe\">\n",
       "  <thead>\n",
       "    <tr style=\"text-align: right;\">\n",
       "      <th></th>\n",
       "      <th>avg_incomes</th>\n",
       "      <th>cost_incomes</th>\n",
       "    </tr>\n",
       "  </thead>\n",
       "  <tbody>\n",
       "    <tr>\n",
       "      <th>Beijing</th>\n",
       "      <td>131700.0</td>\n",
       "      <td>52680.0</td>\n",
       "    </tr>\n",
       "    <tr>\n",
       "      <th>Lanzhou</th>\n",
       "      <td>700000.0</td>\n",
       "      <td>280000.0</td>\n",
       "    </tr>\n",
       "  </tbody>\n",
       "</table>\n",
       "</div>"
      ],
      "text/plain": [
       "         avg_incomes  cost_incomes\n",
       "Beijing     131700.0       52680.0\n",
       "Lanzhou     700000.0      280000.0"
      ]
     },
     "execution_count": 134,
     "metadata": {},
     "output_type": "execute_result"
    }
   ],
   "source": [
    "df.loc[\"Beijing\":\"Lanzhou\", [\"avg_incomes\", \"cost_incomes\"]]"
   ]
  },
  {
   "cell_type": "code",
   "execution_count": 135,
   "metadata": {},
   "outputs": [
    {
     "data": {
      "text/html": [
       "<div>\n",
       "<style scoped>\n",
       "    .dataframe tbody tr th:only-of-type {\n",
       "        vertical-align: middle;\n",
       "    }\n",
       "\n",
       "    .dataframe tbody tr th {\n",
       "        vertical-align: top;\n",
       "    }\n",
       "\n",
       "    .dataframe thead th {\n",
       "        text-align: right;\n",
       "    }\n",
       "</style>\n",
       "<table border=\"1\" class=\"dataframe\">\n",
       "  <thead>\n",
       "    <tr style=\"text-align: right;\">\n",
       "      <th></th>\n",
       "      <th>cost_incomes</th>\n",
       "    </tr>\n",
       "  </thead>\n",
       "  <tbody>\n",
       "    <tr>\n",
       "      <th>Lanzhou</th>\n",
       "      <td>280000.0</td>\n",
       "    </tr>\n",
       "    <tr>\n",
       "      <th>Shenzhen</th>\n",
       "      <td>40069.2</td>\n",
       "    </tr>\n",
       "  </tbody>\n",
       "</table>\n",
       "</div>"
      ],
      "text/plain": [
       "          cost_incomes\n",
       "Lanzhou       280000.0\n",
       "Shenzhen       40069.2"
      ]
     },
     "execution_count": 135,
     "metadata": {},
     "output_type": "execute_result"
    }
   ],
   "source": [
    "df.iloc[1:3, 2:3]"
   ]
  },
  {
   "cell_type": "code",
   "execution_count": 136,
   "metadata": {},
   "outputs": [
    {
     "data": {
      "text/html": [
       "<div>\n",
       "<style scoped>\n",
       "    .dataframe tbody tr th:only-of-type {\n",
       "        vertical-align: middle;\n",
       "    }\n",
       "\n",
       "    .dataframe tbody tr th {\n",
       "        vertical-align: top;\n",
       "    }\n",
       "\n",
       "    .dataframe thead th {\n",
       "        text-align: right;\n",
       "    }\n",
       "</style>\n",
       "<table border=\"1\" class=\"dataframe\">\n",
       "  <thead>\n",
       "    <tr style=\"text-align: right;\">\n",
       "      <th></th>\n",
       "      <th>cost_incomes</th>\n",
       "    </tr>\n",
       "  </thead>\n",
       "  <tbody>\n",
       "    <tr>\n",
       "      <th>Lanzhou</th>\n",
       "      <td>280000.0</td>\n",
       "    </tr>\n",
       "    <tr>\n",
       "      <th>Suzhou</th>\n",
       "      <td>512183.9</td>\n",
       "    </tr>\n",
       "  </tbody>\n",
       "</table>\n",
       "</div>"
      ],
      "text/plain": [
       "         cost_incomes\n",
       "Lanzhou      280000.0\n",
       "Suzhou       512183.9"
      ]
     },
     "execution_count": 136,
     "metadata": {},
     "output_type": "execute_result"
    }
   ],
   "source": [
    "df.iloc[[1,3], 2:3]"
   ]
  },
  {
   "cell_type": "markdown",
   "metadata": {},
   "source": [
    "DataFrame也可以用condition selection"
   ]
  },
  {
   "cell_type": "markdown",
   "metadata": {},
   "source": [
    "### [reindex](http://pandas.pydata.org/pandas-docs/stable/generated/pandas.DataFrame.reindex.html)"
   ]
  },
  {
   "cell_type": "markdown",
   "metadata": {},
   "source": [
    "把一个Series或者DataFrame按照新的index顺序进行重排"
   ]
  },
  {
   "cell_type": "code",
   "execution_count": 138,
   "metadata": {},
   "outputs": [
    {
     "data": {
      "text/plain": [
       "d    4.5\n",
       "b    2.6\n",
       "a   -1.8\n",
       "c    9.4\n",
       "dtype: float64"
      ]
     },
     "execution_count": 138,
     "metadata": {},
     "output_type": "execute_result"
    }
   ],
   "source": [
    "obj = pd.Series([4.5, 2.6, -1.8, 9.4], index=[\"d\", \"b\", \"a\", \"c\"])\n",
    "obj"
   ]
  },
  {
   "cell_type": "code",
   "execution_count": 139,
   "metadata": {},
   "outputs": [
    {
     "data": {
      "text/plain": [
       "a   -1.8\n",
       "b    2.6\n",
       "c    9.4\n",
       "d    4.5\n",
       "e    NaN\n",
       "dtype: float64"
      ]
     },
     "execution_count": 139,
     "metadata": {},
     "output_type": "execute_result"
    }
   ],
   "source": [
    "obj.reindex([\"a\", \"b\", \"c\", \"d\", \"e\"])"
   ]
  },
  {
   "cell_type": "markdown",
   "metadata": {},
   "source": [
    "如果我们reindex的index长度比原来的index长，可以指定方法来fill NaN"
   ]
  },
  {
   "cell_type": "code",
   "execution_count": 140,
   "metadata": {},
   "outputs": [
    {
     "data": {
      "text/plain": [
       "a   -1.800\n",
       "b    2.600\n",
       "c    9.400\n",
       "d    4.500\n",
       "e    3.675\n",
       "dtype: float64"
      ]
     },
     "execution_count": 140,
     "metadata": {},
     "output_type": "execute_result"
    }
   ],
   "source": [
    "obj.reindex([\"a\", \"b\", \"c\", \"d\", \"e\"], fill_value=obj.mean())"
   ]
  },
  {
   "cell_type": "code",
   "execution_count": 141,
   "metadata": {},
   "outputs": [
    {
     "data": {
      "text/plain": [
       "0      blue\n",
       "2    purple\n",
       "4     yello\n",
       "dtype: object"
      ]
     },
     "execution_count": 141,
     "metadata": {},
     "output_type": "execute_result"
    }
   ],
   "source": [
    "obj3 = pd.Series([\"blue\", \"purple\", \"yello\"], index=[0,2,4])\n",
    "obj3"
   ]
  },
  {
   "cell_type": "code",
   "execution_count": 142,
   "metadata": {},
   "outputs": [
    {
     "data": {
      "text/plain": [
       "0      blue\n",
       "1       red\n",
       "2    purple\n",
       "3       red\n",
       "4     yello\n",
       "5       red\n",
       "dtype: object"
      ]
     },
     "execution_count": 142,
     "metadata": {},
     "output_type": "execute_result"
    }
   ],
   "source": [
    "obj3.reindex(range(6), fill_value=\"red\")"
   ]
  },
  {
   "cell_type": "code",
   "execution_count": 143,
   "metadata": {},
   "outputs": [
    {
     "data": {
      "text/plain": [
       "0      blue\n",
       "1      blue\n",
       "2    purple\n",
       "3    purple\n",
       "4     yello\n",
       "5     yello\n",
       "dtype: object"
      ]
     },
     "execution_count": 143,
     "metadata": {},
     "output_type": "execute_result"
    }
   ],
   "source": [
    "obj3.reindex(range(6), method=\"ffill\") # forward fill"
   ]
  },
  {
   "cell_type": "code",
   "execution_count": 144,
   "metadata": {},
   "outputs": [
    {
     "data": {
      "text/plain": [
       "0      blue\n",
       "1    purple\n",
       "2    purple\n",
       "3     yello\n",
       "4     yello\n",
       "5       NaN\n",
       "dtype: object"
      ]
     },
     "execution_count": 144,
     "metadata": {},
     "output_type": "execute_result"
    }
   ],
   "source": [
    "obj3.reindex(range(6), method=\"bfill\") # backward fill"
   ]
  },
  {
   "cell_type": "markdown",
   "metadata": {},
   "source": [
    "既然我们可以对Series进行reindex，相应地，我们也可以用同样的方法对DataFrame进行reindex。"
   ]
  },
  {
   "cell_type": "code",
   "execution_count": 145,
   "metadata": {},
   "outputs": [
    {
     "data": {
      "text/html": [
       "<div>\n",
       "<style scoped>\n",
       "    .dataframe tbody tr th:only-of-type {\n",
       "        vertical-align: middle;\n",
       "    }\n",
       "\n",
       "    .dataframe tbody tr th {\n",
       "        vertical-align: top;\n",
       "    }\n",
       "\n",
       "    .dataframe thead th {\n",
       "        text-align: right;\n",
       "    }\n",
       "</style>\n",
       "<table border=\"1\" class=\"dataframe\">\n",
       "  <thead>\n",
       "    <tr style=\"text-align: right;\">\n",
       "      <th>columns</th>\n",
       "      <th>year</th>\n",
       "      <th>city</th>\n",
       "      <th>population</th>\n",
       "      <th>debt</th>\n",
       "    </tr>\n",
       "    <tr>\n",
       "      <th>number</th>\n",
       "      <th></th>\n",
       "      <th></th>\n",
       "      <th></th>\n",
       "      <th></th>\n",
       "    </tr>\n",
       "  </thead>\n",
       "  <tbody>\n",
       "    <tr>\n",
       "      <th>one</th>\n",
       "      <td>2016.0</td>\n",
       "      <td>Beijing</td>\n",
       "      <td>2200.0</td>\n",
       "      <td>NaN</td>\n",
       "    </tr>\n",
       "    <tr>\n",
       "      <th>three</th>\n",
       "      <td>2016.0</td>\n",
       "      <td>Guangzhou</td>\n",
       "      <td>1000.0</td>\n",
       "      <td>2000000.0</td>\n",
       "    </tr>\n",
       "    <tr>\n",
       "      <th>four</th>\n",
       "      <td>2017.0</td>\n",
       "      <td>Shenzhen</td>\n",
       "      <td>700.0</td>\n",
       "      <td>3000000.0</td>\n",
       "    </tr>\n",
       "    <tr>\n",
       "      <th>eight</th>\n",
       "      <td>NaN</td>\n",
       "      <td>NaN</td>\n",
       "      <td>NaN</td>\n",
       "      <td>NaN</td>\n",
       "    </tr>\n",
       "  </tbody>\n",
       "</table>\n",
       "</div>"
      ],
      "text/plain": [
       "columns    year       city  population       debt\n",
       "number                                           \n",
       "one      2016.0    Beijing      2200.0        NaN\n",
       "three    2016.0  Guangzhou      1000.0  2000000.0\n",
       "four     2017.0   Shenzhen       700.0  3000000.0\n",
       "eight       NaN        NaN         NaN        NaN"
      ]
     },
     "execution_count": 145,
     "metadata": {},
     "output_type": "execute_result"
    }
   ],
   "source": [
    "frame2 = frame.reindex([\"one\", \"three\", \"four\", \"eight\"])\n",
    "frame2"
   ]
  },
  {
   "cell_type": "code",
   "execution_count": 146,
   "metadata": {},
   "outputs": [
    {
     "data": {
      "text/html": [
       "<div>\n",
       "<style scoped>\n",
       "    .dataframe tbody tr th:only-of-type {\n",
       "        vertical-align: middle;\n",
       "    }\n",
       "\n",
       "    .dataframe tbody tr th {\n",
       "        vertical-align: top;\n",
       "    }\n",
       "\n",
       "    .dataframe thead th {\n",
       "        text-align: right;\n",
       "    }\n",
       "</style>\n",
       "<table border=\"1\" class=\"dataframe\">\n",
       "  <thead>\n",
       "    <tr style=\"text-align: right;\">\n",
       "      <th>columns</th>\n",
       "      <th>city</th>\n",
       "      <th>year</th>\n",
       "      <th>population</th>\n",
       "    </tr>\n",
       "    <tr>\n",
       "      <th>number</th>\n",
       "      <th></th>\n",
       "      <th></th>\n",
       "      <th></th>\n",
       "    </tr>\n",
       "  </thead>\n",
       "  <tbody>\n",
       "    <tr>\n",
       "      <th>one</th>\n",
       "      <td>Beijing</td>\n",
       "      <td>2016.0</td>\n",
       "      <td>2200.0</td>\n",
       "    </tr>\n",
       "    <tr>\n",
       "      <th>two</th>\n",
       "      <td>Shanghai</td>\n",
       "      <td>2017.0</td>\n",
       "      <td>2300.0</td>\n",
       "    </tr>\n",
       "    <tr>\n",
       "      <th>three</th>\n",
       "      <td>Guangzhou</td>\n",
       "      <td>2016.0</td>\n",
       "      <td>1000.0</td>\n",
       "    </tr>\n",
       "    <tr>\n",
       "      <th>four</th>\n",
       "      <td>Shenzhen</td>\n",
       "      <td>2017.0</td>\n",
       "      <td>700.0</td>\n",
       "    </tr>\n",
       "    <tr>\n",
       "      <th>five</th>\n",
       "      <td>Hangzhou</td>\n",
       "      <td>2016.0</td>\n",
       "      <td>500.0</td>\n",
       "    </tr>\n",
       "    <tr>\n",
       "      <th>six</th>\n",
       "      <td>NaN</td>\n",
       "      <td>NaN</td>\n",
       "      <td>NaN</td>\n",
       "    </tr>\n",
       "  </tbody>\n",
       "</table>\n",
       "</div>"
      ],
      "text/plain": [
       "columns       city    year  population\n",
       "number                                \n",
       "one        Beijing  2016.0      2200.0\n",
       "two       Shanghai  2017.0      2300.0\n",
       "three    Guangzhou  2016.0      1000.0\n",
       "four      Shenzhen  2017.0       700.0\n",
       "five      Hangzhou  2016.0       500.0\n",
       "six            NaN     NaN         NaN"
      ]
     },
     "execution_count": 146,
     "metadata": {},
     "output_type": "execute_result"
    }
   ],
   "source": [
    "frame.reindex(columns=[\"city\", \"year\", \"population\"])"
   ]
  },
  {
   "cell_type": "markdown",
   "metadata": {},
   "source": [
    "在reindex的同时，我们还可以重新指定columns"
   ]
  },
  {
   "cell_type": "markdown",
   "metadata": {
    "collapsed": true
   },
   "source": [
    "下面介绍如何用drop来删除Series和DataFrame中的index，注意drop的效果不是in place的，也就是说他会返回一个object，原来的Obejct并没有被改变"
   ]
  },
  {
   "cell_type": "code",
   "execution_count": 147,
   "metadata": {},
   "outputs": [
    {
     "data": {
      "text/plain": [
       "0      blue\n",
       "2    purple\n",
       "dtype: object"
      ]
     },
     "execution_count": 147,
     "metadata": {},
     "output_type": "execute_result"
    }
   ],
   "source": [
    "obj4 = obj3.drop(4)\n",
    "obj4"
   ]
  },
  {
   "cell_type": "code",
   "execution_count": 148,
   "metadata": {},
   "outputs": [
    {
     "data": {
      "text/plain": [
       "0    blue\n",
       "dtype: object"
      ]
     },
     "execution_count": 148,
     "metadata": {},
     "output_type": "execute_result"
    }
   ],
   "source": [
    "obj3.drop([2,4])"
   ]
  },
  {
   "cell_type": "code",
   "execution_count": 149,
   "metadata": {},
   "outputs": [
    {
     "data": {
      "text/html": [
       "<div>\n",
       "<style scoped>\n",
       "    .dataframe tbody tr th:only-of-type {\n",
       "        vertical-align: middle;\n",
       "    }\n",
       "\n",
       "    .dataframe tbody tr th {\n",
       "        vertical-align: top;\n",
       "    }\n",
       "\n",
       "    .dataframe thead th {\n",
       "        text-align: right;\n",
       "    }\n",
       "</style>\n",
       "<table border=\"1\" class=\"dataframe\">\n",
       "  <thead>\n",
       "    <tr style=\"text-align: right;\">\n",
       "      <th>columns</th>\n",
       "      <th>year</th>\n",
       "      <th>city</th>\n",
       "      <th>population</th>\n",
       "      <th>debt</th>\n",
       "    </tr>\n",
       "    <tr>\n",
       "      <th>number</th>\n",
       "      <th></th>\n",
       "      <th></th>\n",
       "      <th></th>\n",
       "      <th></th>\n",
       "    </tr>\n",
       "  </thead>\n",
       "  <tbody>\n",
       "    <tr>\n",
       "      <th>one</th>\n",
       "      <td>2016.0</td>\n",
       "      <td>Beijing</td>\n",
       "      <td>2200.0</td>\n",
       "      <td>NaN</td>\n",
       "    </tr>\n",
       "    <tr>\n",
       "      <th>three</th>\n",
       "      <td>2016.0</td>\n",
       "      <td>Guangzhou</td>\n",
       "      <td>1000.0</td>\n",
       "      <td>2000000.0</td>\n",
       "    </tr>\n",
       "    <tr>\n",
       "      <th>five</th>\n",
       "      <td>2016.0</td>\n",
       "      <td>Hangzhou</td>\n",
       "      <td>500.0</td>\n",
       "      <td>NaN</td>\n",
       "    </tr>\n",
       "    <tr>\n",
       "      <th>six</th>\n",
       "      <td>NaN</td>\n",
       "      <td>NaN</td>\n",
       "      <td>NaN</td>\n",
       "      <td>NaN</td>\n",
       "    </tr>\n",
       "  </tbody>\n",
       "</table>\n",
       "</div>"
      ],
      "text/plain": [
       "columns    year       city  population       debt\n",
       "number                                           \n",
       "one      2016.0    Beijing      2200.0        NaN\n",
       "three    2016.0  Guangzhou      1000.0  2000000.0\n",
       "five     2016.0   Hangzhou       500.0        NaN\n",
       "six         NaN        NaN         NaN        NaN"
      ]
     },
     "execution_count": 149,
     "metadata": {},
     "output_type": "execute_result"
    }
   ],
   "source": [
    "frame.drop([\"two\", \"four\"])"
   ]
  },
  {
   "cell_type": "code",
   "execution_count": 150,
   "metadata": {},
   "outputs": [
    {
     "data": {
      "text/html": [
       "<div>\n",
       "<style scoped>\n",
       "    .dataframe tbody tr th:only-of-type {\n",
       "        vertical-align: middle;\n",
       "    }\n",
       "\n",
       "    .dataframe tbody tr th {\n",
       "        vertical-align: top;\n",
       "    }\n",
       "\n",
       "    .dataframe thead th {\n",
       "        text-align: right;\n",
       "    }\n",
       "</style>\n",
       "<table border=\"1\" class=\"dataframe\">\n",
       "  <thead>\n",
       "    <tr style=\"text-align: right;\">\n",
       "      <th>columns</th>\n",
       "      <th>city</th>\n",
       "      <th>population</th>\n",
       "    </tr>\n",
       "    <tr>\n",
       "      <th>number</th>\n",
       "      <th></th>\n",
       "      <th></th>\n",
       "    </tr>\n",
       "  </thead>\n",
       "  <tbody>\n",
       "    <tr>\n",
       "      <th>one</th>\n",
       "      <td>Beijing</td>\n",
       "      <td>2200.0</td>\n",
       "    </tr>\n",
       "    <tr>\n",
       "      <th>two</th>\n",
       "      <td>Shanghai</td>\n",
       "      <td>2300.0</td>\n",
       "    </tr>\n",
       "    <tr>\n",
       "      <th>three</th>\n",
       "      <td>Guangzhou</td>\n",
       "      <td>1000.0</td>\n",
       "    </tr>\n",
       "    <tr>\n",
       "      <th>four</th>\n",
       "      <td>Shenzhen</td>\n",
       "      <td>700.0</td>\n",
       "    </tr>\n",
       "    <tr>\n",
       "      <th>five</th>\n",
       "      <td>Hangzhou</td>\n",
       "      <td>500.0</td>\n",
       "    </tr>\n",
       "    <tr>\n",
       "      <th>six</th>\n",
       "      <td>NaN</td>\n",
       "      <td>NaN</td>\n",
       "    </tr>\n",
       "  </tbody>\n",
       "</table>\n",
       "</div>"
      ],
      "text/plain": [
       "columns       city  population\n",
       "number                        \n",
       "one        Beijing      2200.0\n",
       "two       Shanghai      2300.0\n",
       "three    Guangzhou      1000.0\n",
       "four      Shenzhen       700.0\n",
       "five      Hangzhou       500.0\n",
       "six            NaN         NaN"
      ]
     },
     "execution_count": 150,
     "metadata": {},
     "output_type": "execute_result"
    }
   ],
   "source": [
    "frame.drop([\"debt\", \"year\"], axis=1)"
   ]
  },
  {
   "cell_type": "markdown",
   "metadata": {},
   "source": [
    "### hierarchical index"
   ]
  },
  {
   "cell_type": "markdown",
   "metadata": {},
   "source": [
    "Series的hierarchical indexing"
   ]
  },
  {
   "cell_type": "code",
   "execution_count": 151,
   "metadata": {
    "scrolled": false
   },
   "outputs": [
    {
     "data": {
      "text/plain": [
       "a  1       -26.042203\n",
       "   2       -58.950988\n",
       "   3         6.072240\n",
       "b  1       159.707366\n",
       "   2      -124.980376\n",
       "   3        -0.603864\n",
       "   4         9.707502\n",
       "c  1        52.647820\n",
       "d  1      -167.095622\n",
       "   haha    -31.007664\n",
       "dtype: float64"
      ]
     },
     "execution_count": 151,
     "metadata": {},
     "output_type": "execute_result"
    }
   ],
   "source": [
    "data = pd.Series(np.random.randn(10)*50, index=\n",
    "                 [['a','a','a','b','b','b','b','c','d','d'], \n",
    "                  [1,2,3,1,2,3,4,1,1,'haha']])\n",
    "data"
   ]
  },
  {
   "cell_type": "code",
   "execution_count": null,
   "metadata": {},
   "outputs": [],
   "source": [
    "data.index"
   ]
  },
  {
   "cell_type": "markdown",
   "metadata": {},
   "source": [
    "##### DataFrame的hierarchical indexing"
   ]
  },
  {
   "cell_type": "code",
   "execution_count": null,
   "metadata": {},
   "outputs": [],
   "source": [
    "%config ZMQInteractiveShell.ast_node_interactivity='all'\n",
    "%pprint"
   ]
  },
  {
   "cell_type": "code",
   "execution_count": 152,
   "metadata": {
    "scrolled": false
   },
   "outputs": [
    {
     "data": {
      "text/html": [
       "<div>\n",
       "<style scoped>\n",
       "    .dataframe tbody tr th:only-of-type {\n",
       "        vertical-align: middle;\n",
       "    }\n",
       "\n",
       "    .dataframe tbody tr th {\n",
       "        vertical-align: top;\n",
       "    }\n",
       "\n",
       "    .dataframe thead tr th {\n",
       "        text-align: left;\n",
       "    }\n",
       "</style>\n",
       "<table border=\"1\" class=\"dataframe\">\n",
       "  <thead>\n",
       "    <tr>\n",
       "      <th></th>\n",
       "      <th colspan=\"4\" halign=\"left\">Beijing</th>\n",
       "      <th colspan=\"2\" halign=\"left\">Shanghai</th>\n",
       "    </tr>\n",
       "    <tr>\n",
       "      <th></th>\n",
       "      <th colspan=\"2\" halign=\"left\">avg_incomes</th>\n",
       "      <th colspan=\"2\" halign=\"left\">free_incomes</th>\n",
       "      <th colspan=\"2\" halign=\"left\">avg_incomes</th>\n",
       "    </tr>\n",
       "    <tr>\n",
       "      <th></th>\n",
       "      <th>1</th>\n",
       "      <th>2</th>\n",
       "      <th>1</th>\n",
       "      <th>2</th>\n",
       "      <th>1</th>\n",
       "      <th>2</th>\n",
       "    </tr>\n",
       "  </thead>\n",
       "  <tbody>\n",
       "    <tr>\n",
       "      <th>a</th>\n",
       "      <td>49735</td>\n",
       "      <td>49361</td>\n",
       "      <td>50672</td>\n",
       "      <td>48721</td>\n",
       "      <td>50593</td>\n",
       "      <td>51044</td>\n",
       "    </tr>\n",
       "    <tr>\n",
       "      <th>b</th>\n",
       "      <td>51958</td>\n",
       "      <td>50216</td>\n",
       "      <td>51909</td>\n",
       "      <td>49751</td>\n",
       "      <td>48451</td>\n",
       "      <td>49471</td>\n",
       "    </tr>\n",
       "  </tbody>\n",
       "</table>\n",
       "</div>"
      ],
      "text/plain": [
       "      Beijing                               Shanghai       \n",
       "  avg_incomes        free_incomes        avg_incomes       \n",
       "            1      2            1      2           1      2\n",
       "a       49735  49361        50672  48721       50593  51044\n",
       "b       51958  50216        51909  49751       48451  49471"
      ]
     },
     "execution_count": 152,
     "metadata": {},
     "output_type": "execute_result"
    }
   ],
   "source": [
    "frame = pd.DataFrame(np.random.randint(48000,52000,12).reshape((4,3)),\\\n",
    "                     index = [['a','a','b','b'], [1,2,1,2]],\\\n",
    "                    columns = [['Beijing', 'Beijing', 'Shanghai'], ['avg_incomes', 'free_incomes', 'avg_incomes']])\n",
    "\n",
    "frame\n",
    "frame.unstack()"
   ]
  },
  {
   "cell_type": "code",
   "execution_count": 154,
   "metadata": {
    "scrolled": true
   },
   "outputs": [
    {
     "data": {
      "text/plain": [
       "1    49735\n",
       "2    49361\n",
       "Name: avg_incomes, dtype: int32"
      ]
     },
     "execution_count": 154,
     "metadata": {},
     "output_type": "execute_result"
    }
   ],
   "source": [
    "frame.loc[\"a\" ][\"Beijing\"][\"avg_incomes\"]"
   ]
  },
  {
   "cell_type": "code",
   "execution_count": 153,
   "metadata": {},
   "outputs": [
    {
     "data": {
      "text/plain": [
       "49361"
      ]
     },
     "execution_count": 153,
     "metadata": {},
     "output_type": "execute_result"
    }
   ],
   "source": [
    "frame.loc[\"a\",2][\"Beijing\"][\"avg_incomes\"]"
   ]
  },
  {
   "cell_type": "markdown",
   "metadata": {},
   "source": [
    "### 分组/Group by\n",
    "举个例子，假设我们现在手上有一张公司各个员工的收入流水："
   ]
  },
  {
   "cell_type": "code",
   "execution_count": 156,
   "metadata": {},
   "outputs": [],
   "source": [
    "import pandas as pd\n",
    "import numpy as np"
   ]
  },
  {
   "cell_type": "code",
   "execution_count": 157,
   "metadata": {},
   "outputs": [],
   "source": [
    "salaries = pd.DataFrame({\n",
    "    'Name':['Tommy', 'HanMeimei', 'HanMeimei', 'LiLei', \"Tommy\", \"Jill\", \"HanMeimei\", \"John\"],\n",
    "    \"Year\":[2017,2017,2017,2017,2018,2018,2018,2018],\n",
    "    \"Salary\":[40000, 5000, 4000, 3000, 38000, 42000, 6000, 39000],\n",
    "    'Bonus':[12000, 3000, 3500, 1200, 16000, 18000, 7000, 21000]\n",
    "})"
   ]
  },
  {
   "cell_type": "code",
   "execution_count": 158,
   "metadata": {},
   "outputs": [
    {
     "data": {
      "text/html": [
       "<div>\n",
       "<style scoped>\n",
       "    .dataframe tbody tr th:only-of-type {\n",
       "        vertical-align: middle;\n",
       "    }\n",
       "\n",
       "    .dataframe tbody tr th {\n",
       "        vertical-align: top;\n",
       "    }\n",
       "\n",
       "    .dataframe thead th {\n",
       "        text-align: right;\n",
       "    }\n",
       "</style>\n",
       "<table border=\"1\" class=\"dataframe\">\n",
       "  <thead>\n",
       "    <tr style=\"text-align: right;\">\n",
       "      <th></th>\n",
       "      <th>Bonus</th>\n",
       "      <th>Name</th>\n",
       "      <th>Salary</th>\n",
       "      <th>Year</th>\n",
       "    </tr>\n",
       "  </thead>\n",
       "  <tbody>\n",
       "    <tr>\n",
       "      <th>0</th>\n",
       "      <td>12000</td>\n",
       "      <td>Tommy</td>\n",
       "      <td>40000</td>\n",
       "      <td>2017</td>\n",
       "    </tr>\n",
       "    <tr>\n",
       "      <th>1</th>\n",
       "      <td>3000</td>\n",
       "      <td>HanMeimei</td>\n",
       "      <td>5000</td>\n",
       "      <td>2017</td>\n",
       "    </tr>\n",
       "    <tr>\n",
       "      <th>2</th>\n",
       "      <td>3500</td>\n",
       "      <td>HanMeimei</td>\n",
       "      <td>4000</td>\n",
       "      <td>2017</td>\n",
       "    </tr>\n",
       "    <tr>\n",
       "      <th>3</th>\n",
       "      <td>1200</td>\n",
       "      <td>LiLei</td>\n",
       "      <td>3000</td>\n",
       "      <td>2017</td>\n",
       "    </tr>\n",
       "    <tr>\n",
       "      <th>4</th>\n",
       "      <td>16000</td>\n",
       "      <td>Tommy</td>\n",
       "      <td>38000</td>\n",
       "      <td>2018</td>\n",
       "    </tr>\n",
       "    <tr>\n",
       "      <th>5</th>\n",
       "      <td>18000</td>\n",
       "      <td>Jill</td>\n",
       "      <td>42000</td>\n",
       "      <td>2018</td>\n",
       "    </tr>\n",
       "    <tr>\n",
       "      <th>6</th>\n",
       "      <td>7000</td>\n",
       "      <td>HanMeimei</td>\n",
       "      <td>6000</td>\n",
       "      <td>2018</td>\n",
       "    </tr>\n",
       "    <tr>\n",
       "      <th>7</th>\n",
       "      <td>21000</td>\n",
       "      <td>John</td>\n",
       "      <td>39000</td>\n",
       "      <td>2018</td>\n",
       "    </tr>\n",
       "  </tbody>\n",
       "</table>\n",
       "</div>"
      ],
      "text/plain": [
       "   Bonus       Name  Salary  Year\n",
       "0  12000      Tommy   40000  2017\n",
       "1   3000  HanMeimei    5000  2017\n",
       "2   3500  HanMeimei    4000  2017\n",
       "3   1200      LiLei    3000  2017\n",
       "4  16000      Tommy   38000  2018\n",
       "5  18000       Jill   42000  2018\n",
       "6   7000  HanMeimei    6000  2018\n",
       "7  21000       John   39000  2018"
      ]
     },
     "execution_count": 158,
     "metadata": {},
     "output_type": "execute_result"
    }
   ],
   "source": [
    "salaries"
   ]
  },
  {
   "cell_type": "markdown",
   "metadata": {},
   "source": [
    "group by实际上就是分组，通过字段的不同，进行数据的分组划分。"
   ]
  },
  {
   "cell_type": "code",
   "execution_count": 161,
   "metadata": {},
   "outputs": [
    {
     "data": {
      "text/plain": [
       "<pandas.core.groupby.DataFrameGroupBy object at 0x000000000FE58208>"
      ]
     },
     "execution_count": 161,
     "metadata": {},
     "output_type": "execute_result"
    }
   ],
   "source": [
    "group_by_name = salaries.groupby(\"Name\")"
   ]
  },
  {
   "cell_type": "code",
   "execution_count": 160,
   "metadata": {},
   "outputs": [
    {
     "data": {
      "text/plain": [
       "pandas.core.groupby.DataFrameGroupBy"
      ]
     },
     "execution_count": 160,
     "metadata": {},
     "output_type": "execute_result"
    }
   ],
   "source": [
    "type(group_by_name)"
   ]
  },
  {
   "cell_type": "code",
   "execution_count": 162,
   "metadata": {
    "scrolled": false
   },
   "outputs": [
    {
     "name": "stdout",
     "output_type": "stream",
     "text": [
      "HanMeimei\n",
      "<class 'pandas.core.frame.DataFrame'>\n",
      "   Bonus       Name  Salary  Year\n",
      "1   3000  HanMeimei    5000  2017\n",
      "2   3500  HanMeimei    4000  2017\n",
      "6   7000  HanMeimei    6000  2018\n",
      "\n",
      "\n",
      "Jill\n",
      "<class 'pandas.core.frame.DataFrame'>\n",
      "   Bonus  Name  Salary  Year\n",
      "5  18000  Jill   42000  2018\n",
      "\n",
      "\n",
      "John\n",
      "<class 'pandas.core.frame.DataFrame'>\n",
      "   Bonus  Name  Salary  Year\n",
      "7  21000  John   39000  2018\n",
      "\n",
      "\n",
      "LiLei\n",
      "<class 'pandas.core.frame.DataFrame'>\n",
      "   Bonus   Name  Salary  Year\n",
      "3   1200  LiLei    3000  2017\n",
      "\n",
      "\n",
      "Tommy\n",
      "<class 'pandas.core.frame.DataFrame'>\n",
      "   Bonus   Name  Salary  Year\n",
      "0  12000  Tommy   40000  2017\n",
      "4  16000  Tommy   38000  2018\n",
      "\n",
      "\n"
     ]
    }
   ],
   "source": [
    "# 取不同的分组\n",
    "for item in group_by_name:\n",
    "    print(item[0])\n",
    "    print(type(item[1]))\n",
    "    print(item[1])\n",
    "    print(\"\\n\")"
   ]
  },
  {
   "cell_type": "markdown",
   "metadata": {},
   "source": [
    "groupby分组之后可以对数据去做一些聚合操作："
   ]
  },
  {
   "cell_type": "code",
   "execution_count": 163,
   "metadata": {},
   "outputs": [
    {
     "data": {
      "text/html": [
       "<div>\n",
       "<style scoped>\n",
       "    .dataframe tbody tr th:only-of-type {\n",
       "        vertical-align: middle;\n",
       "    }\n",
       "\n",
       "    .dataframe tbody tr th {\n",
       "        vertical-align: top;\n",
       "    }\n",
       "\n",
       "    .dataframe thead th {\n",
       "        text-align: right;\n",
       "    }\n",
       "</style>\n",
       "<table border=\"1\" class=\"dataframe\">\n",
       "  <thead>\n",
       "    <tr style=\"text-align: right;\">\n",
       "      <th></th>\n",
       "      <th>Bonus</th>\n",
       "      <th>Salary</th>\n",
       "      <th>Year</th>\n",
       "    </tr>\n",
       "    <tr>\n",
       "      <th>Name</th>\n",
       "      <th></th>\n",
       "      <th></th>\n",
       "      <th></th>\n",
       "    </tr>\n",
       "  </thead>\n",
       "  <tbody>\n",
       "    <tr>\n",
       "      <th>HanMeimei</th>\n",
       "      <td>13500</td>\n",
       "      <td>15000</td>\n",
       "      <td>6052</td>\n",
       "    </tr>\n",
       "    <tr>\n",
       "      <th>Jill</th>\n",
       "      <td>18000</td>\n",
       "      <td>42000</td>\n",
       "      <td>2018</td>\n",
       "    </tr>\n",
       "    <tr>\n",
       "      <th>John</th>\n",
       "      <td>21000</td>\n",
       "      <td>39000</td>\n",
       "      <td>2018</td>\n",
       "    </tr>\n",
       "    <tr>\n",
       "      <th>LiLei</th>\n",
       "      <td>1200</td>\n",
       "      <td>3000</td>\n",
       "      <td>2017</td>\n",
       "    </tr>\n",
       "    <tr>\n",
       "      <th>Tommy</th>\n",
       "      <td>28000</td>\n",
       "      <td>78000</td>\n",
       "      <td>4035</td>\n",
       "    </tr>\n",
       "  </tbody>\n",
       "</table>\n",
       "</div>"
      ],
      "text/plain": [
       "           Bonus  Salary  Year\n",
       "Name                          \n",
       "HanMeimei  13500   15000  6052\n",
       "Jill       18000   42000  2018\n",
       "John       21000   39000  2018\n",
       "LiLei       1200    3000  2017\n",
       "Tommy      28000   78000  4035"
      ]
     },
     "execution_count": 163,
     "metadata": {},
     "output_type": "execute_result"
    }
   ],
   "source": [
    "group_by_name.sum() #求和"
   ]
  },
  {
   "cell_type": "code",
   "execution_count": 164,
   "metadata": {},
   "outputs": [
    {
     "data": {
      "text/html": [
       "<div>\n",
       "<style scoped>\n",
       "    .dataframe tbody tr th:only-of-type {\n",
       "        vertical-align: middle;\n",
       "    }\n",
       "\n",
       "    .dataframe tbody tr th {\n",
       "        vertical-align: top;\n",
       "    }\n",
       "\n",
       "    .dataframe thead th {\n",
       "        text-align: right;\n",
       "    }\n",
       "</style>\n",
       "<table border=\"1\" class=\"dataframe\">\n",
       "  <thead>\n",
       "    <tr style=\"text-align: right;\">\n",
       "      <th></th>\n",
       "      <th>Bonus</th>\n",
       "      <th>Salary</th>\n",
       "      <th>Year</th>\n",
       "    </tr>\n",
       "    <tr>\n",
       "      <th>Name</th>\n",
       "      <th></th>\n",
       "      <th></th>\n",
       "      <th></th>\n",
       "    </tr>\n",
       "  </thead>\n",
       "  <tbody>\n",
       "    <tr>\n",
       "      <th>HanMeimei</th>\n",
       "      <td>4500.0</td>\n",
       "      <td>5000.0</td>\n",
       "      <td>2017.333333</td>\n",
       "    </tr>\n",
       "    <tr>\n",
       "      <th>Jill</th>\n",
       "      <td>18000.0</td>\n",
       "      <td>42000.0</td>\n",
       "      <td>2018.000000</td>\n",
       "    </tr>\n",
       "    <tr>\n",
       "      <th>John</th>\n",
       "      <td>21000.0</td>\n",
       "      <td>39000.0</td>\n",
       "      <td>2018.000000</td>\n",
       "    </tr>\n",
       "    <tr>\n",
       "      <th>LiLei</th>\n",
       "      <td>1200.0</td>\n",
       "      <td>3000.0</td>\n",
       "      <td>2017.000000</td>\n",
       "    </tr>\n",
       "    <tr>\n",
       "      <th>Tommy</th>\n",
       "      <td>14000.0</td>\n",
       "      <td>39000.0</td>\n",
       "      <td>2017.500000</td>\n",
       "    </tr>\n",
       "  </tbody>\n",
       "</table>\n",
       "</div>"
      ],
      "text/plain": [
       "             Bonus   Salary         Year\n",
       "Name                                    \n",
       "HanMeimei   4500.0   5000.0  2017.333333\n",
       "Jill       18000.0  42000.0  2018.000000\n",
       "John       21000.0  39000.0  2018.000000\n",
       "LiLei       1200.0   3000.0  2017.000000\n",
       "Tommy      14000.0  39000.0  2017.500000"
      ]
     },
     "execution_count": 164,
     "metadata": {},
     "output_type": "execute_result"
    }
   ],
   "source": [
    "group_by_name.mean() #求均值"
   ]
  },
  {
   "cell_type": "code",
   "execution_count": 165,
   "metadata": {},
   "outputs": [
    {
     "data": {
      "text/html": [
       "<div>\n",
       "<style scoped>\n",
       "    .dataframe tbody tr th:only-of-type {\n",
       "        vertical-align: middle;\n",
       "    }\n",
       "\n",
       "    .dataframe tbody tr th {\n",
       "        vertical-align: top;\n",
       "    }\n",
       "\n",
       "    .dataframe thead th {\n",
       "        text-align: right;\n",
       "    }\n",
       "</style>\n",
       "<table border=\"1\" class=\"dataframe\">\n",
       "  <thead>\n",
       "    <tr style=\"text-align: right;\">\n",
       "      <th></th>\n",
       "      <th>Bonus</th>\n",
       "      <th>Salary</th>\n",
       "      <th>Year</th>\n",
       "    </tr>\n",
       "    <tr>\n",
       "      <th>Name</th>\n",
       "      <th></th>\n",
       "      <th></th>\n",
       "      <th></th>\n",
       "    </tr>\n",
       "  </thead>\n",
       "  <tbody>\n",
       "    <tr>\n",
       "      <th>HanMeimei</th>\n",
       "      <td>3500.0</td>\n",
       "      <td>5000.0</td>\n",
       "      <td>2017.0</td>\n",
       "    </tr>\n",
       "    <tr>\n",
       "      <th>Jill</th>\n",
       "      <td>18000.0</td>\n",
       "      <td>42000.0</td>\n",
       "      <td>2018.0</td>\n",
       "    </tr>\n",
       "    <tr>\n",
       "      <th>John</th>\n",
       "      <td>21000.0</td>\n",
       "      <td>39000.0</td>\n",
       "      <td>2018.0</td>\n",
       "    </tr>\n",
       "    <tr>\n",
       "      <th>LiLei</th>\n",
       "      <td>1200.0</td>\n",
       "      <td>3000.0</td>\n",
       "      <td>2017.0</td>\n",
       "    </tr>\n",
       "    <tr>\n",
       "      <th>Tommy</th>\n",
       "      <td>14000.0</td>\n",
       "      <td>39000.0</td>\n",
       "      <td>2017.5</td>\n",
       "    </tr>\n",
       "  </tbody>\n",
       "</table>\n",
       "</div>"
      ],
      "text/plain": [
       "             Bonus   Salary    Year\n",
       "Name                               \n",
       "HanMeimei   3500.0   5000.0  2017.0\n",
       "Jill       18000.0  42000.0  2018.0\n",
       "John       21000.0  39000.0  2018.0\n",
       "LiLei       1200.0   3000.0  2017.0\n",
       "Tommy      14000.0  39000.0  2017.5"
      ]
     },
     "execution_count": 165,
     "metadata": {},
     "output_type": "execute_result"
    }
   ],
   "source": [
    "group_by_name.median() #求中位数"
   ]
  },
  {
   "cell_type": "code",
   "execution_count": 166,
   "metadata": {},
   "outputs": [
    {
     "data": {
      "text/html": [
       "<div>\n",
       "<style scoped>\n",
       "    .dataframe tbody tr th:only-of-type {\n",
       "        vertical-align: middle;\n",
       "    }\n",
       "\n",
       "    .dataframe tbody tr th {\n",
       "        vertical-align: top;\n",
       "    }\n",
       "\n",
       "    .dataframe thead th {\n",
       "        text-align: right;\n",
       "    }\n",
       "</style>\n",
       "<table border=\"1\" class=\"dataframe\">\n",
       "  <thead>\n",
       "    <tr style=\"text-align: right;\">\n",
       "      <th></th>\n",
       "      <th>Bonus</th>\n",
       "      <th>Salary</th>\n",
       "    </tr>\n",
       "    <tr>\n",
       "      <th>Name</th>\n",
       "      <th></th>\n",
       "      <th></th>\n",
       "    </tr>\n",
       "  </thead>\n",
       "  <tbody>\n",
       "    <tr>\n",
       "      <th>HanMeimei</th>\n",
       "      <td>4500</td>\n",
       "      <td>5000</td>\n",
       "    </tr>\n",
       "    <tr>\n",
       "      <th>Jill</th>\n",
       "      <td>18000</td>\n",
       "      <td>42000</td>\n",
       "    </tr>\n",
       "    <tr>\n",
       "      <th>John</th>\n",
       "      <td>21000</td>\n",
       "      <td>39000</td>\n",
       "    </tr>\n",
       "    <tr>\n",
       "      <th>LiLei</th>\n",
       "      <td>1200</td>\n",
       "      <td>3000</td>\n",
       "    </tr>\n",
       "    <tr>\n",
       "      <th>Tommy</th>\n",
       "      <td>14000</td>\n",
       "      <td>39000</td>\n",
       "    </tr>\n",
       "  </tbody>\n",
       "</table>\n",
       "</div>"
      ],
      "text/plain": [
       "           Bonus  Salary\n",
       "Name                    \n",
       "HanMeimei   4500    5000\n",
       "Jill       18000   42000\n",
       "John       21000   39000\n",
       "LiLei       1200    3000\n",
       "Tommy      14000   39000"
      ]
     },
     "execution_count": 166,
     "metadata": {},
     "output_type": "execute_result"
    }
   ],
   "source": [
    "salaries.groupby('Name')[['Bonus','Salary']].mean() #筛选一些字段"
   ]
  },
  {
   "cell_type": "code",
   "execution_count": 167,
   "metadata": {},
   "outputs": [
    {
     "data": {
      "text/html": [
       "<div>\n",
       "<style scoped>\n",
       "    .dataframe tbody tr th:only-of-type {\n",
       "        vertical-align: middle;\n",
       "    }\n",
       "\n",
       "    .dataframe tbody tr th {\n",
       "        vertical-align: top;\n",
       "    }\n",
       "\n",
       "    .dataframe thead th {\n",
       "        text-align: right;\n",
       "    }\n",
       "</style>\n",
       "<table border=\"1\" class=\"dataframe\">\n",
       "  <thead>\n",
       "    <tr style=\"text-align: right;\">\n",
       "      <th></th>\n",
       "      <th></th>\n",
       "      <th>Bonus</th>\n",
       "      <th>Salary</th>\n",
       "    </tr>\n",
       "    <tr>\n",
       "      <th>Name</th>\n",
       "      <th>Year</th>\n",
       "      <th></th>\n",
       "      <th></th>\n",
       "    </tr>\n",
       "  </thead>\n",
       "  <tbody>\n",
       "    <tr>\n",
       "      <th rowspan=\"2\" valign=\"top\">HanMeimei</th>\n",
       "      <th>2017</th>\n",
       "      <td>6500</td>\n",
       "      <td>9000</td>\n",
       "    </tr>\n",
       "    <tr>\n",
       "      <th>2018</th>\n",
       "      <td>7000</td>\n",
       "      <td>6000</td>\n",
       "    </tr>\n",
       "    <tr>\n",
       "      <th>Jill</th>\n",
       "      <th>2018</th>\n",
       "      <td>18000</td>\n",
       "      <td>42000</td>\n",
       "    </tr>\n",
       "    <tr>\n",
       "      <th>John</th>\n",
       "      <th>2018</th>\n",
       "      <td>21000</td>\n",
       "      <td>39000</td>\n",
       "    </tr>\n",
       "    <tr>\n",
       "      <th>LiLei</th>\n",
       "      <th>2017</th>\n",
       "      <td>1200</td>\n",
       "      <td>3000</td>\n",
       "    </tr>\n",
       "    <tr>\n",
       "      <th rowspan=\"2\" valign=\"top\">Tommy</th>\n",
       "      <th>2017</th>\n",
       "      <td>12000</td>\n",
       "      <td>40000</td>\n",
       "    </tr>\n",
       "    <tr>\n",
       "      <th>2018</th>\n",
       "      <td>16000</td>\n",
       "      <td>38000</td>\n",
       "    </tr>\n",
       "  </tbody>\n",
       "</table>\n",
       "</div>"
      ],
      "text/plain": [
       "                Bonus  Salary\n",
       "Name      Year               \n",
       "HanMeimei 2017   6500    9000\n",
       "          2018   7000    6000\n",
       "Jill      2018  18000   42000\n",
       "John      2018  21000   39000\n",
       "LiLei     2017   1200    3000\n",
       "Tommy     2017  12000   40000\n",
       "          2018  16000   38000"
      ]
     },
     "execution_count": 167,
     "metadata": {},
     "output_type": "execute_result"
    }
   ],
   "source": [
    "# 按照几列去分组\n",
    "salaries.groupby([\"Name\", \"Year\"]).sum() #求和"
   ]
  },
  {
   "cell_type": "code",
   "execution_count": 168,
   "metadata": {},
   "outputs": [],
   "source": [
    "tmp = salaries.groupby([\"Name\", \"Year\"]).sum()"
   ]
  },
  {
   "cell_type": "code",
   "execution_count": 169,
   "metadata": {},
   "outputs": [
    {
     "data": {
      "text/plain": [
       "MultiIndex(levels=[['HanMeimei', 'Jill', 'John', 'LiLei', 'Tommy'], [2017, 2018]],\n",
       "           labels=[[0, 0, 1, 2, 3, 4, 4], [0, 1, 1, 1, 0, 0, 1]],\n",
       "           names=['Name', 'Year'])"
      ]
     },
     "execution_count": 169,
     "metadata": {},
     "output_type": "execute_result"
    }
   ],
   "source": [
    "tmp.index"
   ]
  },
  {
   "cell_type": "code",
   "execution_count": 170,
   "metadata": {},
   "outputs": [
    {
     "data": {
      "text/html": [
       "<div>\n",
       "<style scoped>\n",
       "    .dataframe tbody tr th:only-of-type {\n",
       "        vertical-align: middle;\n",
       "    }\n",
       "\n",
       "    .dataframe tbody tr th {\n",
       "        vertical-align: top;\n",
       "    }\n",
       "\n",
       "    .dataframe thead th {\n",
       "        text-align: right;\n",
       "    }\n",
       "</style>\n",
       "<table border=\"1\" class=\"dataframe\">\n",
       "  <thead>\n",
       "    <tr style=\"text-align: right;\">\n",
       "      <th></th>\n",
       "      <th>Name</th>\n",
       "      <th>Year</th>\n",
       "      <th>Bonus</th>\n",
       "      <th>Salary</th>\n",
       "    </tr>\n",
       "  </thead>\n",
       "  <tbody>\n",
       "    <tr>\n",
       "      <th>0</th>\n",
       "      <td>HanMeimei</td>\n",
       "      <td>2017</td>\n",
       "      <td>6500</td>\n",
       "      <td>9000</td>\n",
       "    </tr>\n",
       "    <tr>\n",
       "      <th>1</th>\n",
       "      <td>HanMeimei</td>\n",
       "      <td>2018</td>\n",
       "      <td>7000</td>\n",
       "      <td>6000</td>\n",
       "    </tr>\n",
       "    <tr>\n",
       "      <th>2</th>\n",
       "      <td>Jill</td>\n",
       "      <td>2018</td>\n",
       "      <td>18000</td>\n",
       "      <td>42000</td>\n",
       "    </tr>\n",
       "    <tr>\n",
       "      <th>3</th>\n",
       "      <td>John</td>\n",
       "      <td>2018</td>\n",
       "      <td>21000</td>\n",
       "      <td>39000</td>\n",
       "    </tr>\n",
       "    <tr>\n",
       "      <th>4</th>\n",
       "      <td>LiLei</td>\n",
       "      <td>2017</td>\n",
       "      <td>1200</td>\n",
       "      <td>3000</td>\n",
       "    </tr>\n",
       "    <tr>\n",
       "      <th>5</th>\n",
       "      <td>Tommy</td>\n",
       "      <td>2017</td>\n",
       "      <td>12000</td>\n",
       "      <td>40000</td>\n",
       "    </tr>\n",
       "    <tr>\n",
       "      <th>6</th>\n",
       "      <td>Tommy</td>\n",
       "      <td>2018</td>\n",
       "      <td>16000</td>\n",
       "      <td>38000</td>\n",
       "    </tr>\n",
       "  </tbody>\n",
       "</table>\n",
       "</div>"
      ],
      "text/plain": [
       "        Name  Year  Bonus  Salary\n",
       "0  HanMeimei  2017   6500    9000\n",
       "1  HanMeimei  2018   7000    6000\n",
       "2       Jill  2018  18000   42000\n",
       "3       John  2018  21000   39000\n",
       "4      LiLei  2017   1200    3000\n",
       "5      Tommy  2017  12000   40000\n",
       "6      Tommy  2018  16000   38000"
      ]
     },
     "execution_count": 170,
     "metadata": {},
     "output_type": "execute_result"
    }
   ],
   "source": [
    "tmp.reset_index() #以返回值形式返回"
   ]
  },
  {
   "cell_type": "code",
   "execution_count": 171,
   "metadata": {},
   "outputs": [
    {
     "data": {
      "text/html": [
       "<div>\n",
       "<style scoped>\n",
       "    .dataframe tbody tr th:only-of-type {\n",
       "        vertical-align: middle;\n",
       "    }\n",
       "\n",
       "    .dataframe tbody tr th {\n",
       "        vertical-align: top;\n",
       "    }\n",
       "\n",
       "    .dataframe thead th {\n",
       "        text-align: right;\n",
       "    }\n",
       "</style>\n",
       "<table border=\"1\" class=\"dataframe\">\n",
       "  <thead>\n",
       "    <tr style=\"text-align: right;\">\n",
       "      <th></th>\n",
       "      <th></th>\n",
       "      <th>Bonus</th>\n",
       "      <th>Salary</th>\n",
       "    </tr>\n",
       "    <tr>\n",
       "      <th>Name</th>\n",
       "      <th>Year</th>\n",
       "      <th></th>\n",
       "      <th></th>\n",
       "    </tr>\n",
       "  </thead>\n",
       "  <tbody>\n",
       "    <tr>\n",
       "      <th rowspan=\"2\" valign=\"top\">HanMeimei</th>\n",
       "      <th>2017</th>\n",
       "      <td>6500</td>\n",
       "      <td>9000</td>\n",
       "    </tr>\n",
       "    <tr>\n",
       "      <th>2018</th>\n",
       "      <td>7000</td>\n",
       "      <td>6000</td>\n",
       "    </tr>\n",
       "    <tr>\n",
       "      <th>Jill</th>\n",
       "      <th>2018</th>\n",
       "      <td>18000</td>\n",
       "      <td>42000</td>\n",
       "    </tr>\n",
       "    <tr>\n",
       "      <th>John</th>\n",
       "      <th>2018</th>\n",
       "      <td>21000</td>\n",
       "      <td>39000</td>\n",
       "    </tr>\n",
       "    <tr>\n",
       "      <th>LiLei</th>\n",
       "      <th>2017</th>\n",
       "      <td>1200</td>\n",
       "      <td>3000</td>\n",
       "    </tr>\n",
       "    <tr>\n",
       "      <th rowspan=\"2\" valign=\"top\">Tommy</th>\n",
       "      <th>2017</th>\n",
       "      <td>12000</td>\n",
       "      <td>40000</td>\n",
       "    </tr>\n",
       "    <tr>\n",
       "      <th>2018</th>\n",
       "      <td>16000</td>\n",
       "      <td>38000</td>\n",
       "    </tr>\n",
       "  </tbody>\n",
       "</table>\n",
       "</div>"
      ],
      "text/plain": [
       "                Bonus  Salary\n",
       "Name      Year               \n",
       "HanMeimei 2017   6500    9000\n",
       "          2018   7000    6000\n",
       "Jill      2018  18000   42000\n",
       "John      2018  21000   39000\n",
       "LiLei     2017   1200    3000\n",
       "Tommy     2017  12000   40000\n",
       "          2018  16000   38000"
      ]
     },
     "execution_count": 171,
     "metadata": {},
     "output_type": "execute_result"
    }
   ],
   "source": [
    "# 一个处理是否是就地变化\n",
    "tmp"
   ]
  },
  {
   "cell_type": "code",
   "execution_count": 16,
   "metadata": {
    "collapsed": true
   },
   "outputs": [],
   "source": [
    "# tmp.reset_index(inplace=True) #就地变换"
   ]
  },
  {
   "cell_type": "code",
   "execution_count": 172,
   "metadata": {},
   "outputs": [
    {
     "data": {
      "text/html": [
       "<div>\n",
       "<style scoped>\n",
       "    .dataframe tbody tr th:only-of-type {\n",
       "        vertical-align: middle;\n",
       "    }\n",
       "\n",
       "    .dataframe tbody tr th {\n",
       "        vertical-align: top;\n",
       "    }\n",
       "\n",
       "    .dataframe thead th {\n",
       "        text-align: right;\n",
       "    }\n",
       "</style>\n",
       "<table border=\"1\" class=\"dataframe\">\n",
       "  <thead>\n",
       "    <tr style=\"text-align: right;\">\n",
       "      <th></th>\n",
       "      <th>Bonus</th>\n",
       "      <th>Salary</th>\n",
       "      <th>Year</th>\n",
       "    </tr>\n",
       "    <tr>\n",
       "      <th>Name</th>\n",
       "      <th></th>\n",
       "      <th></th>\n",
       "      <th></th>\n",
       "    </tr>\n",
       "  </thead>\n",
       "  <tbody>\n",
       "    <tr>\n",
       "      <th>HanMeimei</th>\n",
       "      <td>13500</td>\n",
       "      <td>15000</td>\n",
       "      <td>6052</td>\n",
       "    </tr>\n",
       "    <tr>\n",
       "      <th>Jill</th>\n",
       "      <td>18000</td>\n",
       "      <td>42000</td>\n",
       "      <td>2018</td>\n",
       "    </tr>\n",
       "    <tr>\n",
       "      <th>John</th>\n",
       "      <td>21000</td>\n",
       "      <td>39000</td>\n",
       "      <td>2018</td>\n",
       "    </tr>\n",
       "    <tr>\n",
       "      <th>LiLei</th>\n",
       "      <td>1200</td>\n",
       "      <td>3000</td>\n",
       "      <td>2017</td>\n",
       "    </tr>\n",
       "    <tr>\n",
       "      <th>Tommy</th>\n",
       "      <td>28000</td>\n",
       "      <td>78000</td>\n",
       "      <td>4035</td>\n",
       "    </tr>\n",
       "  </tbody>\n",
       "</table>\n",
       "</div>"
      ],
      "text/plain": [
       "           Bonus  Salary  Year\n",
       "Name                          \n",
       "HanMeimei  13500   15000  6052\n",
       "Jill       18000   42000  2018\n",
       "John       21000   39000  2018\n",
       "LiLei       1200    3000  2017\n",
       "Tommy      28000   78000  4035"
      ]
     },
     "execution_count": 172,
     "metadata": {},
     "output_type": "execute_result"
    }
   ],
   "source": [
    "salaries.groupby(\"Name\").sum()"
   ]
  },
  {
   "cell_type": "code",
   "execution_count": 173,
   "metadata": {},
   "outputs": [
    {
     "data": {
      "text/html": [
       "<div>\n",
       "<style scoped>\n",
       "    .dataframe tbody tr th:only-of-type {\n",
       "        vertical-align: middle;\n",
       "    }\n",
       "\n",
       "    .dataframe tbody tr th {\n",
       "        vertical-align: top;\n",
       "    }\n",
       "\n",
       "    .dataframe thead th {\n",
       "        text-align: right;\n",
       "    }\n",
       "</style>\n",
       "<table border=\"1\" class=\"dataframe\">\n",
       "  <thead>\n",
       "    <tr style=\"text-align: right;\">\n",
       "      <th></th>\n",
       "      <th>Bonus</th>\n",
       "      <th>Salary</th>\n",
       "      <th>Year</th>\n",
       "    </tr>\n",
       "    <tr>\n",
       "      <th>Name</th>\n",
       "      <th></th>\n",
       "      <th></th>\n",
       "      <th></th>\n",
       "    </tr>\n",
       "  </thead>\n",
       "  <tbody>\n",
       "    <tr>\n",
       "      <th>Tommy</th>\n",
       "      <td>28000</td>\n",
       "      <td>78000</td>\n",
       "      <td>4035</td>\n",
       "    </tr>\n",
       "    <tr>\n",
       "      <th>HanMeimei</th>\n",
       "      <td>13500</td>\n",
       "      <td>15000</td>\n",
       "      <td>6052</td>\n",
       "    </tr>\n",
       "    <tr>\n",
       "      <th>LiLei</th>\n",
       "      <td>1200</td>\n",
       "      <td>3000</td>\n",
       "      <td>2017</td>\n",
       "    </tr>\n",
       "    <tr>\n",
       "      <th>Jill</th>\n",
       "      <td>18000</td>\n",
       "      <td>42000</td>\n",
       "      <td>2018</td>\n",
       "    </tr>\n",
       "    <tr>\n",
       "      <th>John</th>\n",
       "      <td>21000</td>\n",
       "      <td>39000</td>\n",
       "      <td>2018</td>\n",
       "    </tr>\n",
       "  </tbody>\n",
       "</table>\n",
       "</div>"
      ],
      "text/plain": [
       "           Bonus  Salary  Year\n",
       "Name                          \n",
       "Tommy      28000   78000  4035\n",
       "HanMeimei  13500   15000  6052\n",
       "LiLei       1200    3000  2017\n",
       "Jill       18000   42000  2018\n",
       "John       21000   39000  2018"
      ]
     },
     "execution_count": 173,
     "metadata": {},
     "output_type": "execute_result"
    }
   ],
   "source": [
    "salaries.groupby(\"Name\", sort=False).sum()"
   ]
  },
  {
   "cell_type": "markdown",
   "metadata": {},
   "source": [
    "#### 统计运算(直接调用统计运算的函数)\n",
    "* 求和\n",
    "* 求均值\n",
    "* 求中位数\n",
    "* 求标准差\n",
    "* 求频次"
   ]
  },
  {
   "cell_type": "code",
   "execution_count": 174,
   "metadata": {},
   "outputs": [
    {
     "data": {
      "text/html": [
       "<div>\n",
       "<style scoped>\n",
       "    .dataframe tbody tr th:only-of-type {\n",
       "        vertical-align: middle;\n",
       "    }\n",
       "\n",
       "    .dataframe tbody tr th {\n",
       "        vertical-align: top;\n",
       "    }\n",
       "\n",
       "    .dataframe thead th {\n",
       "        text-align: right;\n",
       "    }\n",
       "</style>\n",
       "<table border=\"1\" class=\"dataframe\">\n",
       "  <thead>\n",
       "    <tr style=\"text-align: right;\">\n",
       "      <th></th>\n",
       "      <th>Bonus</th>\n",
       "      <th>Salary</th>\n",
       "      <th>Year</th>\n",
       "    </tr>\n",
       "    <tr>\n",
       "      <th>Name</th>\n",
       "      <th></th>\n",
       "      <th></th>\n",
       "      <th></th>\n",
       "    </tr>\n",
       "  </thead>\n",
       "  <tbody>\n",
       "    <tr>\n",
       "      <th>HanMeimei</th>\n",
       "      <td>13500</td>\n",
       "      <td>15000</td>\n",
       "      <td>6052</td>\n",
       "    </tr>\n",
       "    <tr>\n",
       "      <th>Jill</th>\n",
       "      <td>18000</td>\n",
       "      <td>42000</td>\n",
       "      <td>2018</td>\n",
       "    </tr>\n",
       "    <tr>\n",
       "      <th>John</th>\n",
       "      <td>21000</td>\n",
       "      <td>39000</td>\n",
       "      <td>2018</td>\n",
       "    </tr>\n",
       "    <tr>\n",
       "      <th>LiLei</th>\n",
       "      <td>1200</td>\n",
       "      <td>3000</td>\n",
       "      <td>2017</td>\n",
       "    </tr>\n",
       "    <tr>\n",
       "      <th>Tommy</th>\n",
       "      <td>28000</td>\n",
       "      <td>78000</td>\n",
       "      <td>4035</td>\n",
       "    </tr>\n",
       "  </tbody>\n",
       "</table>\n",
       "</div>"
      ],
      "text/plain": [
       "           Bonus  Salary  Year\n",
       "Name                          \n",
       "HanMeimei  13500   15000  6052\n",
       "Jill       18000   42000  2018\n",
       "John       21000   39000  2018\n",
       "LiLei       1200    3000  2017\n",
       "Tommy      28000   78000  4035"
      ]
     },
     "execution_count": 174,
     "metadata": {},
     "output_type": "execute_result"
    }
   ],
   "source": [
    "salaries.groupby(\"Name\").sum()"
   ]
  },
  {
   "cell_type": "code",
   "execution_count": 175,
   "metadata": {},
   "outputs": [
    {
     "data": {
      "text/html": [
       "<div>\n",
       "<style scoped>\n",
       "    .dataframe tbody tr th:only-of-type {\n",
       "        vertical-align: middle;\n",
       "    }\n",
       "\n",
       "    .dataframe tbody tr th {\n",
       "        vertical-align: top;\n",
       "    }\n",
       "\n",
       "    .dataframe thead th {\n",
       "        text-align: right;\n",
       "    }\n",
       "</style>\n",
       "<table border=\"1\" class=\"dataframe\">\n",
       "  <thead>\n",
       "    <tr style=\"text-align: right;\">\n",
       "      <th></th>\n",
       "      <th>Bonus</th>\n",
       "      <th>Salary</th>\n",
       "      <th>Year</th>\n",
       "    </tr>\n",
       "    <tr>\n",
       "      <th>Name</th>\n",
       "      <th></th>\n",
       "      <th></th>\n",
       "      <th></th>\n",
       "    </tr>\n",
       "  </thead>\n",
       "  <tbody>\n",
       "    <tr>\n",
       "      <th>HanMeimei</th>\n",
       "      <td>4500.0</td>\n",
       "      <td>5000.0</td>\n",
       "      <td>2017.333333</td>\n",
       "    </tr>\n",
       "    <tr>\n",
       "      <th>Jill</th>\n",
       "      <td>18000.0</td>\n",
       "      <td>42000.0</td>\n",
       "      <td>2018.000000</td>\n",
       "    </tr>\n",
       "    <tr>\n",
       "      <th>John</th>\n",
       "      <td>21000.0</td>\n",
       "      <td>39000.0</td>\n",
       "      <td>2018.000000</td>\n",
       "    </tr>\n",
       "    <tr>\n",
       "      <th>LiLei</th>\n",
       "      <td>1200.0</td>\n",
       "      <td>3000.0</td>\n",
       "      <td>2017.000000</td>\n",
       "    </tr>\n",
       "    <tr>\n",
       "      <th>Tommy</th>\n",
       "      <td>14000.0</td>\n",
       "      <td>39000.0</td>\n",
       "      <td>2017.500000</td>\n",
       "    </tr>\n",
       "  </tbody>\n",
       "</table>\n",
       "</div>"
      ],
      "text/plain": [
       "             Bonus   Salary         Year\n",
       "Name                                    \n",
       "HanMeimei   4500.0   5000.0  2017.333333\n",
       "Jill       18000.0  42000.0  2018.000000\n",
       "John       21000.0  39000.0  2018.000000\n",
       "LiLei       1200.0   3000.0  2017.000000\n",
       "Tommy      14000.0  39000.0  2017.500000"
      ]
     },
     "execution_count": 175,
     "metadata": {},
     "output_type": "execute_result"
    }
   ],
   "source": [
    "salaries.groupby(\"Name\").mean()"
   ]
  },
  {
   "cell_type": "code",
   "execution_count": 176,
   "metadata": {},
   "outputs": [
    {
     "data": {
      "text/html": [
       "<div>\n",
       "<style scoped>\n",
       "    .dataframe tbody tr th:only-of-type {\n",
       "        vertical-align: middle;\n",
       "    }\n",
       "\n",
       "    .dataframe tbody tr th {\n",
       "        vertical-align: top;\n",
       "    }\n",
       "\n",
       "    .dataframe thead th {\n",
       "        text-align: right;\n",
       "    }\n",
       "</style>\n",
       "<table border=\"1\" class=\"dataframe\">\n",
       "  <thead>\n",
       "    <tr style=\"text-align: right;\">\n",
       "      <th></th>\n",
       "      <th>Bonus</th>\n",
       "      <th>Salary</th>\n",
       "      <th>Year</th>\n",
       "    </tr>\n",
       "    <tr>\n",
       "      <th>Name</th>\n",
       "      <th></th>\n",
       "      <th></th>\n",
       "      <th></th>\n",
       "    </tr>\n",
       "  </thead>\n",
       "  <tbody>\n",
       "    <tr>\n",
       "      <th>HanMeimei</th>\n",
       "      <td>3500.0</td>\n",
       "      <td>5000.0</td>\n",
       "      <td>2017.0</td>\n",
       "    </tr>\n",
       "    <tr>\n",
       "      <th>Jill</th>\n",
       "      <td>18000.0</td>\n",
       "      <td>42000.0</td>\n",
       "      <td>2018.0</td>\n",
       "    </tr>\n",
       "    <tr>\n",
       "      <th>John</th>\n",
       "      <td>21000.0</td>\n",
       "      <td>39000.0</td>\n",
       "      <td>2018.0</td>\n",
       "    </tr>\n",
       "    <tr>\n",
       "      <th>LiLei</th>\n",
       "      <td>1200.0</td>\n",
       "      <td>3000.0</td>\n",
       "      <td>2017.0</td>\n",
       "    </tr>\n",
       "    <tr>\n",
       "      <th>Tommy</th>\n",
       "      <td>14000.0</td>\n",
       "      <td>39000.0</td>\n",
       "      <td>2017.5</td>\n",
       "    </tr>\n",
       "  </tbody>\n",
       "</table>\n",
       "</div>"
      ],
      "text/plain": [
       "             Bonus   Salary    Year\n",
       "Name                               \n",
       "HanMeimei   3500.0   5000.0  2017.0\n",
       "Jill       18000.0  42000.0  2018.0\n",
       "John       21000.0  39000.0  2018.0\n",
       "LiLei       1200.0   3000.0  2017.0\n",
       "Tommy      14000.0  39000.0  2017.5"
      ]
     },
     "execution_count": 176,
     "metadata": {},
     "output_type": "execute_result"
    }
   ],
   "source": [
    "salaries.groupby(\"Name\").median()"
   ]
  },
  {
   "cell_type": "code",
   "execution_count": 177,
   "metadata": {},
   "outputs": [
    {
     "data": {
      "text/html": [
       "<div>\n",
       "<style scoped>\n",
       "    .dataframe tbody tr th:only-of-type {\n",
       "        vertical-align: middle;\n",
       "    }\n",
       "\n",
       "    .dataframe tbody tr th {\n",
       "        vertical-align: top;\n",
       "    }\n",
       "\n",
       "    .dataframe thead th {\n",
       "        text-align: right;\n",
       "    }\n",
       "</style>\n",
       "<table border=\"1\" class=\"dataframe\">\n",
       "  <thead>\n",
       "    <tr style=\"text-align: right;\">\n",
       "      <th></th>\n",
       "      <th>Bonus</th>\n",
       "      <th>Name</th>\n",
       "      <th>Salary</th>\n",
       "      <th>Year</th>\n",
       "    </tr>\n",
       "  </thead>\n",
       "  <tbody>\n",
       "    <tr>\n",
       "      <th>0</th>\n",
       "      <td>12000</td>\n",
       "      <td>Tommy</td>\n",
       "      <td>40000</td>\n",
       "      <td>2017</td>\n",
       "    </tr>\n",
       "    <tr>\n",
       "      <th>1</th>\n",
       "      <td>3000</td>\n",
       "      <td>HanMeimei</td>\n",
       "      <td>5000</td>\n",
       "      <td>2017</td>\n",
       "    </tr>\n",
       "    <tr>\n",
       "      <th>2</th>\n",
       "      <td>3500</td>\n",
       "      <td>HanMeimei</td>\n",
       "      <td>4000</td>\n",
       "      <td>2017</td>\n",
       "    </tr>\n",
       "    <tr>\n",
       "      <th>3</th>\n",
       "      <td>1200</td>\n",
       "      <td>LiLei</td>\n",
       "      <td>3000</td>\n",
       "      <td>2017</td>\n",
       "    </tr>\n",
       "    <tr>\n",
       "      <th>4</th>\n",
       "      <td>16000</td>\n",
       "      <td>Tommy</td>\n",
       "      <td>38000</td>\n",
       "      <td>2018</td>\n",
       "    </tr>\n",
       "    <tr>\n",
       "      <th>5</th>\n",
       "      <td>18000</td>\n",
       "      <td>Jill</td>\n",
       "      <td>42000</td>\n",
       "      <td>2018</td>\n",
       "    </tr>\n",
       "    <tr>\n",
       "      <th>6</th>\n",
       "      <td>7000</td>\n",
       "      <td>HanMeimei</td>\n",
       "      <td>6000</td>\n",
       "      <td>2018</td>\n",
       "    </tr>\n",
       "    <tr>\n",
       "      <th>7</th>\n",
       "      <td>21000</td>\n",
       "      <td>John</td>\n",
       "      <td>39000</td>\n",
       "      <td>2018</td>\n",
       "    </tr>\n",
       "  </tbody>\n",
       "</table>\n",
       "</div>"
      ],
      "text/plain": [
       "   Bonus       Name  Salary  Year\n",
       "0  12000      Tommy   40000  2017\n",
       "1   3000  HanMeimei    5000  2017\n",
       "2   3500  HanMeimei    4000  2017\n",
       "3   1200      LiLei    3000  2017\n",
       "4  16000      Tommy   38000  2018\n",
       "5  18000       Jill   42000  2018\n",
       "6   7000  HanMeimei    6000  2018\n",
       "7  21000       John   39000  2018"
      ]
     },
     "execution_count": 177,
     "metadata": {},
     "output_type": "execute_result"
    }
   ],
   "source": [
    "salaries"
   ]
  },
  {
   "cell_type": "code",
   "execution_count": 178,
   "metadata": {},
   "outputs": [
    {
     "data": {
      "text/plain": [
       "Name\n",
       "HanMeimei    3\n",
       "Jill         1\n",
       "John         1\n",
       "LiLei        1\n",
       "Tommy        2\n",
       "dtype: int64"
      ]
     },
     "execution_count": 178,
     "metadata": {},
     "output_type": "execute_result"
    }
   ],
   "source": [
    "salaries.groupby(\"Name\").size() #频次"
   ]
  },
  {
   "cell_type": "markdown",
   "metadata": {},
   "source": [
    "#### 三个重要函数"
   ]
  },
  {
   "cell_type": "code",
   "execution_count": 179,
   "metadata": {},
   "outputs": [
    {
     "data": {
      "text/plain": [
       "(8, 4)"
      ]
     },
     "execution_count": 179,
     "metadata": {},
     "output_type": "execute_result"
    }
   ],
   "source": [
    "salaries.shape"
   ]
  },
  {
   "cell_type": "code",
   "execution_count": 181,
   "metadata": {},
   "outputs": [
    {
     "name": "stdout",
     "output_type": "stream",
     "text": [
      "<class 'pandas.core.frame.DataFrame'>\n",
      "RangeIndex: 8 entries, 0 to 7\n",
      "Data columns (total 4 columns):\n",
      "Bonus     8 non-null int64\n",
      "Name      8 non-null object\n",
      "Salary    8 non-null int64\n",
      "Year      8 non-null int64\n",
      "dtypes: int64(3), object(1)\n",
      "memory usage: 336.0+ bytes\n"
     ]
    }
   ],
   "source": [
    "# 这个函数非常好用\n",
    "salaries.info()"
   ]
  },
  {
   "cell_type": "code",
   "execution_count": 182,
   "metadata": {
    "scrolled": true
   },
   "outputs": [
    {
     "data": {
      "text/html": [
       "<div>\n",
       "<style scoped>\n",
       "    .dataframe tbody tr th:only-of-type {\n",
       "        vertical-align: middle;\n",
       "    }\n",
       "\n",
       "    .dataframe tbody tr th {\n",
       "        vertical-align: top;\n",
       "    }\n",
       "\n",
       "    .dataframe thead th {\n",
       "        text-align: right;\n",
       "    }\n",
       "</style>\n",
       "<table border=\"1\" class=\"dataframe\">\n",
       "  <thead>\n",
       "    <tr style=\"text-align: right;\">\n",
       "      <th></th>\n",
       "      <th>Bonus</th>\n",
       "      <th>Salary</th>\n",
       "      <th>Year</th>\n",
       "    </tr>\n",
       "  </thead>\n",
       "  <tbody>\n",
       "    <tr>\n",
       "      <th>count</th>\n",
       "      <td>8.000000</td>\n",
       "      <td>8.000000</td>\n",
       "      <td>8.000000</td>\n",
       "    </tr>\n",
       "    <tr>\n",
       "      <th>mean</th>\n",
       "      <td>10212.500000</td>\n",
       "      <td>22125.000000</td>\n",
       "      <td>2017.500000</td>\n",
       "    </tr>\n",
       "    <tr>\n",
       "      <th>std</th>\n",
       "      <td>7581.262145</td>\n",
       "      <td>18893.971072</td>\n",
       "      <td>0.534522</td>\n",
       "    </tr>\n",
       "    <tr>\n",
       "      <th>min</th>\n",
       "      <td>1200.000000</td>\n",
       "      <td>3000.000000</td>\n",
       "      <td>2017.000000</td>\n",
       "    </tr>\n",
       "    <tr>\n",
       "      <th>25%</th>\n",
       "      <td>3375.000000</td>\n",
       "      <td>4750.000000</td>\n",
       "      <td>2017.000000</td>\n",
       "    </tr>\n",
       "    <tr>\n",
       "      <th>50%</th>\n",
       "      <td>9500.000000</td>\n",
       "      <td>22000.000000</td>\n",
       "      <td>2017.500000</td>\n",
       "    </tr>\n",
       "    <tr>\n",
       "      <th>75%</th>\n",
       "      <td>16500.000000</td>\n",
       "      <td>39250.000000</td>\n",
       "      <td>2018.000000</td>\n",
       "    </tr>\n",
       "    <tr>\n",
       "      <th>max</th>\n",
       "      <td>21000.000000</td>\n",
       "      <td>42000.000000</td>\n",
       "      <td>2018.000000</td>\n",
       "    </tr>\n",
       "  </tbody>\n",
       "</table>\n",
       "</div>"
      ],
      "text/plain": [
       "              Bonus        Salary         Year\n",
       "count      8.000000      8.000000     8.000000\n",
       "mean   10212.500000  22125.000000  2017.500000\n",
       "std     7581.262145  18893.971072     0.534522\n",
       "min     1200.000000   3000.000000  2017.000000\n",
       "25%     3375.000000   4750.000000  2017.000000\n",
       "50%     9500.000000  22000.000000  2017.500000\n",
       "75%    16500.000000  39250.000000  2018.000000\n",
       "max    21000.000000  42000.000000  2018.000000"
      ]
     },
     "execution_count": 182,
     "metadata": {},
     "output_type": "execute_result"
    }
   ],
   "source": [
    "salaries.describe() #输出分布信息的函数，常用的信息都在这了"
   ]
  },
  {
   "cell_type": "code",
   "execution_count": 183,
   "metadata": {},
   "outputs": [
    {
     "data": {
      "text/html": [
       "<div>\n",
       "<style scoped>\n",
       "    .dataframe tbody tr th:only-of-type {\n",
       "        vertical-align: middle;\n",
       "    }\n",
       "\n",
       "    .dataframe tbody tr th {\n",
       "        vertical-align: top;\n",
       "    }\n",
       "\n",
       "    .dataframe thead tr th {\n",
       "        text-align: left;\n",
       "    }\n",
       "\n",
       "    .dataframe thead tr:last-of-type th {\n",
       "        text-align: right;\n",
       "    }\n",
       "</style>\n",
       "<table border=\"1\" class=\"dataframe\">\n",
       "  <thead>\n",
       "    <tr>\n",
       "      <th></th>\n",
       "      <th colspan=\"8\" halign=\"left\">Bonus</th>\n",
       "      <th colspan=\"5\" halign=\"left\">Salary</th>\n",
       "      <th colspan=\"8\" halign=\"left\">Year</th>\n",
       "    </tr>\n",
       "    <tr>\n",
       "      <th></th>\n",
       "      <th>count</th>\n",
       "      <th>mean</th>\n",
       "      <th>std</th>\n",
       "      <th>min</th>\n",
       "      <th>25%</th>\n",
       "      <th>50%</th>\n",
       "      <th>75%</th>\n",
       "      <th>max</th>\n",
       "      <th>count</th>\n",
       "      <th>mean</th>\n",
       "      <th>...</th>\n",
       "      <th>75%</th>\n",
       "      <th>max</th>\n",
       "      <th>count</th>\n",
       "      <th>mean</th>\n",
       "      <th>std</th>\n",
       "      <th>min</th>\n",
       "      <th>25%</th>\n",
       "      <th>50%</th>\n",
       "      <th>75%</th>\n",
       "      <th>max</th>\n",
       "    </tr>\n",
       "    <tr>\n",
       "      <th>Name</th>\n",
       "      <th></th>\n",
       "      <th></th>\n",
       "      <th></th>\n",
       "      <th></th>\n",
       "      <th></th>\n",
       "      <th></th>\n",
       "      <th></th>\n",
       "      <th></th>\n",
       "      <th></th>\n",
       "      <th></th>\n",
       "      <th></th>\n",
       "      <th></th>\n",
       "      <th></th>\n",
       "      <th></th>\n",
       "      <th></th>\n",
       "      <th></th>\n",
       "      <th></th>\n",
       "      <th></th>\n",
       "      <th></th>\n",
       "      <th></th>\n",
       "      <th></th>\n",
       "    </tr>\n",
       "  </thead>\n",
       "  <tbody>\n",
       "    <tr>\n",
       "      <th>HanMeimei</th>\n",
       "      <td>3.0</td>\n",
       "      <td>4500.0</td>\n",
       "      <td>2179.449472</td>\n",
       "      <td>3000.0</td>\n",
       "      <td>3250.0</td>\n",
       "      <td>3500.0</td>\n",
       "      <td>5250.0</td>\n",
       "      <td>7000.0</td>\n",
       "      <td>3.0</td>\n",
       "      <td>5000.0</td>\n",
       "      <td>...</td>\n",
       "      <td>5500.0</td>\n",
       "      <td>6000.0</td>\n",
       "      <td>3.0</td>\n",
       "      <td>2017.333333</td>\n",
       "      <td>0.577350</td>\n",
       "      <td>2017.0</td>\n",
       "      <td>2017.00</td>\n",
       "      <td>2017.0</td>\n",
       "      <td>2017.50</td>\n",
       "      <td>2018.0</td>\n",
       "    </tr>\n",
       "    <tr>\n",
       "      <th>Jill</th>\n",
       "      <td>1.0</td>\n",
       "      <td>18000.0</td>\n",
       "      <td>NaN</td>\n",
       "      <td>18000.0</td>\n",
       "      <td>18000.0</td>\n",
       "      <td>18000.0</td>\n",
       "      <td>18000.0</td>\n",
       "      <td>18000.0</td>\n",
       "      <td>1.0</td>\n",
       "      <td>42000.0</td>\n",
       "      <td>...</td>\n",
       "      <td>42000.0</td>\n",
       "      <td>42000.0</td>\n",
       "      <td>1.0</td>\n",
       "      <td>2018.000000</td>\n",
       "      <td>NaN</td>\n",
       "      <td>2018.0</td>\n",
       "      <td>2018.00</td>\n",
       "      <td>2018.0</td>\n",
       "      <td>2018.00</td>\n",
       "      <td>2018.0</td>\n",
       "    </tr>\n",
       "    <tr>\n",
       "      <th>John</th>\n",
       "      <td>1.0</td>\n",
       "      <td>21000.0</td>\n",
       "      <td>NaN</td>\n",
       "      <td>21000.0</td>\n",
       "      <td>21000.0</td>\n",
       "      <td>21000.0</td>\n",
       "      <td>21000.0</td>\n",
       "      <td>21000.0</td>\n",
       "      <td>1.0</td>\n",
       "      <td>39000.0</td>\n",
       "      <td>...</td>\n",
       "      <td>39000.0</td>\n",
       "      <td>39000.0</td>\n",
       "      <td>1.0</td>\n",
       "      <td>2018.000000</td>\n",
       "      <td>NaN</td>\n",
       "      <td>2018.0</td>\n",
       "      <td>2018.00</td>\n",
       "      <td>2018.0</td>\n",
       "      <td>2018.00</td>\n",
       "      <td>2018.0</td>\n",
       "    </tr>\n",
       "    <tr>\n",
       "      <th>LiLei</th>\n",
       "      <td>1.0</td>\n",
       "      <td>1200.0</td>\n",
       "      <td>NaN</td>\n",
       "      <td>1200.0</td>\n",
       "      <td>1200.0</td>\n",
       "      <td>1200.0</td>\n",
       "      <td>1200.0</td>\n",
       "      <td>1200.0</td>\n",
       "      <td>1.0</td>\n",
       "      <td>3000.0</td>\n",
       "      <td>...</td>\n",
       "      <td>3000.0</td>\n",
       "      <td>3000.0</td>\n",
       "      <td>1.0</td>\n",
       "      <td>2017.000000</td>\n",
       "      <td>NaN</td>\n",
       "      <td>2017.0</td>\n",
       "      <td>2017.00</td>\n",
       "      <td>2017.0</td>\n",
       "      <td>2017.00</td>\n",
       "      <td>2017.0</td>\n",
       "    </tr>\n",
       "    <tr>\n",
       "      <th>Tommy</th>\n",
       "      <td>2.0</td>\n",
       "      <td>14000.0</td>\n",
       "      <td>2828.427125</td>\n",
       "      <td>12000.0</td>\n",
       "      <td>13000.0</td>\n",
       "      <td>14000.0</td>\n",
       "      <td>15000.0</td>\n",
       "      <td>16000.0</td>\n",
       "      <td>2.0</td>\n",
       "      <td>39000.0</td>\n",
       "      <td>...</td>\n",
       "      <td>39500.0</td>\n",
       "      <td>40000.0</td>\n",
       "      <td>2.0</td>\n",
       "      <td>2017.500000</td>\n",
       "      <td>0.707107</td>\n",
       "      <td>2017.0</td>\n",
       "      <td>2017.25</td>\n",
       "      <td>2017.5</td>\n",
       "      <td>2017.75</td>\n",
       "      <td>2018.0</td>\n",
       "    </tr>\n",
       "  </tbody>\n",
       "</table>\n",
       "<p>5 rows × 24 columns</p>\n",
       "</div>"
      ],
      "text/plain": [
       "          Bonus                                                            \\\n",
       "          count     mean          std      min      25%      50%      75%   \n",
       "Name                                                                        \n",
       "HanMeimei   3.0   4500.0  2179.449472   3000.0   3250.0   3500.0   5250.0   \n",
       "Jill        1.0  18000.0          NaN  18000.0  18000.0  18000.0  18000.0   \n",
       "John        1.0  21000.0          NaN  21000.0  21000.0  21000.0  21000.0   \n",
       "LiLei       1.0   1200.0          NaN   1200.0   1200.0   1200.0   1200.0   \n",
       "Tommy       2.0  14000.0  2828.427125  12000.0  13000.0  14000.0  15000.0   \n",
       "\n",
       "                   Salary            ...                      Year  \\\n",
       "               max  count     mean   ...        75%      max count   \n",
       "Name                                 ...                             \n",
       "HanMeimei   7000.0    3.0   5000.0   ...     5500.0   6000.0   3.0   \n",
       "Jill       18000.0    1.0  42000.0   ...    42000.0  42000.0   1.0   \n",
       "John       21000.0    1.0  39000.0   ...    39000.0  39000.0   1.0   \n",
       "LiLei       1200.0    1.0   3000.0   ...     3000.0   3000.0   1.0   \n",
       "Tommy      16000.0    2.0  39000.0   ...    39500.0  40000.0   2.0   \n",
       "\n",
       "                                                                            \n",
       "                  mean       std     min      25%     50%      75%     max  \n",
       "Name                                                                        \n",
       "HanMeimei  2017.333333  0.577350  2017.0  2017.00  2017.0  2017.50  2018.0  \n",
       "Jill       2018.000000       NaN  2018.0  2018.00  2018.0  2018.00  2018.0  \n",
       "John       2018.000000       NaN  2018.0  2018.00  2018.0  2018.00  2018.0  \n",
       "LiLei      2017.000000       NaN  2017.0  2017.00  2017.0  2017.00  2017.0  \n",
       "Tommy      2017.500000  0.707107  2017.0  2017.25  2017.5  2017.75  2018.0  \n",
       "\n",
       "[5 rows x 24 columns]"
      ]
     },
     "execution_count": 183,
     "metadata": {},
     "output_type": "execute_result"
    }
   ],
   "source": [
    "# 分组 + 分布信息的输出\n",
    "salaries.groupby(\"Name\").describe()"
   ]
  },
  {
   "cell_type": "markdown",
   "metadata": {},
   "source": [
    "#### 统计运算(用聚合函数)\n",
    "* 求和\n",
    "* 求均值\n",
    "* 求中位数\n",
    "* 求标准差\n",
    "* 求频次"
   ]
  },
  {
   "cell_type": "code",
   "execution_count": 184,
   "metadata": {},
   "outputs": [
    {
     "data": {
      "text/html": [
       "<div>\n",
       "<style scoped>\n",
       "    .dataframe tbody tr th:only-of-type {\n",
       "        vertical-align: middle;\n",
       "    }\n",
       "\n",
       "    .dataframe tbody tr th {\n",
       "        vertical-align: top;\n",
       "    }\n",
       "\n",
       "    .dataframe thead tr th {\n",
       "        text-align: left;\n",
       "    }\n",
       "\n",
       "    .dataframe thead tr:last-of-type th {\n",
       "        text-align: right;\n",
       "    }\n",
       "</style>\n",
       "<table border=\"1\" class=\"dataframe\">\n",
       "  <thead>\n",
       "    <tr>\n",
       "      <th></th>\n",
       "      <th colspan=\"4\" halign=\"left\">Bonus</th>\n",
       "      <th colspan=\"4\" halign=\"left\">Salary</th>\n",
       "    </tr>\n",
       "    <tr>\n",
       "      <th></th>\n",
       "      <th>sum</th>\n",
       "      <th>mean</th>\n",
       "      <th>std</th>\n",
       "      <th>median</th>\n",
       "      <th>sum</th>\n",
       "      <th>mean</th>\n",
       "      <th>std</th>\n",
       "      <th>median</th>\n",
       "    </tr>\n",
       "    <tr>\n",
       "      <th>Name</th>\n",
       "      <th></th>\n",
       "      <th></th>\n",
       "      <th></th>\n",
       "      <th></th>\n",
       "      <th></th>\n",
       "      <th></th>\n",
       "      <th></th>\n",
       "      <th></th>\n",
       "    </tr>\n",
       "  </thead>\n",
       "  <tbody>\n",
       "    <tr>\n",
       "      <th>HanMeimei</th>\n",
       "      <td>13500</td>\n",
       "      <td>4500</td>\n",
       "      <td>2179.449472</td>\n",
       "      <td>3500</td>\n",
       "      <td>15000</td>\n",
       "      <td>5000</td>\n",
       "      <td>1000.000000</td>\n",
       "      <td>5000</td>\n",
       "    </tr>\n",
       "    <tr>\n",
       "      <th>Jill</th>\n",
       "      <td>18000</td>\n",
       "      <td>18000</td>\n",
       "      <td>NaN</td>\n",
       "      <td>18000</td>\n",
       "      <td>42000</td>\n",
       "      <td>42000</td>\n",
       "      <td>NaN</td>\n",
       "      <td>42000</td>\n",
       "    </tr>\n",
       "    <tr>\n",
       "      <th>John</th>\n",
       "      <td>21000</td>\n",
       "      <td>21000</td>\n",
       "      <td>NaN</td>\n",
       "      <td>21000</td>\n",
       "      <td>39000</td>\n",
       "      <td>39000</td>\n",
       "      <td>NaN</td>\n",
       "      <td>39000</td>\n",
       "    </tr>\n",
       "    <tr>\n",
       "      <th>LiLei</th>\n",
       "      <td>1200</td>\n",
       "      <td>1200</td>\n",
       "      <td>NaN</td>\n",
       "      <td>1200</td>\n",
       "      <td>3000</td>\n",
       "      <td>3000</td>\n",
       "      <td>NaN</td>\n",
       "      <td>3000</td>\n",
       "    </tr>\n",
       "    <tr>\n",
       "      <th>Tommy</th>\n",
       "      <td>28000</td>\n",
       "      <td>14000</td>\n",
       "      <td>2828.427125</td>\n",
       "      <td>14000</td>\n",
       "      <td>78000</td>\n",
       "      <td>39000</td>\n",
       "      <td>1414.213562</td>\n",
       "      <td>39000</td>\n",
       "    </tr>\n",
       "  </tbody>\n",
       "</table>\n",
       "</div>"
      ],
      "text/plain": [
       "           Bonus                            Salary                           \n",
       "             sum   mean          std median    sum   mean          std median\n",
       "Name                                                                         \n",
       "HanMeimei  13500   4500  2179.449472   3500  15000   5000  1000.000000   5000\n",
       "Jill       18000  18000          NaN  18000  42000  42000          NaN  42000\n",
       "John       21000  21000          NaN  21000  39000  39000          NaN  39000\n",
       "LiLei       1200   1200          NaN   1200   3000   3000          NaN   3000\n",
       "Tommy      28000  14000  2828.427125  14000  78000  39000  1414.213562  39000"
      ]
     },
     "execution_count": 184,
     "metadata": {},
     "output_type": "execute_result"
    }
   ],
   "source": [
    "salaries.groupby(\"Name\")[[\"Bonus\",'Salary']].agg(['sum', 'mean', 'std', 'median'])"
   ]
  },
  {
   "cell_type": "code",
   "execution_count": 185,
   "metadata": {},
   "outputs": [
    {
     "data": {
      "text/html": [
       "<div>\n",
       "<style scoped>\n",
       "    .dataframe tbody tr th:only-of-type {\n",
       "        vertical-align: middle;\n",
       "    }\n",
       "\n",
       "    .dataframe tbody tr th {\n",
       "        vertical-align: top;\n",
       "    }\n",
       "\n",
       "    .dataframe thead tr th {\n",
       "        text-align: left;\n",
       "    }\n",
       "\n",
       "    .dataframe thead tr:last-of-type th {\n",
       "        text-align: right;\n",
       "    }\n",
       "</style>\n",
       "<table border=\"1\" class=\"dataframe\">\n",
       "  <thead>\n",
       "    <tr>\n",
       "      <th></th>\n",
       "      <th colspan=\"4\" halign=\"left\">Bonus</th>\n",
       "      <th colspan=\"4\" halign=\"left\">Salary</th>\n",
       "    </tr>\n",
       "    <tr>\n",
       "      <th></th>\n",
       "      <th>mean</th>\n",
       "      <th>sum</th>\n",
       "      <th>std</th>\n",
       "      <th>median</th>\n",
       "      <th>mean</th>\n",
       "      <th>sum</th>\n",
       "      <th>std</th>\n",
       "      <th>median</th>\n",
       "    </tr>\n",
       "    <tr>\n",
       "      <th>Name</th>\n",
       "      <th></th>\n",
       "      <th></th>\n",
       "      <th></th>\n",
       "      <th></th>\n",
       "      <th></th>\n",
       "      <th></th>\n",
       "      <th></th>\n",
       "      <th></th>\n",
       "    </tr>\n",
       "  </thead>\n",
       "  <tbody>\n",
       "    <tr>\n",
       "      <th>HanMeimei</th>\n",
       "      <td>4500</td>\n",
       "      <td>13500</td>\n",
       "      <td>2179.449472</td>\n",
       "      <td>3500</td>\n",
       "      <td>5000</td>\n",
       "      <td>15000</td>\n",
       "      <td>1000.000000</td>\n",
       "      <td>5000</td>\n",
       "    </tr>\n",
       "    <tr>\n",
       "      <th>Jill</th>\n",
       "      <td>18000</td>\n",
       "      <td>18000</td>\n",
       "      <td>NaN</td>\n",
       "      <td>18000</td>\n",
       "      <td>42000</td>\n",
       "      <td>42000</td>\n",
       "      <td>NaN</td>\n",
       "      <td>42000</td>\n",
       "    </tr>\n",
       "    <tr>\n",
       "      <th>John</th>\n",
       "      <td>21000</td>\n",
       "      <td>21000</td>\n",
       "      <td>NaN</td>\n",
       "      <td>21000</td>\n",
       "      <td>39000</td>\n",
       "      <td>39000</td>\n",
       "      <td>NaN</td>\n",
       "      <td>39000</td>\n",
       "    </tr>\n",
       "    <tr>\n",
       "      <th>LiLei</th>\n",
       "      <td>1200</td>\n",
       "      <td>1200</td>\n",
       "      <td>NaN</td>\n",
       "      <td>1200</td>\n",
       "      <td>3000</td>\n",
       "      <td>3000</td>\n",
       "      <td>NaN</td>\n",
       "      <td>3000</td>\n",
       "    </tr>\n",
       "    <tr>\n",
       "      <th>Tommy</th>\n",
       "      <td>14000</td>\n",
       "      <td>28000</td>\n",
       "      <td>2828.427125</td>\n",
       "      <td>14000</td>\n",
       "      <td>39000</td>\n",
       "      <td>78000</td>\n",
       "      <td>1414.213562</td>\n",
       "      <td>39000</td>\n",
       "    </tr>\n",
       "  </tbody>\n",
       "</table>\n",
       "</div>"
      ],
      "text/plain": [
       "           Bonus                            Salary                           \n",
       "            mean    sum          std median   mean    sum          std median\n",
       "Name                                                                         \n",
       "HanMeimei   4500  13500  2179.449472   3500   5000  15000  1000.000000   5000\n",
       "Jill       18000  18000          NaN  18000  42000  42000          NaN  42000\n",
       "John       21000  21000          NaN  21000  39000  39000          NaN  39000\n",
       "LiLei       1200   1200          NaN   1200   3000   3000          NaN   3000\n",
       "Tommy      14000  28000  2828.427125  14000  39000  78000  1414.213562  39000"
      ]
     },
     "execution_count": 185,
     "metadata": {},
     "output_type": "execute_result"
    }
   ],
   "source": [
    "salaries.groupby(\"Name\")[[\"Bonus\",'Salary']].agg([np.mean, np.sum, np.std, np.median])"
   ]
  },
  {
   "cell_type": "code",
   "execution_count": 186,
   "metadata": {},
   "outputs": [
    {
     "data": {
      "text/plain": [
       "array([2017, 2018], dtype=int64)"
      ]
     },
     "execution_count": 186,
     "metadata": {},
     "output_type": "execute_result"
    }
   ],
   "source": [
    "# 连续值你可以看统计分布？\n",
    "# 离散值\n",
    "salaries['Year'].unique()"
   ]
  },
  {
   "cell_type": "code",
   "execution_count": 188,
   "metadata": {},
   "outputs": [
    {
     "data": {
      "text/plain": [
       "2018    4\n",
       "2017    4\n",
       "Name: Year, dtype: int64"
      ]
     },
     "execution_count": 188,
     "metadata": {},
     "output_type": "execute_result"
    }
   ],
   "source": [
    "salaries[\"Year\"].value_counts()"
   ]
  },
  {
   "cell_type": "code",
   "execution_count": 189,
   "metadata": {},
   "outputs": [
    {
     "data": {
      "text/plain": [
       "HanMeimei    3\n",
       "Tommy        2\n",
       "Jill         1\n",
       "LiLei        1\n",
       "John         1\n",
       "Name: Name, dtype: int64"
      ]
     },
     "execution_count": 189,
     "metadata": {},
     "output_type": "execute_result"
    }
   ],
   "source": [
    "salaries[\"Name\"].value_counts()"
   ]
  },
  {
   "cell_type": "code",
   "execution_count": 190,
   "metadata": {},
   "outputs": [],
   "source": [
    "nvda = pd.read_csv(\"NVDA.csv\", index_col=0, parse_dates=['Date'])"
   ]
  },
  {
   "cell_type": "code",
   "execution_count": 192,
   "metadata": {
    "scrolled": true
   },
   "outputs": [
    {
     "data": {
      "text/html": [
       "<div>\n",
       "<style scoped>\n",
       "    .dataframe tbody tr th:only-of-type {\n",
       "        vertical-align: middle;\n",
       "    }\n",
       "\n",
       "    .dataframe tbody tr th {\n",
       "        vertical-align: top;\n",
       "    }\n",
       "\n",
       "    .dataframe thead th {\n",
       "        text-align: right;\n",
       "    }\n",
       "</style>\n",
       "<table border=\"1\" class=\"dataframe\">\n",
       "  <thead>\n",
       "    <tr style=\"text-align: right;\">\n",
       "      <th></th>\n",
       "      <th>Open</th>\n",
       "      <th>High</th>\n",
       "      <th>Low</th>\n",
       "      <th>Close</th>\n",
       "      <th>Adj Close</th>\n",
       "      <th>Volume</th>\n",
       "    </tr>\n",
       "    <tr>\n",
       "      <th>Date</th>\n",
       "      <th></th>\n",
       "      <th></th>\n",
       "      <th></th>\n",
       "      <th></th>\n",
       "      <th></th>\n",
       "      <th></th>\n",
       "    </tr>\n",
       "  </thead>\n",
       "  <tbody>\n",
       "    <tr>\n",
       "      <th>1999-01-22</th>\n",
       "      <td>1.750000</td>\n",
       "      <td>1.953125</td>\n",
       "      <td>1.552083</td>\n",
       "      <td>1.640625</td>\n",
       "      <td>1.523430</td>\n",
       "      <td>67867200</td>\n",
       "    </tr>\n",
       "    <tr>\n",
       "      <th>1999-01-25</th>\n",
       "      <td>1.770833</td>\n",
       "      <td>1.833333</td>\n",
       "      <td>1.640625</td>\n",
       "      <td>1.812500</td>\n",
       "      <td>1.683028</td>\n",
       "      <td>12762000</td>\n",
       "    </tr>\n",
       "    <tr>\n",
       "      <th>1999-01-26</th>\n",
       "      <td>1.833333</td>\n",
       "      <td>1.869792</td>\n",
       "      <td>1.645833</td>\n",
       "      <td>1.671875</td>\n",
       "      <td>1.552448</td>\n",
       "      <td>8580000</td>\n",
       "    </tr>\n",
       "    <tr>\n",
       "      <th>1999-01-27</th>\n",
       "      <td>1.677083</td>\n",
       "      <td>1.718750</td>\n",
       "      <td>1.583333</td>\n",
       "      <td>1.666667</td>\n",
       "      <td>1.547611</td>\n",
       "      <td>6109200</td>\n",
       "    </tr>\n",
       "    <tr>\n",
       "      <th>1999-01-28</th>\n",
       "      <td>1.666667</td>\n",
       "      <td>1.677083</td>\n",
       "      <td>1.651042</td>\n",
       "      <td>1.661458</td>\n",
       "      <td>1.542776</td>\n",
       "      <td>5688000</td>\n",
       "    </tr>\n",
       "  </tbody>\n",
       "</table>\n",
       "</div>"
      ],
      "text/plain": [
       "                Open      High       Low     Close  Adj Close    Volume\n",
       "Date                                                                   \n",
       "1999-01-22  1.750000  1.953125  1.552083  1.640625   1.523430  67867200\n",
       "1999-01-25  1.770833  1.833333  1.640625  1.812500   1.683028  12762000\n",
       "1999-01-26  1.833333  1.869792  1.645833  1.671875   1.552448   8580000\n",
       "1999-01-27  1.677083  1.718750  1.583333  1.666667   1.547611   6109200\n",
       "1999-01-28  1.666667  1.677083  1.651042  1.661458   1.542776   5688000"
      ]
     },
     "execution_count": 192,
     "metadata": {},
     "output_type": "execute_result"
    }
   ],
   "source": [
    "nvda.head()"
   ]
  },
  {
   "cell_type": "code",
   "execution_count": 193,
   "metadata": {},
   "outputs": [
    {
     "name": "stdout",
     "output_type": "stream",
     "text": [
      "<class 'pandas.core.frame.DataFrame'>\n",
      "DatetimeIndex: 4654 entries, 1999-01-22 to 2017-07-20\n",
      "Data columns (total 6 columns):\n",
      "Open         4654 non-null float64\n",
      "High         4654 non-null float64\n",
      "Low          4654 non-null float64\n",
      "Close        4654 non-null float64\n",
      "Adj Close    4654 non-null float64\n",
      "Volume       4654 non-null int64\n",
      "dtypes: float64(5), int64(1)\n",
      "memory usage: 254.5 KB\n"
     ]
    }
   ],
   "source": [
    "nvda.info()"
   ]
  },
  {
   "cell_type": "code",
   "execution_count": 194,
   "metadata": {},
   "outputs": [],
   "source": [
    "nvda.loc[:,'year'] = nvda.index.year"
   ]
  },
  {
   "cell_type": "code",
   "execution_count": 195,
   "metadata": {},
   "outputs": [
    {
     "data": {
      "text/html": [
       "<div>\n",
       "<style scoped>\n",
       "    .dataframe tbody tr th:only-of-type {\n",
       "        vertical-align: middle;\n",
       "    }\n",
       "\n",
       "    .dataframe tbody tr th {\n",
       "        vertical-align: top;\n",
       "    }\n",
       "\n",
       "    .dataframe thead th {\n",
       "        text-align: right;\n",
       "    }\n",
       "</style>\n",
       "<table border=\"1\" class=\"dataframe\">\n",
       "  <thead>\n",
       "    <tr style=\"text-align: right;\">\n",
       "      <th></th>\n",
       "      <th>Open</th>\n",
       "      <th>High</th>\n",
       "      <th>Low</th>\n",
       "      <th>Close</th>\n",
       "      <th>Adj Close</th>\n",
       "      <th>Volume</th>\n",
       "      <th>year</th>\n",
       "    </tr>\n",
       "    <tr>\n",
       "      <th>Date</th>\n",
       "      <th></th>\n",
       "      <th></th>\n",
       "      <th></th>\n",
       "      <th></th>\n",
       "      <th></th>\n",
       "      <th></th>\n",
       "      <th></th>\n",
       "    </tr>\n",
       "  </thead>\n",
       "  <tbody>\n",
       "    <tr>\n",
       "      <th>1999-01-22</th>\n",
       "      <td>1.750000</td>\n",
       "      <td>1.953125</td>\n",
       "      <td>1.552083</td>\n",
       "      <td>1.640625</td>\n",
       "      <td>1.523430</td>\n",
       "      <td>67867200</td>\n",
       "      <td>1999</td>\n",
       "    </tr>\n",
       "    <tr>\n",
       "      <th>1999-01-25</th>\n",
       "      <td>1.770833</td>\n",
       "      <td>1.833333</td>\n",
       "      <td>1.640625</td>\n",
       "      <td>1.812500</td>\n",
       "      <td>1.683028</td>\n",
       "      <td>12762000</td>\n",
       "      <td>1999</td>\n",
       "    </tr>\n",
       "    <tr>\n",
       "      <th>1999-01-26</th>\n",
       "      <td>1.833333</td>\n",
       "      <td>1.869792</td>\n",
       "      <td>1.645833</td>\n",
       "      <td>1.671875</td>\n",
       "      <td>1.552448</td>\n",
       "      <td>8580000</td>\n",
       "      <td>1999</td>\n",
       "    </tr>\n",
       "    <tr>\n",
       "      <th>1999-01-27</th>\n",
       "      <td>1.677083</td>\n",
       "      <td>1.718750</td>\n",
       "      <td>1.583333</td>\n",
       "      <td>1.666667</td>\n",
       "      <td>1.547611</td>\n",
       "      <td>6109200</td>\n",
       "      <td>1999</td>\n",
       "    </tr>\n",
       "    <tr>\n",
       "      <th>1999-01-28</th>\n",
       "      <td>1.666667</td>\n",
       "      <td>1.677083</td>\n",
       "      <td>1.651042</td>\n",
       "      <td>1.661458</td>\n",
       "      <td>1.542776</td>\n",
       "      <td>5688000</td>\n",
       "      <td>1999</td>\n",
       "    </tr>\n",
       "  </tbody>\n",
       "</table>\n",
       "</div>"
      ],
      "text/plain": [
       "                Open      High       Low     Close  Adj Close    Volume  year\n",
       "Date                                                                         \n",
       "1999-01-22  1.750000  1.953125  1.552083  1.640625   1.523430  67867200  1999\n",
       "1999-01-25  1.770833  1.833333  1.640625  1.812500   1.683028  12762000  1999\n",
       "1999-01-26  1.833333  1.869792  1.645833  1.671875   1.552448   8580000  1999\n",
       "1999-01-27  1.677083  1.718750  1.583333  1.666667   1.547611   6109200  1999\n",
       "1999-01-28  1.666667  1.677083  1.651042  1.661458   1.542776   5688000  1999"
      ]
     },
     "execution_count": 195,
     "metadata": {},
     "output_type": "execute_result"
    }
   ],
   "source": [
    "nvda.head()"
   ]
  },
  {
   "cell_type": "code",
   "execution_count": 196,
   "metadata": {},
   "outputs": [],
   "source": [
    "nvda.loc[:,'dow'] = nvda.index.dayofweek"
   ]
  },
  {
   "cell_type": "code",
   "execution_count": 197,
   "metadata": {},
   "outputs": [
    {
     "data": {
      "text/html": [
       "<div>\n",
       "<style scoped>\n",
       "    .dataframe tbody tr th:only-of-type {\n",
       "        vertical-align: middle;\n",
       "    }\n",
       "\n",
       "    .dataframe tbody tr th {\n",
       "        vertical-align: top;\n",
       "    }\n",
       "\n",
       "    .dataframe thead th {\n",
       "        text-align: right;\n",
       "    }\n",
       "</style>\n",
       "<table border=\"1\" class=\"dataframe\">\n",
       "  <thead>\n",
       "    <tr style=\"text-align: right;\">\n",
       "      <th></th>\n",
       "      <th>Open</th>\n",
       "      <th>High</th>\n",
       "      <th>Low</th>\n",
       "      <th>Close</th>\n",
       "      <th>Adj Close</th>\n",
       "      <th>Volume</th>\n",
       "      <th>year</th>\n",
       "      <th>dow</th>\n",
       "    </tr>\n",
       "    <tr>\n",
       "      <th>Date</th>\n",
       "      <th></th>\n",
       "      <th></th>\n",
       "      <th></th>\n",
       "      <th></th>\n",
       "      <th></th>\n",
       "      <th></th>\n",
       "      <th></th>\n",
       "      <th></th>\n",
       "    </tr>\n",
       "  </thead>\n",
       "  <tbody>\n",
       "    <tr>\n",
       "      <th>1999-01-22</th>\n",
       "      <td>1.750000</td>\n",
       "      <td>1.953125</td>\n",
       "      <td>1.552083</td>\n",
       "      <td>1.640625</td>\n",
       "      <td>1.523430</td>\n",
       "      <td>67867200</td>\n",
       "      <td>1999</td>\n",
       "      <td>4</td>\n",
       "    </tr>\n",
       "    <tr>\n",
       "      <th>1999-01-25</th>\n",
       "      <td>1.770833</td>\n",
       "      <td>1.833333</td>\n",
       "      <td>1.640625</td>\n",
       "      <td>1.812500</td>\n",
       "      <td>1.683028</td>\n",
       "      <td>12762000</td>\n",
       "      <td>1999</td>\n",
       "      <td>0</td>\n",
       "    </tr>\n",
       "    <tr>\n",
       "      <th>1999-01-26</th>\n",
       "      <td>1.833333</td>\n",
       "      <td>1.869792</td>\n",
       "      <td>1.645833</td>\n",
       "      <td>1.671875</td>\n",
       "      <td>1.552448</td>\n",
       "      <td>8580000</td>\n",
       "      <td>1999</td>\n",
       "      <td>1</td>\n",
       "    </tr>\n",
       "    <tr>\n",
       "      <th>1999-01-27</th>\n",
       "      <td>1.677083</td>\n",
       "      <td>1.718750</td>\n",
       "      <td>1.583333</td>\n",
       "      <td>1.666667</td>\n",
       "      <td>1.547611</td>\n",
       "      <td>6109200</td>\n",
       "      <td>1999</td>\n",
       "      <td>2</td>\n",
       "    </tr>\n",
       "    <tr>\n",
       "      <th>1999-01-28</th>\n",
       "      <td>1.666667</td>\n",
       "      <td>1.677083</td>\n",
       "      <td>1.651042</td>\n",
       "      <td>1.661458</td>\n",
       "      <td>1.542776</td>\n",
       "      <td>5688000</td>\n",
       "      <td>1999</td>\n",
       "      <td>3</td>\n",
       "    </tr>\n",
       "  </tbody>\n",
       "</table>\n",
       "</div>"
      ],
      "text/plain": [
       "                Open      High       Low     Close  Adj Close    Volume  year  \\\n",
       "Date                                                                            \n",
       "1999-01-22  1.750000  1.953125  1.552083  1.640625   1.523430  67867200  1999   \n",
       "1999-01-25  1.770833  1.833333  1.640625  1.812500   1.683028  12762000  1999   \n",
       "1999-01-26  1.833333  1.869792  1.645833  1.671875   1.552448   8580000  1999   \n",
       "1999-01-27  1.677083  1.718750  1.583333  1.666667   1.547611   6109200  1999   \n",
       "1999-01-28  1.666667  1.677083  1.651042  1.661458   1.542776   5688000  1999   \n",
       "\n",
       "            dow  \n",
       "Date             \n",
       "1999-01-22    4  \n",
       "1999-01-25    0  \n",
       "1999-01-26    1  \n",
       "1999-01-27    2  \n",
       "1999-01-28    3  "
      ]
     },
     "execution_count": 197,
     "metadata": {},
     "output_type": "execute_result"
    }
   ],
   "source": [
    "nvda.head()"
   ]
  },
  {
   "cell_type": "code",
   "execution_count": 198,
   "metadata": {},
   "outputs": [
    {
     "data": {
      "text/plain": [
       "<matplotlib.axes._subplots.AxesSubplot at 0x10383860>"
      ]
     },
     "execution_count": 198,
     "metadata": {},
     "output_type": "execute_result"
    },
    {
     "data": {
      "image/png": "[encoded data removed]",
      "text/plain": [
       "<matplotlib.figure.Figure at 0x10344f60>"
      ]
     },
     "metadata": {},
     "output_type": "display_data"
    }
   ],
   "source": [
    "%matplotlib inline\n",
    "nvda['Open'].plot()"
   ]
  },
  {
   "cell_type": "code",
   "execution_count": 199,
   "metadata": {},
   "outputs": [
    {
     "data": {
      "text/html": [
       "<div>\n",
       "<style scoped>\n",
       "    .dataframe tbody tr th:only-of-type {\n",
       "        vertical-align: middle;\n",
       "    }\n",
       "\n",
       "    .dataframe tbody tr th {\n",
       "        vertical-align: top;\n",
       "    }\n",
       "\n",
       "    .dataframe thead tr th {\n",
       "        text-align: left;\n",
       "    }\n",
       "\n",
       "    .dataframe thead tr:last-of-type th {\n",
       "        text-align: right;\n",
       "    }\n",
       "</style>\n",
       "<table border=\"1\" class=\"dataframe\">\n",
       "  <thead>\n",
       "    <tr>\n",
       "      <th></th>\n",
       "      <th colspan=\"2\" halign=\"left\">Open</th>\n",
       "      <th colspan=\"2\" halign=\"left\">High</th>\n",
       "      <th colspan=\"2\" halign=\"left\">Low</th>\n",
       "      <th colspan=\"2\" halign=\"left\">Close</th>\n",
       "      <th colspan=\"2\" halign=\"left\">Adj Close</th>\n",
       "      <th colspan=\"2\" halign=\"left\">Volume</th>\n",
       "      <th colspan=\"2\" halign=\"left\">dow</th>\n",
       "    </tr>\n",
       "    <tr>\n",
       "      <th></th>\n",
       "      <th>mean</th>\n",
       "      <th>std</th>\n",
       "      <th>mean</th>\n",
       "      <th>std</th>\n",
       "      <th>mean</th>\n",
       "      <th>std</th>\n",
       "      <th>mean</th>\n",
       "      <th>std</th>\n",
       "      <th>mean</th>\n",
       "      <th>std</th>\n",
       "      <th>mean</th>\n",
       "      <th>std</th>\n",
       "      <th>mean</th>\n",
       "      <th>std</th>\n",
       "    </tr>\n",
       "    <tr>\n",
       "      <th>year</th>\n",
       "      <th></th>\n",
       "      <th></th>\n",
       "      <th></th>\n",
       "      <th></th>\n",
       "      <th></th>\n",
       "      <th></th>\n",
       "      <th></th>\n",
       "      <th></th>\n",
       "      <th></th>\n",
       "      <th></th>\n",
       "      <th></th>\n",
       "      <th></th>\n",
       "      <th></th>\n",
       "      <th></th>\n",
       "    </tr>\n",
       "  </thead>\n",
       "  <tbody>\n",
       "    <tr>\n",
       "      <th>1999</th>\n",
       "      <td>1.950782</td>\n",
       "      <td>0.588882</td>\n",
       "      <td>2.007317</td>\n",
       "      <td>0.614302</td>\n",
       "      <td>1.883559</td>\n",
       "      <td>0.571658</td>\n",
       "      <td>1.947230</td>\n",
       "      <td>0.601041</td>\n",
       "      <td>1.808134</td>\n",
       "      <td>0.558107</td>\n",
       "      <td>6.433220e+06</td>\n",
       "      <td>8.142949e+06</td>\n",
       "      <td>2.020921</td>\n",
       "      <td>1.403620</td>\n",
       "    </tr>\n",
       "    <tr>\n",
       "      <th>2000</th>\n",
       "      <td>8.781084</td>\n",
       "      <td>2.999908</td>\n",
       "      <td>9.222697</td>\n",
       "      <td>3.114186</td>\n",
       "      <td>8.360522</td>\n",
       "      <td>2.904761</td>\n",
       "      <td>8.778826</td>\n",
       "      <td>3.013104</td>\n",
       "      <td>8.151729</td>\n",
       "      <td>2.797869</td>\n",
       "      <td>1.104182e+07</td>\n",
       "      <td>7.985374e+06</td>\n",
       "      <td>2.031746</td>\n",
       "      <td>1.402539</td>\n",
       "    </tr>\n",
       "    <tr>\n",
       "      <th>2001</th>\n",
       "      <td>13.091254</td>\n",
       "      <td>3.839777</td>\n",
       "      <td>13.600750</td>\n",
       "      <td>3.829838</td>\n",
       "      <td>12.680548</td>\n",
       "      <td>3.830944</td>\n",
       "      <td>13.181552</td>\n",
       "      <td>3.833637</td>\n",
       "      <td>12.239956</td>\n",
       "      <td>3.559789</td>\n",
       "      <td>2.782387e+07</td>\n",
       "      <td>1.384318e+07</td>\n",
       "      <td>2.016129</td>\n",
       "      <td>1.411255</td>\n",
       "    </tr>\n",
       "    <tr>\n",
       "      <th>2002</th>\n",
       "      <td>9.690344</td>\n",
       "      <td>6.561287</td>\n",
       "      <td>9.955093</td>\n",
       "      <td>6.664226</td>\n",
       "      <td>9.344391</td>\n",
       "      <td>6.375212</td>\n",
       "      <td>9.614749</td>\n",
       "      <td>6.519053</td>\n",
       "      <td>8.927940</td>\n",
       "      <td>6.053379</td>\n",
       "      <td>3.168655e+07</td>\n",
       "      <td>1.558742e+07</td>\n",
       "      <td>2.015873</td>\n",
       "      <td>1.408478</td>\n",
       "    </tr>\n",
       "    <tr>\n",
       "      <th>2003</th>\n",
       "      <td>5.902434</td>\n",
       "      <td>1.461862</td>\n",
       "      <td>6.042659</td>\n",
       "      <td>1.491260</td>\n",
       "      <td>5.764960</td>\n",
       "      <td>1.423422</td>\n",
       "      <td>5.900344</td>\n",
       "      <td>1.459852</td>\n",
       "      <td>5.478865</td>\n",
       "      <td>1.355570</td>\n",
       "      <td>2.430220e+07</td>\n",
       "      <td>1.899657e+07</td>\n",
       "      <td>2.007937</td>\n",
       "      <td>1.402877</td>\n",
       "    </tr>\n",
       "    <tr>\n",
       "      <th>2004</th>\n",
       "      <td>6.484735</td>\n",
       "      <td>1.467445</td>\n",
       "      <td>6.608810</td>\n",
       "      <td>1.482036</td>\n",
       "      <td>6.353558</td>\n",
       "      <td>1.444797</td>\n",
       "      <td>6.465913</td>\n",
       "      <td>1.456575</td>\n",
       "      <td>6.004034</td>\n",
       "      <td>1.352528</td>\n",
       "      <td>1.706331e+07</td>\n",
       "      <td>1.191968e+07</td>\n",
       "      <td>2.019841</td>\n",
       "      <td>1.398492</td>\n",
       "    </tr>\n",
       "    <tr>\n",
       "      <th>2005</th>\n",
       "      <td>9.512381</td>\n",
       "      <td>1.580061</td>\n",
       "      <td>9.659656</td>\n",
       "      <td>1.591274</td>\n",
       "      <td>9.353175</td>\n",
       "      <td>1.571138</td>\n",
       "      <td>9.513823</td>\n",
       "      <td>1.589762</td>\n",
       "      <td>8.834223</td>\n",
       "      <td>1.476201</td>\n",
       "      <td>1.542825e+07</td>\n",
       "      <td>9.623837e+06</td>\n",
       "      <td>2.035714</td>\n",
       "      <td>1.398175</td>\n",
       "    </tr>\n",
       "    <tr>\n",
       "      <th>2006</th>\n",
       "      <td>18.057902</td>\n",
       "      <td>3.675092</td>\n",
       "      <td>18.425126</td>\n",
       "      <td>3.718616</td>\n",
       "      <td>17.720279</td>\n",
       "      <td>3.657584</td>\n",
       "      <td>18.095963</td>\n",
       "      <td>3.700960</td>\n",
       "      <td>16.803316</td>\n",
       "      <td>3.436590</td>\n",
       "      <td>1.534446e+07</td>\n",
       "      <td>6.616879e+06</td>\n",
       "      <td>2.039841</td>\n",
       "      <td>1.399431</td>\n",
       "    </tr>\n",
       "    <tr>\n",
       "      <th>2007</th>\n",
       "      <td>27.762045</td>\n",
       "      <td>6.111437</td>\n",
       "      <td>28.251673</td>\n",
       "      <td>6.225662</td>\n",
       "      <td>27.206056</td>\n",
       "      <td>5.902620</td>\n",
       "      <td>27.724542</td>\n",
       "      <td>6.087681</td>\n",
       "      <td>25.744098</td>\n",
       "      <td>5.652820</td>\n",
       "      <td>1.514562e+07</td>\n",
       "      <td>5.818216e+06</td>\n",
       "      <td>2.027888</td>\n",
       "      <td>1.409688</td>\n",
       "    </tr>\n",
       "    <tr>\n",
       "      <th>2008</th>\n",
       "      <td>16.004308</td>\n",
       "      <td>6.862760</td>\n",
       "      <td>16.426245</td>\n",
       "      <td>6.964528</td>\n",
       "      <td>15.521462</td>\n",
       "      <td>6.696381</td>\n",
       "      <td>15.945613</td>\n",
       "      <td>6.811527</td>\n",
       "      <td>14.806572</td>\n",
       "      <td>6.324960</td>\n",
       "      <td>2.022721e+07</td>\n",
       "      <td>8.552974e+06</td>\n",
       "      <td>2.007905</td>\n",
       "      <td>1.400091</td>\n",
       "    </tr>\n",
       "    <tr>\n",
       "      <th>2009</th>\n",
       "      <td>11.825119</td>\n",
       "      <td>2.638097</td>\n",
       "      <td>12.114762</td>\n",
       "      <td>2.612499</td>\n",
       "      <td>11.565952</td>\n",
       "      <td>2.640537</td>\n",
       "      <td>11.850873</td>\n",
       "      <td>2.631664</td>\n",
       "      <td>11.004331</td>\n",
       "      <td>2.443677</td>\n",
       "      <td>1.919821e+07</td>\n",
       "      <td>8.291987e+06</td>\n",
       "      <td>2.003968</td>\n",
       "      <td>1.398628</td>\n",
       "    </tr>\n",
       "    <tr>\n",
       "      <th>2010</th>\n",
       "      <td>13.576349</td>\n",
       "      <td>2.888884</td>\n",
       "      <td>13.802659</td>\n",
       "      <td>2.904905</td>\n",
       "      <td>13.318532</td>\n",
       "      <td>2.843065</td>\n",
       "      <td>13.563175</td>\n",
       "      <td>2.884261</td>\n",
       "      <td>12.594318</td>\n",
       "      <td>2.678230</td>\n",
       "      <td>1.853295e+07</td>\n",
       "      <td>8.434693e+06</td>\n",
       "      <td>2.019841</td>\n",
       "      <td>1.398492</td>\n",
       "    </tr>\n",
       "    <tr>\n",
       "      <th>2011</th>\n",
       "      <td>16.912540</td>\n",
       "      <td>3.404884</td>\n",
       "      <td>17.267540</td>\n",
       "      <td>3.490368</td>\n",
       "      <td>16.512143</td>\n",
       "      <td>3.305507</td>\n",
       "      <td>16.887540</td>\n",
       "      <td>3.404032</td>\n",
       "      <td>15.681214</td>\n",
       "      <td>3.160872</td>\n",
       "      <td>2.289352e+07</td>\n",
       "      <td>1.270114e+07</td>\n",
       "      <td>2.035714</td>\n",
       "      <td>1.398175</td>\n",
       "    </tr>\n",
       "    <tr>\n",
       "      <th>2012</th>\n",
       "      <td>13.526200</td>\n",
       "      <td>1.176957</td>\n",
       "      <td>13.717400</td>\n",
       "      <td>1.191775</td>\n",
       "      <td>13.319800</td>\n",
       "      <td>1.165419</td>\n",
       "      <td>13.507880</td>\n",
       "      <td>1.185139</td>\n",
       "      <td>12.551166</td>\n",
       "      <td>1.091736</td>\n",
       "      <td>1.207757e+07</td>\n",
       "      <td>5.050116e+06</td>\n",
       "      <td>2.036000</td>\n",
       "      <td>1.406634</td>\n",
       "    </tr>\n",
       "    <tr>\n",
       "      <th>2013</th>\n",
       "      <td>14.173571</td>\n",
       "      <td>1.251508</td>\n",
       "      <td>14.329802</td>\n",
       "      <td>1.253287</td>\n",
       "      <td>14.035278</td>\n",
       "      <td>1.253372</td>\n",
       "      <td>14.189127</td>\n",
       "      <td>1.250883</td>\n",
       "      <td>13.412278</td>\n",
       "      <td>1.260152</td>\n",
       "      <td>8.843986e+06</td>\n",
       "      <td>4.202323e+06</td>\n",
       "      <td>2.015873</td>\n",
       "      <td>1.408478</td>\n",
       "    </tr>\n",
       "    <tr>\n",
       "      <th>2014</th>\n",
       "      <td>18.543056</td>\n",
       "      <td>1.293283</td>\n",
       "      <td>18.745476</td>\n",
       "      <td>1.283480</td>\n",
       "      <td>18.348214</td>\n",
       "      <td>1.276038</td>\n",
       "      <td>18.547064</td>\n",
       "      <td>1.284932</td>\n",
       "      <td>17.875053</td>\n",
       "      <td>1.312833</td>\n",
       "      <td>7.098902e+06</td>\n",
       "      <td>3.140560e+06</td>\n",
       "      <td>2.007937</td>\n",
       "      <td>1.402877</td>\n",
       "    </tr>\n",
       "    <tr>\n",
       "      <th>2015</th>\n",
       "      <td>23.680595</td>\n",
       "      <td>4.106327</td>\n",
       "      <td>23.979524</td>\n",
       "      <td>4.152229</td>\n",
       "      <td>23.411071</td>\n",
       "      <td>4.079351</td>\n",
       "      <td>23.718254</td>\n",
       "      <td>4.128879</td>\n",
       "      <td>23.262283</td>\n",
       "      <td>4.154678</td>\n",
       "      <td>7.756520e+06</td>\n",
       "      <td>3.933075e+06</td>\n",
       "      <td>2.003968</td>\n",
       "      <td>1.398628</td>\n",
       "    </tr>\n",
       "    <tr>\n",
       "      <th>2016</th>\n",
       "      <td>53.630833</td>\n",
       "      <td>21.714540</td>\n",
       "      <td>54.415397</td>\n",
       "      <td>22.182621</td>\n",
       "      <td>52.895119</td>\n",
       "      <td>21.263517</td>\n",
       "      <td>53.761190</td>\n",
       "      <td>21.803927</td>\n",
       "      <td>53.475737</td>\n",
       "      <td>21.824367</td>\n",
       "      <td>1.107062e+07</td>\n",
       "      <td>7.547056e+06</td>\n",
       "      <td>2.035714</td>\n",
       "      <td>1.398175</td>\n",
       "    </tr>\n",
       "    <tr>\n",
       "      <th>2017</th>\n",
       "      <td>120.481305</td>\n",
       "      <td>22.027821</td>\n",
       "      <td>122.300725</td>\n",
       "      <td>22.510244</td>\n",
       "      <td>118.402754</td>\n",
       "      <td>21.281863</td>\n",
       "      <td>120.547971</td>\n",
       "      <td>21.991898</td>\n",
       "      <td>120.436863</td>\n",
       "      <td>22.056290</td>\n",
       "      <td>1.907742e+07</td>\n",
       "      <td>1.073342e+07</td>\n",
       "      <td>2.036232</td>\n",
       "      <td>1.390318</td>\n",
       "    </tr>\n",
       "  </tbody>\n",
       "</table>\n",
       "</div>"
      ],
      "text/plain": [
       "            Open                   High                    Low             \\\n",
       "            mean        std        mean        std        mean        std   \n",
       "year                                                                        \n",
       "1999    1.950782   0.588882    2.007317   0.614302    1.883559   0.571658   \n",
       "2000    8.781084   2.999908    9.222697   3.114186    8.360522   2.904761   \n",
       "2001   13.091254   3.839777   13.600750   3.829838   12.680548   3.830944   \n",
       "2002    9.690344   6.561287    9.955093   6.664226    9.344391   6.375212   \n",
       "2003    5.902434   1.461862    6.042659   1.491260    5.764960   1.423422   \n",
       "2004    6.484735   1.467445    6.608810   1.482036    6.353558   1.444797   \n",
       "2005    9.512381   1.580061    9.659656   1.591274    9.353175   1.571138   \n",
       "2006   18.057902   3.675092   18.425126   3.718616   17.720279   3.657584   \n",
       "2007   27.762045   6.111437   28.251673   6.225662   27.206056   5.902620   \n",
       "2008   16.004308   6.862760   16.426245   6.964528   15.521462   6.696381   \n",
       "2009   11.825119   2.638097   12.114762   2.612499   11.565952   2.640537   \n",
       "2010   13.576349   2.888884   13.802659   2.904905   13.318532   2.843065   \n",
       "2011   16.912540   3.404884   17.267540   3.490368   16.512143   3.305507   \n",
       "2012   13.526200   1.176957   13.717400   1.191775   13.319800   1.165419   \n",
       "2013   14.173571   1.251508   14.329802   1.253287   14.035278   1.253372   \n",
       "2014   18.543056   1.293283   18.745476   1.283480   18.348214   1.276038   \n",
       "2015   23.680595   4.106327   23.979524   4.152229   23.411071   4.079351   \n",
       "2016   53.630833  21.714540   54.415397  22.182621   52.895119  21.263517   \n",
       "2017  120.481305  22.027821  122.300725  22.510244  118.402754  21.281863   \n",
       "\n",
       "           Close              Adj Close                   Volume  \\\n",
       "            mean        std        mean        std          mean   \n",
       "year                                                               \n",
       "1999    1.947230   0.601041    1.808134   0.558107  6.433220e+06   \n",
       "2000    8.778826   3.013104    8.151729   2.797869  1.104182e+07   \n",
       "2001   13.181552   3.833637   12.239956   3.559789  2.782387e+07   \n",
       "2002    9.614749   6.519053    8.927940   6.053379  3.168655e+07   \n",
       "2003    5.900344   1.459852    5.478865   1.355570  2.430220e+07   \n",
       "2004    6.465913   1.456575    6.004034   1.352528  1.706331e+07   \n",
       "2005    9.513823   1.589762    8.834223   1.476201  1.542825e+07   \n",
       "2006   18.095963   3.700960   16.803316   3.436590  1.534446e+07   \n",
       "2007   27.724542   6.087681   25.744098   5.652820  1.514562e+07   \n",
       "2008   15.945613   6.811527   14.806572   6.324960  2.022721e+07   \n",
       "2009   11.850873   2.631664   11.004331   2.443677  1.919821e+07   \n",
       "2010   13.563175   2.884261   12.594318   2.678230  1.853295e+07   \n",
       "2011   16.887540   3.404032   15.681214   3.160872  2.289352e+07   \n",
       "2012   13.507880   1.185139   12.551166   1.091736  1.207757e+07   \n",
       "2013   14.189127   1.250883   13.412278   1.260152  8.843986e+06   \n",
       "2014   18.547064   1.284932   17.875053   1.312833  7.098902e+06   \n",
       "2015   23.718254   4.128879   23.262283   4.154678  7.756520e+06   \n",
       "2016   53.761190  21.803927   53.475737  21.824367  1.107062e+07   \n",
       "2017  120.547971  21.991898  120.436863  22.056290  1.907742e+07   \n",
       "\n",
       "                         dow            \n",
       "               std      mean       std  \n",
       "year                                    \n",
       "1999  8.142949e+06  2.020921  1.403620  \n",
       "2000  7.985374e+06  2.031746  1.402539  \n",
       "2001  1.384318e+07  2.016129  1.411255  \n",
       "2002  1.558742e+07  2.015873  1.408478  \n",
       "2003  1.899657e+07  2.007937  1.402877  \n",
       "2004  1.191968e+07  2.019841  1.398492  \n",
       "2005  9.623837e+06  2.035714  1.398175  \n",
       "2006  6.616879e+06  2.039841  1.399431  \n",
       "2007  5.818216e+06  2.027888  1.409688  \n",
       "2008  8.552974e+06  2.007905  1.400091  \n",
       "2009  8.291987e+06  2.003968  1.398628  \n",
       "2010  8.434693e+06  2.019841  1.398492  \n",
       "2011  1.270114e+07  2.035714  1.398175  \n",
       "2012  5.050116e+06  2.036000  1.406634  \n",
       "2013  4.202323e+06  2.015873  1.408478  \n",
       "2014  3.140560e+06  2.007937  1.402877  \n",
       "2015  3.933075e+06  2.003968  1.398628  \n",
       "2016  7.547056e+06  2.035714  1.398175  \n",
       "2017  1.073342e+07  2.036232  1.390318  "
      ]
     },
     "execution_count": 199,
     "metadata": {},
     "output_type": "execute_result"
    }
   ],
   "source": [
    "nvda.groupby('year').agg([np.mean, np.std])"
   ]
  },
  {
   "cell_type": "code",
   "execution_count": 200,
   "metadata": {},
   "outputs": [
    {
     "data": {
      "text/html": [
       "<div>\n",
       "<style scoped>\n",
       "    .dataframe tbody tr th:only-of-type {\n",
       "        vertical-align: middle;\n",
       "    }\n",
       "\n",
       "    .dataframe tbody tr th {\n",
       "        vertical-align: top;\n",
       "    }\n",
       "\n",
       "    .dataframe thead tr th {\n",
       "        text-align: left;\n",
       "    }\n",
       "\n",
       "    .dataframe thead tr:last-of-type th {\n",
       "        text-align: right;\n",
       "    }\n",
       "</style>\n",
       "<table border=\"1\" class=\"dataframe\">\n",
       "  <thead>\n",
       "    <tr>\n",
       "      <th></th>\n",
       "      <th colspan=\"2\" halign=\"left\">Open</th>\n",
       "      <th colspan=\"2\" halign=\"left\">High</th>\n",
       "      <th colspan=\"2\" halign=\"left\">Low</th>\n",
       "      <th colspan=\"2\" halign=\"left\">Close</th>\n",
       "      <th colspan=\"2\" halign=\"left\">Adj Close</th>\n",
       "      <th colspan=\"2\" halign=\"left\">Volume</th>\n",
       "      <th colspan=\"2\" halign=\"left\">dow</th>\n",
       "    </tr>\n",
       "    <tr>\n",
       "      <th></th>\n",
       "      <th>mean</th>\n",
       "      <th>std</th>\n",
       "      <th>mean</th>\n",
       "      <th>std</th>\n",
       "      <th>mean</th>\n",
       "      <th>std</th>\n",
       "      <th>mean</th>\n",
       "      <th>std</th>\n",
       "      <th>mean</th>\n",
       "      <th>std</th>\n",
       "      <th>mean</th>\n",
       "      <th>std</th>\n",
       "      <th>mean</th>\n",
       "      <th>std</th>\n",
       "    </tr>\n",
       "    <tr>\n",
       "      <th>year</th>\n",
       "      <th></th>\n",
       "      <th></th>\n",
       "      <th></th>\n",
       "      <th></th>\n",
       "      <th></th>\n",
       "      <th></th>\n",
       "      <th></th>\n",
       "      <th></th>\n",
       "      <th></th>\n",
       "      <th></th>\n",
       "      <th></th>\n",
       "      <th></th>\n",
       "      <th></th>\n",
       "      <th></th>\n",
       "    </tr>\n",
       "  </thead>\n",
       "  <tbody>\n",
       "    <tr>\n",
       "      <th>1999</th>\n",
       "      <td>1.950782</td>\n",
       "      <td>0.588882</td>\n",
       "      <td>2.007317</td>\n",
       "      <td>0.614302</td>\n",
       "      <td>1.883559</td>\n",
       "      <td>0.571658</td>\n",
       "      <td>1.947230</td>\n",
       "      <td>0.601041</td>\n",
       "      <td>1.808134</td>\n",
       "      <td>0.558107</td>\n",
       "      <td>6.433220e+06</td>\n",
       "      <td>8.142949e+06</td>\n",
       "      <td>2.020921</td>\n",
       "      <td>1.403620</td>\n",
       "    </tr>\n",
       "    <tr>\n",
       "      <th>2000</th>\n",
       "      <td>8.781084</td>\n",
       "      <td>2.999908</td>\n",
       "      <td>9.222697</td>\n",
       "      <td>3.114186</td>\n",
       "      <td>8.360522</td>\n",
       "      <td>2.904761</td>\n",
       "      <td>8.778826</td>\n",
       "      <td>3.013104</td>\n",
       "      <td>8.151729</td>\n",
       "      <td>2.797869</td>\n",
       "      <td>1.104182e+07</td>\n",
       "      <td>7.985374e+06</td>\n",
       "      <td>2.031746</td>\n",
       "      <td>1.402539</td>\n",
       "    </tr>\n",
       "    <tr>\n",
       "      <th>2001</th>\n",
       "      <td>13.091254</td>\n",
       "      <td>3.839777</td>\n",
       "      <td>13.600750</td>\n",
       "      <td>3.829838</td>\n",
       "      <td>12.680548</td>\n",
       "      <td>3.830944</td>\n",
       "      <td>13.181552</td>\n",
       "      <td>3.833637</td>\n",
       "      <td>12.239956</td>\n",
       "      <td>3.559789</td>\n",
       "      <td>2.782387e+07</td>\n",
       "      <td>1.384318e+07</td>\n",
       "      <td>2.016129</td>\n",
       "      <td>1.411255</td>\n",
       "    </tr>\n",
       "    <tr>\n",
       "      <th>2002</th>\n",
       "      <td>9.690344</td>\n",
       "      <td>6.561287</td>\n",
       "      <td>9.955093</td>\n",
       "      <td>6.664226</td>\n",
       "      <td>9.344391</td>\n",
       "      <td>6.375212</td>\n",
       "      <td>9.614749</td>\n",
       "      <td>6.519053</td>\n",
       "      <td>8.927940</td>\n",
       "      <td>6.053379</td>\n",
       "      <td>3.168655e+07</td>\n",
       "      <td>1.558742e+07</td>\n",
       "      <td>2.015873</td>\n",
       "      <td>1.408478</td>\n",
       "    </tr>\n",
       "    <tr>\n",
       "      <th>2003</th>\n",
       "      <td>5.902434</td>\n",
       "      <td>1.461862</td>\n",
       "      <td>6.042659</td>\n",
       "      <td>1.491260</td>\n",
       "      <td>5.764960</td>\n",
       "      <td>1.423422</td>\n",
       "      <td>5.900344</td>\n",
       "      <td>1.459852</td>\n",
       "      <td>5.478865</td>\n",
       "      <td>1.355570</td>\n",
       "      <td>2.430220e+07</td>\n",
       "      <td>1.899657e+07</td>\n",
       "      <td>2.007937</td>\n",
       "      <td>1.402877</td>\n",
       "    </tr>\n",
       "    <tr>\n",
       "      <th>2004</th>\n",
       "      <td>6.484735</td>\n",
       "      <td>1.467445</td>\n",
       "      <td>6.608810</td>\n",
       "      <td>1.482036</td>\n",
       "      <td>6.353558</td>\n",
       "      <td>1.444797</td>\n",
       "      <td>6.465913</td>\n",
       "      <td>1.456575</td>\n",
       "      <td>6.004034</td>\n",
       "      <td>1.352528</td>\n",
       "      <td>1.706331e+07</td>\n",
       "      <td>1.191968e+07</td>\n",
       "      <td>2.019841</td>\n",
       "      <td>1.398492</td>\n",
       "    </tr>\n",
       "    <tr>\n",
       "      <th>2005</th>\n",
       "      <td>9.512381</td>\n",
       "      <td>1.580061</td>\n",
       "      <td>9.659656</td>\n",
       "      <td>1.591274</td>\n",
       "      <td>9.353175</td>\n",
       "      <td>1.571138</td>\n",
       "      <td>9.513823</td>\n",
       "      <td>1.589762</td>\n",
       "      <td>8.834223</td>\n",
       "      <td>1.476201</td>\n",
       "      <td>1.542825e+07</td>\n",
       "      <td>9.623837e+06</td>\n",
       "      <td>2.035714</td>\n",
       "      <td>1.398175</td>\n",
       "    </tr>\n",
       "    <tr>\n",
       "      <th>2006</th>\n",
       "      <td>18.057902</td>\n",
       "      <td>3.675092</td>\n",
       "      <td>18.425126</td>\n",
       "      <td>3.718616</td>\n",
       "      <td>17.720279</td>\n",
       "      <td>3.657584</td>\n",
       "      <td>18.095963</td>\n",
       "      <td>3.700960</td>\n",
       "      <td>16.803316</td>\n",
       "      <td>3.436590</td>\n",
       "      <td>1.534446e+07</td>\n",
       "      <td>6.616879e+06</td>\n",
       "      <td>2.039841</td>\n",
       "      <td>1.399431</td>\n",
       "    </tr>\n",
       "    <tr>\n",
       "      <th>2007</th>\n",
       "      <td>27.762045</td>\n",
       "      <td>6.111437</td>\n",
       "      <td>28.251673</td>\n",
       "      <td>6.225662</td>\n",
       "      <td>27.206056</td>\n",
       "      <td>5.902620</td>\n",
       "      <td>27.724542</td>\n",
       "      <td>6.087681</td>\n",
       "      <td>25.744098</td>\n",
       "      <td>5.652820</td>\n",
       "      <td>1.514562e+07</td>\n",
       "      <td>5.818216e+06</td>\n",
       "      <td>2.027888</td>\n",
       "      <td>1.409688</td>\n",
       "    </tr>\n",
       "    <tr>\n",
       "      <th>2008</th>\n",
       "      <td>16.004308</td>\n",
       "      <td>6.862760</td>\n",
       "      <td>16.426245</td>\n",
       "      <td>6.964528</td>\n",
       "      <td>15.521462</td>\n",
       "      <td>6.696381</td>\n",
       "      <td>15.945613</td>\n",
       "      <td>6.811527</td>\n",
       "      <td>14.806572</td>\n",
       "      <td>6.324960</td>\n",
       "      <td>2.022721e+07</td>\n",
       "      <td>8.552974e+06</td>\n",
       "      <td>2.007905</td>\n",
       "      <td>1.400091</td>\n",
       "    </tr>\n",
       "    <tr>\n",
       "      <th>2009</th>\n",
       "      <td>11.825119</td>\n",
       "      <td>2.638097</td>\n",
       "      <td>12.114762</td>\n",
       "      <td>2.612499</td>\n",
       "      <td>11.565952</td>\n",
       "      <td>2.640537</td>\n",
       "      <td>11.850873</td>\n",
       "      <td>2.631664</td>\n",
       "      <td>11.004331</td>\n",
       "      <td>2.443677</td>\n",
       "      <td>1.919821e+07</td>\n",
       "      <td>8.291987e+06</td>\n",
       "      <td>2.003968</td>\n",
       "      <td>1.398628</td>\n",
       "    </tr>\n",
       "    <tr>\n",
       "      <th>2010</th>\n",
       "      <td>13.576349</td>\n",
       "      <td>2.888884</td>\n",
       "      <td>13.802659</td>\n",
       "      <td>2.904905</td>\n",
       "      <td>13.318532</td>\n",
       "      <td>2.843065</td>\n",
       "      <td>13.563175</td>\n",
       "      <td>2.884261</td>\n",
       "      <td>12.594318</td>\n",
       "      <td>2.678230</td>\n",
       "      <td>1.853295e+07</td>\n",
       "      <td>8.434693e+06</td>\n",
       "      <td>2.019841</td>\n",
       "      <td>1.398492</td>\n",
       "    </tr>\n",
       "    <tr>\n",
       "      <th>2011</th>\n",
       "      <td>16.912540</td>\n",
       "      <td>3.404884</td>\n",
       "      <td>17.267540</td>\n",
       "      <td>3.490368</td>\n",
       "      <td>16.512143</td>\n",
       "      <td>3.305507</td>\n",
       "      <td>16.887540</td>\n",
       "      <td>3.404032</td>\n",
       "      <td>15.681214</td>\n",
       "      <td>3.160872</td>\n",
       "      <td>2.289352e+07</td>\n",
       "      <td>1.270114e+07</td>\n",
       "      <td>2.035714</td>\n",
       "      <td>1.398175</td>\n",
       "    </tr>\n",
       "    <tr>\n",
       "      <th>2012</th>\n",
       "      <td>13.526200</td>\n",
       "      <td>1.176957</td>\n",
       "      <td>13.717400</td>\n",
       "      <td>1.191775</td>\n",
       "      <td>13.319800</td>\n",
       "      <td>1.165419</td>\n",
       "      <td>13.507880</td>\n",
       "      <td>1.185139</td>\n",
       "      <td>12.551166</td>\n",
       "      <td>1.091736</td>\n",
       "      <td>1.207757e+07</td>\n",
       "      <td>5.050116e+06</td>\n",
       "      <td>2.036000</td>\n",
       "      <td>1.406634</td>\n",
       "    </tr>\n",
       "    <tr>\n",
       "      <th>2013</th>\n",
       "      <td>14.173571</td>\n",
       "      <td>1.251508</td>\n",
       "      <td>14.329802</td>\n",
       "      <td>1.253287</td>\n",
       "      <td>14.035278</td>\n",
       "      <td>1.253372</td>\n",
       "      <td>14.189127</td>\n",
       "      <td>1.250883</td>\n",
       "      <td>13.412278</td>\n",
       "      <td>1.260152</td>\n",
       "      <td>8.843986e+06</td>\n",
       "      <td>4.202323e+06</td>\n",
       "      <td>2.015873</td>\n",
       "      <td>1.408478</td>\n",
       "    </tr>\n",
       "    <tr>\n",
       "      <th>2014</th>\n",
       "      <td>18.543056</td>\n",
       "      <td>1.293283</td>\n",
       "      <td>18.745476</td>\n",
       "      <td>1.283480</td>\n",
       "      <td>18.348214</td>\n",
       "      <td>1.276038</td>\n",
       "      <td>18.547064</td>\n",
       "      <td>1.284932</td>\n",
       "      <td>17.875053</td>\n",
       "      <td>1.312833</td>\n",
       "      <td>7.098902e+06</td>\n",
       "      <td>3.140560e+06</td>\n",
       "      <td>2.007937</td>\n",
       "      <td>1.402877</td>\n",
       "    </tr>\n",
       "    <tr>\n",
       "      <th>2015</th>\n",
       "      <td>23.680595</td>\n",
       "      <td>4.106327</td>\n",
       "      <td>23.979524</td>\n",
       "      <td>4.152229</td>\n",
       "      <td>23.411071</td>\n",
       "      <td>4.079351</td>\n",
       "      <td>23.718254</td>\n",
       "      <td>4.128879</td>\n",
       "      <td>23.262283</td>\n",
       "      <td>4.154678</td>\n",
       "      <td>7.756520e+06</td>\n",
       "      <td>3.933075e+06</td>\n",
       "      <td>2.003968</td>\n",
       "      <td>1.398628</td>\n",
       "    </tr>\n",
       "    <tr>\n",
       "      <th>2016</th>\n",
       "      <td>53.630833</td>\n",
       "      <td>21.714540</td>\n",
       "      <td>54.415397</td>\n",
       "      <td>22.182621</td>\n",
       "      <td>52.895119</td>\n",
       "      <td>21.263517</td>\n",
       "      <td>53.761190</td>\n",
       "      <td>21.803927</td>\n",
       "      <td>53.475737</td>\n",
       "      <td>21.824367</td>\n",
       "      <td>1.107062e+07</td>\n",
       "      <td>7.547056e+06</td>\n",
       "      <td>2.035714</td>\n",
       "      <td>1.398175</td>\n",
       "    </tr>\n",
       "    <tr>\n",
       "      <th>2017</th>\n",
       "      <td>120.481305</td>\n",
       "      <td>22.027821</td>\n",
       "      <td>122.300725</td>\n",
       "      <td>22.510244</td>\n",
       "      <td>118.402754</td>\n",
       "      <td>21.281863</td>\n",
       "      <td>120.547971</td>\n",
       "      <td>21.991898</td>\n",
       "      <td>120.436863</td>\n",
       "      <td>22.056290</td>\n",
       "      <td>1.907742e+07</td>\n",
       "      <td>1.073342e+07</td>\n",
       "      <td>2.036232</td>\n",
       "      <td>1.390318</td>\n",
       "    </tr>\n",
       "  </tbody>\n",
       "</table>\n",
       "</div>"
      ],
      "text/plain": [
       "            Open                   High                    Low             \\\n",
       "            mean        std        mean        std        mean        std   \n",
       "year                                                                        \n",
       "1999    1.950782   0.588882    2.007317   0.614302    1.883559   0.571658   \n",
       "2000    8.781084   2.999908    9.222697   3.114186    8.360522   2.904761   \n",
       "2001   13.091254   3.839777   13.600750   3.829838   12.680548   3.830944   \n",
       "2002    9.690344   6.561287    9.955093   6.664226    9.344391   6.375212   \n",
       "2003    5.902434   1.461862    6.042659   1.491260    5.764960   1.423422   \n",
       "2004    6.484735   1.467445    6.608810   1.482036    6.353558   1.444797   \n",
       "2005    9.512381   1.580061    9.659656   1.591274    9.353175   1.571138   \n",
       "2006   18.057902   3.675092   18.425126   3.718616   17.720279   3.657584   \n",
       "2007   27.762045   6.111437   28.251673   6.225662   27.206056   5.902620   \n",
       "2008   16.004308   6.862760   16.426245   6.964528   15.521462   6.696381   \n",
       "2009   11.825119   2.638097   12.114762   2.612499   11.565952   2.640537   \n",
       "2010   13.576349   2.888884   13.802659   2.904905   13.318532   2.843065   \n",
       "2011   16.912540   3.404884   17.267540   3.490368   16.512143   3.305507   \n",
       "2012   13.526200   1.176957   13.717400   1.191775   13.319800   1.165419   \n",
       "2013   14.173571   1.251508   14.329802   1.253287   14.035278   1.253372   \n",
       "2014   18.543056   1.293283   18.745476   1.283480   18.348214   1.276038   \n",
       "2015   23.680595   4.106327   23.979524   4.152229   23.411071   4.079351   \n",
       "2016   53.630833  21.714540   54.415397  22.182621   52.895119  21.263517   \n",
       "2017  120.481305  22.027821  122.300725  22.510244  118.402754  21.281863   \n",
       "\n",
       "           Close              Adj Close                   Volume  \\\n",
       "            mean        std        mean        std          mean   \n",
       "year                                                               \n",
       "1999    1.947230   0.601041    1.808134   0.558107  6.433220e+06   \n",
       "2000    8.778826   3.013104    8.151729   2.797869  1.104182e+07   \n",
       "2001   13.181552   3.833637   12.239956   3.559789  2.782387e+07   \n",
       "2002    9.614749   6.519053    8.927940   6.053379  3.168655e+07   \n",
       "2003    5.900344   1.459852    5.478865   1.355570  2.430220e+07   \n",
       "2004    6.465913   1.456575    6.004034   1.352528  1.706331e+07   \n",
       "2005    9.513823   1.589762    8.834223   1.476201  1.542825e+07   \n",
       "2006   18.095963   3.700960   16.803316   3.436590  1.534446e+07   \n",
       "2007   27.724542   6.087681   25.744098   5.652820  1.514562e+07   \n",
       "2008   15.945613   6.811527   14.806572   6.324960  2.022721e+07   \n",
       "2009   11.850873   2.631664   11.004331   2.443677  1.919821e+07   \n",
       "2010   13.563175   2.884261   12.594318   2.678230  1.853295e+07   \n",
       "2011   16.887540   3.404032   15.681214   3.160872  2.289352e+07   \n",
       "2012   13.507880   1.185139   12.551166   1.091736  1.207757e+07   \n",
       "2013   14.189127   1.250883   13.412278   1.260152  8.843986e+06   \n",
       "2014   18.547064   1.284932   17.875053   1.312833  7.098902e+06   \n",
       "2015   23.718254   4.128879   23.262283   4.154678  7.756520e+06   \n",
       "2016   53.761190  21.803927   53.475737  21.824367  1.107062e+07   \n",
       "2017  120.547971  21.991898  120.436863  22.056290  1.907742e+07   \n",
       "\n",
       "                         dow            \n",
       "               std      mean       std  \n",
       "year                                    \n",
       "1999  8.142949e+06  2.020921  1.403620  \n",
       "2000  7.985374e+06  2.031746  1.402539  \n",
       "2001  1.384318e+07  2.016129  1.411255  \n",
       "2002  1.558742e+07  2.015873  1.408478  \n",
       "2003  1.899657e+07  2.007937  1.402877  \n",
       "2004  1.191968e+07  2.019841  1.398492  \n",
       "2005  9.623837e+06  2.035714  1.398175  \n",
       "2006  6.616879e+06  2.039841  1.399431  \n",
       "2007  5.818216e+06  2.027888  1.409688  \n",
       "2008  8.552974e+06  2.007905  1.400091  \n",
       "2009  8.291987e+06  2.003968  1.398628  \n",
       "2010  8.434693e+06  2.019841  1.398492  \n",
       "2011  1.270114e+07  2.035714  1.398175  \n",
       "2012  5.050116e+06  2.036000  1.406634  \n",
       "2013  4.202323e+06  2.015873  1.408478  \n",
       "2014  3.140560e+06  2.007937  1.402877  \n",
       "2015  3.933075e+06  2.003968  1.398628  \n",
       "2016  7.547056e+06  2.035714  1.398175  \n",
       "2017  1.073342e+07  2.036232  1.390318  "
      ]
     },
     "execution_count": 200,
     "metadata": {},
     "output_type": "execute_result"
    }
   ],
   "source": [
    "nvda.groupby('year').agg(['mean', 'std'])"
   ]
  },
  {
   "cell_type": "code",
   "execution_count": 201,
   "metadata": {},
   "outputs": [
    {
     "data": {
      "text/html": [
       "<div>\n",
       "<style scoped>\n",
       "    .dataframe tbody tr th:only-of-type {\n",
       "        vertical-align: middle;\n",
       "    }\n",
       "\n",
       "    .dataframe tbody tr th {\n",
       "        vertical-align: top;\n",
       "    }\n",
       "\n",
       "    .dataframe thead tr th {\n",
       "        text-align: left;\n",
       "    }\n",
       "\n",
       "    .dataframe thead tr:last-of-type th {\n",
       "        text-align: right;\n",
       "    }\n",
       "</style>\n",
       "<table border=\"1\" class=\"dataframe\">\n",
       "  <thead>\n",
       "    <tr>\n",
       "      <th></th>\n",
       "      <th></th>\n",
       "      <th colspan=\"2\" halign=\"left\">Open</th>\n",
       "      <th colspan=\"2\" halign=\"left\">High</th>\n",
       "      <th colspan=\"2\" halign=\"left\">Low</th>\n",
       "      <th colspan=\"2\" halign=\"left\">Close</th>\n",
       "      <th colspan=\"2\" halign=\"left\">Adj Close</th>\n",
       "      <th colspan=\"2\" halign=\"left\">Volume</th>\n",
       "    </tr>\n",
       "    <tr>\n",
       "      <th></th>\n",
       "      <th></th>\n",
       "      <th>mean</th>\n",
       "      <th>std</th>\n",
       "      <th>mean</th>\n",
       "      <th>std</th>\n",
       "      <th>mean</th>\n",
       "      <th>std</th>\n",
       "      <th>mean</th>\n",
       "      <th>std</th>\n",
       "      <th>mean</th>\n",
       "      <th>std</th>\n",
       "      <th>mean</th>\n",
       "      <th>std</th>\n",
       "    </tr>\n",
       "    <tr>\n",
       "      <th>year</th>\n",
       "      <th>dow</th>\n",
       "      <th></th>\n",
       "      <th></th>\n",
       "      <th></th>\n",
       "      <th></th>\n",
       "      <th></th>\n",
       "      <th></th>\n",
       "      <th></th>\n",
       "      <th></th>\n",
       "      <th></th>\n",
       "      <th></th>\n",
       "      <th></th>\n",
       "      <th></th>\n",
       "    </tr>\n",
       "  </thead>\n",
       "  <tbody>\n",
       "    <tr>\n",
       "      <th rowspan=\"5\" valign=\"top\">1999</th>\n",
       "      <th>0</th>\n",
       "      <td>1.977430</td>\n",
       "      <td>0.620642</td>\n",
       "      <td>2.021614</td>\n",
       "      <td>0.641740</td>\n",
       "      <td>1.898698</td>\n",
       "      <td>0.581392</td>\n",
       "      <td>1.958854</td>\n",
       "      <td>0.616022</td>\n",
       "      <td>1.818928</td>\n",
       "      <td>0.572018</td>\n",
       "      <td>5.255120e+06</td>\n",
       "      <td>4.442927e+06</td>\n",
       "    </tr>\n",
       "    <tr>\n",
       "      <th>1</th>\n",
       "      <td>1.946482</td>\n",
       "      <td>0.579052</td>\n",
       "      <td>2.000213</td>\n",
       "      <td>0.603046</td>\n",
       "      <td>1.871280</td>\n",
       "      <td>0.564460</td>\n",
       "      <td>1.936756</td>\n",
       "      <td>0.587657</td>\n",
       "      <td>1.798408</td>\n",
       "      <td>0.545679</td>\n",
       "      <td>6.325102e+06</td>\n",
       "      <td>4.949142e+06</td>\n",
       "    </tr>\n",
       "    <tr>\n",
       "      <th>2</th>\n",
       "      <td>1.949405</td>\n",
       "      <td>0.585537</td>\n",
       "      <td>2.010417</td>\n",
       "      <td>0.613806</td>\n",
       "      <td>1.883929</td>\n",
       "      <td>0.569160</td>\n",
       "      <td>1.953763</td>\n",
       "      <td>0.604365</td>\n",
       "      <td>1.814200</td>\n",
       "      <td>0.561193</td>\n",
       "      <td>7.017453e+06</td>\n",
       "      <td>8.803640e+06</td>\n",
       "    </tr>\n",
       "    <tr>\n",
       "      <th>3</th>\n",
       "      <td>1.940972</td>\n",
       "      <td>0.582534</td>\n",
       "      <td>2.001953</td>\n",
       "      <td>0.619755</td>\n",
       "      <td>1.878255</td>\n",
       "      <td>0.578437</td>\n",
       "      <td>1.937988</td>\n",
       "      <td>0.613597</td>\n",
       "      <td>1.799552</td>\n",
       "      <td>0.569766</td>\n",
       "      <td>6.069700e+06</td>\n",
       "      <td>8.074920e+06</td>\n",
       "    </tr>\n",
       "    <tr>\n",
       "      <th>4</th>\n",
       "      <td>1.941406</td>\n",
       "      <td>0.602176</td>\n",
       "      <td>2.003364</td>\n",
       "      <td>0.620325</td>\n",
       "      <td>1.886827</td>\n",
       "      <td>0.589190</td>\n",
       "      <td>1.949598</td>\n",
       "      <td>0.609467</td>\n",
       "      <td>1.810333</td>\n",
       "      <td>0.565931</td>\n",
       "      <td>7.415175e+06</td>\n",
       "      <td>1.204582e+07</td>\n",
       "    </tr>\n",
       "    <tr>\n",
       "      <th rowspan=\"5\" valign=\"top\">2000</th>\n",
       "      <th>0</th>\n",
       "      <td>8.938552</td>\n",
       "      <td>3.025593</td>\n",
       "      <td>9.423260</td>\n",
       "      <td>3.201185</td>\n",
       "      <td>8.520224</td>\n",
       "      <td>2.915270</td>\n",
       "      <td>9.019254</td>\n",
       "      <td>3.094010</td>\n",
       "      <td>8.374983</td>\n",
       "      <td>2.872996</td>\n",
       "      <td>1.039592e+07</td>\n",
       "      <td>8.852295e+06</td>\n",
       "    </tr>\n",
       "    <tr>\n",
       "      <th>1</th>\n",
       "      <td>8.875842</td>\n",
       "      <td>3.106100</td>\n",
       "      <td>9.246528</td>\n",
       "      <td>3.176525</td>\n",
       "      <td>8.364175</td>\n",
       "      <td>2.971729</td>\n",
       "      <td>8.743004</td>\n",
       "      <td>2.991636</td>\n",
       "      <td>8.118466</td>\n",
       "      <td>2.777935</td>\n",
       "      <td>1.114373e+07</td>\n",
       "      <td>8.327770e+06</td>\n",
       "    </tr>\n",
       "    <tr>\n",
       "      <th>2</th>\n",
       "      <td>8.748347</td>\n",
       "      <td>2.942329</td>\n",
       "      <td>9.106070</td>\n",
       "      <td>3.064057</td>\n",
       "      <td>8.267253</td>\n",
       "      <td>2.864255</td>\n",
       "      <td>8.652894</td>\n",
       "      <td>2.998973</td>\n",
       "      <td>8.034793</td>\n",
       "      <td>2.784748</td>\n",
       "      <td>1.120293e+07</td>\n",
       "      <td>6.712984e+06</td>\n",
       "    </tr>\n",
       "    <tr>\n",
       "      <th>3</th>\n",
       "      <td>8.625102</td>\n",
       "      <td>3.027572</td>\n",
       "      <td>9.066891</td>\n",
       "      <td>3.114900</td>\n",
       "      <td>8.246017</td>\n",
       "      <td>2.950425</td>\n",
       "      <td>8.646139</td>\n",
       "      <td>3.067553</td>\n",
       "      <td>8.028521</td>\n",
       "      <td>2.848430</td>\n",
       "      <td>1.038336e+07</td>\n",
       "      <td>6.267078e+06</td>\n",
       "    </tr>\n",
       "    <tr>\n",
       "      <th>4</th>\n",
       "      <td>8.730571</td>\n",
       "      <td>3.008297</td>\n",
       "      <td>9.288756</td>\n",
       "      <td>3.131465</td>\n",
       "      <td>8.419296</td>\n",
       "      <td>2.929829</td>\n",
       "      <td>8.854166</td>\n",
       "      <td>3.023098</td>\n",
       "      <td>8.221688</td>\n",
       "      <td>2.807149</td>\n",
       "      <td>1.202932e+07</td>\n",
       "      <td>9.568290e+06</td>\n",
       "    </tr>\n",
       "    <tr>\n",
       "      <th rowspan=\"5\" valign=\"top\">2001</th>\n",
       "      <th>0</th>\n",
       "      <td>13.357639</td>\n",
       "      <td>3.908381</td>\n",
       "      <td>13.798316</td>\n",
       "      <td>3.974951</td>\n",
       "      <td>12.921816</td>\n",
       "      <td>3.915386</td>\n",
       "      <td>13.380712</td>\n",
       "      <td>3.967509</td>\n",
       "      <td>12.424889</td>\n",
       "      <td>3.684098</td>\n",
       "      <td>2.454797e+07</td>\n",
       "      <td>9.867840e+06</td>\n",
       "    </tr>\n",
       "    <tr>\n",
       "      <th>1</th>\n",
       "      <td>12.754242</td>\n",
       "      <td>3.691376</td>\n",
       "      <td>13.290804</td>\n",
       "      <td>3.755658</td>\n",
       "      <td>12.331131</td>\n",
       "      <td>3.682727</td>\n",
       "      <td>12.809798</td>\n",
       "      <td>3.787805</td>\n",
       "      <td>11.894757</td>\n",
       "      <td>3.517231</td>\n",
       "      <td>2.741308e+07</td>\n",
       "      <td>1.218874e+07</td>\n",
       "    </tr>\n",
       "    <tr>\n",
       "      <th>2</th>\n",
       "      <td>12.950575</td>\n",
       "      <td>4.022030</td>\n",
       "      <td>13.514200</td>\n",
       "      <td>3.957012</td>\n",
       "      <td>12.533042</td>\n",
       "      <td>4.007816</td>\n",
       "      <td>13.076889</td>\n",
       "      <td>3.903213</td>\n",
       "      <td>12.142770</td>\n",
       "      <td>3.624395</td>\n",
       "      <td>3.135245e+07</td>\n",
       "      <td>1.639024e+07</td>\n",
       "    </tr>\n",
       "    <tr>\n",
       "      <th>3</th>\n",
       "      <td>13.095535</td>\n",
       "      <td>3.867588</td>\n",
       "      <td>13.663723</td>\n",
       "      <td>3.757872</td>\n",
       "      <td>12.729858</td>\n",
       "      <td>3.817101</td>\n",
       "      <td>13.296145</td>\n",
       "      <td>3.726656</td>\n",
       "      <td>12.346363</td>\n",
       "      <td>3.460450</td>\n",
       "      <td>3.087956e+07</td>\n",
       "      <td>1.746269e+07</td>\n",
       "    </tr>\n",
       "    <tr>\n",
       "      <th>4</th>\n",
       "      <td>13.308933</td>\n",
       "      <td>3.828064</td>\n",
       "      <td>13.744612</td>\n",
       "      <td>3.837716</td>\n",
       "      <td>12.896546</td>\n",
       "      <td>3.850447</td>\n",
       "      <td>13.352183</td>\n",
       "      <td>3.909021</td>\n",
       "      <td>12.398398</td>\n",
       "      <td>3.629788</td>\n",
       "      <td>2.479528e+07</td>\n",
       "      <td>1.040009e+07</td>\n",
       "    </tr>\n",
       "    <tr>\n",
       "      <th rowspan=\"5\" valign=\"top\">2002</th>\n",
       "      <th>0</th>\n",
       "      <td>9.224305</td>\n",
       "      <td>6.341320</td>\n",
       "      <td>9.552292</td>\n",
       "      <td>6.504674</td>\n",
       "      <td>8.974653</td>\n",
       "      <td>6.202623</td>\n",
       "      <td>9.282639</td>\n",
       "      <td>6.369774</td>\n",
       "      <td>8.619553</td>\n",
       "      <td>5.914763</td>\n",
       "      <td>2.973619e+07</td>\n",
       "      <td>1.547767e+07</td>\n",
       "    </tr>\n",
       "    <tr>\n",
       "      <th>1</th>\n",
       "      <td>9.666154</td>\n",
       "      <td>6.524762</td>\n",
       "      <td>9.936603</td>\n",
       "      <td>6.639411</td>\n",
       "      <td>9.317115</td>\n",
       "      <td>6.363246</td>\n",
       "      <td>9.552372</td>\n",
       "      <td>6.492423</td>\n",
       "      <td>8.870018</td>\n",
       "      <td>6.028651</td>\n",
       "      <td>3.075324e+07</td>\n",
       "      <td>1.064306e+07</td>\n",
       "    </tr>\n",
       "    <tr>\n",
       "      <th>2</th>\n",
       "      <td>9.982680</td>\n",
       "      <td>6.737338</td>\n",
       "      <td>10.239216</td>\n",
       "      <td>6.817683</td>\n",
       "      <td>9.599346</td>\n",
       "      <td>6.537529</td>\n",
       "      <td>9.905098</td>\n",
       "      <td>6.662521</td>\n",
       "      <td>9.197549</td>\n",
       "      <td>6.186598</td>\n",
       "      <td>3.568975e+07</td>\n",
       "      <td>1.876863e+07</td>\n",
       "    </tr>\n",
       "    <tr>\n",
       "      <th>3</th>\n",
       "      <td>9.991133</td>\n",
       "      <td>6.752840</td>\n",
       "      <td>10.226200</td>\n",
       "      <td>6.854137</td>\n",
       "      <td>9.614200</td>\n",
       "      <td>6.553940</td>\n",
       "      <td>9.863533</td>\n",
       "      <td>6.747078</td>\n",
       "      <td>9.158953</td>\n",
       "      <td>6.265115</td>\n",
       "      <td>3.161412e+07</td>\n",
       "      <td>1.385689e+07</td>\n",
       "    </tr>\n",
       "    <tr>\n",
       "      <th>4</th>\n",
       "      <td>9.566405</td>\n",
       "      <td>6.663848</td>\n",
       "      <td>9.803137</td>\n",
       "      <td>6.734708</td>\n",
       "      <td>9.200719</td>\n",
       "      <td>6.437243</td>\n",
       "      <td>9.456667</td>\n",
       "      <td>6.551411</td>\n",
       "      <td>8.781150</td>\n",
       "      <td>6.083424</td>\n",
       "      <td>3.054159e+07</td>\n",
       "      <td>1.778460e+07</td>\n",
       "    </tr>\n",
       "    <tr>\n",
       "      <th rowspan=\"5\" valign=\"top\">2003</th>\n",
       "      <th>0</th>\n",
       "      <td>5.966458</td>\n",
       "      <td>1.490328</td>\n",
       "      <td>6.106597</td>\n",
       "      <td>1.490452</td>\n",
       "      <td>5.822361</td>\n",
       "      <td>1.416920</td>\n",
       "      <td>5.956875</td>\n",
       "      <td>1.443619</td>\n",
       "      <td>5.531358</td>\n",
       "      <td>1.340497</td>\n",
       "      <td>2.245771e+07</td>\n",
       "      <td>1.296795e+07</td>\n",
       "    </tr>\n",
       "    <tr>\n",
       "      <th>1</th>\n",
       "      <td>5.889679</td>\n",
       "      <td>1.435278</td>\n",
       "      <td>6.064615</td>\n",
       "      <td>1.493769</td>\n",
       "      <td>5.782628</td>\n",
       "      <td>1.419297</td>\n",
       "      <td>5.945128</td>\n",
       "      <td>1.474543</td>\n",
       "      <td>5.520451</td>\n",
       "      <td>1.369212</td>\n",
       "      <td>2.383536e+07</td>\n",
       "      <td>1.244791e+07</td>\n",
       "    </tr>\n",
       "    <tr>\n",
       "      <th>2</th>\n",
       "      <td>5.936603</td>\n",
       "      <td>1.472113</td>\n",
       "      <td>6.066603</td>\n",
       "      <td>1.502746</td>\n",
       "      <td>5.815449</td>\n",
       "      <td>1.440056</td>\n",
       "      <td>5.931026</td>\n",
       "      <td>1.491744</td>\n",
       "      <td>5.507355</td>\n",
       "      <td>1.385184</td>\n",
       "      <td>2.018355e+07</td>\n",
       "      <td>7.482308e+06</td>\n",
       "    </tr>\n",
       "    <tr>\n",
       "      <th>3</th>\n",
       "      <td>5.819133</td>\n",
       "      <td>1.465275</td>\n",
       "      <td>5.947067</td>\n",
       "      <td>1.515483</td>\n",
       "      <td>5.679467</td>\n",
       "      <td>1.434336</td>\n",
       "      <td>5.800200</td>\n",
       "      <td>1.473590</td>\n",
       "      <td>5.385875</td>\n",
       "      <td>1.368327</td>\n",
       "      <td>2.396549e+07</td>\n",
       "      <td>1.197876e+07</td>\n",
       "    </tr>\n",
       "    <tr>\n",
       "      <th>4</th>\n",
       "      <td>5.902000</td>\n",
       "      <td>1.502411</td>\n",
       "      <td>6.029133</td>\n",
       "      <td>1.508856</td>\n",
       "      <td>5.724467</td>\n",
       "      <td>1.457836</td>\n",
       "      <td>5.867733</td>\n",
       "      <td>1.466161</td>\n",
       "      <td>5.448584</td>\n",
       "      <td>1.361429</td>\n",
       "      <td>3.117854e+07</td>\n",
       "      <td>3.541564e+07</td>\n",
       "    </tr>\n",
       "    <tr>\n",
       "      <th rowspan=\"5\" valign=\"top\">2004</th>\n",
       "      <th>0</th>\n",
       "      <td>6.434326</td>\n",
       "      <td>1.496642</td>\n",
       "      <td>6.556312</td>\n",
       "      <td>1.509847</td>\n",
       "      <td>6.313121</td>\n",
       "      <td>1.458916</td>\n",
       "      <td>6.429007</td>\n",
       "      <td>1.485634</td>\n",
       "      <td>5.969765</td>\n",
       "      <td>1.379511</td>\n",
       "      <td>1.482048e+07</td>\n",
       "      <td>5.903853e+06</td>\n",
       "    </tr>\n",
       "    <tr>\n",
       "      <th>1</th>\n",
       "      <td>6.499487</td>\n",
       "      <td>1.466409</td>\n",
       "      <td>6.639423</td>\n",
       "      <td>1.497743</td>\n",
       "      <td>6.365833</td>\n",
       "      <td>1.445844</td>\n",
       "      <td>6.496218</td>\n",
       "      <td>1.462287</td>\n",
       "      <td>6.032174</td>\n",
       "      <td>1.357831</td>\n",
       "      <td>1.791515e+07</td>\n",
       "      <td>1.221342e+07</td>\n",
       "    </tr>\n",
       "    <tr>\n",
       "      <th>2</th>\n",
       "      <td>6.510064</td>\n",
       "      <td>1.479163</td>\n",
       "      <td>6.625769</td>\n",
       "      <td>1.484931</td>\n",
       "      <td>6.392115</td>\n",
       "      <td>1.467603</td>\n",
       "      <td>6.491346</td>\n",
       "      <td>1.468451</td>\n",
       "      <td>6.027651</td>\n",
       "      <td>1.363556</td>\n",
       "      <td>1.470893e+07</td>\n",
       "      <td>4.949486e+06</td>\n",
       "    </tr>\n",
       "    <tr>\n",
       "      <th>3</th>\n",
       "      <td>6.515817</td>\n",
       "      <td>1.479738</td>\n",
       "      <td>6.637582</td>\n",
       "      <td>1.488514</td>\n",
       "      <td>6.373399</td>\n",
       "      <td>1.436431</td>\n",
       "      <td>6.487908</td>\n",
       "      <td>1.443932</td>\n",
       "      <td>6.024459</td>\n",
       "      <td>1.340788</td>\n",
       "      <td>1.670786e+07</td>\n",
       "      <td>6.466499e+06</td>\n",
       "    </tr>\n",
       "    <tr>\n",
       "      <th>4</th>\n",
       "      <td>6.458733</td>\n",
       "      <td>1.474163</td>\n",
       "      <td>6.579333</td>\n",
       "      <td>1.488165</td>\n",
       "      <td>6.318467</td>\n",
       "      <td>1.471972</td>\n",
       "      <td>6.420200</td>\n",
       "      <td>1.480826</td>\n",
       "      <td>5.961587</td>\n",
       "      <td>1.375046</td>\n",
       "      <td>2.109679e+07</td>\n",
       "      <td>2.105796e+07</td>\n",
       "    </tr>\n",
       "    <tr>\n",
       "      <th>...</th>\n",
       "      <th>...</th>\n",
       "      <td>...</td>\n",
       "      <td>...</td>\n",
       "      <td>...</td>\n",
       "      <td>...</td>\n",
       "      <td>...</td>\n",
       "      <td>...</td>\n",
       "      <td>...</td>\n",
       "      <td>...</td>\n",
       "      <td>...</td>\n",
       "      <td>...</td>\n",
       "      <td>...</td>\n",
       "      <td>...</td>\n",
       "    </tr>\n",
       "    <tr>\n",
       "      <th rowspan=\"5\" valign=\"top\">2012</th>\n",
       "      <th>0</th>\n",
       "      <td>13.463830</td>\n",
       "      <td>1.214078</td>\n",
       "      <td>13.622128</td>\n",
       "      <td>1.174821</td>\n",
       "      <td>13.241277</td>\n",
       "      <td>1.177089</td>\n",
       "      <td>13.440426</td>\n",
       "      <td>1.181745</td>\n",
       "      <td>12.489676</td>\n",
       "      <td>1.087683</td>\n",
       "      <td>1.074863e+07</td>\n",
       "      <td>3.462307e+06</td>\n",
       "    </tr>\n",
       "    <tr>\n",
       "      <th>1</th>\n",
       "      <td>13.567000</td>\n",
       "      <td>1.188285</td>\n",
       "      <td>13.770600</td>\n",
       "      <td>1.157500</td>\n",
       "      <td>13.375200</td>\n",
       "      <td>1.159453</td>\n",
       "      <td>13.558800</td>\n",
       "      <td>1.139772</td>\n",
       "      <td>12.597560</td>\n",
       "      <td>1.049705</td>\n",
       "      <td>1.176424e+07</td>\n",
       "      <td>3.541473e+06</td>\n",
       "    </tr>\n",
       "    <tr>\n",
       "      <th>2</th>\n",
       "      <td>13.499804</td>\n",
       "      <td>1.168210</td>\n",
       "      <td>13.722157</td>\n",
       "      <td>1.216012</td>\n",
       "      <td>13.312353</td>\n",
       "      <td>1.170392</td>\n",
       "      <td>13.504902</td>\n",
       "      <td>1.169503</td>\n",
       "      <td>12.548836</td>\n",
       "      <td>1.076731</td>\n",
       "      <td>1.286027e+07</td>\n",
       "      <td>5.267504e+06</td>\n",
       "    </tr>\n",
       "    <tr>\n",
       "      <th>3</th>\n",
       "      <td>13.554118</td>\n",
       "      <td>1.109187</td>\n",
       "      <td>13.775490</td>\n",
       "      <td>1.195119</td>\n",
       "      <td>13.360196</td>\n",
       "      <td>1.131276</td>\n",
       "      <td>13.573333</td>\n",
       "      <td>1.227957</td>\n",
       "      <td>12.610957</td>\n",
       "      <td>1.132662</td>\n",
       "      <td>1.240963e+07</td>\n",
       "      <td>6.105904e+06</td>\n",
       "    </tr>\n",
       "    <tr>\n",
       "      <th>4</th>\n",
       "      <td>13.542157</td>\n",
       "      <td>1.247592</td>\n",
       "      <td>13.690196</td>\n",
       "      <td>1.252143</td>\n",
       "      <td>13.304902</td>\n",
       "      <td>1.229344</td>\n",
       "      <td>13.457647</td>\n",
       "      <td>1.243921</td>\n",
       "      <td>12.504888</td>\n",
       "      <td>1.146094</td>\n",
       "      <td>1.249470e+07</td>\n",
       "      <td>5.998896e+06</td>\n",
       "    </tr>\n",
       "    <tr>\n",
       "      <th rowspan=\"5\" valign=\"top\">2013</th>\n",
       "      <th>0</th>\n",
       "      <td>14.259167</td>\n",
       "      <td>1.217720</td>\n",
       "      <td>14.391667</td>\n",
       "      <td>1.238021</td>\n",
       "      <td>14.086458</td>\n",
       "      <td>1.257061</td>\n",
       "      <td>14.236458</td>\n",
       "      <td>1.261213</td>\n",
       "      <td>13.460139</td>\n",
       "      <td>1.269306</td>\n",
       "      <td>7.833054e+06</td>\n",
       "      <td>2.883125e+06</td>\n",
       "    </tr>\n",
       "    <tr>\n",
       "      <th>1</th>\n",
       "      <td>14.201346</td>\n",
       "      <td>1.268171</td>\n",
       "      <td>14.332885</td>\n",
       "      <td>1.272203</td>\n",
       "      <td>14.063462</td>\n",
       "      <td>1.269111</td>\n",
       "      <td>14.193462</td>\n",
       "      <td>1.272072</td>\n",
       "      <td>13.421154</td>\n",
       "      <td>1.283261</td>\n",
       "      <td>8.060210e+06</td>\n",
       "      <td>2.941306e+06</td>\n",
       "    </tr>\n",
       "    <tr>\n",
       "      <th>2</th>\n",
       "      <td>14.093333</td>\n",
       "      <td>1.255608</td>\n",
       "      <td>14.290980</td>\n",
       "      <td>1.259875</td>\n",
       "      <td>13.964902</td>\n",
       "      <td>1.248821</td>\n",
       "      <td>14.128235</td>\n",
       "      <td>1.273359</td>\n",
       "      <td>13.350923</td>\n",
       "      <td>1.281454</td>\n",
       "      <td>9.591486e+06</td>\n",
       "      <td>4.951738e+06</td>\n",
       "    </tr>\n",
       "    <tr>\n",
       "      <th>3</th>\n",
       "      <td>14.112600</td>\n",
       "      <td>1.295337</td>\n",
       "      <td>14.274600</td>\n",
       "      <td>1.279085</td>\n",
       "      <td>13.983200</td>\n",
       "      <td>1.291360</td>\n",
       "      <td>14.138400</td>\n",
       "      <td>1.264866</td>\n",
       "      <td>13.360295</td>\n",
       "      <td>1.273198</td>\n",
       "      <td>9.457760e+06</td>\n",
       "      <td>4.648192e+06</td>\n",
       "    </tr>\n",
       "    <tr>\n",
       "      <th>4</th>\n",
       "      <td>14.204706</td>\n",
       "      <td>1.260316</td>\n",
       "      <td>14.361373</td>\n",
       "      <td>1.262358</td>\n",
       "      <td>14.079804</td>\n",
       "      <td>1.245370</td>\n",
       "      <td>14.250784</td>\n",
       "      <td>1.227744</td>\n",
       "      <td>13.470502</td>\n",
       "      <td>1.238747</td>\n",
       "      <td>9.245355e+06</td>\n",
       "      <td>4.856809e+06</td>\n",
       "    </tr>\n",
       "    <tr>\n",
       "      <th rowspan=\"5\" valign=\"top\">2014</th>\n",
       "      <th>0</th>\n",
       "      <td>18.563542</td>\n",
       "      <td>1.317153</td>\n",
       "      <td>18.761250</td>\n",
       "      <td>1.317360</td>\n",
       "      <td>18.370833</td>\n",
       "      <td>1.314611</td>\n",
       "      <td>18.555208</td>\n",
       "      <td>1.334052</td>\n",
       "      <td>17.885317</td>\n",
       "      <td>1.357696</td>\n",
       "      <td>6.546631e+06</td>\n",
       "      <td>2.214494e+06</td>\n",
       "    </tr>\n",
       "    <tr>\n",
       "      <th>1</th>\n",
       "      <td>18.530192</td>\n",
       "      <td>1.310123</td>\n",
       "      <td>18.759808</td>\n",
       "      <td>1.279218</td>\n",
       "      <td>18.371346</td>\n",
       "      <td>1.277825</td>\n",
       "      <td>18.599231</td>\n",
       "      <td>1.263309</td>\n",
       "      <td>17.927816</td>\n",
       "      <td>1.293589</td>\n",
       "      <td>6.694838e+06</td>\n",
       "      <td>2.325016e+06</td>\n",
       "    </tr>\n",
       "    <tr>\n",
       "      <th>2</th>\n",
       "      <td>18.610577</td>\n",
       "      <td>1.275301</td>\n",
       "      <td>18.813462</td>\n",
       "      <td>1.265187</td>\n",
       "      <td>18.430192</td>\n",
       "      <td>1.245452</td>\n",
       "      <td>18.641538</td>\n",
       "      <td>1.259554</td>\n",
       "      <td>17.970126</td>\n",
       "      <td>1.291916</td>\n",
       "      <td>6.721656e+06</td>\n",
       "      <td>2.780451e+06</td>\n",
       "    </tr>\n",
       "    <tr>\n",
       "      <th>3</th>\n",
       "      <td>18.461800</td>\n",
       "      <td>1.242907</td>\n",
       "      <td>18.660600</td>\n",
       "      <td>1.257835</td>\n",
       "      <td>18.252800</td>\n",
       "      <td>1.239593</td>\n",
       "      <td>18.446400</td>\n",
       "      <td>1.258419</td>\n",
       "      <td>17.769159</td>\n",
       "      <td>1.282785</td>\n",
       "      <td>7.470538e+06</td>\n",
       "      <td>3.497548e+06</td>\n",
       "    </tr>\n",
       "    <tr>\n",
       "      <th>4</th>\n",
       "      <td>18.547800</td>\n",
       "      <td>1.366518</td>\n",
       "      <td>18.729600</td>\n",
       "      <td>1.345126</td>\n",
       "      <td>18.312600</td>\n",
       "      <td>1.346759</td>\n",
       "      <td>18.487400</td>\n",
       "      <td>1.352047</td>\n",
       "      <td>17.817345</td>\n",
       "      <td>1.381567</td>\n",
       "      <td>8.070010e+06</td>\n",
       "      <td>4.264687e+06</td>\n",
       "    </tr>\n",
       "    <tr>\n",
       "      <th rowspan=\"5\" valign=\"top\">2015</th>\n",
       "      <th>0</th>\n",
       "      <td>23.864792</td>\n",
       "      <td>4.259261</td>\n",
       "      <td>24.138958</td>\n",
       "      <td>4.248869</td>\n",
       "      <td>23.588125</td>\n",
       "      <td>4.207440</td>\n",
       "      <td>23.893333</td>\n",
       "      <td>4.266990</td>\n",
       "      <td>23.435838</td>\n",
       "      <td>4.292400</td>\n",
       "      <td>7.629277e+06</td>\n",
       "      <td>3.213620e+06</td>\n",
       "    </tr>\n",
       "    <tr>\n",
       "      <th>1</th>\n",
       "      <td>23.660769</td>\n",
       "      <td>4.148254</td>\n",
       "      <td>23.939231</td>\n",
       "      <td>4.238025</td>\n",
       "      <td>23.380000</td>\n",
       "      <td>4.192618</td>\n",
       "      <td>23.676731</td>\n",
       "      <td>4.285475</td>\n",
       "      <td>23.223286</td>\n",
       "      <td>4.307509</td>\n",
       "      <td>7.417760e+06</td>\n",
       "      <td>2.850866e+06</td>\n",
       "    </tr>\n",
       "    <tr>\n",
       "      <th>2</th>\n",
       "      <td>23.722500</td>\n",
       "      <td>4.270257</td>\n",
       "      <td>24.010384</td>\n",
       "      <td>4.304440</td>\n",
       "      <td>23.426731</td>\n",
       "      <td>4.219611</td>\n",
       "      <td>23.715384</td>\n",
       "      <td>4.238835</td>\n",
       "      <td>23.263689</td>\n",
       "      <td>4.267387</td>\n",
       "      <td>7.587467e+06</td>\n",
       "      <td>3.225560e+06</td>\n",
       "    </tr>\n",
       "    <tr>\n",
       "      <th>3</th>\n",
       "      <td>23.604118</td>\n",
       "      <td>4.137149</td>\n",
       "      <td>23.942549</td>\n",
       "      <td>4.127036</td>\n",
       "      <td>23.376078</td>\n",
       "      <td>4.072977</td>\n",
       "      <td>23.692745</td>\n",
       "      <td>4.029644</td>\n",
       "      <td>23.236255</td>\n",
       "      <td>4.057580</td>\n",
       "      <td>7.611706e+06</td>\n",
       "      <td>3.247199e+06</td>\n",
       "    </tr>\n",
       "    <tr>\n",
       "      <th>4</th>\n",
       "      <td>23.556326</td>\n",
       "      <td>3.855481</td>\n",
       "      <td>23.871837</td>\n",
       "      <td>3.990750</td>\n",
       "      <td>23.290408</td>\n",
       "      <td>3.842080</td>\n",
       "      <td>23.620408</td>\n",
       "      <td>3.969339</td>\n",
       "      <td>23.159254</td>\n",
       "      <td>3.995659</td>\n",
       "      <td>8.570796e+06</td>\n",
       "      <td>6.263709e+06</td>\n",
       "    </tr>\n",
       "    <tr>\n",
       "      <th rowspan=\"5\" valign=\"top\">2016</th>\n",
       "      <th>0</th>\n",
       "      <td>53.141956</td>\n",
       "      <td>20.567697</td>\n",
       "      <td>53.849782</td>\n",
       "      <td>20.879289</td>\n",
       "      <td>52.561087</td>\n",
       "      <td>20.227536</td>\n",
       "      <td>53.273261</td>\n",
       "      <td>20.610546</td>\n",
       "      <td>52.983961</td>\n",
       "      <td>20.629993</td>\n",
       "      <td>9.955176e+06</td>\n",
       "      <td>5.300471e+06</td>\n",
       "    </tr>\n",
       "    <tr>\n",
       "      <th>1</th>\n",
       "      <td>53.470576</td>\n",
       "      <td>21.974202</td>\n",
       "      <td>54.237308</td>\n",
       "      <td>22.444093</td>\n",
       "      <td>52.911346</td>\n",
       "      <td>21.812246</td>\n",
       "      <td>53.692692</td>\n",
       "      <td>22.315635</td>\n",
       "      <td>53.407827</td>\n",
       "      <td>22.333671</td>\n",
       "      <td>9.695850e+06</td>\n",
       "      <td>4.148968e+06</td>\n",
       "    </tr>\n",
       "    <tr>\n",
       "      <th>2</th>\n",
       "      <td>53.771538</td>\n",
       "      <td>22.531768</td>\n",
       "      <td>54.566538</td>\n",
       "      <td>22.935527</td>\n",
       "      <td>52.969231</td>\n",
       "      <td>21.764485</td>\n",
       "      <td>53.808846</td>\n",
       "      <td>22.244213</td>\n",
       "      <td>53.526064</td>\n",
       "      <td>22.267468</td>\n",
       "      <td>1.085840e+07</td>\n",
       "      <td>7.726383e+06</td>\n",
       "    </tr>\n",
       "    <tr>\n",
       "      <th>3</th>\n",
       "      <td>53.057255</td>\n",
       "      <td>21.610425</td>\n",
       "      <td>53.850000</td>\n",
       "      <td>22.241659</td>\n",
       "      <td>52.171176</td>\n",
       "      <td>21.067961</td>\n",
       "      <td>53.144118</td>\n",
       "      <td>21.785131</td>\n",
       "      <td>52.859398</td>\n",
       "      <td>21.806501</td>\n",
       "      <td>1.168950e+07</td>\n",
       "      <td>7.882872e+06</td>\n",
       "    </tr>\n",
       "    <tr>\n",
       "      <th>4</th>\n",
       "      <td>54.665294</td>\n",
       "      <td>22.522164</td>\n",
       "      <td>55.518431</td>\n",
       "      <td>23.040263</td>\n",
       "      <td>53.828236</td>\n",
       "      <td>22.082668</td>\n",
       "      <td>54.839608</td>\n",
       "      <td>22.698193</td>\n",
       "      <td>54.553568</td>\n",
       "      <td>22.718994</td>\n",
       "      <td>1.307596e+07</td>\n",
       "      <td>1.060215e+07</td>\n",
       "    </tr>\n",
       "    <tr>\n",
       "      <th rowspan=\"5\" valign=\"top\">2017</th>\n",
       "      <th>0</th>\n",
       "      <td>119.996400</td>\n",
       "      <td>22.186293</td>\n",
       "      <td>122.370400</td>\n",
       "      <td>22.743658</td>\n",
       "      <td>118.195199</td>\n",
       "      <td>21.350509</td>\n",
       "      <td>121.015598</td>\n",
       "      <td>22.254077</td>\n",
       "      <td>120.911328</td>\n",
       "      <td>22.316099</td>\n",
       "      <td>1.872116e+07</td>\n",
       "      <td>7.913189e+06</td>\n",
       "    </tr>\n",
       "    <tr>\n",
       "      <th>1</th>\n",
       "      <td>119.473572</td>\n",
       "      <td>22.129728</td>\n",
       "      <td>120.999643</td>\n",
       "      <td>22.449848</td>\n",
       "      <td>117.350714</td>\n",
       "      <td>21.633277</td>\n",
       "      <td>119.035357</td>\n",
       "      <td>22.176696</td>\n",
       "      <td>118.916541</td>\n",
       "      <td>22.241065</td>\n",
       "      <td>1.962307e+07</td>\n",
       "      <td>8.218440e+06</td>\n",
       "    </tr>\n",
       "    <tr>\n",
       "      <th>2</th>\n",
       "      <td>120.853794</td>\n",
       "      <td>22.299310</td>\n",
       "      <td>122.469656</td>\n",
       "      <td>22.581124</td>\n",
       "      <td>119.026207</td>\n",
       "      <td>21.766449</td>\n",
       "      <td>121.098621</td>\n",
       "      <td>22.438835</td>\n",
       "      <td>120.987680</td>\n",
       "      <td>22.504850</td>\n",
       "      <td>1.802646e+07</td>\n",
       "      <td>9.622449e+06</td>\n",
       "    </tr>\n",
       "    <tr>\n",
       "      <th>3</th>\n",
       "      <td>120.935863</td>\n",
       "      <td>22.681240</td>\n",
       "      <td>122.960344</td>\n",
       "      <td>23.368348</td>\n",
       "      <td>118.851380</td>\n",
       "      <td>22.198533</td>\n",
       "      <td>121.224137</td>\n",
       "      <td>23.242736</td>\n",
       "      <td>121.113404</td>\n",
       "      <td>23.307158</td>\n",
       "      <td>1.883310e+07</td>\n",
       "      <td>9.795903e+06</td>\n",
       "    </tr>\n",
       "    <tr>\n",
       "      <th>4</th>\n",
       "      <td>121.087036</td>\n",
       "      <td>22.410424</td>\n",
       "      <td>122.695556</td>\n",
       "      <td>23.008489</td>\n",
       "      <td>118.534444</td>\n",
       "      <td>20.903040</td>\n",
       "      <td>120.365926</td>\n",
       "      <td>21.283571</td>\n",
       "      <td>120.255898</td>\n",
       "      <td>21.353185</td>\n",
       "      <td>2.023265e+07</td>\n",
       "      <td>1.652042e+07</td>\n",
       "    </tr>\n",
       "  </tbody>\n",
       "</table>\n",
       "<p>95 rows × 12 columns</p>\n",
       "</div>"
      ],
      "text/plain": [
       "                Open                   High                    Low             \\\n",
       "                mean        std        mean        std        mean        std   \n",
       "year dow                                                                        \n",
       "1999 0      1.977430   0.620642    2.021614   0.641740    1.898698   0.581392   \n",
       "     1      1.946482   0.579052    2.000213   0.603046    1.871280   0.564460   \n",
       "     2      1.949405   0.585537    2.010417   0.613806    1.883929   0.569160   \n",
       "     3      1.940972   0.582534    2.001953   0.619755    1.878255   0.578437   \n",
       "     4      1.941406   0.602176    2.003364   0.620325    1.886827   0.589190   \n",
       "2000 0      8.938552   3.025593    9.423260   3.201185    8.520224   2.915270   \n",
       "     1      8.875842   3.106100    9.246528   3.176525    8.364175   2.971729   \n",
       "     2      8.748347   2.942329    9.106070   3.064057    8.267253   2.864255   \n",
       "     3      8.625102   3.027572    9.066891   3.114900    8.246017   2.950425   \n",
       "     4      8.730571   3.008297    9.288756   3.131465    8.419296   2.929829   \n",
       "2001 0     13.357639   3.908381   13.798316   3.974951   12.921816   3.915386   \n",
       "     1     12.754242   3.691376   13.290804   3.755658   12.331131   3.682727   \n",
       "     2     12.950575   4.022030   13.514200   3.957012   12.533042   4.007816   \n",
       "     3     13.095535   3.867588   13.663723   3.757872   12.729858   3.817101   \n",
       "     4     13.308933   3.828064   13.744612   3.837716   12.896546   3.850447   \n",
       "2002 0      9.224305   6.341320    9.552292   6.504674    8.974653   6.202623   \n",
       "     1      9.666154   6.524762    9.936603   6.639411    9.317115   6.363246   \n",
       "     2      9.982680   6.737338   10.239216   6.817683    9.599346   6.537529   \n",
       "     3      9.991133   6.752840   10.226200   6.854137    9.614200   6.553940   \n",
       "     4      9.566405   6.663848    9.803137   6.734708    9.200719   6.437243   \n",
       "2003 0      5.966458   1.490328    6.106597   1.490452    5.822361   1.416920   \n",
       "     1      5.889679   1.435278    6.064615   1.493769    5.782628   1.419297   \n",
       "     2      5.936603   1.472113    6.066603   1.502746    5.815449   1.440056   \n",
       "     3      5.819133   1.465275    5.947067   1.515483    5.679467   1.434336   \n",
       "     4      5.902000   1.502411    6.029133   1.508856    5.724467   1.457836   \n",
       "2004 0      6.434326   1.496642    6.556312   1.509847    6.313121   1.458916   \n",
       "     1      6.499487   1.466409    6.639423   1.497743    6.365833   1.445844   \n",
       "     2      6.510064   1.479163    6.625769   1.484931    6.392115   1.467603   \n",
       "     3      6.515817   1.479738    6.637582   1.488514    6.373399   1.436431   \n",
       "     4      6.458733   1.474163    6.579333   1.488165    6.318467   1.471972   \n",
       "...              ...        ...         ...        ...         ...        ...   \n",
       "2012 0     13.463830   1.214078   13.622128   1.174821   13.241277   1.177089   \n",
       "     1     13.567000   1.188285   13.770600   1.157500   13.375200   1.159453   \n",
       "     2     13.499804   1.168210   13.722157   1.216012   13.312353   1.170392   \n",
       "     3     13.554118   1.109187   13.775490   1.195119   13.360196   1.131276   \n",
       "     4     13.542157   1.247592   13.690196   1.252143   13.304902   1.229344   \n",
       "2013 0     14.259167   1.217720   14.391667   1.238021   14.086458   1.257061   \n",
       "     1     14.201346   1.268171   14.332885   1.272203   14.063462   1.269111   \n",
       "     2     14.093333   1.255608   14.290980   1.259875   13.964902   1.248821   \n",
       "     3     14.112600   1.295337   14.274600   1.279085   13.983200   1.291360   \n",
       "     4     14.204706   1.260316   14.361373   1.262358   14.079804   1.245370   \n",
       "2014 0     18.563542   1.317153   18.761250   1.317360   18.370833   1.314611   \n",
       "     1     18.530192   1.310123   18.759808   1.279218   18.371346   1.277825   \n",
       "     2     18.610577   1.275301   18.813462   1.265187   18.430192   1.245452   \n",
       "     3     18.461800   1.242907   18.660600   1.257835   18.252800   1.239593   \n",
       "     4     18.547800   1.366518   18.729600   1.345126   18.312600   1.346759   \n",
       "2015 0     23.864792   4.259261   24.138958   4.248869   23.588125   4.207440   \n",
       "     1     23.660769   4.148254   23.939231   4.238025   23.380000   4.192618   \n",
       "     2     23.722500   4.270257   24.010384   4.304440   23.426731   4.219611   \n",
       "     3     23.604118   4.137149   23.942549   4.127036   23.376078   4.072977   \n",
       "     4     23.556326   3.855481   23.871837   3.990750   23.290408   3.842080   \n",
       "2016 0     53.141956  20.567697   53.849782  20.879289   52.561087  20.227536   \n",
       "     1     53.470576  21.974202   54.237308  22.444093   52.911346  21.812246   \n",
       "     2     53.771538  22.531768   54.566538  22.935527   52.969231  21.764485   \n",
       "     3     53.057255  21.610425   53.850000  22.241659   52.171176  21.067961   \n",
       "     4     54.665294  22.522164   55.518431  23.040263   53.828236  22.082668   \n",
       "2017 0    119.996400  22.186293  122.370400  22.743658  118.195199  21.350509   \n",
       "     1    119.473572  22.129728  120.999643  22.449848  117.350714  21.633277   \n",
       "     2    120.853794  22.299310  122.469656  22.581124  119.026207  21.766449   \n",
       "     3    120.935863  22.681240  122.960344  23.368348  118.851380  22.198533   \n",
       "     4    121.087036  22.410424  122.695556  23.008489  118.534444  20.903040   \n",
       "\n",
       "               Close              Adj Close                   Volume  \\\n",
       "                mean        std        mean        std          mean   \n",
       "year dow                                                               \n",
       "1999 0      1.958854   0.616022    1.818928   0.572018  5.255120e+06   \n",
       "     1      1.936756   0.587657    1.798408   0.545679  6.325102e+06   \n",
       "     2      1.953763   0.604365    1.814200   0.561193  7.017453e+06   \n",
       "     3      1.937988   0.613597    1.799552   0.569766  6.069700e+06   \n",
       "     4      1.949598   0.609467    1.810333   0.565931  7.415175e+06   \n",
       "2000 0      9.019254   3.094010    8.374983   2.872996  1.039592e+07   \n",
       "     1      8.743004   2.991636    8.118466   2.777935  1.114373e+07   \n",
       "     2      8.652894   2.998973    8.034793   2.784748  1.120293e+07   \n",
       "     3      8.646139   3.067553    8.028521   2.848430  1.038336e+07   \n",
       "     4      8.854166   3.023098    8.221688   2.807149  1.202932e+07   \n",
       "2001 0     13.380712   3.967509   12.424889   3.684098  2.454797e+07   \n",
       "     1     12.809798   3.787805   11.894757   3.517231  2.741308e+07   \n",
       "     2     13.076889   3.903213   12.142770   3.624395  3.135245e+07   \n",
       "     3     13.296145   3.726656   12.346363   3.460450  3.087956e+07   \n",
       "     4     13.352183   3.909021   12.398398   3.629788  2.479528e+07   \n",
       "2002 0      9.282639   6.369774    8.619553   5.914763  2.973619e+07   \n",
       "     1      9.552372   6.492423    8.870018   6.028651  3.075324e+07   \n",
       "     2      9.905098   6.662521    9.197549   6.186598  3.568975e+07   \n",
       "     3      9.863533   6.747078    9.158953   6.265115  3.161412e+07   \n",
       "     4      9.456667   6.551411    8.781150   6.083424  3.054159e+07   \n",
       "2003 0      5.956875   1.443619    5.531358   1.340497  2.245771e+07   \n",
       "     1      5.945128   1.474543    5.520451   1.369212  2.383536e+07   \n",
       "     2      5.931026   1.491744    5.507355   1.385184  2.018355e+07   \n",
       "     3      5.800200   1.473590    5.385875   1.368327  2.396549e+07   \n",
       "     4      5.867733   1.466161    5.448584   1.361429  3.117854e+07   \n",
       "2004 0      6.429007   1.485634    5.969765   1.379511  1.482048e+07   \n",
       "     1      6.496218   1.462287    6.032174   1.357831  1.791515e+07   \n",
       "     2      6.491346   1.468451    6.027651   1.363556  1.470893e+07   \n",
       "     3      6.487908   1.443932    6.024459   1.340788  1.670786e+07   \n",
       "     4      6.420200   1.480826    5.961587   1.375046  2.109679e+07   \n",
       "...              ...        ...         ...        ...           ...   \n",
       "2012 0     13.440426   1.181745   12.489676   1.087683  1.074863e+07   \n",
       "     1     13.558800   1.139772   12.597560   1.049705  1.176424e+07   \n",
       "     2     13.504902   1.169503   12.548836   1.076731  1.286027e+07   \n",
       "     3     13.573333   1.227957   12.610957   1.132662  1.240963e+07   \n",
       "     4     13.457647   1.243921   12.504888   1.146094  1.249470e+07   \n",
       "2013 0     14.236458   1.261213   13.460139   1.269306  7.833054e+06   \n",
       "     1     14.193462   1.272072   13.421154   1.283261  8.060210e+06   \n",
       "     2     14.128235   1.273359   13.350923   1.281454  9.591486e+06   \n",
       "     3     14.138400   1.264866   13.360295   1.273198  9.457760e+06   \n",
       "     4     14.250784   1.227744   13.470502   1.238747  9.245355e+06   \n",
       "2014 0     18.555208   1.334052   17.885317   1.357696  6.546631e+06   \n",
       "     1     18.599231   1.263309   17.927816   1.293589  6.694838e+06   \n",
       "     2     18.641538   1.259554   17.970126   1.291916  6.721656e+06   \n",
       "     3     18.446400   1.258419   17.769159   1.282785  7.470538e+06   \n",
       "     4     18.487400   1.352047   17.817345   1.381567  8.070010e+06   \n",
       "2015 0     23.893333   4.266990   23.435838   4.292400  7.629277e+06   \n",
       "     1     23.676731   4.285475   23.223286   4.307509  7.417760e+06   \n",
       "     2     23.715384   4.238835   23.263689   4.267387  7.587467e+06   \n",
       "     3     23.692745   4.029644   23.236255   4.057580  7.611706e+06   \n",
       "     4     23.620408   3.969339   23.159254   3.995659  8.570796e+06   \n",
       "2016 0     53.273261  20.610546   52.983961  20.629993  9.955176e+06   \n",
       "     1     53.692692  22.315635   53.407827  22.333671  9.695850e+06   \n",
       "     2     53.808846  22.244213   53.526064  22.267468  1.085840e+07   \n",
       "     3     53.144118  21.785131   52.859398  21.806501  1.168950e+07   \n",
       "     4     54.839608  22.698193   54.553568  22.718994  1.307596e+07   \n",
       "2017 0    121.015598  22.254077  120.911328  22.316099  1.872116e+07   \n",
       "     1    119.035357  22.176696  118.916541  22.241065  1.962307e+07   \n",
       "     2    121.098621  22.438835  120.987680  22.504850  1.802646e+07   \n",
       "     3    121.224137  23.242736  121.113404  23.307158  1.883310e+07   \n",
       "     4    120.365926  21.283571  120.255898  21.353185  2.023265e+07   \n",
       "\n",
       "                        \n",
       "                   std  \n",
       "year dow                \n",
       "1999 0    4.442927e+06  \n",
       "     1    4.949142e+06  \n",
       "     2    8.803640e+06  \n",
       "     3    8.074920e+06  \n",
       "     4    1.204582e+07  \n",
       "2000 0    8.852295e+06  \n",
       "     1    8.327770e+06  \n",
       "     2    6.712984e+06  \n",
       "     3    6.267078e+06  \n",
       "     4    9.568290e+06  \n",
       "2001 0    9.867840e+06  \n",
       "     1    1.218874e+07  \n",
       "     2    1.639024e+07  \n",
       "     3    1.746269e+07  \n",
       "     4    1.040009e+07  \n",
       "2002 0    1.547767e+07  \n",
       "     1    1.064306e+07  \n",
       "     2    1.876863e+07  \n",
       "     3    1.385689e+07  \n",
       "     4    1.778460e+07  \n",
       "2003 0    1.296795e+07  \n",
       "     1    1.244791e+07  \n",
       "     2    7.482308e+06  \n",
       "     3    1.197876e+07  \n",
       "     4    3.541564e+07  \n",
       "2004 0    5.903853e+06  \n",
       "     1    1.221342e+07  \n",
       "     2    4.949486e+06  \n",
       "     3    6.466499e+06  \n",
       "     4    2.105796e+07  \n",
       "...                ...  \n",
       "2012 0    3.462307e+06  \n",
       "     1    3.541473e+06  \n",
       "     2    5.267504e+06  \n",
       "     3    6.105904e+06  \n",
       "     4    5.998896e+06  \n",
       "2013 0    2.883125e+06  \n",
       "     1    2.941306e+06  \n",
       "     2    4.951738e+06  \n",
       "     3    4.648192e+06  \n",
       "     4    4.856809e+06  \n",
       "2014 0    2.214494e+06  \n",
       "     1    2.325016e+06  \n",
       "     2    2.780451e+06  \n",
       "     3    3.497548e+06  \n",
       "     4    4.264687e+06  \n",
       "2015 0    3.213620e+06  \n",
       "     1    2.850866e+06  \n",
       "     2    3.225560e+06  \n",
       "     3    3.247199e+06  \n",
       "     4    6.263709e+06  \n",
       "2016 0    5.300471e+06  \n",
       "     1    4.148968e+06  \n",
       "     2    7.726383e+06  \n",
       "     3    7.882872e+06  \n",
       "     4    1.060215e+07  \n",
       "2017 0    7.913189e+06  \n",
       "     1    8.218440e+06  \n",
       "     2    9.622449e+06  \n",
       "     3    9.795903e+06  \n",
       "     4    1.652042e+07  \n",
       "\n",
       "[95 rows x 12 columns]"
      ]
     },
     "execution_count": 201,
     "metadata": {},
     "output_type": "execute_result"
    }
   ],
   "source": [
    "nvda.groupby(['year','dow']).agg([np.mean, np.std])"
   ]
  },
  {
   "cell_type": "markdown",
   "metadata": {},
   "source": [
    "### 变换函数 apply\n",
    "#### 对一列做处理/变换！！！"
   ]
  },
  {
   "cell_type": "code",
   "execution_count": 202,
   "metadata": {},
   "outputs": [
    {
     "data": {
      "text/html": [
       "<div>\n",
       "<style scoped>\n",
       "    .dataframe tbody tr th:only-of-type {\n",
       "        vertical-align: middle;\n",
       "    }\n",
       "\n",
       "    .dataframe tbody tr th {\n",
       "        vertical-align: top;\n",
       "    }\n",
       "\n",
       "    .dataframe thead th {\n",
       "        text-align: right;\n",
       "    }\n",
       "</style>\n",
       "<table border=\"1\" class=\"dataframe\">\n",
       "  <thead>\n",
       "    <tr style=\"text-align: right;\">\n",
       "      <th></th>\n",
       "      <th>Bonus</th>\n",
       "      <th>Name</th>\n",
       "      <th>Salary</th>\n",
       "      <th>Year</th>\n",
       "    </tr>\n",
       "  </thead>\n",
       "  <tbody>\n",
       "    <tr>\n",
       "      <th>0</th>\n",
       "      <td>12000</td>\n",
       "      <td>Tommy</td>\n",
       "      <td>40000</td>\n",
       "      <td>2017</td>\n",
       "    </tr>\n",
       "    <tr>\n",
       "      <th>1</th>\n",
       "      <td>3000</td>\n",
       "      <td>HanMeimei</td>\n",
       "      <td>5000</td>\n",
       "      <td>2017</td>\n",
       "    </tr>\n",
       "    <tr>\n",
       "      <th>2</th>\n",
       "      <td>3500</td>\n",
       "      <td>HanMeimei</td>\n",
       "      <td>4000</td>\n",
       "      <td>2017</td>\n",
       "    </tr>\n",
       "    <tr>\n",
       "      <th>3</th>\n",
       "      <td>1200</td>\n",
       "      <td>LiLei</td>\n",
       "      <td>3000</td>\n",
       "      <td>2017</td>\n",
       "    </tr>\n",
       "    <tr>\n",
       "      <th>4</th>\n",
       "      <td>16000</td>\n",
       "      <td>Tommy</td>\n",
       "      <td>38000</td>\n",
       "      <td>2018</td>\n",
       "    </tr>\n",
       "    <tr>\n",
       "      <th>5</th>\n",
       "      <td>18000</td>\n",
       "      <td>Jill</td>\n",
       "      <td>42000</td>\n",
       "      <td>2018</td>\n",
       "    </tr>\n",
       "    <tr>\n",
       "      <th>6</th>\n",
       "      <td>7000</td>\n",
       "      <td>HanMeimei</td>\n",
       "      <td>6000</td>\n",
       "      <td>2018</td>\n",
       "    </tr>\n",
       "    <tr>\n",
       "      <th>7</th>\n",
       "      <td>21000</td>\n",
       "      <td>John</td>\n",
       "      <td>39000</td>\n",
       "      <td>2018</td>\n",
       "    </tr>\n",
       "  </tbody>\n",
       "</table>\n",
       "</div>"
      ],
      "text/plain": [
       "   Bonus       Name  Salary  Year\n",
       "0  12000      Tommy   40000  2017\n",
       "1   3000  HanMeimei    5000  2017\n",
       "2   3500  HanMeimei    4000  2017\n",
       "3   1200      LiLei    3000  2017\n",
       "4  16000      Tommy   38000  2018\n",
       "5  18000       Jill   42000  2018\n",
       "6   7000  HanMeimei    6000  2018\n",
       "7  21000       John   39000  2018"
      ]
     },
     "execution_count": 202,
     "metadata": {},
     "output_type": "execute_result"
    }
   ],
   "source": [
    "salaries"
   ]
  },
  {
   "cell_type": "code",
   "execution_count": 203,
   "metadata": {},
   "outputs": [],
   "source": [
    "# 广播特性\n",
    "salaries.loc[:,'my_salary'] = salaries['Salary']*2-1000"
   ]
  },
  {
   "cell_type": "code",
   "execution_count": 204,
   "metadata": {},
   "outputs": [
    {
     "data": {
      "text/html": [
       "<div>\n",
       "<style scoped>\n",
       "    .dataframe tbody tr th:only-of-type {\n",
       "        vertical-align: middle;\n",
       "    }\n",
       "\n",
       "    .dataframe tbody tr th {\n",
       "        vertical-align: top;\n",
       "    }\n",
       "\n",
       "    .dataframe thead th {\n",
       "        text-align: right;\n",
       "    }\n",
       "</style>\n",
       "<table border=\"1\" class=\"dataframe\">\n",
       "  <thead>\n",
       "    <tr style=\"text-align: right;\">\n",
       "      <th></th>\n",
       "      <th>Bonus</th>\n",
       "      <th>Name</th>\n",
       "      <th>Salary</th>\n",
       "      <th>Year</th>\n",
       "      <th>my_salary</th>\n",
       "    </tr>\n",
       "  </thead>\n",
       "  <tbody>\n",
       "    <tr>\n",
       "      <th>0</th>\n",
       "      <td>12000</td>\n",
       "      <td>Tommy</td>\n",
       "      <td>40000</td>\n",
       "      <td>2017</td>\n",
       "      <td>79000</td>\n",
       "    </tr>\n",
       "    <tr>\n",
       "      <th>1</th>\n",
       "      <td>3000</td>\n",
       "      <td>HanMeimei</td>\n",
       "      <td>5000</td>\n",
       "      <td>2017</td>\n",
       "      <td>9000</td>\n",
       "    </tr>\n",
       "    <tr>\n",
       "      <th>2</th>\n",
       "      <td>3500</td>\n",
       "      <td>HanMeimei</td>\n",
       "      <td>4000</td>\n",
       "      <td>2017</td>\n",
       "      <td>7000</td>\n",
       "    </tr>\n",
       "    <tr>\n",
       "      <th>3</th>\n",
       "      <td>1200</td>\n",
       "      <td>LiLei</td>\n",
       "      <td>3000</td>\n",
       "      <td>2017</td>\n",
       "      <td>5000</td>\n",
       "    </tr>\n",
       "    <tr>\n",
       "      <th>4</th>\n",
       "      <td>16000</td>\n",
       "      <td>Tommy</td>\n",
       "      <td>38000</td>\n",
       "      <td>2018</td>\n",
       "      <td>75000</td>\n",
       "    </tr>\n",
       "    <tr>\n",
       "      <th>5</th>\n",
       "      <td>18000</td>\n",
       "      <td>Jill</td>\n",
       "      <td>42000</td>\n",
       "      <td>2018</td>\n",
       "      <td>83000</td>\n",
       "    </tr>\n",
       "    <tr>\n",
       "      <th>6</th>\n",
       "      <td>7000</td>\n",
       "      <td>HanMeimei</td>\n",
       "      <td>6000</td>\n",
       "      <td>2018</td>\n",
       "      <td>11000</td>\n",
       "    </tr>\n",
       "    <tr>\n",
       "      <th>7</th>\n",
       "      <td>21000</td>\n",
       "      <td>John</td>\n",
       "      <td>39000</td>\n",
       "      <td>2018</td>\n",
       "      <td>77000</td>\n",
       "    </tr>\n",
       "  </tbody>\n",
       "</table>\n",
       "</div>"
      ],
      "text/plain": [
       "   Bonus       Name  Salary  Year  my_salary\n",
       "0  12000      Tommy   40000  2017      79000\n",
       "1   3000  HanMeimei    5000  2017       9000\n",
       "2   3500  HanMeimei    4000  2017       7000\n",
       "3   1200      LiLei    3000  2017       5000\n",
       "4  16000      Tommy   38000  2018      75000\n",
       "5  18000       Jill   42000  2018      83000\n",
       "6   7000  HanMeimei    6000  2018      11000\n",
       "7  21000       John   39000  2018      77000"
      ]
     },
     "execution_count": 204,
     "metadata": {},
     "output_type": "execute_result"
    }
   ],
   "source": [
    "salaries"
   ]
  },
  {
   "cell_type": "code",
   "execution_count": 205,
   "metadata": {},
   "outputs": [],
   "source": [
    "# 简单操作用apply实现一下\n",
    "def my_fun(x):\n",
    "    return x*2-1000\n",
    "\n",
    "salaries.loc[:,'tmp'] = salaries['Salary'].apply(my_fun)"
   ]
  },
  {
   "cell_type": "code",
   "execution_count": 206,
   "metadata": {},
   "outputs": [
    {
     "data": {
      "text/html": [
       "<div>\n",
       "<style scoped>\n",
       "    .dataframe tbody tr th:only-of-type {\n",
       "        vertical-align: middle;\n",
       "    }\n",
       "\n",
       "    .dataframe tbody tr th {\n",
       "        vertical-align: top;\n",
       "    }\n",
       "\n",
       "    .dataframe thead th {\n",
       "        text-align: right;\n",
       "    }\n",
       "</style>\n",
       "<table border=\"1\" class=\"dataframe\">\n",
       "  <thead>\n",
       "    <tr style=\"text-align: right;\">\n",
       "      <th></th>\n",
       "      <th>Bonus</th>\n",
       "      <th>Name</th>\n",
       "      <th>Salary</th>\n",
       "      <th>Year</th>\n",
       "      <th>my_salary</th>\n",
       "      <th>tmp</th>\n",
       "    </tr>\n",
       "  </thead>\n",
       "  <tbody>\n",
       "    <tr>\n",
       "      <th>0</th>\n",
       "      <td>12000</td>\n",
       "      <td>Tommy</td>\n",
       "      <td>40000</td>\n",
       "      <td>2017</td>\n",
       "      <td>79000</td>\n",
       "      <td>79000</td>\n",
       "    </tr>\n",
       "    <tr>\n",
       "      <th>1</th>\n",
       "      <td>3000</td>\n",
       "      <td>HanMeimei</td>\n",
       "      <td>5000</td>\n",
       "      <td>2017</td>\n",
       "      <td>9000</td>\n",
       "      <td>9000</td>\n",
       "    </tr>\n",
       "    <tr>\n",
       "      <th>2</th>\n",
       "      <td>3500</td>\n",
       "      <td>HanMeimei</td>\n",
       "      <td>4000</td>\n",
       "      <td>2017</td>\n",
       "      <td>7000</td>\n",
       "      <td>7000</td>\n",
       "    </tr>\n",
       "    <tr>\n",
       "      <th>3</th>\n",
       "      <td>1200</td>\n",
       "      <td>LiLei</td>\n",
       "      <td>3000</td>\n",
       "      <td>2017</td>\n",
       "      <td>5000</td>\n",
       "      <td>5000</td>\n",
       "    </tr>\n",
       "    <tr>\n",
       "      <th>4</th>\n",
       "      <td>16000</td>\n",
       "      <td>Tommy</td>\n",
       "      <td>38000</td>\n",
       "      <td>2018</td>\n",
       "      <td>75000</td>\n",
       "      <td>75000</td>\n",
       "    </tr>\n",
       "    <tr>\n",
       "      <th>5</th>\n",
       "      <td>18000</td>\n",
       "      <td>Jill</td>\n",
       "      <td>42000</td>\n",
       "      <td>2018</td>\n",
       "      <td>83000</td>\n",
       "      <td>83000</td>\n",
       "    </tr>\n",
       "    <tr>\n",
       "      <th>6</th>\n",
       "      <td>7000</td>\n",
       "      <td>HanMeimei</td>\n",
       "      <td>6000</td>\n",
       "      <td>2018</td>\n",
       "      <td>11000</td>\n",
       "      <td>11000</td>\n",
       "    </tr>\n",
       "    <tr>\n",
       "      <th>7</th>\n",
       "      <td>21000</td>\n",
       "      <td>John</td>\n",
       "      <td>39000</td>\n",
       "      <td>2018</td>\n",
       "      <td>77000</td>\n",
       "      <td>77000</td>\n",
       "    </tr>\n",
       "  </tbody>\n",
       "</table>\n",
       "</div>"
      ],
      "text/plain": [
       "   Bonus       Name  Salary  Year  my_salary    tmp\n",
       "0  12000      Tommy   40000  2017      79000  79000\n",
       "1   3000  HanMeimei    5000  2017       9000   9000\n",
       "2   3500  HanMeimei    4000  2017       7000   7000\n",
       "3   1200      LiLei    3000  2017       5000   5000\n",
       "4  16000      Tommy   38000  2018      75000  75000\n",
       "5  18000       Jill   42000  2018      83000  83000\n",
       "6   7000  HanMeimei    6000  2018      11000  11000\n",
       "7  21000       John   39000  2018      77000  77000"
      ]
     },
     "execution_count": 206,
     "metadata": {},
     "output_type": "execute_result"
    }
   ],
   "source": [
    "salaries"
   ]
  },
  {
   "cell_type": "code",
   "execution_count": 49,
   "metadata": {},
   "outputs": [
    {
     "data": {
      "text/html": [
       "<div>\n",
       "<style scoped>\n",
       "    .dataframe tbody tr th:only-of-type {\n",
       "        vertical-align: middle;\n",
       "    }\n",
       "\n",
       "    .dataframe tbody tr th {\n",
       "        vertical-align: top;\n",
       "    }\n",
       "\n",
       "    .dataframe thead th {\n",
       "        text-align: right;\n",
       "    }\n",
       "</style>\n",
       "<table border=\"1\" class=\"dataframe\">\n",
       "  <thead>\n",
       "    <tr style=\"text-align: right;\">\n",
       "      <th></th>\n",
       "      <th>Name</th>\n",
       "      <th>Salary</th>\n",
       "      <th>Bonus</th>\n",
       "    </tr>\n",
       "  </thead>\n",
       "  <tbody>\n",
       "    <tr>\n",
       "      <th>0</th>\n",
       "      <td>BOSS</td>\n",
       "      <td>40000</td>\n",
       "      <td>12000</td>\n",
       "    </tr>\n",
       "    <tr>\n",
       "      <th>1</th>\n",
       "      <td>HanMeimei</td>\n",
       "      <td>5000</td>\n",
       "      <td>3000</td>\n",
       "    </tr>\n",
       "    <tr>\n",
       "      <th>4</th>\n",
       "      <td>BOSS</td>\n",
       "      <td>38000</td>\n",
       "      <td>16000</td>\n",
       "    </tr>\n",
       "    <tr>\n",
       "      <th>5</th>\n",
       "      <td>BOSS</td>\n",
       "      <td>42000</td>\n",
       "      <td>18000</td>\n",
       "    </tr>\n",
       "    <tr>\n",
       "      <th>6</th>\n",
       "      <td>HanMeimei</td>\n",
       "      <td>6000</td>\n",
       "      <td>7000</td>\n",
       "    </tr>\n",
       "    <tr>\n",
       "      <th>7</th>\n",
       "      <td>BOSS</td>\n",
       "      <td>39000</td>\n",
       "      <td>21000</td>\n",
       "    </tr>\n",
       "  </tbody>\n",
       "</table>\n",
       "</div>"
      ],
      "text/plain": [
       "        Name  Salary  Bonus\n",
       "0       BOSS   40000  12000\n",
       "1  HanMeimei    5000   3000\n",
       "4       BOSS   38000  16000\n",
       "5       BOSS   42000  18000\n",
       "6  HanMeimei    6000   7000\n",
       "7       BOSS   39000  21000"
      ]
     },
     "execution_count": 49,
     "metadata": {},
     "output_type": "execute_result"
    }
   ],
   "source": [
    "# 取数据\n",
    "# loc iloc at iat ix\n",
    "# loc 逗号之前是对行做选择 逗号之后是对列做选择\n",
    "salaries.loc[salaries['Salary']>4000,['Name',\"Salary\",'Bonus']]"
   ]
  },
  {
   "cell_type": "code",
   "execution_count": 50,
   "metadata": {},
   "outputs": [
    {
     "data": {
      "text/html": [
       "<div>\n",
       "<style scoped>\n",
       "    .dataframe tbody tr th:only-of-type {\n",
       "        vertical-align: middle;\n",
       "    }\n",
       "\n",
       "    .dataframe tbody tr th {\n",
       "        vertical-align: top;\n",
       "    }\n",
       "\n",
       "    .dataframe thead th {\n",
       "        text-align: right;\n",
       "    }\n",
       "</style>\n",
       "<table border=\"1\" class=\"dataframe\">\n",
       "  <thead>\n",
       "    <tr style=\"text-align: right;\">\n",
       "      <th></th>\n",
       "      <th>Name</th>\n",
       "      <th>Salary</th>\n",
       "      <th>Bonus</th>\n",
       "    </tr>\n",
       "  </thead>\n",
       "  <tbody>\n",
       "    <tr>\n",
       "      <th>0</th>\n",
       "      <td>BOSS</td>\n",
       "      <td>40000</td>\n",
       "      <td>12000</td>\n",
       "    </tr>\n",
       "    <tr>\n",
       "      <th>4</th>\n",
       "      <td>BOSS</td>\n",
       "      <td>38000</td>\n",
       "      <td>16000</td>\n",
       "    </tr>\n",
       "    <tr>\n",
       "      <th>5</th>\n",
       "      <td>BOSS</td>\n",
       "      <td>42000</td>\n",
       "      <td>18000</td>\n",
       "    </tr>\n",
       "    <tr>\n",
       "      <th>6</th>\n",
       "      <td>HanMeimei</td>\n",
       "      <td>6000</td>\n",
       "      <td>7000</td>\n",
       "    </tr>\n",
       "    <tr>\n",
       "      <th>7</th>\n",
       "      <td>BOSS</td>\n",
       "      <td>39000</td>\n",
       "      <td>21000</td>\n",
       "    </tr>\n",
       "  </tbody>\n",
       "</table>\n",
       "</div>"
      ],
      "text/plain": [
       "        Name  Salary  Bonus\n",
       "0       BOSS   40000  12000\n",
       "4       BOSS   38000  16000\n",
       "5       BOSS   42000  18000\n",
       "6  HanMeimei    6000   7000\n",
       "7       BOSS   39000  21000"
      ]
     },
     "execution_count": 50,
     "metadata": {},
     "output_type": "execute_result"
    }
   ],
   "source": [
    "salaries.loc[(salaries['Salary']>4000)&(salaries['Bonus']>=7000),['Name',\"Salary\",'Bonus']]"
   ]
  },
  {
   "cell_type": "code",
   "execution_count": null,
   "metadata": {
    "collapsed": true
   },
   "outputs": [],
   "source": [
    "def trans2(x):\n",
    "    return x if x!=\"Han\" else \"Hanxiaoyang\""
   ]
  },
  {
   "cell_type": "code",
   "execution_count": 51,
   "metadata": {
    "collapsed": true
   },
   "outputs": [],
   "source": [
    "def trans2(x):\n",
    "    if x==\"Han\":\n",
    "        return \"Hanxiaoyang\"\n",
    "    else:\n",
    "        return x"
   ]
  },
  {
   "cell_type": "code",
   "execution_count": 52,
   "metadata": {
    "collapsed": true
   },
   "outputs": [],
   "source": [
    "salaries.loc[:,'full_name'] = salaries['Name'].apply(trans2)"
   ]
  },
  {
   "cell_type": "code",
   "execution_count": 53,
   "metadata": {},
   "outputs": [
    {
     "data": {
      "text/html": [
       "<div>\n",
       "<style scoped>\n",
       "    .dataframe tbody tr th:only-of-type {\n",
       "        vertical-align: middle;\n",
       "    }\n",
       "\n",
       "    .dataframe tbody tr th {\n",
       "        vertical-align: top;\n",
       "    }\n",
       "\n",
       "    .dataframe thead th {\n",
       "        text-align: right;\n",
       "    }\n",
       "</style>\n",
       "<table border=\"1\" class=\"dataframe\">\n",
       "  <thead>\n",
       "    <tr style=\"text-align: right;\">\n",
       "      <th></th>\n",
       "      <th>Bonus</th>\n",
       "      <th>Name</th>\n",
       "      <th>Salary</th>\n",
       "      <th>Year</th>\n",
       "      <th>my_salary</th>\n",
       "      <th>tmp</th>\n",
       "      <th>full_name</th>\n",
       "    </tr>\n",
       "  </thead>\n",
       "  <tbody>\n",
       "    <tr>\n",
       "      <th>0</th>\n",
       "      <td>12000</td>\n",
       "      <td>BOSS</td>\n",
       "      <td>40000</td>\n",
       "      <td>2017</td>\n",
       "      <td>79000</td>\n",
       "      <td>79000</td>\n",
       "      <td>BOSS</td>\n",
       "    </tr>\n",
       "    <tr>\n",
       "      <th>1</th>\n",
       "      <td>3000</td>\n",
       "      <td>HanMeimei</td>\n",
       "      <td>5000</td>\n",
       "      <td>2017</td>\n",
       "      <td>9000</td>\n",
       "      <td>9000</td>\n",
       "      <td>HanMeimei</td>\n",
       "    </tr>\n",
       "    <tr>\n",
       "      <th>2</th>\n",
       "      <td>3500</td>\n",
       "      <td>HanMeimei</td>\n",
       "      <td>4000</td>\n",
       "      <td>2017</td>\n",
       "      <td>7000</td>\n",
       "      <td>7000</td>\n",
       "      <td>HanMeimei</td>\n",
       "    </tr>\n",
       "    <tr>\n",
       "      <th>3</th>\n",
       "      <td>1200</td>\n",
       "      <td>Han</td>\n",
       "      <td>3000</td>\n",
       "      <td>2017</td>\n",
       "      <td>5000</td>\n",
       "      <td>5000</td>\n",
       "      <td>Hanxiaoyang</td>\n",
       "    </tr>\n",
       "    <tr>\n",
       "      <th>4</th>\n",
       "      <td>16000</td>\n",
       "      <td>BOSS</td>\n",
       "      <td>38000</td>\n",
       "      <td>2018</td>\n",
       "      <td>75000</td>\n",
       "      <td>75000</td>\n",
       "      <td>BOSS</td>\n",
       "    </tr>\n",
       "    <tr>\n",
       "      <th>5</th>\n",
       "      <td>18000</td>\n",
       "      <td>BOSS</td>\n",
       "      <td>42000</td>\n",
       "      <td>2018</td>\n",
       "      <td>83000</td>\n",
       "      <td>83000</td>\n",
       "      <td>BOSS</td>\n",
       "    </tr>\n",
       "    <tr>\n",
       "      <th>6</th>\n",
       "      <td>7000</td>\n",
       "      <td>HanMeimei</td>\n",
       "      <td>6000</td>\n",
       "      <td>2018</td>\n",
       "      <td>11000</td>\n",
       "      <td>11000</td>\n",
       "      <td>HanMeimei</td>\n",
       "    </tr>\n",
       "    <tr>\n",
       "      <th>7</th>\n",
       "      <td>21000</td>\n",
       "      <td>BOSS</td>\n",
       "      <td>39000</td>\n",
       "      <td>2018</td>\n",
       "      <td>77000</td>\n",
       "      <td>77000</td>\n",
       "      <td>BOSS</td>\n",
       "    </tr>\n",
       "  </tbody>\n",
       "</table>\n",
       "</div>"
      ],
      "text/plain": [
       "   Bonus       Name  Salary  Year  my_salary    tmp    full_name\n",
       "0  12000       BOSS   40000  2017      79000  79000         BOSS\n",
       "1   3000  HanMeimei    5000  2017       9000   9000    HanMeimei\n",
       "2   3500  HanMeimei    4000  2017       7000   7000    HanMeimei\n",
       "3   1200        Han    3000  2017       5000   5000  Hanxiaoyang\n",
       "4  16000       BOSS   38000  2018      75000  75000         BOSS\n",
       "5  18000       BOSS   42000  2018      83000  83000         BOSS\n",
       "6   7000  HanMeimei    6000  2018      11000  11000    HanMeimei\n",
       "7  21000       BOSS   39000  2018      77000  77000         BOSS"
      ]
     },
     "execution_count": 53,
     "metadata": {},
     "output_type": "execute_result"
    }
   ],
   "source": [
    "salaries"
   ]
  },
  {
   "cell_type": "markdown",
   "metadata": {},
   "source": [
    "如果大家对某一列变换得到另外一列，如果是简单操作，直接用广播特性；如果是复杂变换，记得用apply"
   ]
  },
  {
   "cell_type": "code",
   "execution_count": 207,
   "metadata": {},
   "outputs": [
    {
     "data": {
      "text/plain": [
       "0    120000\n",
       "1     15000\n",
       "2     12000\n",
       "3      9000\n",
       "4    114000\n",
       "5    126000\n",
       "6     18000\n",
       "7    117000\n",
       "Name: Salary, dtype: int64"
      ]
     },
     "execution_count": 207,
     "metadata": {},
     "output_type": "execute_result"
    }
   ],
   "source": [
    "salaries['Salary']*3"
   ]
  },
  {
   "cell_type": "markdown",
   "metadata": {},
   "source": [
    "#### lambda 匿名函数"
   ]
  },
  {
   "cell_type": "code",
   "execution_count": 208,
   "metadata": {},
   "outputs": [],
   "source": [
    "salaries.loc[:,'full_name2'] = salaries['Name'].apply(lambda x:x if x!=\"Tommy\" else \"Tao\")"
   ]
  },
  {
   "cell_type": "code",
   "execution_count": 209,
   "metadata": {
    "scrolled": true
   },
   "outputs": [
    {
     "data": {
      "text/html": [
       "<div>\n",
       "<style scoped>\n",
       "    .dataframe tbody tr th:only-of-type {\n",
       "        vertical-align: middle;\n",
       "    }\n",
       "\n",
       "    .dataframe tbody tr th {\n",
       "        vertical-align: top;\n",
       "    }\n",
       "\n",
       "    .dataframe thead th {\n",
       "        text-align: right;\n",
       "    }\n",
       "</style>\n",
       "<table border=\"1\" class=\"dataframe\">\n",
       "  <thead>\n",
       "    <tr style=\"text-align: right;\">\n",
       "      <th></th>\n",
       "      <th>Bonus</th>\n",
       "      <th>Name</th>\n",
       "      <th>Salary</th>\n",
       "      <th>Year</th>\n",
       "      <th>my_salary</th>\n",
       "      <th>tmp</th>\n",
       "      <th>full_name2</th>\n",
       "    </tr>\n",
       "  </thead>\n",
       "  <tbody>\n",
       "    <tr>\n",
       "      <th>0</th>\n",
       "      <td>12000</td>\n",
       "      <td>Tommy</td>\n",
       "      <td>40000</td>\n",
       "      <td>2017</td>\n",
       "      <td>79000</td>\n",
       "      <td>79000</td>\n",
       "      <td>Tao</td>\n",
       "    </tr>\n",
       "    <tr>\n",
       "      <th>1</th>\n",
       "      <td>3000</td>\n",
       "      <td>HanMeimei</td>\n",
       "      <td>5000</td>\n",
       "      <td>2017</td>\n",
       "      <td>9000</td>\n",
       "      <td>9000</td>\n",
       "      <td>HanMeimei</td>\n",
       "    </tr>\n",
       "    <tr>\n",
       "      <th>2</th>\n",
       "      <td>3500</td>\n",
       "      <td>HanMeimei</td>\n",
       "      <td>4000</td>\n",
       "      <td>2017</td>\n",
       "      <td>7000</td>\n",
       "      <td>7000</td>\n",
       "      <td>HanMeimei</td>\n",
       "    </tr>\n",
       "    <tr>\n",
       "      <th>3</th>\n",
       "      <td>1200</td>\n",
       "      <td>LiLei</td>\n",
       "      <td>3000</td>\n",
       "      <td>2017</td>\n",
       "      <td>5000</td>\n",
       "      <td>5000</td>\n",
       "      <td>LiLei</td>\n",
       "    </tr>\n",
       "    <tr>\n",
       "      <th>4</th>\n",
       "      <td>16000</td>\n",
       "      <td>Tommy</td>\n",
       "      <td>38000</td>\n",
       "      <td>2018</td>\n",
       "      <td>75000</td>\n",
       "      <td>75000</td>\n",
       "      <td>Tao</td>\n",
       "    </tr>\n",
       "    <tr>\n",
       "      <th>5</th>\n",
       "      <td>18000</td>\n",
       "      <td>Jill</td>\n",
       "      <td>42000</td>\n",
       "      <td>2018</td>\n",
       "      <td>83000</td>\n",
       "      <td>83000</td>\n",
       "      <td>Jill</td>\n",
       "    </tr>\n",
       "    <tr>\n",
       "      <th>6</th>\n",
       "      <td>7000</td>\n",
       "      <td>HanMeimei</td>\n",
       "      <td>6000</td>\n",
       "      <td>2018</td>\n",
       "      <td>11000</td>\n",
       "      <td>11000</td>\n",
       "      <td>HanMeimei</td>\n",
       "    </tr>\n",
       "    <tr>\n",
       "      <th>7</th>\n",
       "      <td>21000</td>\n",
       "      <td>John</td>\n",
       "      <td>39000</td>\n",
       "      <td>2018</td>\n",
       "      <td>77000</td>\n",
       "      <td>77000</td>\n",
       "      <td>John</td>\n",
       "    </tr>\n",
       "  </tbody>\n",
       "</table>\n",
       "</div>"
      ],
      "text/plain": [
       "   Bonus       Name  Salary  Year  my_salary    tmp full_name2\n",
       "0  12000      Tommy   40000  2017      79000  79000        Tao\n",
       "1   3000  HanMeimei    5000  2017       9000   9000  HanMeimei\n",
       "2   3500  HanMeimei    4000  2017       7000   7000  HanMeimei\n",
       "3   1200      LiLei    3000  2017       5000   5000      LiLei\n",
       "4  16000      Tommy   38000  2018      75000  75000        Tao\n",
       "5  18000       Jill   42000  2018      83000  83000       Jill\n",
       "6   7000  HanMeimei    6000  2018      11000  11000  HanMeimei\n",
       "7  21000       John   39000  2018      77000  77000       John"
      ]
     },
     "execution_count": 209,
     "metadata": {},
     "output_type": "execute_result"
    }
   ],
   "source": [
    "salaries"
   ]
  },
  {
   "cell_type": "markdown",
   "metadata": {},
   "source": [
    "#### 对几列做变换"
   ]
  },
  {
   "cell_type": "code",
   "execution_count": 210,
   "metadata": {},
   "outputs": [],
   "source": [
    "# 几列的变换很简单，用广播特性\n",
    "salaries.loc[:,'income'] = salaries['Salary']*12 + salaries[\"Bonus\"]"
   ]
  },
  {
   "cell_type": "code",
   "execution_count": 211,
   "metadata": {},
   "outputs": [
    {
     "data": {
      "text/html": [
       "<div>\n",
       "<style scoped>\n",
       "    .dataframe tbody tr th:only-of-type {\n",
       "        vertical-align: middle;\n",
       "    }\n",
       "\n",
       "    .dataframe tbody tr th {\n",
       "        vertical-align: top;\n",
       "    }\n",
       "\n",
       "    .dataframe thead th {\n",
       "        text-align: right;\n",
       "    }\n",
       "</style>\n",
       "<table border=\"1\" class=\"dataframe\">\n",
       "  <thead>\n",
       "    <tr style=\"text-align: right;\">\n",
       "      <th></th>\n",
       "      <th>Bonus</th>\n",
       "      <th>Name</th>\n",
       "      <th>Salary</th>\n",
       "      <th>Year</th>\n",
       "      <th>my_salary</th>\n",
       "      <th>tmp</th>\n",
       "      <th>full_name2</th>\n",
       "      <th>income</th>\n",
       "    </tr>\n",
       "  </thead>\n",
       "  <tbody>\n",
       "    <tr>\n",
       "      <th>0</th>\n",
       "      <td>12000</td>\n",
       "      <td>Tommy</td>\n",
       "      <td>40000</td>\n",
       "      <td>2017</td>\n",
       "      <td>79000</td>\n",
       "      <td>79000</td>\n",
       "      <td>Tao</td>\n",
       "      <td>492000</td>\n",
       "    </tr>\n",
       "    <tr>\n",
       "      <th>1</th>\n",
       "      <td>3000</td>\n",
       "      <td>HanMeimei</td>\n",
       "      <td>5000</td>\n",
       "      <td>2017</td>\n",
       "      <td>9000</td>\n",
       "      <td>9000</td>\n",
       "      <td>HanMeimei</td>\n",
       "      <td>63000</td>\n",
       "    </tr>\n",
       "    <tr>\n",
       "      <th>2</th>\n",
       "      <td>3500</td>\n",
       "      <td>HanMeimei</td>\n",
       "      <td>4000</td>\n",
       "      <td>2017</td>\n",
       "      <td>7000</td>\n",
       "      <td>7000</td>\n",
       "      <td>HanMeimei</td>\n",
       "      <td>51500</td>\n",
       "    </tr>\n",
       "    <tr>\n",
       "      <th>3</th>\n",
       "      <td>1200</td>\n",
       "      <td>LiLei</td>\n",
       "      <td>3000</td>\n",
       "      <td>2017</td>\n",
       "      <td>5000</td>\n",
       "      <td>5000</td>\n",
       "      <td>LiLei</td>\n",
       "      <td>37200</td>\n",
       "    </tr>\n",
       "    <tr>\n",
       "      <th>4</th>\n",
       "      <td>16000</td>\n",
       "      <td>Tommy</td>\n",
       "      <td>38000</td>\n",
       "      <td>2018</td>\n",
       "      <td>75000</td>\n",
       "      <td>75000</td>\n",
       "      <td>Tao</td>\n",
       "      <td>472000</td>\n",
       "    </tr>\n",
       "    <tr>\n",
       "      <th>5</th>\n",
       "      <td>18000</td>\n",
       "      <td>Jill</td>\n",
       "      <td>42000</td>\n",
       "      <td>2018</td>\n",
       "      <td>83000</td>\n",
       "      <td>83000</td>\n",
       "      <td>Jill</td>\n",
       "      <td>522000</td>\n",
       "    </tr>\n",
       "    <tr>\n",
       "      <th>6</th>\n",
       "      <td>7000</td>\n",
       "      <td>HanMeimei</td>\n",
       "      <td>6000</td>\n",
       "      <td>2018</td>\n",
       "      <td>11000</td>\n",
       "      <td>11000</td>\n",
       "      <td>HanMeimei</td>\n",
       "      <td>79000</td>\n",
       "    </tr>\n",
       "    <tr>\n",
       "      <th>7</th>\n",
       "      <td>21000</td>\n",
       "      <td>John</td>\n",
       "      <td>39000</td>\n",
       "      <td>2018</td>\n",
       "      <td>77000</td>\n",
       "      <td>77000</td>\n",
       "      <td>John</td>\n",
       "      <td>489000</td>\n",
       "    </tr>\n",
       "  </tbody>\n",
       "</table>\n",
       "</div>"
      ],
      "text/plain": [
       "   Bonus       Name  Salary  Year  my_salary    tmp full_name2  income\n",
       "0  12000      Tommy   40000  2017      79000  79000        Tao  492000\n",
       "1   3000  HanMeimei    5000  2017       9000   9000  HanMeimei   63000\n",
       "2   3500  HanMeimei    4000  2017       7000   7000  HanMeimei   51500\n",
       "3   1200      LiLei    3000  2017       5000   5000      LiLei   37200\n",
       "4  16000      Tommy   38000  2018      75000  75000        Tao  472000\n",
       "5  18000       Jill   42000  2018      83000  83000       Jill  522000\n",
       "6   7000  HanMeimei    6000  2018      11000  11000  HanMeimei   79000\n",
       "7  21000       John   39000  2018      77000  77000       John  489000"
      ]
     },
     "execution_count": 211,
     "metadata": {},
     "output_type": "execute_result"
    }
   ],
   "source": [
    "salaries"
   ]
  },
  {
   "cell_type": "code",
   "execution_count": 212,
   "metadata": {},
   "outputs": [],
   "source": [
    "# 如果是boss，返回工资+奖金，如果是员工，返回工资\n",
    "def my_income(name, salary, bonus):\n",
    "    if name==\"Tommy\":\n",
    "        return salary*12+bonus\n",
    "    else:\n",
    "        return salary*12"
   ]
  },
  {
   "cell_type": "code",
   "execution_count": 213,
   "metadata": {},
   "outputs": [],
   "source": [
    "salaries.loc[:,\"my_income\"] = list(map(lambda x,y,z : my_income(x,y,z),\\\n",
    "                                 salaries[\"Name\"],\\\n",
    "                                 salaries[\"Salary\"],\\\n",
    "                                 salaries['Bonus']))"
   ]
  },
  {
   "cell_type": "code",
   "execution_count": 214,
   "metadata": {},
   "outputs": [
    {
     "data": {
      "text/html": [
       "<div>\n",
       "<style scoped>\n",
       "    .dataframe tbody tr th:only-of-type {\n",
       "        vertical-align: middle;\n",
       "    }\n",
       "\n",
       "    .dataframe tbody tr th {\n",
       "        vertical-align: top;\n",
       "    }\n",
       "\n",
       "    .dataframe thead th {\n",
       "        text-align: right;\n",
       "    }\n",
       "</style>\n",
       "<table border=\"1\" class=\"dataframe\">\n",
       "  <thead>\n",
       "    <tr style=\"text-align: right;\">\n",
       "      <th></th>\n",
       "      <th>Bonus</th>\n",
       "      <th>Name</th>\n",
       "      <th>Salary</th>\n",
       "      <th>Year</th>\n",
       "      <th>my_salary</th>\n",
       "      <th>tmp</th>\n",
       "      <th>full_name2</th>\n",
       "      <th>income</th>\n",
       "      <th>my_income</th>\n",
       "    </tr>\n",
       "  </thead>\n",
       "  <tbody>\n",
       "    <tr>\n",
       "      <th>0</th>\n",
       "      <td>12000</td>\n",
       "      <td>Tommy</td>\n",
       "      <td>40000</td>\n",
       "      <td>2017</td>\n",
       "      <td>79000</td>\n",
       "      <td>79000</td>\n",
       "      <td>Tao</td>\n",
       "      <td>492000</td>\n",
       "      <td>492000</td>\n",
       "    </tr>\n",
       "    <tr>\n",
       "      <th>1</th>\n",
       "      <td>3000</td>\n",
       "      <td>HanMeimei</td>\n",
       "      <td>5000</td>\n",
       "      <td>2017</td>\n",
       "      <td>9000</td>\n",
       "      <td>9000</td>\n",
       "      <td>HanMeimei</td>\n",
       "      <td>63000</td>\n",
       "      <td>60000</td>\n",
       "    </tr>\n",
       "    <tr>\n",
       "      <th>2</th>\n",
       "      <td>3500</td>\n",
       "      <td>HanMeimei</td>\n",
       "      <td>4000</td>\n",
       "      <td>2017</td>\n",
       "      <td>7000</td>\n",
       "      <td>7000</td>\n",
       "      <td>HanMeimei</td>\n",
       "      <td>51500</td>\n",
       "      <td>48000</td>\n",
       "    </tr>\n",
       "    <tr>\n",
       "      <th>3</th>\n",
       "      <td>1200</td>\n",
       "      <td>LiLei</td>\n",
       "      <td>3000</td>\n",
       "      <td>2017</td>\n",
       "      <td>5000</td>\n",
       "      <td>5000</td>\n",
       "      <td>LiLei</td>\n",
       "      <td>37200</td>\n",
       "      <td>36000</td>\n",
       "    </tr>\n",
       "    <tr>\n",
       "      <th>4</th>\n",
       "      <td>16000</td>\n",
       "      <td>Tommy</td>\n",
       "      <td>38000</td>\n",
       "      <td>2018</td>\n",
       "      <td>75000</td>\n",
       "      <td>75000</td>\n",
       "      <td>Tao</td>\n",
       "      <td>472000</td>\n",
       "      <td>472000</td>\n",
       "    </tr>\n",
       "    <tr>\n",
       "      <th>5</th>\n",
       "      <td>18000</td>\n",
       "      <td>Jill</td>\n",
       "      <td>42000</td>\n",
       "      <td>2018</td>\n",
       "      <td>83000</td>\n",
       "      <td>83000</td>\n",
       "      <td>Jill</td>\n",
       "      <td>522000</td>\n",
       "      <td>504000</td>\n",
       "    </tr>\n",
       "    <tr>\n",
       "      <th>6</th>\n",
       "      <td>7000</td>\n",
       "      <td>HanMeimei</td>\n",
       "      <td>6000</td>\n",
       "      <td>2018</td>\n",
       "      <td>11000</td>\n",
       "      <td>11000</td>\n",
       "      <td>HanMeimei</td>\n",
       "      <td>79000</td>\n",
       "      <td>72000</td>\n",
       "    </tr>\n",
       "    <tr>\n",
       "      <th>7</th>\n",
       "      <td>21000</td>\n",
       "      <td>John</td>\n",
       "      <td>39000</td>\n",
       "      <td>2018</td>\n",
       "      <td>77000</td>\n",
       "      <td>77000</td>\n",
       "      <td>John</td>\n",
       "      <td>489000</td>\n",
       "      <td>468000</td>\n",
       "    </tr>\n",
       "  </tbody>\n",
       "</table>\n",
       "</div>"
      ],
      "text/plain": [
       "   Bonus       Name  Salary  Year  my_salary    tmp full_name2  income  \\\n",
       "0  12000      Tommy   40000  2017      79000  79000        Tao  492000   \n",
       "1   3000  HanMeimei    5000  2017       9000   9000  HanMeimei   63000   \n",
       "2   3500  HanMeimei    4000  2017       7000   7000  HanMeimei   51500   \n",
       "3   1200      LiLei    3000  2017       5000   5000      LiLei   37200   \n",
       "4  16000      Tommy   38000  2018      75000  75000        Tao  472000   \n",
       "5  18000       Jill   42000  2018      83000  83000       Jill  522000   \n",
       "6   7000  HanMeimei    6000  2018      11000  11000  HanMeimei   79000   \n",
       "7  21000       John   39000  2018      77000  77000       John  489000   \n",
       "\n",
       "   my_income  \n",
       "0     492000  \n",
       "1      60000  \n",
       "2      48000  \n",
       "3      36000  \n",
       "4     472000  \n",
       "5     504000  \n",
       "6      72000  \n",
       "7     468000  "
      ]
     },
     "execution_count": 214,
     "metadata": {},
     "output_type": "execute_result"
    }
   ],
   "source": [
    "salaries"
   ]
  },
  {
   "cell_type": "markdown",
   "metadata": {},
   "source": [
    "### 总结\n",
    "* groupby取分组内容\n",
    "* groupby之后的分组做统计计算 .agg(['mean','median','std']) agg([np.mean, np.median, np.std])\n",
    "* groupby之后可以describe看统计情况 离散型:unique() value_counts()\n",
    "* apply对列做变换\n",
    "* 附加：对多列做变换 map(lambda x,y,z: my_income(x,y,z), df[''], df[''], df[''])"
   ]
  },
  {
   "cell_type": "code",
   "execution_count": 64,
   "metadata": {},
   "outputs": [
    {
     "data": {
      "text/plain": [
       "<function __main__.<lambda>>"
      ]
     },
     "execution_count": 64,
     "metadata": {},
     "output_type": "execute_result"
    }
   ],
   "source": [
    "lambda x,y,z: my_income(x,y,z)"
   ]
  },
  {
   "cell_type": "markdown",
   "metadata": {},
   "source": [
    "## 数据的拼接和合并\n",
    "你可能会有多个DataFrame，要对他们合并处理\n",
    "* concat\n",
    "* merge\n",
    "* join"
   ]
  },
  {
   "cell_type": "code",
   "execution_count": 217,
   "metadata": {},
   "outputs": [],
   "source": [
    "import pandas as pd\n",
    "import numpy as np\n",
    "df5 = pd.DataFrame({\n",
    "    'apts':[55000, 60000],\n",
    "    'cars':[200000, 300000],\n",
    "}, index = ['Beijing', 'Shanghai']\n",
    ")"
   ]
  },
  {
   "cell_type": "code",
   "execution_count": 218,
   "metadata": {},
   "outputs": [
    {
     "data": {
      "text/html": [
       "<div>\n",
       "<style scoped>\n",
       "    .dataframe tbody tr th:only-of-type {\n",
       "        vertical-align: middle;\n",
       "    }\n",
       "\n",
       "    .dataframe tbody tr th {\n",
       "        vertical-align: top;\n",
       "    }\n",
       "\n",
       "    .dataframe thead th {\n",
       "        text-align: right;\n",
       "    }\n",
       "</style>\n",
       "<table border=\"1\" class=\"dataframe\">\n",
       "  <thead>\n",
       "    <tr style=\"text-align: right;\">\n",
       "      <th></th>\n",
       "      <th>apts</th>\n",
       "      <th>cars</th>\n",
       "    </tr>\n",
       "  </thead>\n",
       "  <tbody>\n",
       "    <tr>\n",
       "      <th>Beijing</th>\n",
       "      <td>55000</td>\n",
       "      <td>200000</td>\n",
       "    </tr>\n",
       "    <tr>\n",
       "      <th>Shanghai</th>\n",
       "      <td>60000</td>\n",
       "      <td>300000</td>\n",
       "    </tr>\n",
       "  </tbody>\n",
       "</table>\n",
       "</div>"
      ],
      "text/plain": [
       "           apts    cars\n",
       "Beijing   55000  200000\n",
       "Shanghai  60000  300000"
      ]
     },
     "execution_count": 218,
     "metadata": {},
     "output_type": "execute_result"
    }
   ],
   "source": [
    "df5"
   ]
  },
  {
   "cell_type": "code",
   "execution_count": 220,
   "metadata": {},
   "outputs": [],
   "source": [
    "df6 = pd.DataFrame({\n",
    "    'apts':[35000, 45000],\n",
    "    'cars':[150000, 180000],\n",
    "}, index = ['Hangzhou', 'Guangzhou']\n",
    ")"
   ]
  },
  {
   "cell_type": "code",
   "execution_count": 221,
   "metadata": {},
   "outputs": [
    {
     "data": {
      "text/html": [
       "<div>\n",
       "<style scoped>\n",
       "    .dataframe tbody tr th:only-of-type {\n",
       "        vertical-align: middle;\n",
       "    }\n",
       "\n",
       "    .dataframe tbody tr th {\n",
       "        vertical-align: top;\n",
       "    }\n",
       "\n",
       "    .dataframe thead th {\n",
       "        text-align: right;\n",
       "    }\n",
       "</style>\n",
       "<table border=\"1\" class=\"dataframe\">\n",
       "  <thead>\n",
       "    <tr style=\"text-align: right;\">\n",
       "      <th></th>\n",
       "      <th>apts</th>\n",
       "      <th>cars</th>\n",
       "    </tr>\n",
       "  </thead>\n",
       "  <tbody>\n",
       "    <tr>\n",
       "      <th>Hangzhou</th>\n",
       "      <td>35000</td>\n",
       "      <td>150000</td>\n",
       "    </tr>\n",
       "    <tr>\n",
       "      <th>Guangzhou</th>\n",
       "      <td>45000</td>\n",
       "      <td>180000</td>\n",
       "    </tr>\n",
       "  </tbody>\n",
       "</table>\n",
       "</div>"
      ],
      "text/plain": [
       "            apts    cars\n",
       "Hangzhou   35000  150000\n",
       "Guangzhou  45000  180000"
      ]
     },
     "execution_count": 221,
     "metadata": {},
     "output_type": "execute_result"
    }
   ],
   "source": [
    "df6"
   ]
  },
  {
   "cell_type": "code",
   "execution_count": 222,
   "metadata": {},
   "outputs": [],
   "source": [
    "df7 = pd.DataFrame({\n",
    "    'apts':[30000, 40000],\n",
    "    'cars':[120000, 100000],\n",
    "}, index = ['Nanjing', 'Guangzhou']\n",
    ")"
   ]
  },
  {
   "cell_type": "code",
   "execution_count": 223,
   "metadata": {},
   "outputs": [
    {
     "data": {
      "text/html": [
       "<div>\n",
       "<style scoped>\n",
       "    .dataframe tbody tr th:only-of-type {\n",
       "        vertical-align: middle;\n",
       "    }\n",
       "\n",
       "    .dataframe tbody tr th {\n",
       "        vertical-align: top;\n",
       "    }\n",
       "\n",
       "    .dataframe thead th {\n",
       "        text-align: right;\n",
       "    }\n",
       "</style>\n",
       "<table border=\"1\" class=\"dataframe\">\n",
       "  <thead>\n",
       "    <tr style=\"text-align: right;\">\n",
       "      <th></th>\n",
       "      <th>apts</th>\n",
       "      <th>cars</th>\n",
       "    </tr>\n",
       "  </thead>\n",
       "  <tbody>\n",
       "    <tr>\n",
       "      <th>Nanjing</th>\n",
       "      <td>30000</td>\n",
       "      <td>120000</td>\n",
       "    </tr>\n",
       "    <tr>\n",
       "      <th>Guangzhou</th>\n",
       "      <td>40000</td>\n",
       "      <td>100000</td>\n",
       "    </tr>\n",
       "  </tbody>\n",
       "</table>\n",
       "</div>"
      ],
      "text/plain": [
       "            apts    cars\n",
       "Nanjing    30000  120000\n",
       "Guangzhou  40000  100000"
      ]
     },
     "execution_count": 223,
     "metadata": {},
     "output_type": "execute_result"
    }
   ],
   "source": [
    "df7"
   ]
  },
  {
   "cell_type": "code",
   "execution_count": 225,
   "metadata": {},
   "outputs": [],
   "source": [
    "# concat 拼接\n",
    "result = pd.concat([df5, df6, df7])"
   ]
  },
  {
   "cell_type": "code",
   "execution_count": 226,
   "metadata": {},
   "outputs": [
    {
     "data": {
      "text/html": [
       "<div>\n",
       "<style scoped>\n",
       "    .dataframe tbody tr th:only-of-type {\n",
       "        vertical-align: middle;\n",
       "    }\n",
       "\n",
       "    .dataframe tbody tr th {\n",
       "        vertical-align: top;\n",
       "    }\n",
       "\n",
       "    .dataframe thead th {\n",
       "        text-align: right;\n",
       "    }\n",
       "</style>\n",
       "<table border=\"1\" class=\"dataframe\">\n",
       "  <thead>\n",
       "    <tr style=\"text-align: right;\">\n",
       "      <th></th>\n",
       "      <th>apts</th>\n",
       "      <th>cars</th>\n",
       "    </tr>\n",
       "  </thead>\n",
       "  <tbody>\n",
       "    <tr>\n",
       "      <th>Beijing</th>\n",
       "      <td>55000</td>\n",
       "      <td>200000</td>\n",
       "    </tr>\n",
       "    <tr>\n",
       "      <th>Shanghai</th>\n",
       "      <td>60000</td>\n",
       "      <td>300000</td>\n",
       "    </tr>\n",
       "    <tr>\n",
       "      <th>Hangzhou</th>\n",
       "      <td>35000</td>\n",
       "      <td>150000</td>\n",
       "    </tr>\n",
       "    <tr>\n",
       "      <th>Guangzhou</th>\n",
       "      <td>45000</td>\n",
       "      <td>180000</td>\n",
       "    </tr>\n",
       "    <tr>\n",
       "      <th>Nanjing</th>\n",
       "      <td>30000</td>\n",
       "      <td>120000</td>\n",
       "    </tr>\n",
       "    <tr>\n",
       "      <th>Guangzhou</th>\n",
       "      <td>40000</td>\n",
       "      <td>100000</td>\n",
       "    </tr>\n",
       "  </tbody>\n",
       "</table>\n",
       "</div>"
      ],
      "text/plain": [
       "            apts    cars\n",
       "Beijing    55000  200000\n",
       "Shanghai   60000  300000\n",
       "Hangzhou   35000  150000\n",
       "Guangzhou  45000  180000\n",
       "Nanjing    30000  120000\n",
       "Guangzhou  40000  100000"
      ]
     },
     "execution_count": 226,
     "metadata": {},
     "output_type": "execute_result"
    }
   ],
   "source": [
    "result"
   ]
  },
  {
   "cell_type": "code",
   "execution_count": 227,
   "metadata": {},
   "outputs": [
    {
     "data": {
      "text/html": [
       "<div>\n",
       "<style scoped>\n",
       "    .dataframe tbody tr th:only-of-type {\n",
       "        vertical-align: middle;\n",
       "    }\n",
       "\n",
       "    .dataframe tbody tr th {\n",
       "        vertical-align: top;\n",
       "    }\n",
       "\n",
       "    .dataframe thead th {\n",
       "        text-align: right;\n",
       "    }\n",
       "</style>\n",
       "<table border=\"1\" class=\"dataframe\">\n",
       "  <thead>\n",
       "    <tr style=\"text-align: right;\">\n",
       "      <th></th>\n",
       "      <th>apts</th>\n",
       "      <th>cars</th>\n",
       "      <th>apts</th>\n",
       "      <th>cars</th>\n",
       "      <th>apts</th>\n",
       "      <th>cars</th>\n",
       "    </tr>\n",
       "  </thead>\n",
       "  <tbody>\n",
       "    <tr>\n",
       "      <th>Beijing</th>\n",
       "      <td>55000.0</td>\n",
       "      <td>200000.0</td>\n",
       "      <td>NaN</td>\n",
       "      <td>NaN</td>\n",
       "      <td>NaN</td>\n",
       "      <td>NaN</td>\n",
       "    </tr>\n",
       "    <tr>\n",
       "      <th>Guangzhou</th>\n",
       "      <td>NaN</td>\n",
       "      <td>NaN</td>\n",
       "      <td>45000.0</td>\n",
       "      <td>180000.0</td>\n",
       "      <td>40000.0</td>\n",
       "      <td>100000.0</td>\n",
       "    </tr>\n",
       "    <tr>\n",
       "      <th>Hangzhou</th>\n",
       "      <td>NaN</td>\n",
       "      <td>NaN</td>\n",
       "      <td>35000.0</td>\n",
       "      <td>150000.0</td>\n",
       "      <td>NaN</td>\n",
       "      <td>NaN</td>\n",
       "    </tr>\n",
       "    <tr>\n",
       "      <th>Nanjing</th>\n",
       "      <td>NaN</td>\n",
       "      <td>NaN</td>\n",
       "      <td>NaN</td>\n",
       "      <td>NaN</td>\n",
       "      <td>30000.0</td>\n",
       "      <td>120000.0</td>\n",
       "    </tr>\n",
       "    <tr>\n",
       "      <th>Shanghai</th>\n",
       "      <td>60000.0</td>\n",
       "      <td>300000.0</td>\n",
       "      <td>NaN</td>\n",
       "      <td>NaN</td>\n",
       "      <td>NaN</td>\n",
       "      <td>NaN</td>\n",
       "    </tr>\n",
       "  </tbody>\n",
       "</table>\n",
       "</div>"
      ],
      "text/plain": [
       "              apts      cars     apts      cars     apts      cars\n",
       "Beijing    55000.0  200000.0      NaN       NaN      NaN       NaN\n",
       "Guangzhou      NaN       NaN  45000.0  180000.0  40000.0  100000.0\n",
       "Hangzhou       NaN       NaN  35000.0  150000.0      NaN       NaN\n",
       "Nanjing        NaN       NaN      NaN       NaN  30000.0  120000.0\n",
       "Shanghai   60000.0  300000.0      NaN       NaN      NaN       NaN"
      ]
     },
     "execution_count": 227,
     "metadata": {},
     "output_type": "execute_result"
    }
   ],
   "source": [
    "pd.concat([df5, df6, df7], axis=1)"
   ]
  },
  {
   "cell_type": "markdown",
   "metadata": {},
   "source": [
    "### 合并/Merge"
   ]
  },
  {
   "cell_type": "code",
   "execution_count": 229,
   "metadata": {},
   "outputs": [],
   "source": [
    "def my_trans_apt(x):\n",
    "    if x<=45000:\n",
    "        return 45000\n",
    "    else:\n",
    "        return 60000"
   ]
  },
  {
   "cell_type": "code",
   "execution_count": 230,
   "metadata": {},
   "outputs": [],
   "source": [
    "result.loc[:,'new_apts'] = result['apts'].apply(my_trans_apt)"
   ]
  },
  {
   "cell_type": "code",
   "execution_count": 231,
   "metadata": {},
   "outputs": [
    {
     "data": {
      "text/html": [
       "<div>\n",
       "<style scoped>\n",
       "    .dataframe tbody tr th:only-of-type {\n",
       "        vertical-align: middle;\n",
       "    }\n",
       "\n",
       "    .dataframe tbody tr th {\n",
       "        vertical-align: top;\n",
       "    }\n",
       "\n",
       "    .dataframe thead th {\n",
       "        text-align: right;\n",
       "    }\n",
       "</style>\n",
       "<table border=\"1\" class=\"dataframe\">\n",
       "  <thead>\n",
       "    <tr style=\"text-align: right;\">\n",
       "      <th></th>\n",
       "      <th>apts</th>\n",
       "      <th>cars</th>\n",
       "      <th>new_apts</th>\n",
       "    </tr>\n",
       "  </thead>\n",
       "  <tbody>\n",
       "    <tr>\n",
       "      <th>Beijing</th>\n",
       "      <td>55000</td>\n",
       "      <td>200000</td>\n",
       "      <td>60000</td>\n",
       "    </tr>\n",
       "    <tr>\n",
       "      <th>Shanghai</th>\n",
       "      <td>60000</td>\n",
       "      <td>300000</td>\n",
       "      <td>60000</td>\n",
       "    </tr>\n",
       "    <tr>\n",
       "      <th>Hangzhou</th>\n",
       "      <td>35000</td>\n",
       "      <td>150000</td>\n",
       "      <td>45000</td>\n",
       "    </tr>\n",
       "    <tr>\n",
       "      <th>Guangzhou</th>\n",
       "      <td>45000</td>\n",
       "      <td>180000</td>\n",
       "      <td>45000</td>\n",
       "    </tr>\n",
       "    <tr>\n",
       "      <th>Nanjing</th>\n",
       "      <td>30000</td>\n",
       "      <td>120000</td>\n",
       "      <td>45000</td>\n",
       "    </tr>\n",
       "    <tr>\n",
       "      <th>Guangzhou</th>\n",
       "      <td>40000</td>\n",
       "      <td>100000</td>\n",
       "      <td>45000</td>\n",
       "    </tr>\n",
       "  </tbody>\n",
       "</table>\n",
       "</div>"
      ],
      "text/plain": [
       "            apts    cars  new_apts\n",
       "Beijing    55000  200000     60000\n",
       "Shanghai   60000  300000     60000\n",
       "Hangzhou   35000  150000     45000\n",
       "Guangzhou  45000  180000     45000\n",
       "Nanjing    30000  120000     45000\n",
       "Guangzhou  40000  100000     45000"
      ]
     },
     "execution_count": 231,
     "metadata": {},
     "output_type": "execute_result"
    }
   ],
   "source": [
    "result"
   ]
  },
  {
   "cell_type": "code",
   "execution_count": 233,
   "metadata": {},
   "outputs": [],
   "source": [
    "new_df = pd.DataFrame({\n",
    "    'new_apts':[60000, 45000, 30000],\n",
    "    'bonus':[100000, 50000, 60000]\n",
    "})"
   ]
  },
  {
   "cell_type": "code",
   "execution_count": 234,
   "metadata": {},
   "outputs": [
    {
     "data": {
      "text/html": [
       "<div>\n",
       "<style scoped>\n",
       "    .dataframe tbody tr th:only-of-type {\n",
       "        vertical-align: middle;\n",
       "    }\n",
       "\n",
       "    .dataframe tbody tr th {\n",
       "        vertical-align: top;\n",
       "    }\n",
       "\n",
       "    .dataframe thead th {\n",
       "        text-align: right;\n",
       "    }\n",
       "</style>\n",
       "<table border=\"1\" class=\"dataframe\">\n",
       "  <thead>\n",
       "    <tr style=\"text-align: right;\">\n",
       "      <th></th>\n",
       "      <th>bonus</th>\n",
       "      <th>new_apts</th>\n",
       "    </tr>\n",
       "  </thead>\n",
       "  <tbody>\n",
       "    <tr>\n",
       "      <th>0</th>\n",
       "      <td>100000</td>\n",
       "      <td>60000</td>\n",
       "    </tr>\n",
       "    <tr>\n",
       "      <th>1</th>\n",
       "      <td>50000</td>\n",
       "      <td>45000</td>\n",
       "    </tr>\n",
       "    <tr>\n",
       "      <th>2</th>\n",
       "      <td>60000</td>\n",
       "      <td>30000</td>\n",
       "    </tr>\n",
       "  </tbody>\n",
       "</table>\n",
       "</div>"
      ],
      "text/plain": [
       "    bonus  new_apts\n",
       "0  100000     60000\n",
       "1   50000     45000\n",
       "2   60000     30000"
      ]
     },
     "execution_count": 234,
     "metadata": {},
     "output_type": "execute_result"
    }
   ],
   "source": [
    "new_df"
   ]
  },
  {
   "cell_type": "code",
   "execution_count": 237,
   "metadata": {},
   "outputs": [
    {
     "data": {
      "text/html": [
       "<div>\n",
       "<style scoped>\n",
       "    .dataframe tbody tr th:only-of-type {\n",
       "        vertical-align: middle;\n",
       "    }\n",
       "\n",
       "    .dataframe tbody tr th {\n",
       "        vertical-align: top;\n",
       "    }\n",
       "\n",
       "    .dataframe thead th {\n",
       "        text-align: right;\n",
       "    }\n",
       "</style>\n",
       "<table border=\"1\" class=\"dataframe\">\n",
       "  <thead>\n",
       "    <tr style=\"text-align: right;\">\n",
       "      <th></th>\n",
       "      <th>apts</th>\n",
       "      <th>cars</th>\n",
       "      <th>new_apts</th>\n",
       "      <th>bonus</th>\n",
       "    </tr>\n",
       "  </thead>\n",
       "  <tbody>\n",
       "    <tr>\n",
       "      <th>0</th>\n",
       "      <td>55000</td>\n",
       "      <td>200000</td>\n",
       "      <td>60000</td>\n",
       "      <td>100000</td>\n",
       "    </tr>\n",
       "    <tr>\n",
       "      <th>1</th>\n",
       "      <td>60000</td>\n",
       "      <td>300000</td>\n",
       "      <td>60000</td>\n",
       "      <td>100000</td>\n",
       "    </tr>\n",
       "    <tr>\n",
       "      <th>2</th>\n",
       "      <td>35000</td>\n",
       "      <td>150000</td>\n",
       "      <td>45000</td>\n",
       "      <td>50000</td>\n",
       "    </tr>\n",
       "    <tr>\n",
       "      <th>3</th>\n",
       "      <td>45000</td>\n",
       "      <td>180000</td>\n",
       "      <td>45000</td>\n",
       "      <td>50000</td>\n",
       "    </tr>\n",
       "    <tr>\n",
       "      <th>4</th>\n",
       "      <td>30000</td>\n",
       "      <td>120000</td>\n",
       "      <td>45000</td>\n",
       "      <td>50000</td>\n",
       "    </tr>\n",
       "    <tr>\n",
       "      <th>5</th>\n",
       "      <td>40000</td>\n",
       "      <td>100000</td>\n",
       "      <td>45000</td>\n",
       "      <td>50000</td>\n",
       "    </tr>\n",
       "  </tbody>\n",
       "</table>\n",
       "</div>"
      ],
      "text/plain": [
       "    apts    cars  new_apts   bonus\n",
       "0  55000  200000     60000  100000\n",
       "1  60000  300000     60000  100000\n",
       "2  35000  150000     45000   50000\n",
       "3  45000  180000     45000   50000\n",
       "4  30000  120000     45000   50000\n",
       "5  40000  100000     45000   50000"
      ]
     },
     "execution_count": 237,
     "metadata": {},
     "output_type": "execute_result"
    }
   ],
   "source": [
    "pd.merge(result, new_df, on=['new_apts'], how='inner')"
   ]
  },
  {
   "cell_type": "code",
   "execution_count": 236,
   "metadata": {},
   "outputs": [
    {
     "data": {
      "text/html": [
       "<div>\n",
       "<style scoped>\n",
       "    .dataframe tbody tr th:only-of-type {\n",
       "        vertical-align: middle;\n",
       "    }\n",
       "\n",
       "    .dataframe tbody tr th {\n",
       "        vertical-align: top;\n",
       "    }\n",
       "\n",
       "    .dataframe thead th {\n",
       "        text-align: right;\n",
       "    }\n",
       "</style>\n",
       "<table border=\"1\" class=\"dataframe\">\n",
       "  <thead>\n",
       "    <tr style=\"text-align: right;\">\n",
       "      <th></th>\n",
       "      <th>apts</th>\n",
       "      <th>cars</th>\n",
       "      <th>new_apts</th>\n",
       "      <th>bonus</th>\n",
       "    </tr>\n",
       "  </thead>\n",
       "  <tbody>\n",
       "    <tr>\n",
       "      <th>0</th>\n",
       "      <td>55000.0</td>\n",
       "      <td>200000.0</td>\n",
       "      <td>60000</td>\n",
       "      <td>100000</td>\n",
       "    </tr>\n",
       "    <tr>\n",
       "      <th>1</th>\n",
       "      <td>60000.0</td>\n",
       "      <td>300000.0</td>\n",
       "      <td>60000</td>\n",
       "      <td>100000</td>\n",
       "    </tr>\n",
       "    <tr>\n",
       "      <th>2</th>\n",
       "      <td>35000.0</td>\n",
       "      <td>150000.0</td>\n",
       "      <td>45000</td>\n",
       "      <td>50000</td>\n",
       "    </tr>\n",
       "    <tr>\n",
       "      <th>3</th>\n",
       "      <td>45000.0</td>\n",
       "      <td>180000.0</td>\n",
       "      <td>45000</td>\n",
       "      <td>50000</td>\n",
       "    </tr>\n",
       "    <tr>\n",
       "      <th>4</th>\n",
       "      <td>30000.0</td>\n",
       "      <td>120000.0</td>\n",
       "      <td>45000</td>\n",
       "      <td>50000</td>\n",
       "    </tr>\n",
       "    <tr>\n",
       "      <th>5</th>\n",
       "      <td>40000.0</td>\n",
       "      <td>100000.0</td>\n",
       "      <td>45000</td>\n",
       "      <td>50000</td>\n",
       "    </tr>\n",
       "    <tr>\n",
       "      <th>6</th>\n",
       "      <td>NaN</td>\n",
       "      <td>NaN</td>\n",
       "      <td>30000</td>\n",
       "      <td>60000</td>\n",
       "    </tr>\n",
       "  </tbody>\n",
       "</table>\n",
       "</div>"
      ],
      "text/plain": [
       "      apts      cars  new_apts   bonus\n",
       "0  55000.0  200000.0     60000  100000\n",
       "1  60000.0  300000.0     60000  100000\n",
       "2  35000.0  150000.0     45000   50000\n",
       "3  45000.0  180000.0     45000   50000\n",
       "4  30000.0  120000.0     45000   50000\n",
       "5  40000.0  100000.0     45000   50000\n",
       "6      NaN       NaN     30000   60000"
      ]
     },
     "execution_count": 236,
     "metadata": {},
     "output_type": "execute_result"
    }
   ],
   "source": [
    "pd.merge(result, new_df, on=['new_apts'], how='outer')"
   ]
  },
  {
   "cell_type": "code",
   "execution_count": 238,
   "metadata": {},
   "outputs": [
    {
     "data": {
      "text/html": [
       "<div>\n",
       "<style scoped>\n",
       "    .dataframe tbody tr th:only-of-type {\n",
       "        vertical-align: middle;\n",
       "    }\n",
       "\n",
       "    .dataframe tbody tr th {\n",
       "        vertical-align: top;\n",
       "    }\n",
       "\n",
       "    .dataframe thead th {\n",
       "        text-align: right;\n",
       "    }\n",
       "</style>\n",
       "<table border=\"1\" class=\"dataframe\">\n",
       "  <thead>\n",
       "    <tr style=\"text-align: right;\">\n",
       "      <th></th>\n",
       "      <th>apts</th>\n",
       "      <th>cars</th>\n",
       "      <th>new_apts</th>\n",
       "      <th>bonus</th>\n",
       "    </tr>\n",
       "  </thead>\n",
       "  <tbody>\n",
       "    <tr>\n",
       "      <th>0</th>\n",
       "      <td>55000</td>\n",
       "      <td>200000</td>\n",
       "      <td>60000</td>\n",
       "      <td>100000</td>\n",
       "    </tr>\n",
       "    <tr>\n",
       "      <th>1</th>\n",
       "      <td>60000</td>\n",
       "      <td>300000</td>\n",
       "      <td>60000</td>\n",
       "      <td>100000</td>\n",
       "    </tr>\n",
       "    <tr>\n",
       "      <th>2</th>\n",
       "      <td>35000</td>\n",
       "      <td>150000</td>\n",
       "      <td>45000</td>\n",
       "      <td>50000</td>\n",
       "    </tr>\n",
       "    <tr>\n",
       "      <th>3</th>\n",
       "      <td>45000</td>\n",
       "      <td>180000</td>\n",
       "      <td>45000</td>\n",
       "      <td>50000</td>\n",
       "    </tr>\n",
       "    <tr>\n",
       "      <th>4</th>\n",
       "      <td>30000</td>\n",
       "      <td>120000</td>\n",
       "      <td>45000</td>\n",
       "      <td>50000</td>\n",
       "    </tr>\n",
       "    <tr>\n",
       "      <th>5</th>\n",
       "      <td>40000</td>\n",
       "      <td>100000</td>\n",
       "      <td>45000</td>\n",
       "      <td>50000</td>\n",
       "    </tr>\n",
       "  </tbody>\n",
       "</table>\n",
       "</div>"
      ],
      "text/plain": [
       "    apts    cars  new_apts   bonus\n",
       "0  55000  200000     60000  100000\n",
       "1  60000  300000     60000  100000\n",
       "2  35000  150000     45000   50000\n",
       "3  45000  180000     45000   50000\n",
       "4  30000  120000     45000   50000\n",
       "5  40000  100000     45000   50000"
      ]
     },
     "execution_count": 238,
     "metadata": {},
     "output_type": "execute_result"
    }
   ],
   "source": [
    "pd.merge(result, new_df, on=['new_apts'], how='left')"
   ]
  },
  {
   "cell_type": "code",
   "execution_count": 239,
   "metadata": {},
   "outputs": [
    {
     "data": {
      "text/html": [
       "<div>\n",
       "<style scoped>\n",
       "    .dataframe tbody tr th:only-of-type {\n",
       "        vertical-align: middle;\n",
       "    }\n",
       "\n",
       "    .dataframe tbody tr th {\n",
       "        vertical-align: top;\n",
       "    }\n",
       "\n",
       "    .dataframe thead th {\n",
       "        text-align: right;\n",
       "    }\n",
       "</style>\n",
       "<table border=\"1\" class=\"dataframe\">\n",
       "  <thead>\n",
       "    <tr style=\"text-align: right;\">\n",
       "      <th></th>\n",
       "      <th>apts</th>\n",
       "      <th>cars</th>\n",
       "      <th>new_apts</th>\n",
       "      <th>bonus</th>\n",
       "    </tr>\n",
       "  </thead>\n",
       "  <tbody>\n",
       "    <tr>\n",
       "      <th>0</th>\n",
       "      <td>55000.0</td>\n",
       "      <td>200000.0</td>\n",
       "      <td>60000</td>\n",
       "      <td>100000</td>\n",
       "    </tr>\n",
       "    <tr>\n",
       "      <th>1</th>\n",
       "      <td>60000.0</td>\n",
       "      <td>300000.0</td>\n",
       "      <td>60000</td>\n",
       "      <td>100000</td>\n",
       "    </tr>\n",
       "    <tr>\n",
       "      <th>2</th>\n",
       "      <td>35000.0</td>\n",
       "      <td>150000.0</td>\n",
       "      <td>45000</td>\n",
       "      <td>50000</td>\n",
       "    </tr>\n",
       "    <tr>\n",
       "      <th>3</th>\n",
       "      <td>45000.0</td>\n",
       "      <td>180000.0</td>\n",
       "      <td>45000</td>\n",
       "      <td>50000</td>\n",
       "    </tr>\n",
       "    <tr>\n",
       "      <th>4</th>\n",
       "      <td>30000.0</td>\n",
       "      <td>120000.0</td>\n",
       "      <td>45000</td>\n",
       "      <td>50000</td>\n",
       "    </tr>\n",
       "    <tr>\n",
       "      <th>5</th>\n",
       "      <td>40000.0</td>\n",
       "      <td>100000.0</td>\n",
       "      <td>45000</td>\n",
       "      <td>50000</td>\n",
       "    </tr>\n",
       "    <tr>\n",
       "      <th>6</th>\n",
       "      <td>NaN</td>\n",
       "      <td>NaN</td>\n",
       "      <td>30000</td>\n",
       "      <td>60000</td>\n",
       "    </tr>\n",
       "  </tbody>\n",
       "</table>\n",
       "</div>"
      ],
      "text/plain": [
       "      apts      cars  new_apts   bonus\n",
       "0  55000.0  200000.0     60000  100000\n",
       "1  60000.0  300000.0     60000  100000\n",
       "2  35000.0  150000.0     45000   50000\n",
       "3  45000.0  180000.0     45000   50000\n",
       "4  30000.0  120000.0     45000   50000\n",
       "5  40000.0  100000.0     45000   50000\n",
       "6      NaN       NaN     30000   60000"
      ]
     },
     "execution_count": 239,
     "metadata": {},
     "output_type": "execute_result"
    }
   ],
   "source": [
    "pd.merge(result, new_df, on=['new_apts'], how='right')"
   ]
  },
  {
   "cell_type": "markdown",
   "metadata": {},
   "source": [
    "### join\n",
    "join基于index去合并数据"
   ]
  },
  {
   "cell_type": "code",
   "execution_count": 242,
   "metadata": {},
   "outputs": [
    {
     "data": {
      "text/html": [
       "<div>\n",
       "<style scoped>\n",
       "    .dataframe tbody tr th:only-of-type {\n",
       "        vertical-align: middle;\n",
       "    }\n",
       "\n",
       "    .dataframe tbody tr th {\n",
       "        vertical-align: top;\n",
       "    }\n",
       "\n",
       "    .dataframe thead th {\n",
       "        text-align: right;\n",
       "    }\n",
       "</style>\n",
       "<table border=\"1\" class=\"dataframe\">\n",
       "  <thead>\n",
       "    <tr style=\"text-align: right;\">\n",
       "      <th></th>\n",
       "      <th>apts</th>\n",
       "      <th>cars</th>\n",
       "    </tr>\n",
       "  </thead>\n",
       "  <tbody>\n",
       "    <tr>\n",
       "      <th>Beijing</th>\n",
       "      <td>55000</td>\n",
       "      <td>200000</td>\n",
       "    </tr>\n",
       "    <tr>\n",
       "      <th>Shanghai</th>\n",
       "      <td>60000</td>\n",
       "      <td>300000</td>\n",
       "    </tr>\n",
       "  </tbody>\n",
       "</table>\n",
       "</div>"
      ],
      "text/plain": [
       "           apts    cars\n",
       "Beijing   55000  200000\n",
       "Shanghai  60000  300000"
      ]
     },
     "execution_count": 242,
     "metadata": {},
     "output_type": "execute_result"
    }
   ],
   "source": [
    "df5"
   ]
  },
  {
   "cell_type": "code",
   "execution_count": 249,
   "metadata": {},
   "outputs": [],
   "source": [
    "df8 = pd.DataFrame({\n",
    "    'apts':[55000, 60000],\n",
    "    'cars':[200000, 300000],\n",
    "}\n",
    ")\n",
    "\n",
    "df9 = pd.DataFrame({\n",
    "    'apt':[35000, 45000],\n",
    "    'car':[150000, 180000],\n",
    "}\n",
    ")"
   ]
  },
  {
   "cell_type": "code",
   "execution_count": 250,
   "metadata": {},
   "outputs": [
    {
     "data": {
      "text/html": [
       "<div>\n",
       "<style scoped>\n",
       "    .dataframe tbody tr th:only-of-type {\n",
       "        vertical-align: middle;\n",
       "    }\n",
       "\n",
       "    .dataframe tbody tr th {\n",
       "        vertical-align: top;\n",
       "    }\n",
       "\n",
       "    .dataframe thead th {\n",
       "        text-align: right;\n",
       "    }\n",
       "</style>\n",
       "<table border=\"1\" class=\"dataframe\">\n",
       "  <thead>\n",
       "    <tr style=\"text-align: right;\">\n",
       "      <th></th>\n",
       "      <th>apts</th>\n",
       "      <th>cars</th>\n",
       "    </tr>\n",
       "  </thead>\n",
       "  <tbody>\n",
       "    <tr>\n",
       "      <th>0</th>\n",
       "      <td>55000</td>\n",
       "      <td>200000</td>\n",
       "    </tr>\n",
       "    <tr>\n",
       "      <th>1</th>\n",
       "      <td>60000</td>\n",
       "      <td>300000</td>\n",
       "    </tr>\n",
       "  </tbody>\n",
       "</table>\n",
       "</div>"
      ],
      "text/plain": [
       "    apts    cars\n",
       "0  55000  200000\n",
       "1  60000  300000"
      ]
     },
     "execution_count": 250,
     "metadata": {},
     "output_type": "execute_result"
    }
   ],
   "source": [
    "df8"
   ]
  },
  {
   "cell_type": "code",
   "execution_count": 251,
   "metadata": {},
   "outputs": [
    {
     "data": {
      "text/html": [
       "<div>\n",
       "<style scoped>\n",
       "    .dataframe tbody tr th:only-of-type {\n",
       "        vertical-align: middle;\n",
       "    }\n",
       "\n",
       "    .dataframe tbody tr th {\n",
       "        vertical-align: top;\n",
       "    }\n",
       "\n",
       "    .dataframe thead th {\n",
       "        text-align: right;\n",
       "    }\n",
       "</style>\n",
       "<table border=\"1\" class=\"dataframe\">\n",
       "  <thead>\n",
       "    <tr style=\"text-align: right;\">\n",
       "      <th></th>\n",
       "      <th>apt</th>\n",
       "      <th>car</th>\n",
       "    </tr>\n",
       "  </thead>\n",
       "  <tbody>\n",
       "    <tr>\n",
       "      <th>0</th>\n",
       "      <td>35000</td>\n",
       "      <td>150000</td>\n",
       "    </tr>\n",
       "    <tr>\n",
       "      <th>1</th>\n",
       "      <td>45000</td>\n",
       "      <td>180000</td>\n",
       "    </tr>\n",
       "  </tbody>\n",
       "</table>\n",
       "</div>"
      ],
      "text/plain": [
       "     apt     car\n",
       "0  35000  150000\n",
       "1  45000  180000"
      ]
     },
     "execution_count": 251,
     "metadata": {},
     "output_type": "execute_result"
    }
   ],
   "source": [
    "df9"
   ]
  },
  {
   "cell_type": "code",
   "execution_count": 252,
   "metadata": {},
   "outputs": [
    {
     "data": {
      "text/html": [
       "<div>\n",
       "<style scoped>\n",
       "    .dataframe tbody tr th:only-of-type {\n",
       "        vertical-align: middle;\n",
       "    }\n",
       "\n",
       "    .dataframe tbody tr th {\n",
       "        vertical-align: top;\n",
       "    }\n",
       "\n",
       "    .dataframe thead th {\n",
       "        text-align: right;\n",
       "    }\n",
       "</style>\n",
       "<table border=\"1\" class=\"dataframe\">\n",
       "  <thead>\n",
       "    <tr style=\"text-align: right;\">\n",
       "      <th></th>\n",
       "      <th>apts</th>\n",
       "      <th>cars</th>\n",
       "      <th>apt</th>\n",
       "      <th>car</th>\n",
       "    </tr>\n",
       "  </thead>\n",
       "  <tbody>\n",
       "    <tr>\n",
       "      <th>0</th>\n",
       "      <td>55000</td>\n",
       "      <td>200000</td>\n",
       "      <td>35000</td>\n",
       "      <td>150000</td>\n",
       "    </tr>\n",
       "    <tr>\n",
       "      <th>1</th>\n",
       "      <td>60000</td>\n",
       "      <td>300000</td>\n",
       "      <td>45000</td>\n",
       "      <td>180000</td>\n",
       "    </tr>\n",
       "  </tbody>\n",
       "</table>\n",
       "</div>"
      ],
      "text/plain": [
       "    apts    cars    apt     car\n",
       "0  55000  200000  35000  150000\n",
       "1  60000  300000  45000  180000"
      ]
     },
     "execution_count": 252,
     "metadata": {},
     "output_type": "execute_result"
    }
   ],
   "source": [
    "df8.join(df9)"
   ]
  },
  {
   "cell_type": "markdown",
   "metadata": {},
   "source": [
    "### 总结\n",
    "* concat：拼接，按照axis去做拼接\n",
    "* merge：表合并，基于某个列去做关联\n",
    "* join：基于index去做数据合并"
   ]
  },
  {
   "cell_type": "code",
   "execution_count": null,
   "metadata": {},
   "outputs": [],
   "source": []
  }
 ],
 "metadata": {
  "kernelspec": {
   "display_name": "Python 3",
   "language": "python",
   "name": "python3"
  },
  "language_info": {
   "codemirror_mode": {
    "name": "ipython",
    "version": 3
   },
   "file_extension": ".py",
   "mimetype": "text/x-python",
   "name": "python",
   "nbconvert_exporter": "python",
   "pygments_lexer": "ipython3",
   "version": "3.6.4"
  }
 },
 "nbformat": 4,
 "nbformat_minor": 2
}
