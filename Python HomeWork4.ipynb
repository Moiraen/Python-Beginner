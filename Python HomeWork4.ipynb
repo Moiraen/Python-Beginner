{
 "cells": [
  {
   "cell_type": "markdown",
   "metadata": {},
   "source": [
    "\n",
    "\n",
    "## Python第四次课作业\n",
    "\n",
    "####  作业提交说明：\n",
    "- 位置：作业文件统一放置于群共享作业-4文件夹中\n",
    "- 文件名：请先下载notebook文件，并重新命名为Python HomeWork4+(您姓名的全拼)，并按要求完成后保存\n",
    "- 时间：在本周结束前，提交。\n",
    "- 注意：请勿抄袭，移动，修改，删除其他同学和原始空白的练习文件。"
   ]
  },
  {
   "cell_type": "markdown",
   "metadata": {},
   "source": [
    "## 作业"
   ]
  },
  {
   "cell_type": "markdown",
   "metadata": {},
   "source": [
    "- 姓名:<u>  </u>  "
   ]
  },
  {
   "cell_type": "markdown",
   "metadata": {},
   "source": [
    "#### 简答题"
   ]
  },
  {
   "cell_type": "markdown",
   "metadata": {},
   "source": [
    "- 1.Numpy是许多机器学习工具的基础，是哪些工具，为什么以Numpy为运算基础呢？"
   ]
  },
  {
   "cell_type": "code",
   "execution_count": null,
   "metadata": {},
   "outputs": [],
   "source": []
  },
  {
   "cell_type": "markdown",
   "metadata": {},
   "source": [
    "- 2.Numpy中的arange方法能够非常方便的创建序列，请使用代码说明其用法。"
   ]
  },
  {
   "cell_type": "code",
   "execution_count": null,
   "metadata": {},
   "outputs": [],
   "source": []
  },
  {
   "cell_type": "markdown",
   "metadata": {},
   "source": [
    "- 3.怎么理解empty（）产生的空矩阵，什么是空值呢？"
   ]
  },
  {
   "cell_type": "code",
   "execution_count": null,
   "metadata": {},
   "outputs": [],
   "source": []
  },
  {
   "cell_type": "markdown",
   "metadata": {},
   "source": [
    "- 4.Scipy是一个高级的科学计算库，它和Numpy联系很密切，什么是Scipy，详细叙述一下其功能"
   ]
  },
  {
   "cell_type": "code",
   "execution_count": null,
   "metadata": {},
   "outputs": [],
   "source": []
  },
  {
   "cell_type": "markdown",
   "metadata": {},
   "source": [
    "- 5.什么是向量的内积，内积与点积是什么关系？请给出示例代码"
   ]
  },
  {
   "cell_type": "code",
   "execution_count": null,
   "metadata": {},
   "outputs": [],
   "source": []
  },
  {
   "cell_type": "markdown",
   "metadata": {
    "collapsed": true
   },
   "source": [
    "- 6.矩阵的运算是机器学习算法实现的核心，请思考一下为什么，举出一个例子来"
   ]
  },
  {
   "cell_type": "code",
   "execution_count": null,
   "metadata": {},
   "outputs": [],
   "source": []
  },
  {
   "cell_type": "markdown",
   "metadata": {
    "collapsed": true
   },
   "source": [
    "- 7.在对两个矩阵进行运算时，两个矩阵的shape应该是一样的，如果不一样，Numpy如何处理？\n",
    "提示：广播"
   ]
  },
  {
   "cell_type": "code",
   "execution_count": null,
   "metadata": {},
   "outputs": [],
   "source": []
  },
  {
   "cell_type": "markdown",
   "metadata": {},
   "source": [
    "- 8.在读取series中数据时，可以通过下标，也可以通过已建立的key来访问，但是如果key不存在，就可能会报错了，怎样处理会更安全。"
   ]
  },
  {
   "cell_type": "code",
   "execution_count": null,
   "metadata": {},
   "outputs": [],
   "source": []
  },
  {
   "cell_type": "markdown",
   "metadata": {},
   "source": [
    "- 9.在做数据分析时，都要看一下数据的分布状况，什么是数据的分布？常用的分布有哪些？"
   ]
  },
  {
   "cell_type": "code",
   "execution_count": null,
   "metadata": {},
   "outputs": [],
   "source": []
  },
  {
   "cell_type": "markdown",
   "metadata": {},
   "source": [
    "- 10.本科阶段有全国数学建模竞赛等比赛涉及到了模型构建和数据分析的任务，请罗列出国内外现有的数据分析、数据挖掘以及自然语言处理等领域的比赛，包括工业界和学术界。思考一下，哪些比赛的影响力大，对个人的发展有赋能作用。"
   ]
  },
  {
   "cell_type": "code",
   "execution_count": null,
   "metadata": {},
   "outputs": [],
   "source": []
  },
  {
   "cell_type": "markdown",
   "metadata": {},
   "source": [
    "#### 编程题"
   ]
  },
  {
   "cell_type": "markdown",
   "metadata": {},
   "source": [
    "#### 1. 作业文件夹下有个叫做titanic.csv 文件，这个文件包含了在titanic事件中乘客的存活情况。请把这个文件读入成一个pandas dataframe，完成以下操作：\n",
    "- 对sex列进行操作，sex为male的都改成1，sex为female的改成0；\n",
    "- 把Cabin中的NaN都填充成0 (使用fillna方法)；\n",
    "- 乘客按照年龄做一个分类：\n",
    "   - 年龄在0-11岁的为0类,12-22为1类，23-33为2类，34-44为3类，45-55为4类，56-66为5类，其余为6类；\n",
    "   - 请做把Age改成乘客的年龄类别，如果年龄有缺失，就放入乘客的平均年龄。"
   ]
  },
  {
   "cell_type": "code",
   "execution_count": null,
   "metadata": {},
   "outputs": [],
   "source": []
  },
  {
   "cell_type": "markdown",
   "metadata": {},
   "source": [
    "#### 2.请读入NVDA.csv中的数据，完成如下操作：\n",
    "- 计算nvda股票Adj Close每天的log return；\n",
    "- 找出nvda股票涨幅最大的10天；\n",
    "- 把英伟达每个月最后一天的股价记录下来，做成一张新的月线图，然后把Adj Close画成一张图。\n"
   ]
  },
  {
   "cell_type": "code",
   "execution_count": null,
   "metadata": {},
   "outputs": [],
   "source": []
  },
  {
   "cell_type": "markdown",
   "metadata": {},
   "source": [
    "#### 3.导入作业文件夹中的数据文件student-info.csv和student-score.csv，完成以下操作：\n",
    "- 分别展示文件的前五行数据，注意该文件的分隔符是分号；\n",
    "- 把两个DataFrame \"df_info\" 和 \"df_score\" 按照学生ID对齐拼接起来，结果存在一个新DataFrame \"df\" 中 ；\n",
    "- 显示\"df\"所有的列信息；\n",
    "- 统计男生的平均分和女生的平均分(G1, G2, G3)，使用groupby和aggregate来操作；\n",
    "- 统计不同年龄的学生(G1, G2, G3)的平均分，并作出柱状图展示；\n",
    "- 统计不同学校(school一列)的学生的平均分，并作柱状图展示，要求同一科目的两个学校成绩贴在一起展示；\n",
    "- 统计一下每个学校三个科目总分的前十名，然后把前十名的同学所有信息输出。\n",
    "   "
   ]
  },
  {
   "cell_type": "code",
   "execution_count": null,
   "metadata": {},
   "outputs": [],
   "source": []
  }
 ],
 "metadata": {
  "kernelspec": {
   "display_name": "Python 3",
   "language": "python",
   "name": "python3"
  },
  "language_info": {
   "codemirror_mode": {
    "name": "ipython",
    "version": 3
   },
   "file_extension": ".py",
   "mimetype": "text/x-python",
   "name": "python",
   "nbconvert_exporter": "python",
   "pygments_lexer": "ipython3",
   "version": "3.6.4"
  }
 },
 "nbformat": 4,
 "nbformat_minor": 2
}
